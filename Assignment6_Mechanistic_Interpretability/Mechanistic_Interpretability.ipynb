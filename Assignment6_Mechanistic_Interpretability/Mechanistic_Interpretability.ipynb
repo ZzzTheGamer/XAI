{
 "cells": [
  {
   "cell_type": "markdown",
   "metadata": {
    "colab_type": "text",
    "id": "view-in-github"
   },
   "source": [
    "<a href=\"https://colab.research.google.com/github/ZzzTheGamer/XAI/blob/Assignment6_Mechanistic_Interpretability/Mechanistic_Interpretability.ipynb\" target=\"_parent\"><img src=\"https://colab.research.google.com/assets/colab-badge.svg\" alt=\"Open In Colab\"/></a>"
   ]
  },
  {
   "cell_type": "markdown",
   "metadata": {
    "id": "Jof8SmFIvf_C"
   },
   "source": [
    "# Code Report: Decomposing Transformer MLP Activations via a Sparse Autoencoder\n",
    "* Here I use external resources from ChatGPT and https://github.com/shehper/sparse-dictionary-learning/tree/main\n",
    "\n",
    "## 1. Intriduction\n",
    "\n",
    "**Key Finding:**  \n",
    "This report implements a key technique from \"Towards Monosemanticity: Decomposing Language Models With Dictionary Learning\" by using a sparse autoencoder to decompose a Transformer's MLP activations into a large number of interpretable, monosemantic features.\n",
    "\n",
    "**Why Choosing This Technique (Sparse Autoencoder)?**  \n",
    "Transformers tend to store multiple features in superposition, meaning individual neurons are polysemantic. By using a sparse autoencoder for dictionary learning, we can recover a set of features where each one corresponds to a single semantic concept. This is a fundamental insight for mechanistic interpretability.\n",
    "\n",
    "**Plan for Implementation:**  \n",
    "1. Set up configuration parameters and initialize the model.\n",
    "2. Implement the sparse autoencoder (core method).\n",
    "3. Experiment 1: train the autoencoder on synthetic data that simulates MLP activations.\n",
    "4. Experiment 1: visualize the training loss and feature activation frequency.\n",
    "5. Experiment 1: use a simple example to extract tokens that activate a specific feature.\n",
    "6. Experiment 2: use real transformer-generated MLP activations as input data.\n",
    "7. Experiment 2: use a pre-trained autoencoder for feature extraction and analysis.\n",
    "8. Experiment 2: compare feature activation distributions with those from experiment 1 and original paper.\n",
    "9. Experiment 2: conduct additional tests inspired by the paper to validate feature sparse monosemanticity.\n",
    "10. Compare our qualitative observations to the paper and document simplifications.\n",
    "\n",
    "**Simplifications Made:**  \n",
    "- Experiment 1: synthetic (random) data is used instead of actual Transformer activations.\n",
    "- Experiment 1: a single-layer autoencoder is employed.\n",
    "- Experiment 1: the training is performed for a limited number of epochs on a small dataset.\n",
    "- Experiment 2: while using real activations, the model size and dataset are still smaller than those in the paper.\n",
    "- Experiment 2: the pre-trained autoencoder is used as-is without additional fine-tuning.\n",
    "- Experiment 2: certain aspects of feature monosemanticity validation were simplified compared to the original paper but still provide strong supporting evidence.\n"
   ]
  },
  {
   "cell_type": "markdown",
   "metadata": {
    "id": "9NMAUAEqkccD"
   },
   "source": [
    "## Here We Step into Experiment1"
   ]
  },
  {
   "cell_type": "markdown",
   "metadata": {
    "id": "7kRaLeHcwmy3"
   },
   "source": [
    "### Step1. Configuration and Initialization\n",
    "\n",
    "We set up our hyperparameters and global variables. These include the random seed, batch sizes, MLP dimensionality, expansion factor, learning rate, and others.\n"
   ]
  },
  {
   "cell_type": "code",
   "execution_count": null,
   "metadata": {
    "id": "5221e2IcY_Jp"
   },
   "outputs": [],
   "source": [
    "! pip install transformer_lens\n",
    "! pip install plotly gradio datasets"
   ]
  },
  {
   "cell_type": "code",
   "execution_count": null,
   "metadata": {
    "id": "FkvMRWTBZCUh"
   },
   "outputs": [],
   "source": [
    "!pip uninstall torch torchvision -y\n",
    "!pip install torch torchvision --index-url https://download.pytorch.org/whl/cu118"
   ]
  },
  {
   "cell_type": "code",
   "execution_count": 1,
   "metadata": {
    "id": "W9QTOhox5ren"
   },
   "outputs": [],
   "source": [
    "import torch\n",
    "import numpy as np\n",
    "import pprint\n",
    "import json\n",
    "import torch.nn as nn\n",
    "import torch.nn.functional as F\n",
    "from datasets import load_dataset\n",
    "from huggingface_hub import HfApi\n",
    "from IPython.display import HTML, display\n",
    "from functools import partial\n",
    "import tqdm\n",
    "import tqdm.notebook as tqdm\n",
    "import plotly.express as px\n",
    "import pandas as pd\n",
    "import matplotlib.pyplot as plt\n",
    "import colorsys\n",
    "import gradio as gr\n",
    "from functools import partial"
   ]
  },
  {
   "cell_type": "code",
   "execution_count": 2,
   "metadata": {
    "id": "1MpURVNg2KyI"
   },
   "outputs": [],
   "source": [
    "import transformer_lens\n",
    "from transformer_lens import HookedTransformer, utils"
   ]
  },
  {
   "cell_type": "code",
   "execution_count": 3,
   "metadata": {
    "id": "23VfHW_YyZ5Z"
   },
   "outputs": [],
   "source": [
    "# Configuration dictionary\n",
    "cfg = {\n",
    "    \"seed\": 49,\n",
    "    \"batch_size\": 4096,\n",
    "    \"buffer_mult\": 384,\n",
    "    \"lr\": 1e-4,\n",
    "    \"num_tokens\": int(2e9),\n",
    "    \"l1_coeff\": 8e-4,\n",
    "    \"beta1\": 0.9,\n",
    "    \"beta2\": 0.99,\n",
    "    # Expansion factor: final features = d_mlp * dict_mult\n",
    "    \"dict_mult\": 8,\n",
    "    \"seq_len\": 128,\n",
    "    # Dimension of MLP activations\n",
    "    \"d_mlp\": 2048,\n",
    "    \"enc_dtype\": \"fp32\",\n",
    "    \"remove_rare_dir\": False,\n",
    "}\n",
    "cfg[\"model_batch_size\"] = 64\n",
    "cfg[\"buffer_size\"] = cfg[\"batch_size\"] * cfg[\"buffer_mult\"]\n",
    "cfg[\"buffer_batches\"] = cfg[\"buffer_size\"] // cfg[\"seq_len\"]\n",
    "\n",
    "# Define data types\n",
    "DTYPES = {\"fp32\": torch.float32, \"fp16\": torch.float16, \"bf16\": torch.bfloat16}\n",
    "\n",
    "# Set random seed for reproducibility\n",
    "torch.manual_seed(cfg[\"seed\"])\n",
    "np.random.seed(cfg[\"seed\"])\n",
    "\n",
    "# Global variable for ablation\n",
    "neuron_to_ablate = False"
   ]
  },
  {
   "cell_type": "markdown",
   "metadata": {
    "id": "fmK0MeTEyvGK"
   },
   "source": [
    "### Step2. Sparse Autoencoder Definition\n",
    "\n",
    "We implement the sparse autoencoder that decomposes an input activation vector x from a Transformer MLP layer as: $x \\approx b + \\sum_i f_i(x) \\, d_i$\n",
    "\n",
    "\n",
    "where:\n",
    "-  $f(x) = \\mathrm{ReLU}(W_e (x - b_d) + b_e)$  is the encoder output (sparse activations), and\n",
    "- The decoder reconstructs $hat{x} = b + W_d \\, f(x)$.\n",
    "\n",
    "The loss is a combination of L2 reconstruction loss and L1 regularization to encourage sparsity."
   ]
  },
  {
   "cell_type": "code",
   "execution_count": 4,
   "metadata": {
    "id": "hqoe2eX-ysbY"
   },
   "outputs": [],
   "source": [
    "class AutoEncoder(nn.Module):\n",
    "    def __init__(self, cfg):\n",
    "        super().__init__()\n",
    "        # Overcomplete dimension\n",
    "        d_hidden = cfg[\"d_mlp\"] * cfg[\"dict_mult\"]\n",
    "        d_mlp = cfg[\"d_mlp\"]\n",
    "        l1_coeff = cfg[\"l1_coeff\"]\n",
    "        dtype = DTYPES[cfg[\"enc_dtype\"]]\n",
    "        torch.manual_seed(cfg[\"seed\"])\n",
    "\n",
    "        # Encoder: maps d_mlp to d_hidden\n",
    "        self.W_enc = nn.Parameter(torch.nn.init.kaiming_uniform_(torch.empty(d_mlp, d_hidden, dtype=dtype)))\n",
    "        self.b_enc = nn.Parameter(torch.zeros(d_hidden, dtype=dtype))\n",
    "\n",
    "        # Decoder: maps d_hidden to d_mlp\n",
    "        self.W_dec = nn.Parameter(torch.nn.init.kaiming_uniform_(torch.empty(d_hidden, d_mlp, dtype=dtype)))\n",
    "        self.b_dec = nn.Parameter(torch.zeros(d_mlp, dtype=dtype))\n",
    "\n",
    "        # Normalize each row of W_dec so that each feature direction is unit length\n",
    "        self.W_dec.data[:] = self.W_dec / (self.W_dec.norm(dim=-1, keepdim=True) + 1e-6)\n",
    "\n",
    "        self.d_hidden = d_hidden\n",
    "        self.l1_coeff = l1_coeff\n",
    "\n",
    "        self.to(\"cuda\")\n",
    "\n",
    "    def forward(self, x):\n",
    "        # Center the input by subtracting decoder bias\n",
    "        x_cent = x - self.b_dec\n",
    "        # Encoder: Compute sparse activations with ReLU\n",
    "        acts = F.relu(x_cent @ self.W_enc + self.b_enc)\n",
    "        # Decoder: Reconstruct the input from sparse codes\n",
    "        x_reconstruct = acts @ self.W_dec + self.b_dec\n",
    "        # L2 loss: reconstruction error\n",
    "        l2_loss = (x_reconstruct.float() - x.float()).pow(2).sum(-1).mean(0)\n",
    "        # L1 loss: sparsity regularization on activations\n",
    "        l1_loss = self.l1_coeff * (acts.float().abs().sum())\n",
    "        loss = l2_loss + l1_loss\n",
    "        return loss, x_reconstruct, acts, l2_loss, l1_loss"
   ]
  },
  {
   "cell_type": "markdown",
   "metadata": {
    "id": "ptCNVway3Rij"
   },
   "source": [
    "### Step3. Constructing a Simple Example\n",
    "\n",
    "- For demonstration, we simulate Transformer MLP activations with synthetic data.  \n",
    "- This synthetic data is a batch of random vectors with the same dimension as the MLP layer (2048).  \n",
    "- In a full replication, we would use real activations from a pretrained Transformer."
   ]
  },
  {
   "cell_type": "code",
   "execution_count": 5,
   "metadata": {
    "id": "xMbm7SKc3Ucg"
   },
   "outputs": [],
   "source": [
    "# Create synthetic data to simulate MLP activations\n",
    "batch_size = 256\n",
    "synthetic_data = torch.randn(batch_size, cfg[\"d_mlp\"]).cuda() # Here we use Chatgpt-4o to generate this code at 15:05pm 2/15/2025\n",
    "\n",
    "# Initialize the autoencoder\n",
    "encoder = AutoEncoder(cfg=cfg)"
   ]
  },
  {
   "cell_type": "markdown",
   "metadata": {
    "id": "2krOi5gj3iBS"
   },
   "source": [
    "### Step4. Train the Autoencoder\n",
    "\n",
    "- We train the autoencoder on the synthetic data for a few epochs and record the loss.\n"
   ]
  },
  {
   "cell_type": "code",
   "execution_count": 6,
   "metadata": {
    "colab": {
     "base_uri": "https://localhost:8080/",
     "height": 0
    },
    "id": "JpirVyH63bm1",
    "outputId": "6140ba0a-4986-4aab-f836-d91a58f12778"
   },
   "outputs": [
    {
     "name": "stdout",
     "output_type": "stream",
     "text": [
      "Epoch 20/100: Total Loss=894.3981, L2=298.7324, L1=595.6657\n",
      "Epoch 40/100: Total Loss=563.0082, L2=19.5541, L1=543.4541\n",
      "Epoch 60/100: Total Loss=465.1116, L2=9.0096, L1=456.1020\n",
      "Epoch 80/100: Total Loss=391.3436, L2=14.5470, L1=376.7966\n",
      "Epoch 100/100: Total Loss=336.9397, L2=15.5074, L1=321.4323\n"
     ]
    }
   ],
   "source": [
    "optimizer = torch.optim.Adam(encoder.parameters(), lr=cfg[\"lr\"])\n",
    "n_epochs = 100\n",
    "loss_history = []\n",
    "\n",
    "for epoch in range(n_epochs):\n",
    "    optimizer.zero_grad()\n",
    "    loss, recon, acts, l2_loss, l1_loss = encoder(synthetic_data)\n",
    "    loss.backward()\n",
    "    optimizer.step()\n",
    "    loss_history.append(loss.item())\n",
    "    if (epoch+1) % 20 == 0:\n",
    "        print(f\"Epoch {epoch+1}/{n_epochs}: Total Loss={loss.item():.4f}, L2={l2_loss.item():.4f}, L1={l1_loss.item():.4f}\")"
   ]
  },
  {
   "cell_type": "markdown",
   "metadata": {
    "id": "-dj8WFuK32e7"
   },
   "source": [
    "### Step5. Visualization: Training Loss Curve\n",
    "\n",
    "- We plot the training loss curve to verify that the autoencoder is learning over time.\n",
    "- Here we can see the autoencoder training loss decreases over epochs, indicating that the model learns to reconstruct synthetic MLP activations.\n"
   ]
  },
  {
   "cell_type": "code",
   "execution_count": 7,
   "metadata": {
    "colab": {
     "base_uri": "https://localhost:8080/",
     "height": 487
    },
    "id": "NojqSn143xa3",
    "outputId": "e595e5de-60fe-4b6d-a676-0cb786dba868"
   },
   "outputs": [
    {
     "data": {
      "image/png": "[encoded data removed]",
      "text/plain": [
       "<Figure size 800x500 with 1 Axes>"
      ]
     },
     "metadata": {},
     "output_type": "display_data"
    }
   ],
   "source": [
    "plt.figure(figsize=(8, 5))\n",
    "plt.plot(loss_history, label=\"Total Loss\")\n",
    "plt.xlabel(\"Epoch\")\n",
    "plt.ylabel(\"Loss\")\n",
    "plt.title(\"Training Loss Curve\")\n",
    "plt.legend()\n",
    "plt.grid(True)\n",
    "plt.show()"
   ]
  },
  {
   "cell_type": "markdown",
   "metadata": {
    "id": "Oy2Aw0HF4Ez9"
   },
   "source": [
    "### Step6. Analyze Feature Activation Frequencies\n",
    "\n",
    "- One key observation in the paper is that many learned features are sparsely activated.  \n",
    "- Here, we compute the average activation frequency (i.e. the fraction of times each feature > 0) across multiple batches of synthetic data and plot a histogram.\n"
   ]
  },
  {
   "cell_type": "code",
   "execution_count": 8,
   "metadata": {
    "colab": {
     "base_uri": "https://localhost:8080/",
     "height": 487
    },
    "id": "g8lXHguA96CE",
    "outputId": "86231d86-9784-476a-d124-d6e0fc2aefe4"
   },
   "outputs": [
    {
     "data": {
      "image/png": "[encoded data removed]",
      "text/plain": [
       "<Figure size 800x500 with 1 Axes>"
      ]
     },
     "metadata": {},
     "output_type": "display_data"
    }
   ],
   "source": [
    "def compute_feature_freq(autoencoder, data, batch_size=32):\n",
    "    n_samples = data.size(0)\n",
    "    n_batches = n_samples // batch_size\n",
    "    freq_sum = torch.zeros(autoencoder.d_hidden).cuda()\n",
    "\n",
    "    for i in range(n_batches):\n",
    "        batch = data[i*batch_size:(i+1)*batch_size]\n",
    "        with torch.no_grad():\n",
    "            _, _, acts, _, _ = encoder(batch)\n",
    "        freq_sum += (acts > 0).sum(dim=0).float() # Here we use Chatgpt-4o to redine this code at 15:30pm 2/15/2025\n",
    "    freq_avg = freq_sum / (n_batches * batch_size)\n",
    "    return freq_avg\n",
    "\n",
    "feature_freqs = compute_feature_freq(encoder, synthetic_data, batch_size=32)\n",
    "\n",
    "plt.figure(figsize=(8, 5))\n",
    "plt.hist(feature_freqs.cpu().numpy(), bins=50, color='skyblue', edgecolor='black')\n",
    "plt.xlabel(\"Activation Frequency\")\n",
    "plt.ylabel(\"Number of Features\")\n",
    "plt.title(\"Histogram of Feature Activation Frequencies on Semantic Data\")\n",
    "plt.show()"
   ]
  },
  {
   "cell_type": "code",
   "execution_count": 9,
   "metadata": {
    "colab": {
     "base_uri": "https://localhost:8080/",
     "height": 542
    },
    "id": "nerWkA_UM65W",
    "outputId": "269049f2-58d5-4051-ef9e-c6cb83a0a6c6"
   },
   "outputs": [
    {
     "data": {
      "text/html": [
       "<html>\n",
       "<head><meta charset=\"utf-8\" /></head>\n",
       "<body>\n",
       "    <div>            <script src=\"https://cdnjs.cloudflare.com/ajax/libs/mathjax/2.7.5/MathJax.js?config=TeX-AMS-MML_SVG\"></script><script type=\"text/javascript\">if (window.MathJax && window.MathJax.Hub && window.MathJax.Hub.Config) {window.MathJax.Hub.Config({SVG: {font: \"STIX-Web\"}});}</script>                <script type=\"text/javascript\">window.PlotlyConfig = {MathJaxConfig: 'local'};</script>\n",
       "        <script charset=\"utf-8\" src=\"https://cdn.plot.ly/plotly-2.35.2.min.js\"></script>                <div id=\"1a6f8139-d95a-4c02-a99a-67cf207a1e91\" class=\"plotly-graph-div\" style=\"height:525px; width:100%;\"></div>            <script type=\"text/javascript\">                                    window.PLOTLYENV=window.PLOTLYENV || {};                                    if (document.getElementById(\"1a6f8139-d95a-4c02-a99a-67cf207a1e91\")) {                    Plotly.newPlot(                        \"1a6f8139-d95a-4c02-a99a-67cf207a1e91\",                        [{\"alignmentgroup\":\"True\",\"bingroup\":\"x\",\"histnorm\":\"percent\",\"hovertemplate\":\"variable=0\\u003cbr\\u003evalue=%{x}\\u003cbr\\u003epercent=%{y}\\u003cextra\\u003e\\u003c\\u002fextra\\u003e\",\"legendgroup\":\"0\",\"marker\":{\"color\":\"#636efa\",\"pattern\":{\"shape\":\"\"}},\"name\":\"0\",\"offsetgroup\":\"0\",\"orientation\":\"v\",\"showlegend\":true,\"x\":[-0.56314194,-0.54491717,-0.5509075,-0.5757311,-0.53900826,-0.70926994,-0.58869606,-0.54491717,-0.5821652,-0.58869606,-0.62291014,-0.5757311,-0.6758462,-0.61584824,-0.54491717,-0.5757311,-0.5509075,-0.58869606,-0.637388,-0.5509075,-0.5693909,-0.5274264,-0.5569816,-0.60206,-0.54491717,-0.52174926,-0.5757311,-0.51614535,-0.52174926,-0.6088994,-0.5509075,-0.5821652,-0.6839641,-0.5757311,-0.4491986,-0.6758462,-0.62291014,-0.53900826,-0.5821652,-0.6678773,-0.65236515,-0.5953266,-0.61584824,-0.60206,-0.60206,-0.5331787,-0.6088994,-0.5821652,-0.5569816,-0.54491717,-0.6678773,-0.56314194,-0.499755,-0.52174926,-0.5693909,-0.60206,-0.5509075,-0.5757311,-0.5821652,-0.7006698,-0.60206,-0.6839641,-0.5953266,-0.5953266,-0.6300887,-0.60206,-0.6088994,-0.5953266,-0.5569816,-0.5509075,-0.51614535,-0.61584824,-0.58869606,-0.58869606,-0.6300887,-0.61584824,-0.5331787,-0.62291014,-0.5821652,-0.60206,-0.56314194,-0.5953266,-0.7006698,-0.50514996,-0.7550275,-0.6678773,-0.65236515,-0.60206,-0.637388,-0.6088994,-0.6678773,-0.62291014,-0.6300887,-0.66005194,-0.5953266,-0.5953266,-0.6678773,-0.6678773,-0.61584824,-0.6088994,-0.5757311,-0.58869606,-0.48396072,-0.5821652,-0.58869606,-0.61584824,-0.66005194,-0.5569816,-0.6922366,-0.58869606,-0.637388,-0.5757311,-0.66005194,-0.61584824,-0.644812,-0.5821652,-0.6088994,-0.5331787,-0.58869606,-0.60206,-0.7006698,-0.52174926,-0.5569816,-0.5821652,-0.5953266,-0.5693909,-0.5106129,-0.7747715,-0.60206,-0.49442616,-0.62291014,-0.6758462,-0.6678773,-0.61584824,-0.499755,-0.6678773,-0.5693909,-0.61584824,-0.66005194,-0.5569816,-0.54491717,-0.54491717,-0.6300887,-0.58869606,-0.61584824,-0.5953266,-0.5953266,-0.58869606,-0.644812,-0.5757311,-0.54491717,-0.62291014,-0.6300887,-0.65236515,-0.61584824,-0.6839641,-0.61584824,-0.60206,-0.56314194,-0.47882104,-0.6300887,-0.60206,-0.58869606,-0.6088994,-0.6088994,-0.60206,-0.58869606,-0.54491717,-0.5509075,-0.6678773,-0.637388,-0.65236515,-0.6839641,-0.62291014,-0.58869606,-0.61584824,-0.50514996,-0.6922366,-0.50514996,-0.5274264,-0.62291014,-0.499755,-0.65236515,-0.56314194,-0.5274264,-0.637388,-0.53900826,-0.6758462,-0.5821652,-0.62291014,-0.6088994,-0.50514996,-0.5331787,-0.5821652,-0.62291014,-0.56314194,-0.5757311,-0.72699875,-0.5757311,-0.6300887,-0.637388,-0.65236515,-0.5757311,-0.46872076,-0.62291014,-0.6088994,-0.70926994,-0.5757311,-0.6758462,-0.70926994,-0.73614216,-0.56314194,-0.53900826,-0.50514996,-0.5821652,-0.6839641,-0.5331787,-0.65236515,-0.5509075,-0.56314194,-0.5953266,-0.644812,-0.5331787,-0.54491717,-0.61584824,-0.5757311,-0.5331787,-0.72699875,-0.62291014,-0.5509075,-0.66005194,-0.5693909,-0.62291014,-0.6300887,-0.5569816,-0.644812,-0.50514996,-0.51614535,-0.6678773,-0.52174926,-0.7006698,-0.66005194,-0.58869606,-0.5821652,-0.58869606,-0.5274264,-0.5509075,-0.62291014,-0.74548215,-0.637388,-0.6300887,-0.6088994,-0.637388,-0.53900826,-0.61584824,-0.6088994,-0.65236515,-0.637388,-0.5821652,-0.5821652,-0.6678773,-0.5693909,-0.54491717,-0.70926994,-0.5821652,-0.5757311,-0.56314194,-0.60206,-0.6088994,-0.70926994,-0.6088994,-0.5331787,-0.58869606,-0.6088994,-0.56314194,-0.56314194,-0.6758462,-0.5757311,-0.56314194,-0.5757311,-0.58869606,-0.5693909,-0.5757311,-0.54491717,-0.6758462,-0.53900826,-0.5509075,-0.6088994,-0.5953266,-0.5821652,-0.5693909,-0.6839641,-0.53900826,-0.7180439,-0.49442616,-0.46375728,-0.6839641,-0.58869606,-0.60206,-0.58869606,-0.61584824,-0.6758462,-0.6839641,-0.644812,-0.5569816,-0.50514996,-0.5331787,-0.53900826,-0.637388,-0.52174926,-0.53900826,-0.5693909,-0.5106129,-0.5821652,-0.60206,-0.62291014,-0.5953266,-0.48916188,-0.7006698,-0.5757311,-0.5274264,-0.56314194,-0.56314194,-0.6678773,-0.65236515,-0.5569816,-0.46375728,-0.56314194,-0.58869606,-0.6300887,-0.56314194,-0.6678773,-0.5693909,-0.6839641,-0.61584824,-0.60206,-0.62291014,-0.61584824,-0.5569816,-0.637388,-0.6088994,-0.61584824,-0.73614216,-0.61584824,-0.5821652,-0.56314194,-0.5757311,-0.56314194,-0.5953266,-0.54491717,-0.6678773,-0.58869606,-0.6839641,-0.637388,-0.6678773,-0.54491717,-0.51614535,-0.5953266,-0.65236515,-0.56314194,-0.5821652,-0.7006698,-0.6300887,-0.5953266,-0.60206,-0.6922366,-0.50514996,-0.5274264,-0.65236515,-0.6300887,-0.637388,-0.5757311,-0.60206,-0.54491717,-0.65236515,-0.6678773,-0.5821652,-0.58869606,-0.6088994,-0.6839641,-0.499755,-0.65236515,-0.5509075,-0.5274264,-0.54491717,-0.6088994,-0.6300887,-0.51614535,-0.5693909,-0.5569816,-0.66005194,-0.5106129,-0.60206,-0.65236515,-0.61584824,-0.5821652,-0.5569816,-0.637388,-0.60206,-0.60206,-0.6088994,-0.5757311,-0.58869606,-0.53900826,-0.637388,-0.6678773,-0.6678773,-0.56314194,-0.5106129,-0.62291014,-0.60206,-0.61584824,-0.61584824,-0.644812,-0.7180439,-0.8284564,-0.66005194,-0.70926994,-0.6300887,-0.6088994,-0.5821652,-0.56314194,-0.60206,-0.58869606,-0.62291014,-0.5757311,-0.73614216,-0.5693909,-0.53900826,-0.6088994,-0.65236515,-0.52174926,-0.60206,-0.637388,-0.5821652,-0.60206,-0.58869606,-0.5693909,-0.60206,-0.5509075,-0.54491717,-0.60206,-0.60206,-0.61584824,-0.5953266,-0.61584824,-0.5509075,-0.61584824,-0.58869606,-0.5757311,-0.72699875,-0.58869606,-0.61584824,-0.62291014,-0.65236515,-0.6300887,-0.5757311,-0.66005194,-0.54491717,-0.5569816,-0.62291014,-0.53900826,-0.56314194,-0.637388,-0.54491717,-0.52174926,-0.5757311,-0.5693909,-0.5693909,-0.6300887,-0.53900826,-0.5331787,-0.637388,-0.54491717,-0.62291014,-0.62291014,-0.644812,-0.61584824,-0.56314194,-0.6678773,-0.54491717,-0.6758462,-0.5331787,-0.637388,-0.637388,-0.54491717,-0.5569816,-0.6922366,-0.66005194,-0.6922366,-0.6678773,-0.62291014,-0.65236515,-0.5274264,-0.50514996,-0.5274264,-0.7006698,-0.60206,-0.54491717,-0.5331787,-0.5569816,-0.637388,-0.66005194,-0.6678773,-0.5569816,-0.51614535,-0.58869606,-0.5821652,-0.6088994,-0.6300887,-0.5331787,-0.53900826,-0.58869606,-0.48916188,-0.6839641,-0.5757311,-0.62291014,-0.6088994,-0.5757311,-0.65236515,-0.6300887,-0.62291014,-0.5953266,-0.60206,-0.644812,-0.637388,-0.65236515,-0.70926994,-0.6088994,-0.5331787,-0.6922366,-0.644812,-0.61584824,-0.60206,-0.6758462,-0.5821652,-0.62291014,-0.5953266,-0.6922366,-0.637388,-0.5821652,-0.644812,-0.5569816,-0.48396072,-0.5757311,-0.637388,-0.6678773,-0.66005194,-0.65236515,-0.51614535,-0.61584824,-0.5757311,-0.54491717,-0.644812,-0.56314194,-0.65236515,-0.62291014,-0.6758462,-0.6300887,-0.5693909,-0.637388,-0.5953266,-0.60206,-0.6922366,-0.54491717,-0.5693909,-0.54491717,-0.5757311,-0.61584824,-0.644812,-0.61584824,-0.499755,-0.58869606,-0.5821652,-0.637388,-0.65236515,-0.54491717,-0.5569816,-0.6758462,-0.66005194,-0.5274264,-0.76478726,-0.58869606,-0.5331787,-0.5757311,-0.61584824,-0.5821652,-0.65236515,-0.7006698,-0.5509075,-0.54491717,-0.5821652,-0.65236515,-0.5757311,-0.5693909,-0.60206,-0.6678773,-0.5757311,-0.5757311,-0.51614535,-0.5274264,-0.65236515,-0.6678773,-0.5757311,-0.48396072,-0.65236515,-0.54491717,-0.58869606,-0.5509075,-0.6678773,-0.58869606,-0.5757311,-0.7006698,-0.62291014,-0.6678773,-0.6758462,-0.61584824,-0.5757311,-0.6758462,-0.72699875,-0.5693909,-0.644812,-0.6758462,-0.6300887,-0.70926994,-0.5509075,-0.5821652,-0.644812,-0.73614216,-0.65236515,-0.62291014,-0.5569816,-0.44445214,-0.5693909,-0.5331787,-0.62291014,-0.6088994,-0.60206,-0.54491717,-0.58869606,-0.54491717,-0.7550275,-0.6922366,-0.6758462,-0.637388,-0.6088994,-0.5509075,-0.65236515,-0.61584824,-0.5693909,-0.4737415,-0.62291014,-0.6678773,-0.644812,-0.65236515,-0.70926994,-0.6300887,-0.51614535,-0.50514996,-0.644812,-0.6758462,-0.6088994,-0.5953266,-0.6758462,-0.58869606,-0.6088994,-0.7550275,-0.61584824,-0.6922366,-0.5953266,-0.60206,-0.6300887,-0.60206,-0.62291014,-0.5331787,-0.72699875,-0.6300887,-0.5274264,-0.5569816,-0.6758462,-0.7180439,-0.5953266,-0.6922366,-0.61584824,-0.5821652,-0.5509075,-0.6922366,-0.5953266,-0.56314194,-0.5953266,-0.62291014,-0.5331787,-0.56314194,-0.54491717,-0.644812,-0.66005194,-0.6758462,-0.5821652,-0.5106129,-0.6758462,-0.644812,-0.50514996,-0.644812,-0.52174926,-0.5331787,-0.66005194,-0.5953266,-0.61584824,-0.62291014,-0.637388,-0.50514996,-0.637388,-0.66005194,-0.62291014,-0.5509075,-0.6678773,-0.6088994,-0.5274264,-0.65236515,-0.61584824,-0.644812,-0.60206,-0.65236515,-0.6088994,-0.65236515,-0.54491717,-0.60206,-0.6088994,-0.5106129,-0.6758462,-0.644812,-0.5821652,-0.5953266,-0.5693909,-0.5693909,-0.6758462,-0.5509075,-0.60206,-0.56314194,-0.61584824,-0.637388,-0.6088994,-0.6678773,-0.5953266,-0.6758462,-0.65236515,-0.6088994,-0.637388,-0.61584824,-0.61584824,-0.51614535,-0.50514996,-0.5757311,-0.53900826,-0.56314194,-0.5953266,-0.5953266,-0.60206,-0.5757311,-0.5953266,-0.62291014,-0.70926994,-0.60206,-0.56314194,-0.5569816,-0.7006698,-0.644812,-0.5821652,-0.66005194,-0.6300887,-0.61584824,-0.60206,-0.52174926,-0.5331787,-0.5331787,-0.5693909,-0.5953266,-0.5331787,-0.5331787,-0.6839641,-0.58869606,-0.61584824,-0.61584824,-0.65236515,-0.6300887,-0.60206,-0.4491986,-0.637388,-0.5569816,-0.62291014,-0.5757311,-0.5821652,-0.5274264,-0.6088994,-0.61584824,-0.66005194,-0.6088994,-0.53900826,-0.65236515,-0.52174926,-0.5509075,-0.52174926,-0.60206,-0.5569816,-0.7006698,-0.6300887,-0.61584824,-0.60206,-0.5509075,-0.7550275,-0.61584824,-0.62291014,-0.637388,-0.6300887,-0.6678773,-0.62291014,-0.53900826,-0.6088994,-0.5693909,-0.7006698,-0.5953266,-0.52174926,-0.50514996,-0.5274264,-0.6300887,-0.56314194,-0.65236515,-0.6088994,-0.56314194,-0.61584824,-0.5757311,-0.5569816,-0.5693909,-0.74548215,-0.5953266,-0.6088994,-0.637388,-0.61584824,-0.5569816,-0.5693909,-0.48916188,-0.66005194,-0.61584824,-0.6088994,-0.60206,-0.5757311,-0.637388,-0.6088994,-0.60206,-0.5693909,-0.65236515,-0.62291014,-0.6839641,-0.644812,-0.61584824,-0.60206,-0.6922366,-0.5953266,-0.5693909,-0.5331787,-0.73614216,-0.56314194,-0.6300887,-0.66005194,-0.5509075,-0.5569816,-0.5757311,-0.6300887,-0.5693909,-0.74548215,-0.60206,-0.6758462,-0.5953266,-0.644812,-0.53900826,-0.6758462,-0.6300887,-0.6678773,-0.637388,-0.49442616,-0.62291014,-0.56314194,-0.70926994,-0.61584824,-0.6088994,-0.637388,-0.5953266,-0.62291014,-0.65236515,-0.60206,-0.5953266,-0.637388,-0.52174926,-0.61584824,-0.46872076,-0.637388,-0.5569816,-0.5821652,-0.637388,-0.58869606,-0.5106129,-0.56314194,-0.5821652,-0.58869606,-0.66005194,-0.70926994,-0.6088994,-0.5953266,-0.65236515,-0.5953266,-0.5821652,-0.52174926,-0.5757311,-0.48916188,-0.62291014,-0.66005194,-0.5509075,-0.66005194,-0.54491717,-0.58869606,-0.637388,-0.6088994,-0.644812,-0.6758462,-0.6300887,-0.60206,-0.637388,-0.644812,-0.58869606,-0.5821652,-0.5331787,-0.6758462,-0.60206,-0.5693909,-0.637388,-0.47882104,-0.53900826,-0.5953266,-0.7006698,-0.65236515,-0.5953266,-0.5953266,-0.54491717,-0.60206,-0.6678773,-0.65236515,-0.66005194,-0.5693909,-0.6088994,-0.62291014,-0.66005194,-0.5953266,-0.5757311,-0.6922366,-0.5821652,-0.6088994,-0.54491717,-0.50514996,-0.61584824,-0.66005194,-0.5757311,-0.5953266,-0.6758462,-0.58869606,-0.56314194,-0.5821652,-0.5509075,-0.62291014,-0.61584824,-0.5953266,-0.58869606,-0.6088994,-0.5693909,-0.644812,-0.5821652,-0.5693909,-0.5953266,-0.56314194,-0.5757311,-0.5757311,-0.54491717,-0.5953266,-0.6758462,-0.6300887,-0.6678773,-0.5569816,-0.644812,-0.60206,-0.60206,-0.61584824,-0.6088994,-0.6922366,-0.7954562,-0.5106129,-0.6088994,-0.58869606,-0.5693909,-0.62291014,-0.62291014,-0.637388,-0.56314194,-0.5693909,-0.5953266,-0.644812,-0.51614535,-0.6300887,-0.5509075,-0.6300887,-0.6758462,-0.5509075,-0.60206,-0.6839641,-0.5509075,-0.60206,-0.60206,-0.6300887,-0.637388,-0.56314194,-0.51614535,-0.5953266,-0.6088994,-0.48916188,-0.5693909,-0.5331787,-0.60206,-0.61584824,-0.65236515,-0.637388,-0.53900826,-0.6088994,-0.58869606,-0.61584824,-0.48916188,-0.6922366,-0.56314194,-0.5821652,-0.5953266,-0.62291014,-0.5509075,-0.66005194,-0.60206,-0.6300887,-0.58869606,-0.7180439,-0.5821652,-0.5953266,-0.62291014,-0.6088994,-0.56314194,-0.51614535,-0.6758462,-0.6300887,-0.5693909,-0.5274264,-0.60206,-0.56314194,-0.6300887,-0.60206,-0.45884997,-0.5693909,-0.60206,-0.61584824,-0.644812,-0.6088994,-0.5331787,-0.6300887,-0.5953266,-0.637388,-0.76478726,-0.6922366,-0.53900826,-0.62291014,-0.56314194,-0.5693909,-0.61584824,-0.637388,-0.56314194,-0.5757311,-0.6839641,-0.5953266,-0.5953266,-0.6678773,-0.65236515,-0.56314194,-0.54491717,-0.6678773,-0.65236515,-0.6088994,-0.65236515,-0.637388,-0.5693909,-0.58869606,-0.6758462,-0.66005194,-0.5821652,-0.61584824,-0.5953266,-0.5757311,-0.5953266,-0.499755,-0.54491717,-0.6088994,-0.61584824,-0.60206,-0.7550275,-0.62291014,-0.6300887,-0.5274264,-0.5693909,-0.5953266,-0.6300887,-0.60206,-0.56314194,-0.6300887,-0.62291014,-0.7006698,-0.5274264,-0.5821652,-0.58869606,-0.644812,-0.70926994,-0.5821652,-0.60206,-0.637388,-0.62291014,-0.5569816,-0.5693909,-0.6839641,-0.60206,-0.48916188,-0.66005194,-0.65236515,-0.52174926,-0.47882104,-0.6922366,-0.60206,-0.61584824,-0.637388,-0.5693909,-0.6300887,-0.54491717,-0.60206,-0.5757311,-0.6678773,-0.5569816,-0.66005194,-0.56314194,-0.62291014,-0.5953266,-0.66005194,-0.62291014,-0.53900826,-0.5693909,-0.6300887,-0.56314194,-0.5953266,-0.637388,-0.62291014,-0.5569816,-0.61584824,-0.5821652,-0.56314194,-0.5821652,-0.56314194,-0.5693909,-0.61584824,-0.7006698,-0.62291014,-0.5569816,-0.66005194,-0.5274264,-0.66005194,-0.644812,-0.70926994,-0.73614216,-0.60206,-0.637388,-0.66005194,-0.6839641,-0.6300887,-0.52174926,-0.65236515,-0.644812,-0.644812,-0.6758462,-0.56314194,-0.5106129,-0.7180439,-0.6758462,-0.7550275,-0.5509075,-0.5569816,-0.53900826,-0.5274264,-0.62291014,-0.644812,-0.6839641,-0.5569816,-0.5509075,-0.6678773,-0.6839641,-0.5953266,-0.5757311,-0.5953266,-0.5569816,-0.50514996,-0.5274264,-0.58869606,-0.48916188,-0.5821652,-0.66005194,-0.61584824,-0.5821652,-0.54491717,-0.66005194,-0.65236515,-0.5953266,-0.499755,-0.51614535,-0.5757311,-0.6300887,-0.644812,-0.58869606,-0.6839641,-0.60206,-0.58869606,-0.637388,-0.6300887,-0.6088994,-0.58869606,-0.54491717,-0.52174926,-0.60206,-0.60206,-0.6088994,-0.6758462,-0.5509075,-0.52174926,-0.5693909,-0.6088994,-0.6088994,-0.5953266,-0.61584824,-0.637388,-0.58869606,-0.76478726,-0.644812,-0.66005194,-0.53900826,-0.50514996,-0.6678773,-0.5821652,-0.60206,-0.51614535,-0.54491717,-0.62291014,-0.637388,-0.5821652,-0.6678773,-0.72699875,-0.62291014,-0.5757311,-0.5693909,-0.644812,-0.5821652,-0.53900826,-0.60206,-0.62291014,-0.66005194,-0.66005194,-0.5693909,-0.5693909,-0.5331787,-0.7849907,-0.56314194,-0.62291014,-0.58869606,-0.58869606,-0.6758462,-0.6300887,-0.5331787,-0.50514996,-0.644812,-0.6300887,-0.74548215,-0.5821652,-0.65236515,-0.6839641,-0.6839641,-0.637388,-0.62291014,-0.65236515,-0.53900826,-0.5331787,-0.56314194,-0.6839641,-0.5757311,-0.70926994,-0.6678773,-0.50514996,-0.6088994,-0.58869606,-0.5569816,-0.7550275,-0.61584824,-0.644812,-0.6300887,-0.56314194,-0.7006698,-0.644812,-0.48916188,-0.5821652,-0.637388,-0.56314194,-0.6839641,-0.6678773,-0.65236515,-0.45399743,-0.70926994,-0.5757311,-0.65236515,-0.5274264,-0.65236515,-0.5331787,-0.66005194,-0.637388,-0.644812,-0.5821652,-0.6088994,-0.5331787,-0.62291014,-0.5509075,-0.6839641,-0.5953266,-0.5757311,-0.5821652,-0.4737415,-0.65236515,-0.6088994,-0.6678773,-0.60206,-0.6922366,-0.61584824,-0.5821652,-0.6088994,-0.5953266,-0.49442616,-0.5953266,-0.5569816,-0.5569816,-0.51614535,-0.61584824,-0.65236515,-0.5569816,-0.5821652,-0.60206,-0.6088994,-0.637388,-0.60206,-0.56314194,-0.7550275,-0.60206,-0.62291014,-0.70926994,-0.5757311,-0.5693909,-0.60206,-0.60206,-0.56314194,-0.66005194,-0.49442616,-0.72699875,-0.5821652,-0.644812,-0.6300887,-0.58869606,-0.65236515,-0.58869606,-0.7006698,-0.65236515,-0.48916188,-0.62291014,-0.56314194,-0.6088994,-0.5569816,-0.61584824,-0.66005194,-0.5757311,-0.58869606,-0.6758462,-0.5509075,-0.6758462,-0.5274264,-0.73614216,-0.58869606,-0.56314194,-0.51614535,-0.54491717,-0.65236515,-0.56314194,-0.5331787,-0.62291014,-0.6678773,-0.58869606,-0.61584824,-0.5274264,-0.62291014,-0.54491717,-0.5757311,-0.62291014,-0.5953266,-0.5693909,-0.6839641,-0.60206,-0.6758462,-0.61584824,-0.58869606,-0.52174926,-0.54491717,-0.58869606,-0.5509075,-0.6088994,-0.61584824,-0.62291014,-0.5569816,-0.60206,-0.74548215,-0.5757311,-0.6758462,-0.50514996,-0.60206,-0.54491717,-0.56314194,-0.58869606,-0.5821652,-0.56314194,-0.66005194,-0.6300887,-0.54491717,-0.56314194,-0.637388,-0.5821652,-0.60206,-0.65236515,-0.70926994,-0.76478726,-0.6088994,-0.61584824,-0.5693909,-0.637388,-0.60206,-0.66005194,-0.5509075,-0.5953266,-0.61584824,-0.54491717,-0.637388,-0.5693909,-0.5509075,-0.5274264,-0.5693909,-0.499755,-0.50514996,-0.5953266,-0.5693909,-0.6088994,-0.65236515,-0.6678773,-0.66005194,-0.6300887,-0.6088994,-0.49442616,-0.6300887,-0.53900826,-0.6678773,-0.6088994,-0.60206,-0.5821652,-0.62291014,-0.5509075,-0.62291014,-0.5953266,-0.5757311,-0.6088994,-0.60206,-0.5953266,-0.54491717,-0.644812,-0.5757311,-0.6300887,-0.61584824,-0.65236515,-0.60206,-0.54491717,-0.66005194,-0.637388,-0.6678773,-0.6300887,-0.58869606,-0.66005194,-0.6758462,-0.5821652,-0.6300887,-0.5693909,-0.5569816,-0.5693909,-0.52174926,-0.62291014,-0.58869606,-0.56314194,-0.60206,-0.5331787,-0.61584824,-0.65236515,-0.60206,-0.5953266,-0.56314194,-0.6300887,-0.5953266,-0.62291014,-0.60206,-0.53900826,-0.5821652,-0.58869606,-0.62291014,-0.7180439,-0.7550275,-0.5569816,-0.5953266,-0.56314194,-0.56314194,-0.5693909,-0.6839641,-0.58869606,-0.5569816,-0.5509075,-0.60206,-0.5693909,-0.60206,-0.56314194,-0.5821652,-0.637388,-0.60206,-0.60206,-0.62291014,-0.644812,-0.5274264,-0.5953266,-0.61584824,-0.5953266,-0.72699875,-0.5569816,-0.644812,-0.62291014,-0.5693909,-0.60206,-0.5821652,-0.637388,-0.5953266,-0.66005194,-0.65236515,-0.6300887,-0.51614535,-0.5821652,-0.6300887,-0.62291014,-0.7180439,-0.6678773,-0.58869606,-0.56314194,-0.56314194,-0.6088994,-0.5821652,-0.5106129,-0.61584824,-0.5509075,-0.6088994,-0.5509075,-0.54491717,-0.6300887,-0.5331787,-0.637388,-0.5953266,-0.65236515,-0.60206,-0.65236515,-0.5821652,-0.5757311,-0.7006698,-0.6839641,-0.53900826,-0.76478726,-0.5106129,-0.65236515,-0.66005194,-0.5953266,-0.5757311,-0.5106129,-0.499755,-0.5821652,-0.5953266,-0.6678773,-0.53900826,-0.56314194,-0.6300887,-0.5509075,-0.5757311,-0.644812,-0.5821652,-0.5953266,-0.6088994,-0.6300887,-0.66005194,-0.6678773,-0.70926994,-0.61584824,-0.66005194,-0.6088994,-0.6922366,-0.62291014,-0.66005194,-0.5821652,-0.5693909,-0.58869606,-0.61584824,-0.62291014,-0.637388,-0.6678773,-0.637388,-0.6300887,-0.5757311,-0.65236515,-0.58869606,-0.644812,-0.66005194,-0.60206,-0.5106129,-0.5821652,-0.5953266,-0.5757311,-0.5106129,-0.5821652,-0.70926994,-0.65236515,-0.5757311,-0.6300887,-0.6088994,-0.73614216,-0.5509075,-0.70926994,-0.65236515,-0.65236515,-0.637388,-0.5757311,-0.56314194,-0.5274264,-0.499755,-0.5953266,-0.58869606,-0.5757311,-0.62291014,-0.5821652,-0.6088994,-0.5509075,-0.48396072,-0.58869606,-0.60206,-0.637388,-0.644812,-0.62291014,-0.6088994,-0.72699875,-0.5757311,-0.6088994,-0.644812,-0.61584824,-0.7747715,-0.5757311,-0.53900826,-0.6922366,-0.66005194,-0.56314194,-0.5106129,-0.61584824,-0.6088994,-0.637388,-0.5821652,-0.62291014,-0.6839641,-0.74548215,-0.5953266,-0.56314194,-0.644812,-0.6758462,-0.5953266,-0.5757311,-0.5757311,-0.6758462,-0.5693909,-0.6088994,-0.5331787,-0.54491717,-0.5821652,-0.53900826,-0.5569816,-0.61584824,-0.6758462,-0.5693909,-0.5331787,-0.6088994,-0.5569816,-0.6088994,-0.5821652,-0.6678773,-0.637388,-0.5569816,-0.5693909,-0.637388,-0.61584824,-0.62291014,-0.54491717,-0.637388,-0.66005194,-0.5509075,-0.6088994,-0.51614535,-0.5509075,-0.7180439,-0.6922366,-0.6088994,-0.61584824,-0.54491717,-0.61584824,-0.60206,-0.5509075,-0.60206,-0.644812,-0.58869606,-0.61584824,-0.52174926,-0.60206,-0.6088994,-0.60206,-0.5509075,-0.6839641,-0.6300887,-0.644812,-0.61584824,-0.74548215,-0.66005194,-0.6678773,-0.5274264,-0.6758462,-0.637388,-0.66005194,-0.49442616,-0.5569816,-0.56314194,-0.5953266,-0.5693909,-0.6758462,-0.50514996,-0.60206,-0.60206,-0.45884997,-0.61584824,-0.66005194,-0.62291014,-0.72699875,-0.54491717,-0.61584824,-0.644812,-0.61584824,-0.49442616,-0.66005194,-0.5106129,-0.49442616,-0.54491717,-0.70926994,-0.5821652,-0.644812,-0.5509075,-0.6758462,-0.637388,-0.5569816,-0.62291014,-0.66005194,-0.5821652,-0.58869606,-0.54491717,-0.5953266,-0.6678773,-0.5953266,-0.60206,-0.5757311,-0.499755,-0.6758462,-0.56314194,-0.637388,-0.6088994,-0.65236515,-0.65236515,-0.50514996,-0.72699875,-0.70926994,-0.7180439,-0.5509075,-0.6300887,-0.5821652,-0.53900826,-0.637388,-0.5509075,-0.5821652,-0.56314194,-0.62291014,-0.7180439,-0.5821652,-0.72699875,-0.6839641,-0.5509075,-0.5693909,-0.72699875,-0.6088994,-0.5953266,-0.5274264,-0.45399743,-0.66005194,-0.60206,-0.5821652,-0.5274264,-0.6300887,-0.6758462,-0.6839641,-0.49442616,-0.5757311,-0.61584824,-0.4737415,-0.62291014,-0.61584824,-0.5509075,-0.61584824,-0.60206,-0.6758462,-0.65236515,-0.5757311,-0.644812,-0.5569816,-0.65236515,-0.50514996,-0.73614216,-0.65236515,-0.5757311,-0.52174926,-0.5274264,-0.644812,-0.62291014,-0.5693909,-0.62291014,-0.54491717,-0.51614535,-0.5569816,-0.5821652,-0.5953266,-0.5757311,-0.5953266,-0.61584824,-0.6088994,-0.6300887,-0.5274264,-0.62291014,-0.5953266,-0.61584824,-0.43511212,-0.5569816,-0.637388,-0.54491717,-0.72699875,-0.61584824,-0.72699875,-0.52174926,-0.6922366,-0.637388,-0.5106129,-0.5953266,-0.65236515,-0.5953266,-0.60206,-0.6088994,-0.50514996,-0.6088994,-0.6088994,-0.61584824,-0.61584824,-0.47882104,-0.54491717,-0.47882104,-0.62291014,-0.6922366,-0.5757311,-0.6088994,-0.61584824,-0.5693909,-0.61584824,-0.61584824,-0.58869606,-0.6922366,-0.66005194,-0.5757311,-0.65236515,-0.5693909,-0.65236515,-0.5953266,-0.70926994,-0.56314194,-0.6922366,-0.58869606,-0.6922366,-0.6300887,-0.637388,-0.6300887,-0.7180439,-0.499755,-0.6300887,-0.644812,-0.5821652,-0.6922366,-0.6678773,-0.6300887,-0.644812,-0.60206,-0.5331787,-0.5953266,-0.60206,-0.60206,-0.5821652,-0.60206,-0.56314194,-0.74548215,-0.6758462,-0.60206,-0.49442616,-0.51614535,-0.66005194,-0.5757311,-0.62291014,-0.47882104,-0.54491717,-0.58869606,-0.5331787,-0.56314194,-0.61584824,-0.637388,-0.637388,-0.51614535,-0.5569816,-0.56314194,-0.5331787,-0.5953266,-0.5274264,-0.5693909,-0.6300887,-0.5821652,-0.6088994,-0.74548215,-0.49442616,-0.644812,-0.70926994,-0.6758462,-0.45884997,-0.5693909,-0.61584824,-0.62291014,-0.62291014,-0.637388,-0.637388,-0.6758462,-0.6300887,-0.5757311,-0.54491717,-0.66005194,-0.5569816,-0.5821652,-0.6088994,-0.5757311,-0.5953266,-0.58869606,-0.5693909,-0.644812,-0.56314194,-0.58869606,-0.74548215,-0.58869606,-0.65236515,-0.58869606,-0.65236515,-0.6300887,-0.60206,-0.65236515,-0.5821652,-0.60206,-0.5693909,-0.5509075,-0.5953266,-0.6088994,-0.5106129,-0.76478726,-0.6088994,-0.52174926,-0.60206,-0.5953266,-0.56314194,-0.51614535,-0.5821652,-0.6678773,-0.61584824,-0.58869606,-0.6758462,-0.53900826,-0.5757311,-0.72699875,-0.53900826,-0.5821652,-0.6300887,-0.60206,-0.60206,-0.70926994,-0.61584824,-0.65236515,-0.5821652,-0.61584824,-0.65236515,-0.5757311,-0.62291014,-0.62291014,-0.5693909,-0.5953266,-0.5509075,-0.60206,-0.58869606,-0.5693909,-0.53900826,-0.7006698,-0.644812,-0.62291014,-0.5509075,-0.62291014,-0.5274264,-0.5757311,-0.6300887,-0.54491717,-0.61584824,-0.6088994,-0.56314194,-0.66005194,-0.62291014,-0.5693909,-0.66005194,-0.5693909,-0.5693909,-0.54491717,-0.65236515,-0.6300887,-0.644812,-0.6922366,-0.54491717,-0.5953266,-0.58869606,-0.6758462,-0.56314194,-0.56314194,-0.6922366,-0.637388,-0.6922366,-0.58869606,-0.54491717,-0.5953266,-0.644812,-0.66005194,-0.70926994,-0.5821652,-0.5953266,-0.5693909,-0.49442616,-0.60206,-0.66005194,-0.6678773,-0.6300887,-0.5821652,-0.58869606,-0.6678773,-0.6839641,-0.5821652,-0.644812,-0.66005194,-0.5757311,-0.51614535,-0.56314194,-0.58869606,-0.72699875,-0.637388,-0.5757311,-0.6300887,-0.56314194,-0.60206,-0.5757311,-0.54491717,-0.644812,-0.62291014,-0.5757311,-0.5757311,-0.58869606,-0.62291014,-0.6922366,-0.6088994,-0.62291014,-0.6300887,-0.53900826,-0.61584824,-0.60206,-0.53900826,-0.62291014,-0.60206,-0.6678773,-0.6300887,-0.6678773,-0.58869606,-0.61584824,-0.62291014,-0.5757311,-0.65236515,-0.5106129,-0.62291014,-0.5953266,-0.61584824,-0.65236515,-0.60206,-0.58869606,-0.49442616,-0.5821652,-0.5821652,-0.637388,-0.637388,-0.65236515,-0.61584824,-0.5821652,-0.5821652,-0.6088994,-0.5953266,-0.5509075,-0.637388,-0.62291014,-0.637388,-0.62291014,-0.61584824,-0.60206,-0.5569816,-0.56314194,-0.5821652,-0.52174926,-0.5821652,-0.6758462,-0.76478726,-0.61584824,-0.73614216,-0.6088994,-0.6678773,-0.5821652,-0.5331787,-0.5757311,-0.54491717,-0.6088994,-0.5757311,-0.53900826,-0.6088994,-0.5693909,-0.65236515,-0.51614535,-0.6088994,-0.5331787,-0.50514996,-0.56314194,-0.48916188,-0.6678773,-0.5693909,-0.5953266,-0.73614216,-0.5509075,-0.637388,-0.6088994,-0.5569816,-0.6922366,-0.5757311,-0.637388,-0.5693909,-0.5331787,-0.5953266,-0.6678773,-0.61584824,-0.5757311,-0.7954562,-0.6088994,-0.637388,-0.5693909,-0.6300887,-0.6088994,-0.62291014,-0.644812,-0.52174926,-0.65236515,-0.51614535,-0.65236515,-0.6088994,-0.61584824,-0.6088994,-0.5569816,-0.51614535,-0.637388,-0.51614535,-0.644812,-0.70926994,-0.61584824,-0.637388,-0.6088994,-0.7006698,-0.5757311,-0.6678773,-0.5693909,-0.6839641,-0.65236515,-0.637388,-0.70926994,-0.6758462,-0.6678773,-0.6300887,-0.56314194,-0.5509075,-0.6088994,-0.51614535,-0.6839641,-0.5693909,-0.6758462,-0.5693909,-0.6088994,-0.60206,-0.61584824,-0.5693909,-0.5821652,-0.5757311,-0.5757311,-0.62291014,-0.5509075,-0.66005194,-0.72699875,-0.499755,-0.52174926,-0.6839641,-0.56314194,-0.52174926,-0.637388,-0.6678773,-0.7550275,-0.5821652,-0.56314194,-0.61584824,-0.637388,-0.5693909,-0.6758462,-0.60206,-0.54491717,-0.58869606,-0.6922366,-0.5821652,-0.637388,-0.6758462,-0.5757311,-0.6678773,-0.56314194,-0.4737415,-0.6922366,-0.5953266,-0.60206,-0.6300887,-0.6922366,-0.66005194,-0.6922366,-0.51614535,-0.51614535,-0.5757311,-0.6300887,-0.5106129,-0.644812,-0.62291014,-0.6758462,-0.6300887,-0.5757311,-0.52174926,-0.6300887,-0.6088994,-0.5569816,-0.637388,-0.5757311,-0.6088994,-0.6088994,-0.65236515,-0.65236515,-0.5693909,-0.5569816,-0.66005194,-0.6088994,-0.644812,-0.499755,-0.66005194,-0.5569816,-0.61584824,-0.6922366,-0.58869606,-0.6300887,-0.5509075,-0.6300887,-0.6839641,-0.5757311,-0.5757311,-0.5821652,-0.65236515,-0.6678773,-0.5106129,-0.5509075,-0.637388,-0.7006698,-0.61584824,-0.5821652,-0.5757311,-0.5331787,-0.53900826,-0.61584824,-0.61584824,-0.6922366,-0.644812,-0.5274264,-0.62291014,-0.5953266,-0.637388,-0.5821652,-0.7180439,-0.6678773,-0.5953266,-0.5821652,-0.5953266,-0.5693909,-0.56314194,-0.65236515,-0.637388,-0.5509075,-0.6088994,-0.56314194,-0.54491717,-0.644812,-0.6088994,-0.5821652,-0.56314194,-0.5693909,-0.60206,-0.52174926,-0.66005194,-0.6300887,-0.60206,-0.60206,-0.5509075,-0.60206,-0.644812,-0.5509075,-0.5821652,-0.56314194,-0.644812,-0.5509075,-0.6758462,-0.6758462,-0.5821652,-0.53900826,-0.6088994,-0.5821652,-0.60206,-0.54491717,-0.51614535,-0.7550275,-0.60206,-0.76478726,-0.6300887,-0.66005194,-0.644812,-0.76478726,-0.637388,-0.6678773,-0.60206,-0.5821652,-0.58869606,-0.61584824,-0.5757311,-0.637388,-0.65236515,-0.6758462,-0.5693909,-0.5569816,-0.62291014,-0.5569816,-0.6922366,-0.6088994,-0.61584824,-0.52174926,-0.58869606,-0.6922366,-0.53900826,-0.6678773,-0.56314194,-0.5757311,-0.46872076,-0.6300887,-0.6922366,-0.5821652,-0.54491717,-0.5757311,-0.60206,-0.7006698,-0.56314194,-0.65236515,-0.58869606,-0.6300887,-0.5821652,-0.6678773,-0.644812,-0.56314194,-0.6678773,-0.58869606,-0.48916188,-0.5757311,-0.60206,-0.637388,-0.51614535,-0.5757311,-0.6300887,-0.6678773,-0.58869606,-0.58869606,-0.6300887,-0.5757311,-0.5693909,-0.56314194,-0.6300887,-0.637388,-0.5569816,-0.54491717,-0.66005194,-0.6678773,-0.6300887,-0.5106129,-0.5693909,-0.58869606,-0.6922366,-0.6300887,-0.61584824,-0.58869606,-0.7180439,-0.50514996,-0.644812,-0.49442616,-0.76478726,-0.52174926,-0.5821652,-0.61584824,-0.5821652,-0.5693909,-0.54491717,-0.637388,-0.6839641,-0.6839641,-0.65236515,-0.5821652,-0.53900826,-0.6088994,-0.50514996,-0.5821652,-0.5821652,-0.61584824,-0.60206,-0.5331787,-0.6300887,-0.5693909,-0.61584824,-0.54491717,-0.6088994,-0.65236515,-0.62291014,-0.47882104,-0.61584824,-0.66005194,-0.61584824,-0.56314194,-0.62291014,-0.50514996,-0.56314194,-0.5821652,-0.637388,-0.62291014,-0.66005194,-0.62291014,-0.6300887,-0.56314194,-0.6678773,-0.7006698,-0.60206,-0.5757311,-0.7006698,-0.6839641,-0.5821652,-0.5953266,-0.6088994,-0.56314194,-0.76478726,-0.5693909,-0.60206,-0.56314194,-0.5693909,-0.5693909,-0.62291014,-0.62291014,-0.62291014,-0.65236515,-0.5569816,-0.65236515,-0.637388,-0.52174926,-0.66005194,-0.58869606,-0.66005194,-0.53900826,-0.644812,-0.58869606,-0.62291014,-0.60206,-0.62291014,-0.5821652,-0.51614535,-0.72699875,-0.644812,-0.58869606,-0.5821652,-0.6922366,-0.6300887,-0.58869606,-0.56314194,-0.58869606,-0.58869606,-0.60206,-0.61584824,-0.60206,-0.60206,-0.62291014,-0.5693909,-0.5509075,-0.65236515,-0.6839641,-0.53900826,-0.73614216,-0.60206,-0.66005194,-0.6300887,-0.5821652,-0.51614535,-0.58869606,-0.5821652,-0.61584824,-0.5953266,-0.53900826,-0.6300887,-0.58869606,-0.54491717,-0.56314194,-0.62291014,-0.6678773,-0.5509075,-0.7180439,-0.5331787,-0.58869606,-0.65236515,-0.60206,-0.5331787,-0.6678773,-0.61584824,-0.6300887,-0.6678773,-0.5757311,-0.499755,-0.7006698,-0.58869606,-0.6758462,-0.6088994,-0.62291014,-0.60206,-0.644812,-0.5693909,-0.51614535,-0.6758462,-0.56314194,-0.5106129,-0.58869606,-0.6088994,-0.5821652,-0.644812,-0.6300887,-0.50514996,-0.65236515,-0.5569816,-0.5693909,-0.5693909,-0.5821652,-0.5274264,-0.5757311,-0.5569816,-0.5509075,-0.5821652,-0.6088994,-0.5693909,-0.66005194,-0.53900826,-0.56314194,-0.5953266,-0.6839641,-0.61584824,-0.5953266,-0.5569816,-0.644812,-0.5693909,-0.5693909,-0.6300887,-0.6839641,-0.60206,-0.53900826,-0.62291014,-0.6678773,-0.5953266,-0.60206,-0.5821652,-0.5821652,-0.6088994,-0.5757311,-0.5693909,-0.5569816,-0.66005194,-0.61584824,-0.7006698,-0.6088994,-0.6758462,-0.58869606,-0.62291014,-0.637388,-0.5821652,-0.644812,-0.5953266,-0.6088994,-0.6088994,-0.6758462,-0.6758462,-0.61584824,-0.62291014,-0.56314194,-0.644812,-0.6300887,-0.6678773,-0.70926994,-0.5106129,-0.5331787,-0.47882104,-0.58869606,-0.53900826,-0.5274264,-0.5509075,-0.72699875,-0.637388,-0.58869606,-0.6922366,-0.61584824,-0.5953266,-0.5953266,-0.637388,-0.6678773,-0.51614535,-0.53900826,-0.644812,-0.62291014,-0.61584824,-0.5693909,-0.62291014,-0.499755,-0.72699875,-0.6300887,-0.5953266,-0.50514996,-0.637388,-0.58869606,-0.61584824,-0.5569816,-0.56314194,-0.6088994,-0.53900826,-0.73614216,-0.5821652,-0.66005194,-0.65236515,-0.6300887,-0.6088994,-0.5274264,-0.54491717,-0.52174926,-0.5757311,-0.72699875,-0.56314194,-0.5953266,-0.53900826,-0.56314194,-0.66005194,-0.637388,-0.6922366,-0.6758462,-0.58869606,-0.5274264,-0.66005194,-0.6300887,-0.6300887,-0.62291014,-0.62291014,-0.62291014,-0.6758462,-0.61584824,-0.5821652,-0.6088994,-0.5821652,-0.6088994,-0.61584824,-0.56314194,-0.6088994,-0.65236515,-0.637388,-0.49442616,-0.6088994,-0.6839641,-0.5509075,-0.61584824,-0.6300887,-0.65236515,-0.6839641,-0.637388,-0.5509075,-0.52174926,-0.5569816,-0.7747715,-0.44445214,-0.65236515,-0.61584824,-0.644812,-0.5757311,-0.6922366,-0.6088994,-0.5821652,-0.52174926,-0.6678773,-0.56314194,-0.60206,-0.54491717,-0.6839641,-0.5693909,-0.5106129,-0.61584824,-0.5953266,-0.70926994,-0.5757311,-0.6300887,-0.5953266,-0.61584824,-0.74548215,-0.5274264,-0.5757311,-0.637388,-0.61584824,-0.5693909,-0.5953266,-0.58869606,-0.5757311,-0.644812,-0.5693909,-0.74548215,-0.62291014,-0.6300887,-0.65236515,-0.53900826,-0.61584824,-0.5569816,-0.6088994,-0.5821652,-0.5757311,-0.56314194,-0.60206,-0.5953266,-0.58869606,-0.644812,-0.56314194,-0.7006698,-0.60206,-0.52174926,-0.5953266,-0.7180439,-0.6839641,-0.5693909,-0.44445214,-0.6300887,-0.5821652,-0.637388,-0.644812,-0.60206,-0.5693909,-0.5331787,-0.65236515,-0.54491717,-0.53900826,-0.7747715,-0.6678773,-0.60206,-0.65236515,-0.5106129,-0.61584824,-0.48396072,-0.5757311,-0.56314194,-0.644812,-0.6300887,-0.65236515,-0.60206,-0.6922366,-0.644812,-0.62291014,-0.70926994,-0.70926994,-0.5757311,-0.73614216,-0.6088994,-0.58869606,-0.58869606,-0.56314194,-0.54491717,-0.5106129,-0.62291014,-0.6300887,-0.5509075,-0.6088994,-0.6839641,-0.56314194,-0.5821652,-0.56314194,-0.48396072,-0.6088994,-0.5821652,-0.58869606,-0.5757311,-0.6758462,-0.54491717,-0.6758462,-0.5569816,-0.62291014,-0.5569816,-0.62291014,-0.5953266,-0.644812,-0.61584824,-0.5509075,-0.6088994,-0.6088994,-0.5569816,-0.65236515,-0.65236515,-0.76478726,-0.62291014,-0.74548215,-0.644812,-0.5821652,-0.52174926,-0.52174926,-0.644812,-0.5757311,-0.637388,-0.6922366,-0.65236515,-0.72699875,-0.637388,-0.5821652,-0.637388,-0.5953266,-0.66005194,-0.56314194,-0.5821652,-0.60206,-0.6300887,-0.5331787,-0.58869606,-0.66005194,-0.48916188,-0.60206,-0.56314194,-0.637388,-0.5953266,-0.56314194,-0.61584824,-0.6758462,-0.5953266,-0.6088994,-0.5569816,-0.637388,-0.5953266,-0.637388,-0.644812,-0.5693909,-0.61584824,-0.5509075,-0.5693909,-0.61584824,-0.61584824,-0.644812,-0.58869606,-0.56314194,-0.6300887,-0.6678773,-0.5331787,-0.5821652,-0.5821652,-0.6088994,-0.6678773,-0.60206,-0.644812,-0.6678773,-0.6678773,-0.644812,-0.49442616,-0.62291014,-0.5509075,-0.6758462,-0.54491717,-0.6088994,-0.5569816,-0.48396072,-0.61584824,-0.60206,-0.5569816,-0.6088994,-0.644812,-0.51614535,-0.6922366,-0.644812,-0.637388,-0.5693909,-0.5509075,-0.6088994,-0.5821652,-0.6088994,-0.6758462,-0.5509075,-0.5331787,-0.7006698,-0.70926994,-0.72699875,-0.5953266,-0.62291014,-0.637388,-0.60206,-0.48916188,-0.53900826,-0.6088994,-0.58869606,-0.5757311,-0.5693909,-0.48396072,-0.66005194,-0.6300887,-0.5757311,-0.61584824,-0.5693909,-0.6839641,-0.60206,-0.5693909,-0.5569816,-0.5953266,-0.6678773,-0.6678773,-0.61584824,-0.6088994,-0.61584824,-0.5569816,-0.62291014,-0.637388,-0.66005194,-0.6678773,-0.62291014,-0.5569816,-0.5331787,-0.53900826,-0.60206,-0.61584824,-0.53900826,-0.61584824,-0.66005194,-0.58869606,-0.5757311,-0.7180439,-0.62291014,-0.644812,-0.6088994,-0.5757311,-0.53900826,-0.51614535,-0.66005194,-0.637388,-0.637388,-0.58869606,-0.58869606,-0.56314194,-0.6088994,-0.637388,-0.53900826,-0.5953266,-0.6300887,-0.5757311,-0.5509075,-0.637388,-0.6758462,-0.6300887,-0.56314194,-0.53900826,-0.644812,-0.6758462,-0.5331787,-0.5693909,-0.5331787,-0.5953266,-0.5821652,-0.53900826,-0.48916188,-0.5569816,-0.5509075,-0.49442616,-0.65236515,-0.7006698,-0.637388,-0.6088994,-0.5509075,-0.5693909,-0.637388,-0.72699875,-0.5509075,-0.5693909,-0.5331787,-0.5274264,-0.5821652,-0.5274264,-0.6088994,-0.56314194,-0.6678773,-0.66005194,-0.5953266,-0.62291014,-0.6300887,-0.70926994,-0.637388,-0.5821652,-0.62291014,-0.5953266,-0.60206,-0.60206,-0.66005194,-0.6300887,-0.5569816,-0.74548215,-0.5757311,-0.6758462,-0.61584824,-0.66005194,-0.60206,-0.65236515,-0.5274264,-0.61584824,-0.6088994,-0.637388,-0.5331787,-0.61584824,-0.60206,-0.5106129,-0.5509075,-0.5757311,-0.6300887,-0.54491717,-0.5821652,-0.644812,-0.53900826,-0.6839641,-0.6088994,-0.637388,-0.56314194,-0.5953266,-0.5509075,-0.65236515,-0.56314194,-0.7180439,-0.74548215,-0.499755,-0.50514996,-0.6678773,-0.5953266,-0.5274264,-0.61584824,-0.6300887,-0.5757311,-0.62291014,-0.70926994,-0.6758462,-0.5274264,-0.644812,-0.61584824,-0.5821652,-0.5693909,-0.5509075,-0.644812,-0.5757311,-0.65236515,-0.62291014,-0.56314194,-0.65236515,-0.61584824,-0.61584824,-0.6678773,-0.6678773,-0.60206,-0.644812,-0.5757311,-0.56314194,-0.5821652,-0.6758462,-0.50514996,-0.61584824,-0.5953266,-0.56314194,-0.58869606,-0.644812,-0.62291014,-0.5821652,-0.6300887,-0.5331787,-0.6300887,-0.6678773,-0.54491717,-0.637388,-0.54491717,-0.6088994,-0.6300887,-0.5821652,-0.66005194,-0.6922366,-0.6839641,-0.5757311,-0.5693909,-0.65236515,-0.5106129,-0.644812,-0.70926994,-0.70926994,-0.62291014,-0.637388,-0.54491717,-0.62291014,-0.56314194,-0.5821652,-0.53900826,-0.58869606,-0.6758462,-0.62291014,-0.5953266,-0.60206,-0.48916188,-0.65236515,-0.60206,-0.5331787,-0.6839641,-0.60206,-0.5757311,-0.5693909,-0.637388,-0.60206,-0.51614535,-0.66005194,-0.5953266,-0.644812,-0.644812,-0.74548215,-0.7180439,-0.5274264,-0.6758462,-0.5509075,-0.50514996,-0.70926994,-0.58869606,-0.637388,-0.5331787,-0.76478726,-0.5821652,-0.644812,-0.66005194,-0.53900826,-0.60206,-0.6088994,-0.644812,-0.56314194,-0.5509075,-0.58869606,-0.56314194,-0.65236515,-0.6678773,-0.7006698,-0.6300887,-0.66005194,-0.5757311,-0.62291014,-0.61584824,-0.6300887,-0.5693909,-0.5106129,-0.5953266,-0.6300887,-0.6839641,-0.60206,-0.6922366,-0.70926994,-0.6839641,-0.5953266,-0.5569816,-0.58869606,-0.6839641,-0.56314194,-0.5693909,-0.58869606,-0.5569816,-0.5274264,-0.60206,-0.54491717,-0.5693909,-0.58869606,-0.6839641,-0.5953266,-0.62291014,-0.5821652,-0.637388,-0.61584824,-0.6758462,-0.5693909,-0.65236515,-0.72699875,-0.5821652,-0.5821652,-0.5693909,-0.5953266,-0.54491717,-0.6300887,-0.61584824,-0.66005194,-0.5821652,-0.60206,-0.6300887,-0.5821652,-0.53900826,-0.5509075,-0.5757311,-0.5693909,-0.6300887,-0.5509075,-0.56314194,-0.5953266,-0.6758462,-0.6088994,-0.6922366,-0.5331787,-0.5953266,-0.58869606,-0.6088994,-0.6922366,-0.5569816,-0.60206,-0.60206,-0.5569816,-0.62291014,-0.637388,-0.7180439,-0.60206,-0.61584824,-0.62291014,-0.6678773,-0.5569816,-0.60206,-0.5953266,-0.54491717,-0.637388,-0.5331787,-0.61584824,-0.5757311,-0.637388,-0.65236515,-0.58869606,-0.5953266,-0.637388,-0.60206,-0.5331787,-0.60206,-0.66005194,-0.61584824,-0.66005194,-0.5509075,-0.6300887,-0.7006698,-0.66005194,-0.7006698,-0.6758462,-0.62291014,-0.5509075,-0.48916188,-0.66005194,-0.644812,-0.61584824,-0.5757311,-0.5509075,-0.5953266,-0.5821652,-0.6088994,-0.6088994,-0.6088994,-0.6758462,-0.58869606,-0.5821652,-0.5106129,-0.5509075,-0.6300887,-0.61584824,-0.53900826,-0.5953266,-0.62291014,-0.62291014,-0.61584824,-0.644812,-0.45884997,-0.73614216,-0.56314194,-0.5953266,-0.56314194,-0.5953266,-0.66005194,-0.66005194,-0.5106129,-0.76478726,-0.65236515,-0.7006698,-0.6088994,-0.61584824,-0.58869606,-0.53900826,-0.62291014,-0.6758462,-0.52174926,-0.56314194,-0.5693909,-0.54491717,-0.62291014,-0.5569816,-0.60206,-0.56314194,-0.54491717,-0.5106129,-0.58869606,-0.6300887,-0.6300887,-0.54491717,-0.6300887,-0.5757311,-0.65236515,-0.6088994,-0.5274264,-0.6678773,-0.5106129,-0.60206,-0.6758462,-0.6678773,-0.5821652,-0.56314194,-0.644812,-0.637388,-0.637388,-0.5331787,-0.62291014,-0.72699875,-0.4737415,-0.60206,-0.48916188,-0.637388,-0.66005194,-0.61584824,-0.644812,-0.5757311,-0.5693909,-0.6678773,-0.6300887,-0.56314194,-0.6300887,-0.61584824,-0.7006698,-0.5569816,-0.66005194,-0.5509075,-0.66005194,-0.6300887,-0.56314194,-0.5953266,-0.6088994,-0.5693909,-0.61584824,-0.5757311,-0.5274264,-0.5331787,-0.5509075,-0.6088994,-0.50514996,-0.5274264,-0.61584824,-0.66005194,-0.5693909,-0.58869606,-0.4737415,-0.60206,-0.5509075,-0.5821652,-0.62291014,-0.65236515,-0.5953266,-0.5821652,-0.5821652,-0.53900826,-0.60206,-0.56314194,-0.644812,-0.66005194,-0.6088994,-0.6300887,-0.66005194,-0.5693909,-0.6678773,-0.499755,-0.51614535,-0.56314194,-0.60206,-0.58869606,-0.6922366,-0.53900826,-0.644812,-0.58869606,-0.5693909,-0.6088994,-0.5821652,-0.56314194,-0.62291014,-0.58869606,-0.66005194,-0.65236515,-0.499755,-0.6300887,-0.6839641,-0.54491717,-0.6300887,-0.644812,-0.5757311,-0.5693909,-0.6922366,-0.66005194,-0.5953266,-0.58869606,-0.6678773,-0.6839641,-0.60206,-0.62291014,-0.76478726,-0.54491717,-0.6300887,-0.50514996,-0.6300887,-0.5821652,-0.58869606,-0.61584824,-0.5821652,-0.5757311,-0.58869606,-0.65236515,-0.66005194,-0.62291014,-0.637388,-0.644812,-0.58869606,-0.5693909,-0.66005194,-0.54491717,-0.499755,-0.6758462,-0.5953266,-0.5757311,-0.5693909,-0.52174926,-0.56314194,-0.5569816,-0.58869606,-0.5509075,-0.5331787,-0.62291014,-0.6088994,-0.5509075,-0.61584824,-0.65236515,-0.6300887,-0.56314194,-0.5509075,-0.56314194,-0.644812,-0.644812,-0.60206,-0.6922366,-0.644812,-0.66005194,-0.53900826,-0.58869606,-0.5953266,-0.60206,-0.60206,-0.6758462,-0.65236515,-0.5331787,-0.6088994,-0.62291014,-0.62291014,-0.637388,-0.6922366,-0.5821652,-0.62291014,-0.5757311,-0.62291014,-0.637388,-0.5274264,-0.54491717,-0.66005194,-0.60206,-0.6088994,-0.60206,-0.6300887,-0.5953266,-0.66005194,-0.6088994,-0.60206,-0.5821652,-0.5757311,-0.62291014,-0.73614216,-0.644812,-0.5757311,-0.61584824,-0.60206,-0.5821652,-0.5821652,-0.5569816,-0.62291014,-0.7006698,-0.5757311,-0.6300887,-0.5569816,-0.6839641,-0.6088994,-0.54491717,-0.52174926,-0.7849907,-0.58869606,-0.58869606,-0.5693909,-0.65236515,-0.5693909,-0.6088994,-0.6839641,-0.5693909,-0.50514996,-0.50514996,-0.637388,-0.637388,-0.5331787,-0.58869606,-0.637388,-0.58869606,-0.70926994,-0.6088994,-0.5757311,-0.60206,-0.65236515,-0.66005194,-0.61584824,-0.58869606,-0.5821652,-0.48396072,-0.5757311,-0.62291014,-0.56314194,-0.644812,-0.5509075,-0.48916188,-0.6922366,-0.60206,-0.5569816,-0.6922366,-0.61584824,-0.644812,-0.61584824,-0.6678773,-0.6839641,-0.66005194,-0.5693909,-0.6300887,-0.56314194,-0.62291014,-0.6678773,-0.61584824,-0.61584824,-0.5693909,-0.5569816,-0.66005194,-0.54491717,-0.65236515,-0.5757311,-0.52174926,-0.61584824,-0.60206,-0.644812,-0.62291014,-0.5757311,-0.6839641,-0.6839641,-0.5569816,-0.6758462,-0.5953266,-0.6300887,-0.644812,-0.5821652,-0.5757311,-0.5509075,-0.644812,-0.6678773,-0.637388,-0.5509075,-0.6088994,-0.52174926,-0.5509075,-0.6922366,-0.5821652,-0.5569816,-0.6839641,-0.60206,-0.65236515,-0.499755,-0.60206,-0.5509075,-0.70926994,-0.58869606,-0.58869606,-0.58869606,-0.6088994,-0.6678773,-0.6088994,-0.637388,-0.5693909,-0.56314194,-0.53900826,-0.5509075,-0.6839641,-0.5953266,-0.50514996,-0.5953266,-0.5821652,-0.5821652,-0.5509075,-0.66005194,-0.5693909,-0.6922366,-0.65236515,-0.5821652,-0.5953266,-0.5821652,-0.7180439,-0.62291014,-0.6839641,-0.73614216,-0.644812,-0.5569816,-0.62291014,-0.5693909,-0.5693909,-0.5509075,-0.66005194,-0.6088994,-0.66005194,-0.6678773,-0.5821652,-0.644812,-0.5509075,-0.61584824,-0.5757311,-0.54491717,-0.5693909,-0.51614535,-0.65236515,-0.58869606,-0.5821652,-0.5509075,-0.49442616,-0.56314194,-0.60206,-0.60206,-0.6300887,-0.58869606,-0.62291014,-0.5569816,-0.6088994,-0.6839641,-0.5509075,-0.644812,-0.53900826,-0.6088994,-0.6088994,-0.61584824,-0.61584824,-0.60206,-0.6088994,-0.5757311,-0.62291014,-0.6839641,-0.65236515,-0.6088994,-0.6922366,-0.60206,-0.65236515,-0.54491717,-0.644812,-0.56314194,-0.644812,-0.61584824,-0.48916188,-0.52174926,-0.5569816,-0.65236515,-0.53900826,-0.65236515,-0.53900826,-0.5953266,-0.5757311,-0.61584824,-0.5953266,-0.62291014,-0.56314194,-0.6088994,-0.5693909,-0.6300887,-0.60206,-0.60206,-0.5757311,-0.5757311,-0.62291014,-0.53900826,-0.5569816,-0.6088994,-0.65236515,-0.61584824,-0.52174926,-0.5757311,-0.60206,-0.54491717,-0.637388,-0.6300887,-0.58869606,-0.60206,-0.66005194,-0.66005194,-0.6088994,-0.66005194,-0.65236515,-0.5757311,-0.62291014,-0.7006698,-0.65236515,-0.5693909,-0.644812,-0.73614216,-0.66005194,-0.7006698,-0.62291014,-0.637388,-0.6088994,-0.6300887,-0.6758462,-0.61584824,-0.7006698,-0.66005194,-0.73614216,-0.7180439,-0.62291014,-0.637388,-0.61584824,-0.66005194,-0.6088994,-0.5953266,-0.5331787,-0.7006698,-0.5693909,-0.5953266,-0.5331787,-0.5953266,-0.6300887,-0.66005194,-0.61584824,-0.5274264,-0.66005194,-0.5693909,-0.6088994,-0.58869606,-0.46872076,-0.5509075,-0.56314194,-0.5953266,-0.5821652,-0.65236515,-0.644812,-0.61584824,-0.52174926,-0.6922366,-0.637388,-0.5331787,-0.58869606,-0.65236515,-0.7006698,-0.644812,-0.6678773,-0.6300887,-0.6088994,-0.52174926,-0.46872076,-0.62291014,-0.5693909,-0.6088994,-0.60206,-0.6300887,-0.5106129,-0.5821652,-0.5331787,-0.72699875,-0.499755,-0.5953266,-0.7180439,-0.49442616,-0.61584824,-0.52174926,-0.6300887,-0.61584824,-0.65236515,-0.637388,-0.5569816,-0.644812,-0.60206,-0.5821652,-0.5569816,-0.54491717,-0.5821652,-0.6678773,-0.54491717,-0.5693909,-0.66005194,-0.5821652,-0.61584824,-0.65236515,-0.60206,-0.6758462,-0.72699875,-0.5331787,-0.62291014,-0.5757311,-0.6088994,-0.58869606,-0.56314194,-0.644812,-0.72699875,-0.62291014,-0.5569816,-0.6758462,-0.48916188,-0.5953266,-0.58869606,-0.5757311,-0.6839641,-0.6300887,-0.5953266,-0.5509075,-0.60206,-0.6922366,-0.6300887,-0.5953266,-0.5569816,-0.5331787,-0.5331787,-0.5757311,-0.6758462,-0.5693909,-0.58869606,-0.60206,-0.5821652,-0.5953266,-0.60206,-0.53900826,-0.5821652,-0.637388,-0.60206,-0.5693909,-0.56314194,-0.5953266,-0.58869606,-0.61584824,-0.58869606,-0.62291014,-0.60206,-0.644812,-0.5693909,-0.6300887,-0.5569816,-0.66005194,-0.5821652,-0.6088994,-0.5106129,-0.6088994,-0.6839641,-0.5757311,-0.53900826,-0.61584824,-0.5953266,-0.58869606,-0.644812,-0.7180439,-0.56314194,-0.51614535,-0.56314194,-0.6839641,-0.66005194,-0.5757311,-0.5757311,-0.6839641,-0.5953266,-0.6678773,-0.6300887,-0.5821652,-0.6678773,-0.5821652,-0.6300887,-0.70926994,-0.6300887,-0.5953266,-0.60206,-0.5953266,-0.6088994,-0.6922366,-0.5106129,-0.73614216,-0.62291014,-0.60206,-0.5274264,-0.54491717,-0.5953266,-0.5757311,-0.53900826,-0.5274264,-0.58869606,-0.5569816,-0.6678773,-0.60206,-0.5821652,-0.5953266,-0.65236515,-0.65236515,-0.62291014,-0.74548215,-0.5953266,-0.62291014,-0.61584824,-0.5821652,-0.637388,-0.61584824,-0.6758462,-0.66005194,-0.6300887,-0.5953266,-0.637388,-0.5693909,-0.60206,-0.44445214,-0.5509075,-0.5693909,-0.53900826,-0.52174926,-0.5821652,-0.5693909,-0.65236515,-0.6839641,-0.637388,-0.70926994,-0.65236515,-0.53900826,-0.644812,-0.73614216,-0.58869606,-0.50514996,-0.637388,-0.66005194,-0.6839641,-0.65236515,-0.5953266,-0.5509075,-0.5331787,-0.73614216,-0.49442616,-0.58869606,-0.58869606,-0.7747715,-0.6300887,-0.5953266,-0.65236515,-0.54491717,-0.6088994,-0.6300887,-0.6839641,-0.5106129,-0.6088994,-0.66005194,-0.46872076,-0.61584824,-0.58869606,-0.5693909,-0.66005194,-0.5331787,-0.5821652,-0.6300887,-0.52174926,-0.60206,-0.5569816,-0.58869606,-0.5569816,-0.4737415,-0.637388,-0.6758462,-0.5509075,-0.6839641,-0.6300887,-0.6839641,-0.58869606,-0.6088994,-0.5821652,-0.5821652,-0.50514996,-0.637388,-0.58869606,-0.65236515,-0.644812,-0.5757311,-0.53900826,-0.58869606,-0.5509075,-0.6839641,-0.5821652,-0.50514996,-0.5274264,-0.51614535,-0.5331787,-0.62291014,-0.637388,-0.644812,-0.7006698,-0.6088994,-0.5953266,-0.65236515,-0.5757311,-0.5569816,-0.6758462,-0.62291014,-0.61584824,-0.5821652,-0.5953266,-0.5693909,-0.65236515,-0.60206,-0.56314194,-0.5953266,-0.5331787,-0.644812,-0.6300887,-0.6300887,-0.6300887,-0.56314194,-0.61584824,-0.5106129,-0.61584824,-0.5693909,-0.62291014,-0.65236515,-0.5569816,-0.5569816,-0.5693909,-0.637388,-0.5509075,-0.60206,-0.5953266,-0.61584824,-0.5693909,-0.5757311,-0.52174926,-0.5569816,-0.6678773,-0.5693909,-0.6678773,-0.48396072,-0.48916188,-0.5757311,-0.7180439,-0.5757311,-0.637388,-0.5757311,-0.65236515,-0.5693909,-0.7006698,-0.60206,-0.6678773,-0.6300887,-0.5331787,-0.5693909,-0.60206,-0.58869606,-0.5821652,-0.6839641,-0.5274264,-0.637388,-0.56314194,-0.5821652,-0.5821652,-0.54491717,-0.6300887,-0.6088994,-0.53900826,-0.66005194,-0.60206,-0.6758462,-0.5953266,-0.48916188,-0.6839641,-0.6678773,-0.5569816,-0.6088994,-0.6678773,-0.5274264,-0.6758462,-0.5569816,-0.65236515,-0.6300887,-0.70926994,-0.5757311,-0.5953266,-0.5274264,-0.5693909,-0.5757311,-0.66005194,-0.644812,-0.60206,-0.5821652,-0.53900826,-0.637388,-0.56314194,-0.62291014,-0.60206,-0.637388,-0.74548215,-0.56314194,-0.5821652,-0.60206,-0.5953266,-0.49442616,-0.5509075,-0.70926994,-0.6088994,-0.54491717,-0.62291014,-0.62291014,-0.51614535,-0.637388,-0.7006698,-0.5953266,-0.65236515,-0.5509075,-0.6088994,-0.5569816,-0.66005194,-0.62291014,-0.637388,-0.66005194,-0.5569816,-0.6922366,-0.644812,-0.5953266,-0.48396072,-0.6300887,-0.53900826,-0.5821652,-0.54491717,-0.5757311,-0.5509075,-0.6758462,-0.6678773,-0.54491717,-0.5757311,-0.637388,-0.61584824,-0.61584824,-0.644812,-0.7550275,-0.53900826,-0.52174926,-0.61584824,-0.62291014,-0.61584824,-0.644812,-0.5693909,-0.7180439,-0.58869606,-0.5509075,-0.5953266,-0.637388,-0.58869606,-0.61584824,-0.6839641,-0.54491717,-0.6088994,-0.637388,-0.58869606,-0.6678773,-0.6678773,-0.62291014,-0.54491717,-0.48916188,-0.7180439,-0.48916188,-0.53900826,-0.5106129,-0.65236515,-0.644812,-0.58869606,-0.5509075,-0.5757311,-0.6758462,-0.54491717,-0.60206,-0.6678773,-0.53900826,-0.61584824,-0.62291014,-0.5953266,-0.6922366,-0.6300887,-0.6088994,-0.6839641,-0.58869606,-0.7180439,-0.5953266,-0.5569816,-0.5953266,-0.56314194,-0.644812,-0.7180439,-0.5693909,-0.5757311,-0.72699875,-0.6678773,-0.62291014,-0.7006698,-0.73614216,-0.45399743,-0.6758462,-0.5953266,-0.644812,-0.6922366,-0.5821652,-0.5757311,-0.644812,-0.62291014,-0.644812,-0.61584824,-0.56314194,-0.52174926,-0.56314194,-0.7006698,-0.5821652,-0.56314194,-0.65236515,-0.70926994,-0.53900826,-0.51614535,-0.7006698,-0.53900826,-0.5953266,-0.5274264,-0.62291014,-0.5953266,-0.60206,-0.5821652,-0.6678773,-0.70926994,-0.644812,-0.62291014,-0.6300887,-0.6839641,-0.5953266,-0.644812,-0.58869606,-0.5569816,-0.5509075,-0.61584824,-0.62291014,-0.5106129,-0.6300887,-0.73614216,-0.637388,-0.54491717,-0.637388,-0.5274264,-0.5274264,-0.50514996,-0.5693909,-0.7180439,-0.54491717,-0.5757311,-0.53900826,-0.58869606,-0.5953266,-0.5693909,-0.6300887,-0.52174926,-0.5821652,-0.644812,-0.54491717,-0.61584824,-0.65236515,-0.6922366,-0.5693909,-0.5953266,-0.5821652,-0.60206,-0.61584824,-0.61584824,-0.66005194,-0.5953266,-0.7006698,-0.61584824,-0.61584824,-0.7180439,-0.5331787,-0.5953266,-0.5274264,-0.61584824,-0.62291014,-0.62291014,-0.60206,-0.6300887,-0.644812,-0.5757311,-0.6088994,-0.53900826,-0.54491717,-0.65236515,-0.53900826,-0.6300887,-0.61584824,-0.5821652,-0.61584824,-0.5757311,-0.58869606,-0.58869606,-0.6758462,-0.5757311,-0.62291014,-0.56314194,-0.5569816,-0.62291014,-0.5693909,-0.6678773,-0.7550275,-0.5693909,-0.61584824,-0.5331787,-0.6300887,-0.58869606,-0.54491717,-0.6300887,-0.65236515,-0.5953266,-0.6088994,-0.70926994,-0.65236515,-0.53900826,-0.6300887,-0.58869606,-0.61584824,-0.56314194,-0.6839641,-0.5821652,-0.6088994,-0.5569816,-0.5953266,-0.61584824,-0.62291014,-0.54491717,-0.5509075,-0.72699875,-0.58869606,-0.6088994,-0.5821652,-0.54491717,-0.6088994,-0.5274264,-0.6300887,-0.6088994,-0.5569816,-0.6839641,-0.6300887,-0.6088994,-0.5331787,-0.499755,-0.5953266,-0.62291014,-0.6758462,-0.54491717,-0.5821652,-0.61584824,-0.61584824,-0.54491717,-0.56314194,-0.5757311,-0.5509075,-0.61584824,-0.6088994,-0.5757311,-0.60206,-0.5953266,-0.58869606,-0.65236515,-0.61584824,-0.637388,-0.6758462,-0.6678773,-0.5274264,-0.62291014,-0.58869606,-0.637388,-0.5569816,-0.60206,-0.60206,-0.62291014,-0.637388,-0.5331787,-0.6922366,-0.53900826,-0.56314194,-0.637388,-0.5331787,-0.61584824,-0.5757311,-0.65236515,-0.56314194,-0.6088994,-0.5331787,-0.644812,-0.5821652,-0.60206,-0.66005194,-0.53900826,-0.5569816,-0.50514996,-0.58869606,-0.62291014,-0.5509075,-0.60206,-0.53900826,-0.52174926,-0.61584824,-0.53900826,-0.6678773,-0.56314194,-0.5569816,-0.499755,-0.5757311,-0.5331787,-0.5953266,-0.5331787,-0.76478726,-0.66005194,-0.60206,-0.5821652,-0.56314194,-0.5693909,-0.5821652,-0.6678773,-0.5274264,-0.5757311,-0.5274264,-0.5757311,-0.499755,-0.51614535,-0.5569816,-0.61584824,-0.5331787,-0.6300887,-0.58869606,-0.6088994,-0.7006698,-0.48396072,-0.60206,-0.637388,-0.58869606,-0.56314194,-0.5821652,-0.6758462,-0.5569816,-0.5331787,-0.5569816,-0.6922366,-0.5274264,-0.65236515,-0.65236515,-0.5821652,-0.6300887,-0.5569816,-0.5953266,-0.6300887,-0.61584824,-0.56314194,-0.65236515,-0.61584824,-0.5274264,-0.6300887,-0.56314194,-0.60206,-0.58869606,-0.644812,-0.56314194,-0.61584824,-0.62291014,-0.56314194,-0.5509075,-0.644812,-0.637388,-0.6300887,-0.6300887,-0.6839641,-0.66005194,-0.5953266,-0.66005194,-0.6678773,-0.58869606,-0.644812,-0.5509075,-0.50514996,-0.5274264,-0.5953266,-0.61584824,-0.45399743,-0.65236515,-0.58869606,-0.62291014,-0.60206,-0.56314194,-0.5569816,-0.6300887,-0.65236515,-0.6678773,-0.5757311,-0.51614535,-0.6088994,-0.5953266,-0.62291014,-0.5509075,-0.5757311,-0.56314194,-0.5331787,-0.5953266,-0.65236515,-0.637388,-0.53900826,-0.5509075,-0.5331787,-0.6758462,-0.6839641,-0.6839641,-0.58869606,-0.637388,-0.62291014,-0.54491717,-0.60206,-0.46872076,-0.47882104,-0.50514996,-0.62291014,-0.6088994,-0.49442616,-0.58869606,-0.62291014,-0.52174926,-0.637388,-0.6678773,-0.5509075,-0.6678773,-0.6922366,-0.60206,-0.5821652,-0.61584824,-0.5757311,-0.62291014,-0.5693909,-0.58869606,-0.5569816,-0.51614535,-0.5331787,-0.637388,-0.5693909,-0.6088994,-0.51614535,-0.6300887,-0.66005194,-0.5821652,-0.61584824,-0.56314194,-0.644812,-0.499755,-0.6839641,-0.5953266,-0.70926994,-0.58869606,-0.5106129,-0.5821652,-0.644812,-0.644812,-0.7006698,-0.5953266,-0.5757311,-0.5331787,-0.5953266,-0.6300887,-0.54491717,-0.5569816,-0.5757311,-0.58869606,-0.6678773,-0.5821652,-0.4737415,-0.5331787,-0.5953266,-0.6839641,-0.644812,-0.58869606,-0.644812,-0.6678773,-0.56314194,-0.54491717,-0.62291014,-0.644812,-0.5331787,-0.6088994,-0.58869606,-0.5509075,-0.51614535,-0.6300887,-0.53900826,-0.6088994,-0.644812,-0.61584824,-0.5509075,-0.54491717,-0.49442616,-0.5757311,-0.5693909,-0.637388,-0.6678773,-0.637388,-0.58869606,-0.52174926,-0.62291014,-0.52174926,-0.6839641,-0.6300887,-0.6088994,-0.637388,-0.6088994,-0.5757311,-0.60206,-0.5821652,-0.5821652,-0.6758462,-0.66005194,-0.644812,-0.47882104,-0.6758462,-0.5693909,-0.66005194,-0.5757311,-0.61584824,-0.54491717,-0.60206,-0.6088994,-0.6300887,-0.5106129,-0.5953266,-0.644812,-0.7006698,-0.6678773,-0.56314194,-0.6758462,-0.5953266,-0.5331787,-0.62291014,-0.644812,-0.6922366,-0.58869606,-0.6088994,-0.60206,-0.5757311,-0.62291014,-0.53900826,-0.5569816,-0.5757311,-0.6300887,-0.5757311,-0.58869606,-0.5274264,-0.5821652,-0.62291014,-0.6300887,-0.5953266,-0.6300887,-0.5821652,-0.6922366,-0.62291014,-0.5693909,-0.65236515,-0.58869606,-0.61584824,-0.6839641,-0.6088994,-0.61584824,-0.5331787,-0.60206,-0.70926994,-0.61584824,-0.5821652,-0.61584824,-0.637388,-0.499755,-0.6088994,-0.56314194,-0.5953266,-0.6300887,-0.61584824,-0.66005194,-0.5509075,-0.637388,-0.62291014,-0.6678773,-0.6839641,-0.65236515,-0.65236515,-0.54491717,-0.5821652,-0.56314194,-0.62291014,-0.53900826,-0.6678773,-0.5821652,-0.54491717,-0.60206,-0.7849907,-0.6088994,-0.72699875,-0.5693909,-0.6922366,-0.637388,-0.7006698,-0.6839641,-0.6678773,-0.6922366,-0.6922366,-0.73614216,-0.5509075,-0.54491717,-0.54491717,-0.6758462,-0.5106129,-0.70926994,-0.5821652,-0.56314194,-0.6678773,-0.6300887,-0.56314194,-0.6300887,-0.61584824,-0.56314194,-0.6678773,-0.62291014,-0.644812,-0.637388,-0.62291014,-0.5953266,-0.65236515,-0.52174926,-0.61584824,-0.5821652,-0.62291014,-0.5331787,-0.60206,-0.76478726,-0.72699875,-0.5693909,-0.7180439,-0.61584824,-0.6088994,-0.6088994,-0.5821652,-0.5953266,-0.6300887,-0.52174926,-0.637388,-0.6088994,-0.72699875,-0.51614535,-0.6300887,-0.58869606,-0.6088994,-0.56314194,-0.5821652,-0.58869606,-0.644812,-0.6088994,-0.58869606,-0.48396072,-0.56314194,-0.65236515,-0.637388,-0.5331787,-0.7550275,-0.54491717,-0.637388,-0.6678773,-0.6678773,-0.52174926,-0.6088994,-0.6678773,-0.6839641,-0.61584824,-0.5106129,-0.5569816,-0.5757311,-0.62291014,-0.5821652,-0.52174926,-0.5331787,-0.5509075,-0.7006698,-0.6839641,-0.5953266,-0.6839641,-0.6088994,-0.5757311,-0.48396072,-0.66005194,-0.53900826,-0.62291014,-0.5757311,-0.5953266,-0.6839641,-0.6678773,-0.60206,-0.70926994,-0.644812,-0.5953266,-0.5569816,-0.52174926,-0.6758462,-0.6839641,-0.6758462,-0.65236515,-0.61584824,-0.5693909,-0.6678773,-0.637388,-0.637388,-0.5693909,-0.61584824,-0.61584824,-0.5953266,-0.66005194,-0.5757311,-0.5953266,-0.5693909,-0.62291014,-0.6758462,-0.6758462,-0.6088994,-0.5106129,-0.66005194,-0.56314194,-0.6300887,-0.5757311,-0.61584824,-0.5274264,-0.58869606,-0.637388,-0.56314194,-0.62291014,-0.60206,-0.6922366,-0.65236515,-0.5569816,-0.56314194,-0.5331787,-0.5693909,-0.66005194,-0.6300887,-0.5274264,-0.5693909,-0.6088994,-0.54491717,-0.7006698,-0.61584824,-0.6300887,-0.72699875,-0.5757311,-0.7180439,-0.66005194,-0.644812,-0.5821652,-0.5693909,-0.5821652,-0.6678773,-0.48916188,-0.5821652,-0.5953266,-0.70926994,-0.53900826,-0.61584824,-0.7180439,-0.637388,-0.644812,-0.644812,-0.5569816,-0.6758462,-0.6300887,-0.5693909,-0.56314194,-0.5757311,-0.5331787,-0.56314194,-0.51614535,-0.6839641,-0.6088994,-0.70926994,-0.6088994,-0.5757311,-0.6300887,-0.70926994,-0.5953266,-0.5821652,-0.53900826,-0.62291014,-0.6678773,-0.62291014,-0.6922366,-0.637388,-0.644812,-0.6088994,-0.6678773,-0.61584824,-0.6678773,-0.5953266,-0.56314194,-0.6300887,-0.644812,-0.644812,-0.5569816,-0.65236515,-0.6678773,-0.6088994,-0.5569816,-0.5274264,-0.5953266,-0.56314194,-0.5274264,-0.637388,-0.62291014,-0.58869606,-0.51614535,-0.66005194,-0.5757311,-0.50514996,-0.6088994,-0.5757311,-0.6758462,-0.5757311,-0.637388,-0.6300887,-0.58869606,-0.61584824,-0.6088994,-0.5693909,-0.6758462,-0.6922366,-0.5693909,-0.66005194,-0.6758462,-0.61584824,-0.53900826,-0.74548215,-0.62291014,-0.58869606,-0.62291014,-0.51614535,-0.54491717,-0.6922366,-0.6088994,-0.7006698,-0.65236515,-0.6678773,-0.5757311,-0.5757311,-0.5693909,-0.644812,-0.61584824,-0.5693909,-0.6088994,-0.5274264,-0.5509075,-0.60206,-0.6678773,-0.56314194,-0.53900826,-0.52174926,-0.5693909,-0.5693909,-0.5569816,-0.637388,-0.65236515,-0.5757311,-0.52174926,-0.51614535,-0.6088994,-0.5757311,-0.5106129,-0.5821652,-0.5757311,-0.637388,-0.5757311,-0.52174926,-0.60206,-0.50514996,-0.61584824,-0.62291014,-0.66005194,-0.644812,-0.6758462,-0.56314194,-0.5757311,-0.61584824,-0.58869606,-0.65236515,-0.5953266,-0.53900826,-0.637388,-0.65236515,-0.72699875,-0.5757311,-0.5509075,-0.6088994,-0.61584824,-0.66005194,-0.637388,-0.637388,-0.58869606,-0.5693909,-0.5693909,-0.7006698,-0.6839641,-0.61584824,-0.637388,-0.5509075,-0.58869606,-0.72699875,-0.644812,-0.5509075,-0.5757311,-0.5569816,-0.637388,-0.5693909,-0.60206,-0.48916188,-0.5693909,-0.6678773,-0.6758462,-0.6088994,-0.5569816,-0.637388,-0.48916188,-0.5953266,-0.5953266,-0.62291014,-0.5693909,-0.5821652,-0.60206,-0.60206,-0.60206,-0.54491717,-0.60206,-0.6839641,-0.5757311,-0.637388,-0.7006698,-0.6088994,-0.60206,-0.54491717,-0.62291014,-0.56314194,-0.5821652,-0.58869606,-0.7006698,-0.6300887,-0.5693909,-0.61584824,-0.5953266,-0.54491717,-0.6088994,-0.5953266,-0.6300887,-0.60206,-0.6300887,-0.5106129,-0.56314194,-0.80618,-0.5274264,-0.49442616,-0.5693909,-0.6758462,-0.62291014,-0.6758462,-0.5693909,-0.6300887,-0.66005194,-0.644812,-0.6300887,-0.6839641,-0.644812,-0.52174926,-0.6758462,-0.62291014,-0.62291014,-0.7006698,-0.5821652,-0.50514996,-0.5509075,-0.5693909,-0.5274264,-0.66005194,-0.62291014,-0.5757311,-0.5331787,-0.61584824,-0.60206,-0.5953266,-0.60206,-0.644812,-0.5509075,-0.7006698,-0.61584824,-0.5757311,-0.6300887,-0.61584824,-0.6088994,-0.61584824,-0.5569816,-0.65236515,-0.60206,-0.6088994,-0.7180439,-0.61584824,-0.5274264,-0.56314194,-0.51614535,-0.6088994,-0.5953266,-0.5569816,-0.5693909,-0.58869606,-0.5569816,-0.58869606,-0.62291014,-0.6678773,-0.61584824,-0.5274264,-0.72699875,-0.65236515,-0.5757311,-0.66005194,-0.5509075,-0.5821652,-0.499755,-0.58869606,-0.644812,-0.637388,-0.5693909,-0.60206,-0.62291014,-0.60206,-0.60206,-0.7747715,-0.58869606,-0.5821652,-0.66005194,-0.62291014,-0.644812,-0.52174926,-0.5509075,-0.644812,-0.6300887,-0.58869606,-0.6758462,-0.637388,-0.5274264,-0.58869606,-0.66005194,-0.5331787,-0.62291014,-0.5757311,-0.644812,-0.56314194,-0.65236515,-0.56314194,-0.637388,-0.65236515,-0.58869606,-0.5821652,-0.5757311,-0.5821652,-0.54491717,-0.5509075,-0.5693909,-0.5569816,-0.6088994,-0.5693909,-0.65236515,-0.60206,-0.62291014,-0.637388,-0.5821652,-0.54491717,-0.56314194,-0.637388,-0.62291014,-0.60206,-0.65236515,-0.7550275,-0.637388,-0.61584824,-0.7180439,-0.499755,-0.61584824,-0.5821652,-0.637388,-0.60206,-0.5821652,-0.5757311,-0.6678773,-0.54491717,-0.65236515,-0.5569816,-0.61584824,-0.6922366,-0.5106129,-0.6088994,-0.6300887,-0.58869606,-0.5757311,-0.56314194,-0.53900826,-0.61584824,-0.5693909,-0.6758462,-0.65236515,-0.6678773,-0.6758462,-0.56314194,-0.644812,-0.60206,-0.5693909,-0.5953266,-0.6088994,-0.6088994,-0.6678773,-0.5953266,-0.6088994,-0.5757311,-0.6088994,-0.6758462,-0.5569816,-0.56314194,-0.53900826,-0.60206,-0.74548215,-0.5953266,-0.5821652,-0.5569816,-0.5693909,-0.65236515,-0.65236515,-0.54491717,-0.6300887,-0.54491717,-0.637388,-0.6839641,-0.637388,-0.6088994,-0.5693909,-0.74548215,-0.5331787,-0.5953266,-0.5509075,-0.5953266,-0.5509075,-0.5509075,-0.6088994,-0.61584824,-0.62291014,-0.61584824,-0.60206,-0.6088994,-0.5569816,-0.62291014,-0.70926994,-0.6922366,-0.50514996,-0.74548215,-0.53900826,-0.644812,-0.46375728,-0.70926994,-0.5509075,-0.5693909,-0.6758462,-0.644812,-0.5509075,-0.5953266,-0.5509075,-0.5953266,-0.5331787,-0.637388,-0.6922366,-0.5693909,-0.54491717,-0.5821652,-0.5693909,-0.65236515,-0.52174926,-0.60206,-0.5953266,-0.6088994,-0.6088994,-0.5693909,-0.52174926,-0.5693909,-0.5821652,-0.6922366,-0.53900826,-0.6839641,-0.6678773,-0.5757311,-0.5953266,-0.60206,-0.65236515,-0.5569816,-0.637388,-0.6088994,-0.5953266,-0.5693909,-0.66005194,-0.6088994,-0.62291014,-0.5569816,-0.54491717,-0.58869606,-0.65236515,-0.5757311,-0.5693909,-0.5509075,-0.5106129,-0.66005194,-0.6300887,-0.6758462,-0.5757311,-0.73614216,-0.58869606,-0.70926994,-0.637388,-0.53900826,-0.76478726,-0.5953266,-0.65236515,-0.6758462,-0.56314194,-0.5274264,-0.56314194,-0.5953266,-0.5953266,-0.644812,-0.53900826,-0.5331787,-0.5509075,-0.54491717,-0.637388,-0.6300887,-0.6678773,-0.5953266,-0.5953266,-0.62291014,-0.5821652,-0.6839641,-0.51614535,-0.6758462,-0.5821652,-0.637388,-0.644812,-0.6678773,-0.5106129,-0.5569816,-0.499755,-0.5274264,-0.6678773,-0.6758462,-0.52174926,-0.48916188,-0.5821652,-0.61584824,-0.72699875,-0.58869606,-0.65236515,-0.6300887,-0.6758462,-0.5953266,-0.6839641,-0.6088994,-0.5821652,-0.6839641,-0.6678773,-0.56314194,-0.637388,-0.5953266,-0.6088994,-0.53900826,-0.61584824,-0.60206,-0.70926994,-0.60206,-0.5693909,-0.5509075,-0.65236515,-0.61584824,-0.7180439,-0.6678773,-0.7180439,-0.65236515,-0.58869606,-0.5509075,-0.62291014,-0.61584824,-0.66005194,-0.5953266,-0.5693909,-0.5821652,-0.6088994,-0.66005194,-0.5693909,-0.70926994,-0.56314194,-0.637388,-0.6088994,-0.5693909,-0.7006698,-0.53900826,-0.5757311,-0.5953266,-0.637388,-0.5821652,-0.60206,-0.62291014,-0.60206,-0.56314194,-0.65236515,-0.6088994,-0.6088994,-0.5821652,-0.5693909,-0.637388,-0.53900826,-0.5757311,-0.62291014,-0.6088994,-0.5693909,-0.62291014,-0.5569816,-0.66005194,-0.56314194,-0.5509075,-0.54491717,-0.51614535,-0.62291014,-0.65236515,-0.58869606,-0.5757311,-0.47882104,-0.56314194,-0.6758462,-0.50514996,-0.6678773,-0.6300887,-0.61584824,-0.644812,-0.6678773,-0.62291014,-0.56314194,-0.5821652,-0.5953266,-0.54491717,-0.53900826,-0.6300887,-0.6678773,-0.5331787,-0.6300887,-0.5106129,-0.5569816,-0.6088994,-0.5953266,-0.56314194,-0.58869606,-0.6922366,-0.60206,-0.66005194,-0.6758462,-0.54491717,-0.51614535,-0.65236515,-0.53900826,-0.5693909,-0.6300887,-0.5569816,-0.644812,-0.60206,-0.65236515,-0.5509075,-0.73614216,-0.5757311,-0.637388,-0.6678773,-0.5821652,-0.5757311,-0.48916188,-0.65236515,-0.5569816,-0.61584824,-0.6678773,-0.5953266,-0.5821652,-0.5821652,-0.58869606,-0.6678773,-0.5693909,-0.5757311,-0.51614535,-0.52174926,-0.644812,-0.65236515,-0.45884997,-0.6678773,-0.644812,-0.5757311,-0.65236515,-0.6300887,-0.7006698,-0.5331787,-0.637388,-0.58869606,-0.6839641,-0.644812,-0.53900826,-0.644812,-0.7180439,-0.644812,-0.6839641,-0.5757311,-0.6922366,-0.66005194,-0.61584824,-0.62291014,-0.637388,-0.65236515,-0.7006698,-0.61584824,-0.7180439,-0.6088994,-0.6088994,-0.6300887,-0.6758462,-0.56314194,-0.47882104,-0.6678773,-0.61584824,-0.60206,-0.65236515,-0.52174926,-0.7006698,-0.5106129,-0.644812,-0.45884997,-0.66005194,-0.60206,-0.7006698,-0.60206,-0.6088994,-0.644812,-0.60206,-0.58869606,-0.6678773,-0.6088994,-0.61584824,-0.58869606,-0.6758462,-0.61584824,-0.62291014,-0.6088994,-0.5569816,-0.50514996,-0.5821652,-0.65236515,-0.5953266,-0.54491717,-0.58869606,-0.6088994,-0.6922366,-0.54491717,-0.6300887,-0.7006698,-0.60206,-0.5106129,-0.58869606,-0.58869606,-0.58869606,-0.5693909,-0.5953266,-0.6839641,-0.637388,-0.6088994,-0.66005194,-0.61584824,-0.6088994,-0.54491717,-0.6300887,-0.644812,-0.54491717,-0.6758462,-0.60206,-0.58869606,-0.54491717,-0.58869606,-0.5331787,-0.52174926,-0.52174926,-0.5821652,-0.637388,-0.5693909,-0.5693909,-0.6300887,-0.60206,-0.5757311,-0.5821652,-0.61584824,-0.56314194,-0.5953266,-0.58869606,-0.58869606,-0.6088994,-0.644812,-0.6300887,-0.52174926,-0.56314194,-0.60206,-0.5274264,-0.6300887,-0.54491717,-0.5757311,-0.58869606,-0.5757311,-0.62291014,-0.5953266,-0.51614535,-0.52174926,-0.6758462,-0.637388,-0.6300887,-0.6300887,-0.5106129,-0.5693909,-0.58869606,-0.5693909,-0.5953266,-0.6678773,-0.5509075,-0.5953266,-0.60206,-0.6088994,-0.61584824,-0.6758462,-0.5953266,-0.6922366,-0.56314194,-0.54491717,-0.49442616,-0.54491717,-0.644812,-0.6300887,-0.5331787,-0.6922366,-0.637388,-0.56314194,-0.5331787,-0.58869606,-0.56314194,-0.6839641,-0.5757311,-0.6088994,-0.54491717,-0.60206,-0.49442616,-0.62291014,-0.62291014,-0.5821652,-0.56314194,-0.644812,-0.5331787,-0.7180439,-0.6300887,-0.60206,-0.60206,-0.644812,-0.6922366,-0.5331787,-0.5509075,-0.58869606,-0.5274264,-0.52174926,-0.56314194,-0.65236515,-0.5331787,-0.56314194,-0.61584824,-0.53900826,-0.66005194,-0.58869606,-0.56314194,-0.5821652,-0.51614535,-0.54491717,-0.5569816,-0.53900826,-0.6678773,-0.6300887,-0.5953266,-0.5274264,-0.58869606,-0.54491717,-0.5106129,-0.56314194,-0.644812,-0.62291014,-0.62291014,-0.5821652,-0.53900826,-0.74548215,-0.6088994,-0.61584824,-0.5821652,-0.58869606,-0.7180439,-0.60206,-0.61584824,-0.6300887,-0.5106129,-0.50514996,-0.7006698,-0.5331787,-0.6300887,-0.7180439,-0.5569816,-0.5757311,-0.5953266,-0.5693909,-0.56314194,-0.6300887,-0.65236515,-0.56314194,-0.5953266,-0.644812,-0.54491717,-0.54491717,-0.52174926,-0.61584824,-0.6088994,-0.61584824,-0.61584824,-0.6758462,-0.637388,-0.6758462,-0.6758462,-0.65236515,-0.62291014,-0.56314194,-0.644812,-0.60206,-0.644812,-0.6300887,-0.7180439,-0.499755,-0.5331787,-0.6300887,-0.66005194,-0.6678773,-0.6758462,-0.637388,-0.6088994,-0.5569816,-0.5693909,-0.5757311,-0.5953266,-0.6088994,-0.5569816,-0.6300887,-0.56314194,-0.6088994,-0.644812,-0.62291014,-0.5106129,-0.5757311,-0.61584824,-0.7180439,-0.6088994,-0.58869606,-0.73614216,-0.62291014,-0.644812,-0.61584824,-0.49442616,-0.637388,-0.5693909,-0.58869606,-0.65236515,-0.637388,-0.6088994,-0.5953266,-0.637388,-0.56314194,-0.6300887,-0.58869606,-0.60206,-0.5274264,-0.644812,-0.5953266,-0.5821652,-0.499755,-0.58869606,-0.60206,-0.60206,-0.56314194,-0.65236515,-0.62291014,-0.6088994,-0.5821652,-0.60206,-0.5757311,-0.6839641,-0.6300887,-0.5331787,-0.5569816,-0.66005194,-0.58869606,-0.62291014,-0.6088994,-0.56314194,-0.58869606,-0.7180439,-0.5693909,-0.65236515,-0.51614535,-0.58869606,-0.56314194,-0.637388,-0.54491717,-0.51614535,-0.62291014,-0.65236515,-0.61584824,-0.6088994,-0.5821652,-0.6300887,-0.5953266,-0.6300887,-0.58869606,-0.7006698,-0.60206,-0.65236515,-0.5693909,-0.56314194,-0.61584824,-0.6922366,-0.60206,-0.6678773,-0.5509075,-0.6758462,-0.65236515,-0.5274264,-0.7006698,-0.6088994,-0.74548215,-0.6839641,-0.66005194,-0.61584824,-0.5693909,-0.637388,-0.62291014,-0.637388,-0.644812,-0.6839641,-0.5693909,-0.60206,-0.5757311,-0.56314194,-0.637388,-0.5106129,-0.6922366,-0.5693909,-0.6300887,-0.53900826,-0.48916188,-0.58869606,-0.637388,-0.6088994,-0.637388,-0.5569816,-0.5821652,-0.5693909,-0.61584824,-0.65236515,-0.73614216,-0.65236515,-0.5274264,-0.5693909,-0.62291014,-0.50514996,-0.5569816,-0.7180439,-0.66005194,-0.56314194,-0.73614216,-0.6300887,-0.5509075,-0.5693909,-0.60206,-0.52174926,-0.61584824,-0.65236515,-0.74548215,-0.54491717,-0.6088994,-0.62291014,-0.61584824,-0.6088994,-0.58869606,-0.6758462,-0.53900826,-0.58869606,-0.5953266,-0.54491717,-0.644812,-0.6300887,-0.6088994,-0.62291014,-0.6758462,-0.61584824,-0.58869606,-0.58869606,-0.53900826,-0.5569816,-0.5274264,-0.644812,-0.6758462,-0.52174926,-0.6922366,-0.6922366,-0.62291014,-0.66005194,-0.50514996,-0.61584824,-0.6758462,-0.70926994,-0.61584824,-0.5331787,-0.5509075,-0.5693909,-0.6300887,-0.50514996,-0.56314194,-0.5106129,-0.5569816,-0.58869606,-0.6300887,-0.52174926,-0.66005194,-0.6088994,-0.6758462,-0.58869606,-0.5509075,-0.5821652,-0.62291014,-0.66005194,-0.6839641,-0.65236515,-0.644812,-0.56314194,-0.5569816,-0.5821652,-0.56314194,-0.66005194,-0.5106129,-0.54491717,-0.6839641,-0.5757311,-0.54491717,-0.644812,-0.7006698,-0.58869606,-0.62291014,-0.6300887,-0.56314194,-0.644812,-0.72699875,-0.6300887,-0.5693909,-0.62291014,-0.5569816,-0.5569816,-0.5757311,-0.5953266,-0.58869606,-0.6678773,-0.5569816,-0.5821652,-0.6922366,-0.6839641,-0.637388,-0.5953266,-0.56314194,-0.60206,-0.5757311,-0.61584824,-0.60206,-0.644812,-0.499755,-0.6088994,-0.6088994,-0.6300887,-0.61584824,-0.50514996,-0.66005194,-0.65236515,-0.5569816,-0.644812,-0.74548215,-0.5569816,-0.5953266,-0.6678773,-0.61584824,-0.56314194,-0.6922366,-0.5106129,-0.6678773,-0.5274264,-0.5821652,-0.62291014,-0.62291014,-0.5821652,-0.5821652,-0.62291014,-0.53900826,-0.499755,-0.56314194,-0.6678773,-0.6088994,-0.6922366,-0.65236515,-0.47882104,-0.60206,-0.56314194,-0.5953266,-0.5569816,-0.66005194,-0.58869606,-0.58869606,-0.61584824,-0.54491717,-0.61584824,-0.5693909,-0.637388,-0.61584824,-0.5757311,-0.62291014,-0.5821652,-0.6839641,-0.60206,-0.6758462,-0.6922366,-0.5509075,-0.5953266,-0.58869606,-0.61584824,-0.5569816,-0.66005194,-0.6300887,-0.6678773,-0.60206,-0.5757311,-0.62291014,-0.6088994,-0.6088994,-0.5953266,-0.637388,-0.5106129,-0.60206,-0.7849907,-0.644812,-0.6088994,-0.6839641,-0.5693909,-0.7006698,-0.6088994,-0.6088994,-0.5569816,-0.6922366,-0.644812,-0.58869606,-0.65236515,-0.51614535,-0.7006698,-0.61584824,-0.61584824,-0.6088994,-0.6300887,-0.54491717,-0.6839641,-0.5331787,-0.52174926,-0.5509075,-0.65236515,-0.5821652,-0.5953266,-0.6839641,-0.6300887,-0.5331787,-0.5693909,-0.54491717,-0.7180439,-0.54491717,-0.6678773,-0.6088994,-0.6758462,-0.60206,-0.58869606,-0.5693909,-0.5757311,-0.65236515,-0.5569816,-0.50514996,-0.60206,-0.5274264,-0.5509075,-0.5757311,-0.5569816,-0.62291014,-0.6922366,-0.5757311,-0.5569816,-0.6088994,-0.62291014,-0.5693909,-0.6300887,-0.6678773,-0.61584824,-0.51614535,-0.65236515,-0.76478726,-0.6088994,-0.60206,-0.6300887,-0.5953266,-0.54491717,-0.644812,-0.58869606,-0.6678773,-0.5274264,-0.5569816,-0.5693909,-0.6088994,-0.644812,-0.62291014,-0.644812,-0.5331787,-0.7006698,-0.58869606,-0.65236515,-0.5757311,-0.5569816,-0.51614535,-0.51614535,-0.61584824,-0.6300887,-0.60206,-0.61584824,-0.60206,-0.6088994,-0.5331787,-0.6300887,-0.644812,-0.5821652,-0.6088994,-0.644812,-0.5693909,-0.6678773,-0.61584824,-0.637388,-0.51614535,-0.56314194,-0.61584824,-0.53900826,-0.6922366,-0.5821652,-0.54491717,-0.58869606,-0.53900826,-0.5509075,-0.56314194,-0.61584824,-0.66005194,-0.6088994,-0.6088994,-0.62291014,-0.6088994,-0.6758462,-0.61584824,-0.644812,-0.61584824,-0.644812,-0.60206,-0.5274264,-0.5569816,-0.5274264,-0.6839641,-0.7747715,-0.65236515,-0.60206,-0.56314194,-0.637388,-0.66005194,-0.7006698,-0.8171754,-0.644812,-0.61584824,-0.65236515,-0.6678773,-0.6088994,-0.65236515,-0.5821652,-0.5274264,-0.5693909,-0.58869606,-0.56314194,-0.58869606,-0.54491717,-0.62291014,-0.61584824,-0.62291014,-0.61584824,-0.6300887,-0.5693909,-0.65236515,-0.66005194,-0.6758462,-0.637388,-0.6300887,-0.60206,-0.52174926,-0.637388,-0.637388,-0.5821652,-0.6088994,-0.65236515,-0.6300887,-0.58869606,-0.6088994,-0.5569816,-0.5953266,-0.6300887,-0.6088994,-0.644812,-0.51614535,-0.60206,-0.45399743,-0.56314194,-0.5569816,-0.5693909,-0.637388,-0.6088994,-0.66005194,-0.65236515,-0.5331787,-0.61584824,-0.6678773,-0.53900826,-0.56314194,-0.7006698,-0.6678773,-0.60206,-0.53900826,-0.58869606,-0.5331787,-0.5953266,-0.65236515,-0.54491717,-0.6088994,-0.62291014,-0.637388,-0.499755,-0.5821652,-0.6758462,-0.6088994,-0.5953266,-0.5569816,-0.6300887,-0.66005194,-0.61584824,-0.6758462,-0.61584824,-0.61584824,-0.6922366,-0.6678773,-0.5821652,-0.6839641,-0.6300887,-0.6758462,-0.60206,-0.6300887,-0.50514996,-0.52174926,-0.61584824,-0.61584824,-0.5509075,-0.76478726,-0.56314194,-0.6839641,-0.46872076,-0.637388,-0.61584824,-0.60206,-0.6758462,-0.54491717,-0.6758462,-0.5509075,-0.7006698,-0.53900826,-0.5821652,-0.6300887,-0.7954562,-0.5953266,-0.6678773,-0.60206,-0.5569816,-0.62291014,-0.6088994,-0.637388,-0.60206,-0.6088994,-0.6300887,-0.5953266,-0.61584824,-0.58869606,-0.5757311,-0.6678773,-0.5106129,-0.5509075,-0.5331787,-0.6839641,-0.6088994,-0.5693909,-0.644812,-0.5953266,-0.5953266,-0.637388,-0.62291014,-0.70926994,-0.61584824,-0.66005194,-0.60206,-0.6300887,-0.644812,-0.84003824,-0.644812,-0.5569816,-0.644812,-0.60206,-0.5331787,-0.60206,-0.60206,-0.644812,-0.53900826,-0.58869606,-0.6678773,-0.5569816,-0.58869606,-0.58869606,-0.48916188,-0.5757311,-0.6678773,-0.60206,-0.58869606,-0.5274264,-0.62291014,-0.66005194,-0.62291014,-0.5821652,-0.5757311,-0.6839641,-0.6088994,-0.51614535,-0.6758462,-0.52174926,-0.7006698,-0.6758462,-0.644812,-0.6839641,-0.73614216,-0.5757311,-0.5757311,-0.5821652,-0.52174926,-0.61584824,-0.5953266,-0.5693909,-0.5106129,-0.6839641,-0.6300887,-0.5953266,-0.6839641,-0.50514996,-0.51614535,-0.51614535,-0.60206,-0.6088994,-0.644812,-0.66005194,-0.644812,-0.637388,-0.61584824,-0.72699875,-0.644812,-0.65236515,-0.6088994,-0.644812,-0.4737415,-0.66005194,-0.60206,-0.56314194,-0.5757311,-0.62291014,-0.5569816,-0.5757311,-0.5693909,-0.66005194,-0.66005194,-0.637388,-0.74548215,-0.66005194,-0.5757311,-0.5569816,-0.6088994,-0.62291014,-0.644812,-0.56314194,-0.61584824,-0.6922366,-0.5821652,-0.5274264,-0.58869606,-0.53900826,-0.56314194,-0.54491717,-0.62291014,-0.61584824,-0.58869606,-0.66005194,-0.65236515,-0.5331787,-0.5331787,-0.637388,-0.62291014,-0.5953266,-0.62291014,-0.5757311,-0.5821652,-0.637388,-0.5821652,-0.6088994,-0.5509075,-0.53900826,-0.6758462,-0.637388,-0.5821652,-0.58869606,-0.74548215,-0.5821652,-0.54491717,-0.66005194,-0.58869606,-0.5331787,-0.48916188,-0.5821652,-0.58869606,-0.61584824,-0.62291014,-0.5821652,-0.66005194,-0.56314194,-0.5757311,-0.644812,-0.54491717,-0.5331787,-0.66005194,-0.5953266,-0.644812,-0.58869606,-0.5757311,-0.5569816,-0.5509075,-0.644812,-0.6088994,-0.62291014,-0.5569816,-0.5509075,-0.5274264,-0.5331787,-0.6300887,-0.6678773,-0.6839641,-0.5757311,-0.5693909,-0.5569816,-0.46872076,-0.60206,-0.6839641,-0.6758462,-0.56314194,-0.5569816,-0.5106129,-0.60206,-0.5693909,-0.5569816,-0.56314194,-0.5821652,-0.52174926,-0.6839641,-0.53900826,-0.53900826,-0.6678773,-0.58869606,-0.50514996,-0.51614535,-0.637388,-0.5509075,-0.66005194,-0.53900826,-0.5953266,-0.7180439,-0.54491717,-0.6300887,-0.637388,-0.53900826,-0.5953266,-0.58869606,-0.5757311,-0.5953266,-0.6922366,-0.5569816,-0.5693909,-0.53900826,-0.58869606,-0.6088994,-0.54491717,-0.48396072,-0.5693909,-0.62291014,-0.58869606,-0.5331787,-0.5509075,-0.5757311,-0.76478726,-0.6088994,-0.65236515,-0.56314194,-0.66005194,-0.58869606,-0.644812,-0.6300887,-0.61584824,-0.62291014,-0.54491717,-0.7006698,-0.61584824,-0.6678773,-0.5331787,-0.637388,-0.54491717,-0.5569816,-0.5757311,-0.62291014,-0.56314194,-0.644812,-0.60206,-0.62291014,-0.5331787,-0.48396072,-0.644812,-0.74548215,-0.58869606,-0.61584824,-0.66005194,-0.6922366,-0.6839641,-0.5953266,-0.58869606,-0.6839641,-0.56314194,-0.56314194,-0.65236515,-0.70926994,-0.5693909,-0.5821652,-0.65236515,-0.5693909,-0.6922366,-0.54491717,-0.54491717,-0.58869606,-0.53900826,-0.7550275,-0.5953266,-0.62291014,-0.7006698,-0.6758462,-0.5693909,-0.60206,-0.644812,-0.637388,-0.5569816,-0.6922366,-0.5821652,-0.5106129,-0.70926994,-0.61584824,-0.5953266,-0.5757311,-0.60206,-0.5757311,-0.5821652,-0.8171754,-0.54491717,-0.5821652,-0.7006698,-0.6922366,-0.644812,-0.5509075,-0.6758462,-0.62291014,-0.60206,-0.61584824,-0.65236515,-0.60206,-0.6300887,-0.6300887,-0.70926994,-0.6088994,-0.60206,-0.62291014,-0.61584824,-0.637388,-0.62291014,-0.65236515,-0.66005194,-0.6088994,-0.53900826,-0.6300887,-0.5953266,-0.5953266,-0.72699875,-0.72699875,-0.62291014,-0.644812,-0.61584824,-0.5821652,-0.637388,-0.5693909,-0.61584824,-0.5693909,-0.62291014,-0.58869606,-0.62291014,-0.56314194,-0.637388,-0.5821652,-0.58869606,-0.5693909,-0.5953266,-0.62291014,-0.5693909,-0.53900826,-0.6300887,-0.5821652,-0.51614535,-0.56314194,-0.5106129,-0.6088994,-0.5331787,-0.5509075,-0.5953266,-0.5274264,-0.5569816,-0.61584824,-0.60206,-0.5821652,-0.51614535,-0.5953266,-0.5821652,-0.53900826,-0.6678773,-0.5757311,-0.637388,-0.58869606,-0.5509075,-0.6678773,-0.6758462,-0.5274264,-0.60206,-0.61584824,-0.65236515,-0.58869606,-0.5569816,-0.637388,-0.60206,-0.62291014,-0.6839641,-0.66005194,-0.60206,-0.66005194,-0.5757311,-0.65236515,-0.644812,-0.5757311,-0.60206,-0.5953266,-0.58869606,-0.58869606,-0.5821652,-0.54491717,-0.62291014,-0.6088994,-0.5757311,-0.644812,-0.6300887,-0.637388,-0.62291014,-0.5693909,-0.6758462,-0.70926994,-0.5757311,-0.5693909,-0.66005194,-0.66005194,-0.58869606,-0.58869606,-0.6678773,-0.5693909,-0.6839641,-0.5953266,-0.65236515,-0.50514996,-0.637388,-0.6088994,-0.56314194,-0.66005194,-0.6088994,-0.60206,-0.56314194,-0.60206,-0.65236515,-0.5569816,-0.637388,-0.62291014,-0.6678773,-0.58869606,-0.56314194,-0.5757311,-0.6088994,-0.66005194,-0.54491717,-0.60206,-0.7006698,-0.7006698,-0.5509075,-0.6678773,-0.6300887,-0.56314194,-0.5569816,-0.499755,-0.5953266,-0.5509075,-0.5821652,-0.6300887,-0.6088994,-0.6839641,-0.637388,-0.6088994,-0.5821652,-0.62291014,-0.6088994,-0.7006698,-0.5106129,-0.66005194,-0.62291014,-0.58869606,-0.47882104,-0.66005194,-0.53900826,-0.644812,-0.48396072,-0.61584824,-0.58869606,-0.644812,-0.60206,-0.5569816,-0.56314194,-0.6088994,-0.6300887,-0.60206,-0.6839641,-0.62291014,-0.58869606,-0.7180439,-0.5821652,-0.6839641,-0.58869606,-0.5953266,-0.5757311,-0.5953266,-0.56314194,-0.62291014,-0.7747715,-0.7180439,-0.72699875,-0.5509075,-0.637388,-0.5693909,-0.5693909,-0.5693909,-0.65236515,-0.50514996,-0.6300887,-0.5821652,-0.66005194,-0.5821652,-0.5821652,-0.5693909,-0.5821652,-0.53900826,-0.65236515,-0.62291014,-0.5509075,-0.53900826,-0.70926994,-0.5693909,-0.5821652,-0.6300887,-0.6088994,-0.5757311,-0.5953266,-0.52174926,-0.5757311,-0.5757311,-0.5106129,-0.637388,-0.6300887,-0.5331787,-0.62291014,-0.66005194,-0.5821652,-0.5569816,-0.66005194,-0.56314194,-0.60206,-0.6088994,-0.61584824,-0.76478726,-0.61584824,-0.5569816,-0.54491717,-0.73614216,-0.56314194,-0.6758462,-0.6922366,-0.60206,-0.5953266,-0.5757311,-0.644812,-0.5509075,-0.70926994,-0.54491717,-0.5821652,-0.6300887,-0.60206,-0.5106129,-0.60206,-0.6758462,-0.5569816,-0.52174926,-0.61584824,-0.5953266,-0.6678773,-0.5693909,-0.6678773,-0.637388,-0.5821652,-0.65236515,-0.74548215,-0.5953266,-0.5331787,-0.5953266,-0.65236515,-0.61584824,-0.644812,-0.5509075,-0.54491717,-0.5757311,-0.5953266,-0.61584824,-0.5693909,-0.637388,-0.5953266,-0.72699875,-0.637388,-0.644812,-0.644812,-0.6678773,-0.61584824,-0.6088994,-0.54491717,-0.5757311,-0.499755,-0.6922366,-0.61584824,-0.65236515,-0.46872076,-0.5693909,-0.66005194,-0.6839641,-0.56314194,-0.5569816,-0.637388,-0.53900826,-0.5757311,-0.66005194,-0.6088994,-0.5693909,-0.6300887,-0.49442616,-0.65236515,-0.61584824,-0.5569816,-0.5693909,-0.5693909,-0.65236515,-0.49442616,-0.61584824,-0.5757311,-0.499755,-0.58869606,-0.5757311,-0.62291014,-0.6758462,-0.5821652,-0.5693909,-0.6839641,-0.637388,-0.56314194,-0.56314194,-0.65236515,-0.76478726,-0.61584824,-0.5569816,-0.5331787,-0.58869606,-0.60206,-0.5509075,-0.6922366,-0.637388,-0.5274264,-0.6300887,-0.644812,-0.60206,-0.62291014,-0.5693909,-0.5569816,-0.5757311,-0.5953266,-0.6678773,-0.58869606,-0.65236515,-0.62291014,-0.48916188,-0.56314194,-0.65236515,-0.5274264,-0.644812,-0.6300887,-0.6088994,-0.60206,-0.6758462,-0.5569816,-0.5106129,-0.51614535,-0.65236515,-0.60206,-0.6300887,-0.65236515,-0.6839641,-0.5821652,-0.61584824,-0.637388,-0.51614535,-0.7180439,-0.499755,-0.6088994,-0.5106129,-0.6088994,-0.6922366,-0.56314194,-0.62291014,-0.56314194,-0.60206,-0.6088994,-0.48916188,-0.60206,-0.5331787,-0.61584824,-0.6839641,-0.66005194,-0.58869606,-0.62291014,-0.74548215,-0.6678773,-0.61584824,-0.6088994,-0.5821652,-0.52174926,-0.60206,-0.56314194,-0.66005194,-0.5693909,-0.60206,-0.54491717,-0.7180439,-0.65236515,-0.5274264,-0.6758462,-0.62291014,-0.65236515,-0.5509075,-0.60206,-0.66005194,-0.58869606,-0.5757311,-0.6678773,-0.60206,-0.62291014,-0.72699875,-0.46375728,-0.5757311,-0.6922366,-0.65236515,-0.6839641,-0.66005194,-0.56314194,-0.62291014,-0.60206,-0.60206,-0.73614216,-0.644812,-0.5953266,-0.637388,-0.6300887,-0.7180439,-0.60206,-0.62291014,-0.58869606,-0.53900826,-0.74548215,-0.5331787,-0.5106129,-0.637388,-0.65236515,-0.5331787,-0.74548215,-0.58869606,-0.6300887,-0.7006698,-0.644812,-0.51614535,-0.65236515,-0.644812,-0.5693909,-0.54491717,-0.5693909,-0.5757311,-0.5821652,-0.61584824,-0.6300887,-0.5693909,-0.5569816,-0.60206,-0.5693909,-0.70926994,-0.61584824,-0.72699875,-0.60206,-0.62291014,-0.49442616,-0.6088994,-0.53900826,-0.6839641,-0.6300887,-0.56314194,-0.5693909,-0.6678773,-0.644812,-0.5821652,-0.65236515,-0.56314194,-0.6678773,-0.74548215,-0.5509075,-0.62291014,-0.61584824,-0.6088994,-0.5693909,-0.66005194,-0.6088994,-0.7006698,-0.5821652,-0.49442616,-0.61584824,-0.70926994,-0.60206,-0.7006698,-0.6300887,-0.5693909,-0.5509075,-0.51614535,-0.7180439,-0.5953266,-0.53900826,-0.6678773,-0.6758462,-0.60206,-0.61584824,-0.54491717,-0.56314194,-0.66005194,-0.58869606,-0.60206,-0.4737415,-0.644812,-0.644812,-0.47882104,-0.5953266,-0.5693909,-0.5821652,-0.5331787,-0.62291014,-0.5693909,-0.5953266,-0.5953266,-0.61584824,-0.62291014,-0.4737415,-0.56314194,-0.5509075,-0.644812,-0.6300887,-0.66005194,-0.5569816,-0.5953266,-0.62291014,-0.51614535,-0.60206,-0.6839641,-0.637388,-0.5821652,-0.58869606,-0.5569816,-0.66005194,-0.5106129,-0.66005194,-0.5509075,-0.60206,-0.6839641,-0.644812,-0.56314194,-0.5953266,-0.62291014,-0.6088994,-0.66005194,-0.61584824,-0.6300887,-0.5757311,-0.51614535,-0.6088994,-0.66005194,-0.5953266,-0.62291014,-0.5106129,-0.637388,-0.70926994,-0.5757311,-0.53900826,-0.6839641,-0.60206,-0.5106129,-0.6839641,-0.5693909,-0.6678773,-0.61584824,-0.60206,-0.5821652,-0.52174926,-0.7747715,-0.51614535,-0.5953266,-0.54491717,-0.5821652,-0.6758462,-0.62291014,-0.5693909,-0.5106129,-0.62291014,-0.56314194,-0.6678773,-0.637388,-0.6839641,-0.49442616,-0.62291014,-0.66005194,-0.5821652,-0.499755,-0.6300887,-0.6678773,-0.45399743,-0.61584824,-0.46375728,-0.54491717,-0.56314194,-0.5757311,-0.5757311,-0.61584824,-0.5331787,-0.62291014,-0.60206,-0.5953266,-0.6088994,-0.5509075,-0.56314194,-0.5331787,-0.7006698,-0.56314194,-0.60206,-0.58869606,-0.6922366,-0.53900826,-0.5569816,-0.6300887,-0.51614535,-0.60206,-0.61584824,-0.6300887,-0.70926994,-0.499755,-0.58869606,-0.644812,-0.5693909,-0.6088994,-0.6088994,-0.54491717,-0.58869606,-0.5953266,-0.644812,-0.74548215,-0.65236515,-0.7180439,-0.51614535,-0.61584824,-0.5821652,-0.61584824,-0.6758462,-0.6839641,-0.6922366,-0.5693909,-0.54491717,-0.56314194,-0.58869606,-0.5569816,-0.72699875,-0.6758462,-0.5331787,-0.48916188,-0.5693909,-0.5953266,-0.56314194,-0.6300887,-0.58869606,-0.74548215,-0.6678773,-0.5693909,-0.6088994,-0.60206,-0.65236515,-0.54491717,-0.6300887,-0.66005194,-0.62291014,-0.5757311,-0.54491717,-0.54491717,-0.56314194,-0.5569816,-0.6300887,-0.54491717,-0.52174926,-0.5693909,-0.5331787,-0.58869606,-0.637388,-0.60206,-0.637388,-0.5953266,-0.53900826,-0.60206,-0.637388,-0.5509075,-0.5509075,-0.644812,-0.50514996,-0.74548215,-0.6678773,-0.7180439,-0.5757311,-0.5274264,-0.5953266,-0.56314194,-0.58869606,-0.58869606,-0.5953266,-0.5693909,-0.7006698,-0.65236515,-0.65236515,-0.5757311,-0.5821652,-0.644812,-0.6758462,-0.48396072,-0.56314194,-0.637388,-0.644812,-0.644812,-0.7550275,-0.5821652,-0.56314194,-0.58869606,-0.7550275,-0.5331787,-0.73614216,-0.5693909,-0.637388,-0.5821652,-0.637388,-0.58869606,-0.53900826,-0.6300887,-0.5693909,-0.5953266,-0.62291014,-0.644812,-0.5569816,-0.6088994,-0.5821652,-0.56314194,-0.56314194,-0.6678773,-0.6678773,-0.5509075,-0.61584824,-0.58869606,-0.5569816,-0.5693909,-0.7550275,-0.5274264,-0.61584824,-0.61584824,-0.5821652,-0.644812,-0.5331787,-0.60206,-0.637388,-0.65236515,-0.62291014,-0.60206,-0.6758462,-0.6300887,-0.5509075,-0.644812,-0.61584824,-0.54491717,-0.62291014,-0.7180439,-0.65236515,-0.65236515,-0.61584824,-0.637388,-0.60206,-0.52174926,-0.5693909,-0.5569816,-0.6678773,-0.60206,-0.56314194,-0.5821652,-0.65236515,-0.61584824,-0.5509075,-0.5821652,-0.6678773,-0.65236515,-0.6088994,-0.5757311,-0.6300887,-0.49442616,-0.58869606,-0.60206,-0.58869606,-0.50514996,-0.5331787,-0.6088994,-0.5106129,-0.7006698,-0.5953266,-0.644812,-0.72699875,-0.5693909,-0.644812,-0.53900826,-0.60206,-0.61584824,-0.65236515,-0.637388,-0.53900826,-0.5953266,-0.54491717,-0.52174926,-0.58869606,-0.5757311,-0.5331787,-0.5953266,-0.62291014,-0.6088994,-0.5953266,-0.61584824,-0.644812,-0.62291014,-0.66005194,-0.5757311,-0.5569816,-0.5331787,-0.6839641,-0.53900826,-0.5693909,-0.5953266,-0.52174926,-0.72699875,-0.6088994,-0.60206,-0.53900826,-0.56314194,-0.6300887,-0.5274264,-0.50514996,-0.5693909,-0.644812,-0.5757311,-0.5821652,-0.5953266,-0.5509075,-0.60206,-0.499755,-0.5821652,-0.60206,-0.6678773,-0.58869606,-0.7006698,-0.6300887,-0.5509075,-0.5331787,-0.4737415,-0.6088994,-0.61584824,-0.6758462,-0.5953266,-0.58869606,-0.644812,-0.6758462,-0.6088994,-0.5693909,-0.46375728,-0.6088994,-0.5821652,-0.65236515,-0.5821652,-0.52174926,-0.62291014,-0.6088994,-0.5331787,-0.5509075,-0.7180439,-0.5274264,-0.54491717,-0.5953266,-0.65236515,-0.644812,-0.61584824,-0.5821652,-0.56314194,-0.6758462,-0.6758462,-0.58869606,-0.58869606,-0.60206,-0.5274264,-0.5757311,-0.62291014,-0.73614216,-0.66005194,-0.7006698,-0.62291014,-0.637388,-0.6088994,-0.7180439,-0.70926994,-0.5821652,-0.5693909,-0.5693909,-0.5509075,-0.52174926,-0.5274264,-0.61584824,-0.60206,-0.61584824,-0.5693909,-0.644812,-0.644812,-0.5509075,-0.644812,-0.6300887,-0.56314194,-0.644812,-0.637388,-0.61584824,-0.54491717,-0.6088994,-0.5953266,-0.58869606,-0.5757311,-0.65236515,-0.53900826,-0.5953266,-0.637388,-0.70926994,-0.5821652,-0.58869606,-0.4491986,-0.6300887,-0.5693909,-0.644812,-0.60206,-0.5953266,-0.62291014,-0.6678773,-0.5821652,-0.61584824,-0.6300887,-0.6922366,-0.6088994,-0.56314194,-0.62291014,-0.65236515,-0.65236515,-0.45399743,-0.6839641,-0.5569816,-0.5757311,-0.5106129,-0.60206,-0.54491717,-0.637388,-0.6300887,-0.62291014,-0.54491717,-0.58869606,-0.6678773,-0.6300887,-0.5953266,-0.53900826,-0.5569816,-0.5569816,-0.60206,-0.6839641,-0.6678773,-0.5693909,-0.53900826,-0.499755,-0.51614535,-0.637388,-0.61584824,-0.5953266,-0.60206,-0.58869606,-0.6300887,-0.6758462,-0.5757311,-0.5821652,-0.51614535,-0.637388,-0.499755,-0.7006698,-0.6088994,-0.65236515,-0.6088994,-0.6300887,-0.5757311,-0.5331787,-0.6088994,-0.6758462,-0.72699875,-0.70926994,-0.6922366,-0.637388,-0.5757311,-0.5509075,-0.6922366,-0.644812,-0.6088994,-0.5693909,-0.56314194,-0.7006698,-0.5569816,-0.56314194,-0.5274264,-0.5757311,-0.637388,-0.7550275,-0.65236515,-0.61584824,-0.6678773,-0.6758462,-0.6839641,-0.644812,-0.6088994,-0.56314194,-0.5821652,-0.53900826,-0.5757311,-0.6300887,-0.6088994,-0.6300887,-0.65236515,-0.54491717,-0.5693909,-0.66005194,-0.52174926,-0.5509075,-0.5569816,-0.65236515,-0.637388,-0.644812,-0.5106129,-0.65236515,-0.60206,-0.6300887,-0.48396072,-0.5953266,-0.6300887,-0.66005194,-0.54491717,-0.637388,-0.65236515,-0.65236515,-0.637388,-0.53900826,-0.637388,-0.56314194,-0.5569816,-0.499755,-0.6922366,-0.53900826,-0.6300887,-0.5953266,-0.5274264,-0.61584824,-0.52174926,-0.5693909,-0.5953266,-0.5757311,-0.5821652,-0.6088994,-0.6678773,-0.5757311,-0.60206,-0.5757311,-0.6758462,-0.4737415,-0.644812,-0.5509075,-0.51614535,-0.5106129,-0.62291014,-0.6758462,-0.52174926,-0.61584824,-0.58869606,-0.6300887,-0.54491717,-0.5821652,-0.58869606,-0.62291014,-0.6758462,-0.499755,-0.5757311,-0.5569816,-0.65236515,-0.60206,-0.5331787,-0.48396072,-0.45884997,-0.5821652,-0.60206,-0.5509075,-0.56314194,-0.70926994,-0.5331787,-0.5693909,-0.6300887,-0.58869606,-0.47882104,-0.70926994,-0.5509075,-0.6839641,-0.53900826,-0.61584824,-0.48396072,-0.6300887,-0.6088994,-0.54491717,-0.6678773,-0.60206,-0.5821652,-0.637388,-0.62291014,-0.61584824,-0.50514996,-0.6088994,-0.637388,-0.5953266,-0.60206,-0.5757311,-0.6300887,-0.66005194,-0.644812,-0.5509075,-0.60206,-0.5953266,-0.5953266,-0.637388,-0.58869606,-0.637388,-0.637388,-0.61584824,-0.48916188,-0.72699875,-0.6922366,-0.5693909,-0.5953266,-0.644812,-0.62291014,-0.644812,-0.70926994,-0.6088994,-0.6758462,-0.62291014,-0.6839641,-0.644812,-0.5509075,-0.76478726,-0.5757311,-0.61584824,-0.5509075,-0.644812,-0.6088994,-0.60206,-0.6088994,-0.72699875,-0.5953266,-0.5757311,-0.66005194,-0.644812,-0.6839641,-0.66005194,-0.5331787,-0.58869606,-0.6088994,-0.6088994,-0.6300887,-0.5569816,-0.5693909,-0.644812,-0.644812,-0.5953266,-0.5569816,-0.65236515,-0.62291014,-0.6300887,-0.5953266,-0.5569816,-0.5569816,-0.61584824,-0.6088994,-0.6839641,-0.51614535,-0.50514996,-0.644812,-0.60206,-0.56314194,-0.66005194,-0.5757311,-0.5693909,-0.58869606,-0.6088994,-0.6678773,-0.5274264,-0.6678773,-0.7550275,-0.6088994,-0.56314194,-0.54491717,-0.6758462,-0.6758462,-0.5953266,-0.65236515,-0.6088994,-0.50514996,-0.6088994,-0.65236515,-0.5693909,-0.5821652,-0.5953266,-0.637388,-0.46375728,-0.54491717,-0.5509075,-0.60206,-0.51614535,-0.58869606,-0.6839641,-0.62291014,-0.5693909,-0.5757311,-0.644812,-0.6922366,-0.5953266,-0.56314194,-0.56314194,-0.5331787,-0.6922366,-0.5693909,-0.5821652,-0.65236515,-0.7006698,-0.58869606,-0.66005194,-0.5953266,-0.7006698,-0.5821652,-0.6839641,-0.56314194,-0.5331787,-0.6922366,-0.6300887,-0.60206,-0.5274264,-0.66005194,-0.637388,-0.62291014,-0.5693909,-0.5757311,-0.6300887,-0.53900826,-0.644812,-0.637388,-0.637388,-0.5953266,-0.62291014,-0.6300887,-0.60206,-0.5693909,-0.6300887,-0.60206,-0.5274264,-0.62291014,-0.6088994,-0.6678773,-0.5569816,-0.5331787,-0.54491717,-0.5274264,-0.54491717,-0.6088994,-0.5953266,-0.5693909,-0.6300887,-0.54491717,-0.6088994,-0.62291014,-0.60206,-0.6678773,-0.644812,-0.62291014,-0.58869606,-0.6300887,-0.5693909,-0.5953266,-0.6758462,-0.56314194,-0.637388,-0.54491717,-0.5953266,-0.62291014,-0.5757311,-0.5569816,-0.61584824,-0.5953266,-0.48916188,-0.5953266,-0.60206,-0.6678773,-0.6300887,-0.644812,-0.5953266,-0.644812,-0.5757311,-0.53900826,-0.6678773,-0.644812,-0.6922366,-0.53900826,-0.56314194,-0.5569816,-0.6839641,-0.7006698,-0.62291014,-0.61584824,-0.5693909,-0.5757311,-0.8171754,-0.5693909,-0.5821652,-0.5821652,-0.5821652,-0.56314194,-0.5569816,-0.5331787,-0.5331787,-0.5953266,-0.56314194,-0.58869606,-0.6088994,-0.6758462,-0.60206,-0.5509075,-0.60206,-0.58869606,-0.54491717,-0.58869606,-0.637388,-0.61584824,-0.5821652,-0.6300887,-0.7006698,-0.644812,-0.5693909,-0.48396072,-0.48396072,-0.5693909,-0.6088994,-0.62291014,-0.61584824,-0.5821652,-0.6088994,-0.70926994,-0.6300887,-0.499755,-0.6300887,-0.6300887,-0.6678773,-0.51614535,-0.637388,-0.6300887,-0.6678773,-0.5821652,-0.5509075,-0.5953266,-0.6839641,-0.6300887,-0.6300887,-0.60206,-0.5106129,-0.65236515,-0.637388,-0.65236515,-0.53900826,-0.65236515,-0.5757311,-0.60206,-0.62291014,-0.56314194,-0.60206,-0.5953266,-0.5693909,-0.5509075,-0.637388,-0.5693909,-0.60206,-0.6758462,-0.644812,-0.51614535,-0.5757311,-0.61584824,-0.60206,-0.6922366,-0.65236515,-0.5757311,-0.58869606,-0.5693909,-0.5953266,-0.5509075,-0.5953266,-0.66005194,-0.58869606,-0.644812,-0.61584824,-0.60206,-0.637388,-0.58869606,-0.61584824,-0.7180439,-0.5509075,-0.644812,-0.5331787,-0.61584824,-0.5274264,-0.54491717,-0.5757311,-0.5757311,-0.53900826,-0.5331787,-0.61584824,-0.6922366,-0.65236515,-0.61584824,-0.5693909,-0.6839641,-0.644812,-0.50514996,-0.62291014,-0.6758462,-0.51614535,-0.5757311,-0.7006698,-0.5693909,-0.61584824,-0.637388,-0.6300887,-0.6922366,-0.6839641,-0.54491717,-0.53900826,-0.62291014,-0.5569816,-0.6678773,-0.66005194,-0.58869606,-0.6758462,-0.54491717,-0.637388,-0.61584824,-0.5509075,-0.5693909,-0.5757311,-0.7006698,-0.58869606,-0.5757311,-0.62291014,-0.60206,-0.5569816,-0.62291014,-0.5757311,-0.5331787,-0.65236515,-0.7006698,-0.5693909,-0.5509075,-0.644812,-0.58869606,-0.5821652,-0.6088994,-0.60206,-0.6839641,-0.5509075,-0.6300887,-0.5509075,-0.53900826,-0.637388,-0.5953266,-0.6839641,-0.499755,-0.5693909,-0.56314194,-0.5106129,-0.58869606,-0.6678773,-0.5106129,-0.61584824,-0.56314194,-0.637388,-0.6922366,-0.5693909,-0.5569816,-0.58869606,-0.53900826,-0.52174926,-0.74548215,-0.637388,-0.5693909,-0.61584824,-0.5821652,-0.5331787,-0.7006698,-0.49442616,-0.5569816,-0.5569816,-0.644812,-0.6300887,-0.7180439,-0.58869606,-0.6088994,-0.5821652,-0.60206,-0.65236515,-0.66005194,-0.5953266,-0.6839641,-0.5569816,-0.56314194,-0.65236515,-0.60206,-0.48396072,-0.65236515,-0.61584824,-0.66005194,-0.5106129,-0.6758462,-0.5757311,-0.5569816,-0.72699875,-0.51614535,-0.644812,-0.5757311,-0.644812,-0.6088994,-0.637388,-0.6839641,-0.65236515,-0.62291014,-0.53900826,-0.6839641,-0.6300887,-0.6088994,-0.65236515,-0.65236515,-0.6088994,-0.6922366,-0.6922366,-0.61584824,-0.5274264,-0.6300887,-0.7180439,-0.62291014,-0.5757311,-0.66005194,-0.6088994,-0.5509075,-0.5509075,-0.50514996,-0.58869606,-0.50514996,-0.6088994,-0.6300887,-0.58869606,-0.6300887,-0.6300887,-0.54491717,-0.51614535,-0.637388,-0.62291014,-0.5757311,-0.60206,-0.5693909,-0.637388,-0.5757311,-0.6300887,-0.6088994,-0.72699875,-0.5693909,-0.5821652,-0.5693909,-0.5953266,-0.62291014,-0.499755,-0.5953266,-0.58869606,-0.66005194,-0.6922366,-0.62291014,-0.53900826,-0.7006698,-0.5757311,-0.60206,-0.5106129,-0.61584824,-0.5274264,-0.61584824,-0.60206,-0.5693909,-0.5757311,-0.6678773,-0.5953266,-0.637388,-0.5569816,-0.56314194,-0.5693909,-0.66005194,-0.56314194,-0.58869606,-0.48916188,-0.5693909,-0.66005194,-0.61584824,-0.58869606,-0.58869606,-0.61584824,-0.6088994,-0.58869606,-0.5757311,-0.56314194,-0.5953266,-0.5693909,-0.56314194,-0.5821652,-0.6300887,-0.56314194,-0.6758462,-0.5274264,-0.6300887,-0.5274264,-0.5693909,-0.7006698,-0.54491717,-0.62291014,-0.6088994,-0.60206,-0.66005194,-0.644812,-0.51614535,-0.5569816,-0.637388,-0.6839641,-0.5331787,-0.5106129,-0.637388,-0.54491717,-0.5569816,-0.56314194,-0.644812,-0.5569816,-0.637388,-0.5757311,-0.58869606,-0.5569816,-0.6839641,-0.7180439,-0.62291014,-0.6300887,-0.65236515,-0.5693909,-0.72699875,-0.5693909,-0.6300887,-0.5106129,-0.61584824,-0.5757311,-0.5693909,-0.5331787,-0.6088994,-0.5509075,-0.66005194,-0.5953266,-0.61584824,-0.53900826,-0.5821652,-0.6839641,-0.5331787,-0.65236515,-0.62291014,-0.5274264,-0.66005194,-0.5757311,-0.6088994,-0.5757311,-0.644812,-0.644812,-0.56314194,-0.5821652,-0.65236515,-0.5106129,-0.56314194,-0.6678773,-0.52174926,-0.65236515,-0.56314194,-0.6088994,-0.53900826,-0.6678773,-0.637388,-0.49442616,-0.5821652,-0.6300887,-0.5953266,-0.6758462,-0.66005194,-0.6758462,-0.644812,-0.5821652,-0.637388,-0.6922366,-0.637388,-0.54491717,-0.5757311,-0.53900826,-0.72699875,-0.5821652,-0.5953266,-0.5821652,-0.6300887,-0.5331787,-0.637388,-0.5953266,-0.54491717,-0.61584824,-0.5953266,-0.5953266,-0.5757311,-0.6922366,-0.6678773,-0.644812,-0.54491717,-0.62291014,-0.56314194,-0.6758462,-0.61584824,-0.65236515,-0.65236515,-0.5569816,-0.644812,-0.65236515,-0.65236515,-0.6088994,-0.644812,-0.76478726,-0.6300887,-0.6839641,-0.66005194,-0.46872076,-0.6088994,-0.51614535,-0.49442616,-0.5953266,-0.62291014,-0.74548215,-0.65236515,-0.72699875,-0.5821652,-0.66005194,-0.53900826,-0.61584824,-0.637388,-0.6839641,-0.6758462,-0.6300887,-0.49442616,-0.65236515,-0.56314194,-0.6300887,-0.5509075,-0.5693909,-0.5821652,-0.637388,-0.72699875,-0.62291014,-0.644812,-0.46872076,-0.56314194,-0.5331787,-0.5274264,-0.66005194,-0.6678773,-0.6300887,-0.644812,-0.60206,-0.58869606,-0.62291014,-0.6839641,-0.5757311,-0.62291014,-0.5693909,-0.65236515,-0.6300887,-0.5569816,-0.53900826,-0.5693909,-0.637388,-0.5821652,-0.6088994,-0.6922366,-0.5509075,-0.6088994,-0.60206,-0.62291014,-0.58869606,-0.6300887,-0.62291014,-0.65236515,-0.66005194,-0.6088994,-0.66005194,-0.6922366,-0.5953266,-0.5821652,-0.7006698,-0.6678773,-0.6839641,-0.637388,-0.6088994,-0.644812,-0.5274264,-0.5757311,-0.62291014,-0.60206,-0.499755,-0.58869606,-0.5757311,-0.644812,-0.637388,-0.5821652,-0.637388,-0.5757311,-0.6300887,-0.72699875,-0.66005194,-0.644812,-0.7006698,-0.5569816,-0.52174926,-0.5331787,-0.5757311,-0.53900826,-0.66005194,-0.5331787,-0.60206,-0.644812,-0.5953266,-0.6839641,-0.58869606,-0.60206,-0.52174926,-0.5106129,-0.58869606,-0.5757311,-0.5569816,-0.62291014,-0.49442616,-0.61584824,-0.66005194,-0.7550275,-0.5106129,-0.48396072,-0.54491717,-0.58869606,-0.644812,-0.6088994,-0.60206,-0.637388,-0.56314194,-0.637388,-0.637388,-0.5821652,-0.5331787,-0.5693909,-0.66005194,-0.56314194,-0.5953266,-0.6839641,-0.58869606,-0.6922366,-0.52174926,-0.6922366,-0.6678773,-0.5331787,-0.6758462,-0.58869606,-0.52174926,-0.5693909,-0.5953266,-0.61584824,-0.5693909,-0.5331787,-0.61584824,-0.5953266,-0.5106129,-0.644812,-0.58869606,-0.58869606,-0.56314194,-0.644812,-0.5693909,-0.60206,-0.6088994,-0.6758462,-0.5757311,-0.5821652,-0.637388,-0.6839641,-0.48396072,-0.7180439,-0.58869606,-0.6088994,-0.637388,-0.5953266,-0.62291014,-0.637388,-0.66005194,-0.66005194,-0.637388,-0.5953266,-0.644812,-0.46375728,-0.5757311,-0.58869606,-0.5569816,-0.62291014,-0.5569816,-0.6300887,-0.5331787,-0.6088994,-0.6300887,-0.6088994,-0.6300887,-0.6922366,-0.53900826,-0.6300887,-0.5757311,-0.5757311,-0.65236515,-0.5757311,-0.6758462,-0.637388,-0.61584824,-0.61584824,-0.5274264,-0.56314194,-0.5953266,-0.5953266,-0.66005194,-0.6088994,-0.6300887,-0.6758462,-0.6839641,-0.66005194,-0.6300887,-0.6678773,-0.5509075,-0.54491717,-0.62291014,-0.5757311,-0.637388,-0.65236515,-0.5274264,-0.5821652,-0.5274264,-0.644812,-0.5757311,-0.51614535,-0.5953266,-0.52174926,-0.6839641,-0.6678773,-0.62291014,-0.644812,-0.53900826,-0.54491717,-0.60206,-0.6839641,-0.53900826,-0.6088994,-0.61584824,-0.6922366,-0.65236515,-0.5757311,-0.66005194,-0.644812,-0.5274264,-0.7006698,-0.66005194,-0.72699875,-0.5569816,-0.5953266,-0.637388,-0.61584824,-0.637388,-0.62291014,-0.5821652,-0.5509075,-0.60206,-0.6300887,-0.5757311,-0.58869606,-0.66005194,-0.6678773,-0.56314194,-0.637388,-0.61584824,-0.6678773,-0.6300887,-0.7180439,-0.6088994,-0.6678773,-0.5953266,-0.70926994,-0.644812,-0.58869606,-0.73614216,-0.644812,-0.70926994,-0.56314194,-0.58869606,-0.61584824,-0.637388,-0.72699875,-0.5821652,-0.62291014,-0.61584824,-0.5821652,-0.62291014,-0.7180439,-0.7006698,-0.6678773,-0.6088994,-0.65236515,-0.65236515,-0.5821652,-0.58869606,-0.5757311,-0.5757311,-0.56314194,-0.5757311,-0.6088994,-0.644812,-0.6678773,-0.6088994,-0.5693909,-0.73614216,-0.58869606,-0.56314194,-0.5331787,-0.5569816,-0.58869606,-0.5757311,-0.5331787,-0.61584824,-0.6088994,-0.58869606,-0.6088994,-0.5757311,-0.60206,-0.58869606,-0.5953266,-0.6300887,-0.50514996,-0.6300887,-0.6088994,-0.637388,-0.637388,-0.644812,-0.62291014,-0.6758462,-0.644812,-0.51614535,-0.50514996,-0.5569816,-0.6839641,-0.70926994,-0.6839641,-0.61584824,-0.6839641,-0.6758462,-0.5509075,-0.6300887,-0.5693909,-0.644812,-0.56314194,-0.58869606,-0.5509075,-0.6678773,-0.62291014,-0.5821652,-0.5569816,-0.54491717,-0.53900826,-0.53900826,-0.74548215,-0.5821652,-0.6088994,-0.56314194,-0.5569816,-0.5757311,-0.54491717,-0.5331787,-0.6839641,-0.62291014,-0.5821652,-0.6300887,-0.62291014,-0.5757311,-0.61584824,-0.5274264,-0.6678773,-0.5331787,-0.51614535,-0.5569816,-0.73614216,-0.56314194,-0.66005194,-0.6088994,-0.6088994,-0.6839641,-0.62291014,-0.56314194,-0.65236515,-0.6300887,-0.62291014,-0.7180439,-0.5953266,-0.6839641,-0.6088994,-0.5953266,-0.74548215,-0.5821652,-0.48396072,-0.644812,-0.61584824,-0.58869606,-0.5821652,-0.62291014,-0.644812,-0.66005194,-0.60206,-0.58869606,-0.644812,-0.54491717,-0.53900826,-0.5509075,-0.6839641,-0.637388,-0.6922366,-0.48916188,-0.65236515,-0.53900826,-0.62291014,-0.644812,-0.637388,-0.6088994,-0.6922366,-0.60206,-0.6839641,-0.5693909,-0.7006698,-0.53900826,-0.60206,-0.6300887,-0.5821652,-0.5953266,-0.499755,-0.54491717,-0.60206,-0.5509075,-0.6758462,-0.61584824,-0.5509075,-0.58869606,-0.62291014,-0.66005194,-0.5569816,-0.56314194,-0.56314194,-0.6088994,-0.6088994,-0.5274264,-0.6922366,-0.65236515,-0.7747715,-0.62291014,-0.6758462,-0.5693909,-0.61584824,-0.6300887,-0.60206,-0.62291014,-0.58869606,-0.5693909,-0.73614216,-0.5106129,-0.49442616,-0.54491717,-0.5821652,-0.6678773,-0.65236515,-0.6300887,-0.5821652,-0.6088994,-0.62291014,-0.5821652,-0.54491717,-0.53900826,-0.637388,-0.47882104,-0.6300887,-0.5953266,-0.5509075,-0.56314194,-0.5757311,-0.5953266,-0.62291014,-0.5509075,-0.61584824,-0.62291014,-0.5757311,-0.58869606,-0.66005194,-0.56314194,-0.60206,-0.56314194,-0.6678773,-0.51614535,-0.54491717,-0.5509075,-0.644812,-0.5693909,-0.5106129,-0.49442616,-0.637388,-0.5953266,-0.53900826,-0.5569816,-0.58869606,-0.5953266,-0.5331787,-0.6300887,-0.6678773,-0.5693909,-0.5953266,-0.5953266,-0.60206,-0.6758462,-0.6678773,-0.5569816,-0.6839641,-0.62291014,-0.7550275,-0.6758462,-0.49442616,-0.54491717,-0.60206,-0.5693909,-0.61584824,-0.62291014,-0.6300887,-0.6088994,-0.5953266,-0.46872076,-0.5821652,-0.5274264,-0.47882104,-0.62291014,-0.66005194,-0.65236515,-0.7747715,-0.5757311,-0.5821652,-0.644812,-0.53900826,-0.5274264,-0.6300887,-0.6300887,-0.5274264,-0.49442616,-0.5821652,-0.5821652,-0.51614535,-0.61584824,-0.61584824,-0.66005194,-0.5953266,-0.39120662,-0.5331787,-0.5953266,-0.6088994,-0.6088994,-0.5509075,-0.5953266,-0.48396072,-0.5331787,-0.5821652,-0.5509075,-0.6758462,-0.61584824,-0.637388,-0.58869606,-0.56314194,-0.6300887,-0.6088994,-0.6678773,-0.637388,-0.61584824,-0.53900826,-0.5569816,-0.56314194,-0.5821652,-0.72699875,-0.73614216,-0.6088994,-0.644812,-0.62291014,-0.637388,-0.6088994,-0.5693909,-0.62291014,-0.5509075,-0.50514996,-0.58869606,-0.6678773,-0.6300887,-0.56314194,-0.76478726,-0.6300887,-0.52174926,-0.58869606,-0.6300887,-0.6678773,-0.5331787,-0.5953266,-0.65236515,-0.5569816,-0.53900826,-0.61584824,-0.5693909,-0.7006698,-0.52174926,-0.637388,-0.66005194,-0.6088994,-0.5757311,-0.48396072,-0.66005194,-0.5569816,-0.5693909,-0.644812,-0.60206,-0.5821652,-0.6300887,-0.6088994,-0.72699875,-0.6922366,-0.6088994,-0.56314194,-0.60206,-0.6839641,-0.5569816,-0.5509075,-0.637388,-0.6088994,-0.61584824,-0.5757311,-0.6088994,-0.6088994,-0.60206,-0.6758462,-0.58869606,-0.5274264,-0.6922366,-0.6088994,-0.637388,-0.70926994,-0.62291014,-0.5509075,-0.5274264,-0.6839641,-0.644812,-0.62291014,-0.56314194,-0.6678773,-0.56314194,-0.5757311,-0.56314194,-0.61584824,-0.6922366,-0.499755,-0.5693909,-0.48916188,-0.62291014,-0.51614535,-0.5757311,-0.65236515,-0.5274264,-0.66005194,-0.5953266,-0.6300887,-0.637388,-0.644812,-0.61584824,-0.58869606,-0.58869606,-0.6922366,-0.60206,-0.5331787,-0.51614535,-0.53900826,-0.54491717,-0.58869606,-0.6300887,-0.5821652,-0.53900826,-0.58869606,-0.637388,-0.65236515,-0.5569816,-0.5757311,-0.5821652,-0.58869606,-0.60206,-0.61584824,-0.5274264,-0.72699875,-0.644812,-0.5569816,-0.6678773,-0.56314194,-0.58869606,-0.5821652,-0.6300887,-0.7006698,-0.6678773,-0.637388,-0.56314194,-0.66005194,-0.60206,-0.6088994,-0.48916188,-0.637388,-0.5821652,-0.644812,-0.5509075,-0.5953266,-0.5821652,-0.6758462,-0.6088994,-0.5757311,-0.53900826,-0.62291014,-0.5953266,-0.6922366,-0.62291014,-0.5331787,-0.637388,-0.637388,-0.6088994,-0.5953266,-0.5693909,-0.58869606,-0.74548215,-0.48916188,-0.5274264,-0.5509075,-0.54491717,-0.637388,-0.4737415,-0.60206,-0.50514996,-0.58869606,-0.5569816,-0.6758462,-0.5274264,-0.6839641,-0.6839641,-0.5274264,-0.6678773,-0.65236515,-0.5569816,-0.58869606,-0.62291014,-0.6758462,-0.65236515,-0.637388,-0.7180439,-0.72699875,-0.6300887,-0.58869606,-0.6922366,-0.53900826,-0.48916188,-0.5509075,-0.5693909,-0.56314194,-0.62291014,-0.65236515,-0.5953266,-0.56314194,-0.5821652,-0.637388,-0.65236515,-0.53900826,-0.6678773,-0.6088994,-0.54491717,-0.5953266,-0.61584824,-0.5757311,-0.60206,-0.58869606,-0.60206,-0.48396072,-0.5106129,-0.61584824,-0.5953266,-0.58869606,-0.644812,-0.48396072,-0.58869606,-0.644812,-0.54491717,-0.58869606,-0.5821652,-0.61584824,-0.56314194,-0.48916188,-0.51614535,-0.6758462,-0.5953266,-0.54491717,-0.5509075,-0.5693909,-0.644812,-0.51614535,-0.66005194,-0.66005194,-0.5509075,-0.5693909,-0.6088994,-0.51614535,-0.54491717,-0.58869606,-0.65236515,-0.66005194,-0.58869606,-0.6922366,-0.54491717,-0.5331787,-0.5757311,-0.54491717,-0.6922366,-0.62291014,-0.7849907,-0.6300887,-0.6678773,-0.54491717,-0.6300887,-0.46375728,-0.46872076,-0.62291014,-0.6922366,-0.5953266,-0.6088994,-0.637388,-0.637388,-0.6678773,-0.58869606,-0.60206,-0.54491717,-0.7006698,-0.5509075,-0.56314194,-0.50514996,-0.61584824,-0.6088994,-0.6678773,-0.70926994,-0.62291014,-0.5757311,-0.62291014,-0.6300887,-0.5569816,-0.5953266,-0.58869606,-0.644812,-0.6088994,-0.5693909,-0.61584824,-0.65236515,-0.76478726,-0.6758462,-0.5106129,-0.5953266,-0.6758462,-0.53900826,-0.6300887,-0.62291014,-0.61584824,-0.6300887,-0.6758462,-0.644812,-0.637388,-0.5821652,-0.5821652,-0.5106129,-0.5953266,-0.6088994,-0.5509075,-0.5509075,-0.5757311,-0.637388,-0.54491717,-0.7006698,-0.50514996,-0.637388,-0.6088994,-0.61584824,-0.66005194,-0.6088994,-0.6758462,-0.637388,-0.644812,-0.48396072,-0.5953266,-0.56314194,-0.65236515,-0.54491717,-0.6922366,-0.60206,-0.5509075,-0.52174926,-0.54491717,-0.6839641,-0.65236515,-0.62291014,-0.60206,-0.7747715,-0.54491717,-0.51614535,-0.6758462,-0.53900826,-0.60206,-0.5509075,-0.5821652,-0.58869606,-0.58869606,-0.61584824,-0.6678773,-0.65236515,-0.644812,-0.5757311,-0.5953266,-0.72699875,-0.6088994,-0.637388,-0.6758462,-0.644812,-0.53900826,-0.62291014,-0.637388,-0.56314194,-0.72699875,-0.5821652,-0.6922366,-0.5274264,-0.65236515,-0.60206,-0.52174926,-0.53900826,-0.56314194,-0.66005194,-0.644812,-0.54491717,-0.5953266,-0.58869606,-0.5569816,-0.5509075,-0.74548215,-0.6839641,-0.637388,-0.5509075,-0.60206,-0.48916188,-0.6088994,-0.52174926,-0.5821652,-0.53900826,-0.499755,-0.5821652,-0.58869606,-0.54491717,-0.53900826,-0.6088994,-0.66005194,-0.54491717,-0.62291014,-0.51614535,-0.60206,-0.5821652,-0.6839641,-0.56314194,-0.5331787,-0.644812,-0.4737415,-0.6300887,-0.5693909,-0.499755,-0.5821652,-0.5569816,-0.5953266,-0.5569816,-0.62291014,-0.61584824,-0.5821652,-0.58869606,-0.70926994,-0.5509075,-0.5757311,-0.5953266,-0.7006698,-0.61584824,-0.5509075,-0.53900826,-0.6758462,-0.5757311,-0.6678773,-0.53900826,-0.5569816,-0.52174926,-0.6300887,-0.644812,-0.65236515,-0.5953266,-0.61584824,-0.6300887,-0.58869606,-0.6088994,-0.56314194,-0.61584824,-0.58869606,-0.637388,-0.58869606,-0.6922366,-0.6088994,-0.49442616,-0.54491717,-0.6678773,-0.5569816,-0.5106129,-0.7180439,-0.7006698,-0.6758462,-0.65236515,-0.5693909,-0.5757311,-0.6678773,-0.5274264,-0.60206,-0.6300887,-0.60206,-0.5569816,-0.5509075,-0.6300887,-0.66005194,-0.5509075,-0.65236515,-0.58869606,-0.5274264,-0.60206,-0.637388,-0.6839641,-0.6922366,-0.6839641,-0.58869606,-0.6678773,-0.5821652,-0.56314194,-0.54491717,-0.5693909,-0.6088994,-0.52174926,-0.5757311,-0.61584824,-0.80618,-0.6088994,-0.6758462,-0.42596874,-0.62291014,-0.6678773,-0.5106129,-0.6300887,-0.56314194,-0.5757311,-0.644812,-0.637388,-0.5106129,-0.6300887,-0.72699875,-0.5821652,-0.54491717,-0.5569816,-0.58869606,-0.5331787,-0.6300887,-0.56314194,-0.6300887,-0.58869606,-0.65236515,-0.5953266,-0.5331787,-0.644812,-0.6678773,-0.5331787,-0.6839641,-0.5693909,-0.54491717,-0.5821652,-0.5274264,-0.637388,-0.54491717,-0.5509075,-0.5757311,-0.5509075,-0.6678773,-0.61584824,-0.76478726,-0.5106129,-0.56314194,-0.61584824,-0.637388,-0.56314194,-0.5509075,-0.5821652,-0.62291014,-0.5693909,-0.61584824,-0.5757311,-0.6758462,-0.637388,-0.54491717,-0.5693909,-0.61584824,-0.5953266,-0.5821652,-0.53900826,-0.6758462,-0.6088994,-0.6758462,-0.62291014,-0.61584824,-0.65236515,-0.5821652,-0.60206,-0.6839641,-0.7180439,-0.62291014,-0.61584824,-0.5331787,-0.6300887,-0.7550275,-0.6758462,-0.6839641,-0.5331787,-0.6300887,-0.60206,-0.6678773,-0.65236515,-0.5274264,-0.65236515,-0.51614535,-0.52174926,-0.54491717,-0.5757311,-0.61584824,-0.6088994,-0.56314194,-0.6758462,-0.5693909,-0.60206,-0.60206,-0.61584824,-0.61584824,-0.61584824,-0.51614535,-0.6678773,-0.5274264,-0.6300887,-0.637388,-0.5509075,-0.5757311,-0.61584824,-0.5509075,-0.5569816,-0.5693909,-0.48916188,-0.637388,-0.56314194,-0.7006698,-0.6088994,-0.6678773,-0.58869606,-0.5106129,-0.5953266,-0.6678773,-0.6088994,-0.6678773,-0.5509075,-0.5274264,-0.62291014,-0.5693909,-0.6300887,-0.5569816,-0.61584824,-0.66005194,-0.6088994,-0.62291014,-0.6758462,-0.5106129,-0.61584824,-0.53900826,-0.62291014,-0.5953266,-0.53900826,-0.6758462,-0.499755,-0.5953266,-0.6839641,-0.72699875,-0.62291014,-0.53900826,-0.53900826,-0.66005194,-0.5757311,-0.66005194,-0.7006698,-0.5274264,-0.5693909,-0.499755,-0.51614535,-0.499755,-0.43975705,-0.5274264,-0.51614535,-0.5693909,-0.62291014,-0.5569816,-0.5821652,-0.58869606,-0.6758462,-0.5569816,-0.52174926,-0.5821652,-0.5757311,-0.5953266,-0.5821652,-0.6300887,-0.5821652,-0.58869606,-0.58869606,-0.5693909,-0.5821652,-0.5953266,-0.5953266,-0.5757311,-0.5693909,-0.5693909,-0.65236515,-0.5693909,-0.7954562,-0.61584824,-0.6678773,-0.6678773,-0.58869606,-0.60206,-0.5953266,-0.5569816,-0.48916188,-0.5821652,-0.5331787,-0.65236515,-0.5953266,-0.6300887,-0.6300887,-0.644812,-0.56314194,-0.644812,-0.58869606,-0.62291014,-0.72699875,-0.499755,-0.62291014,-0.58869606,-0.52174926,-0.58869606,-0.61584824,-0.53900826,-0.60206,-0.60206,-0.5693909,-0.61584824,-0.74548215,-0.65236515,-0.5509075,-0.5757311,-0.60206,-0.6758462,-0.6300887,-0.56314194,-0.5757311,-0.6088994,-0.62291014,-0.5953266,-0.60206,-0.65236515,-0.60206,-0.637388,-0.74548215,-0.637388,-0.5757311,-0.5569816,-0.61584824,-0.49442616,-0.6839641,-0.644812,-0.5693909,-0.56314194,-0.61584824,-0.5953266,-0.6678773,-0.66005194,-0.66005194,-0.6678773,-0.6922366,-0.58869606,-0.61584824,-0.5757311,-0.6300887,-0.60206,-0.6758462,-0.54491717,-0.5509075,-0.5274264,-0.61584824,-0.61584824,-0.637388,-0.56314194,-0.5331787,-0.5693909,-0.47882104,-0.48396072,-0.5693909,-0.54491717,-0.52174926,-0.644812,-0.5693909,-0.644812,-0.61584824,-0.6839641,-0.56314194,-0.66005194,-0.5757311,-0.6678773,-0.66005194,-0.6758462,-0.62291014,-0.6678773,-0.7006698,-0.53900826,-0.5953266,-0.5693909,-0.5757311,-0.644812,-0.54491717,-0.5106129,-0.5821652,-0.644812,-0.637388,-0.5821652,-0.60206,-0.5757311,-0.5693909,-0.47882104,-0.6839641,-0.54491717,-0.48396072,-0.70926994,-0.65236515,-0.5693909,-0.5509075,-0.58869606,-0.62291014,-0.5569816,-0.58869606,-0.65236515,-0.5821652,-0.5693909,-0.6678773,-0.66005194,-0.5953266,-0.65236515,-0.5693909,-0.5569816,-0.5693909,-0.5693909,-0.76478726,-0.6758462,-0.5693909,-0.56314194,-0.5274264,-0.66005194,-0.6678773,-0.5757311,-0.5953266,-0.61584824,-0.644812,-0.66005194,-0.6678773,-0.6300887,-0.6839641,-0.53900826,-0.58869606,-0.5757311,-0.60206,-0.6300887,-0.52174926,-0.7006698,-0.58869606,-0.62291014,-0.5509075,-0.7006698,-0.58869606,-0.72699875,-0.6922366,-0.637388,-0.58869606,-0.51614535,-0.52174926,-0.5509075,-0.644812,-0.56314194,-0.637388,-0.644812,-0.6300887,-0.5757311,-0.6758462,-0.5509075,-0.5569816,-0.5757311,-0.5953266,-0.56314194,-0.644812,-0.62291014,-0.66005194,-0.60206,-0.5757311,-0.5331787,-0.6839641,-0.6088994,-0.5106129,-0.5569816,-0.5509075,-0.5757311,-0.65236515,-0.70926994,-0.6839641,-0.5693909,-0.62291014,-0.644812,-0.58869606,-0.5509075,-0.53900826,-0.6678773,-0.5693909,-0.6300887,-0.6088994,-0.5693909,-0.6300887,-0.65236515,-0.5821652,-0.6088994,-0.6839641,-0.6300887,-0.60206,-0.65236515,-0.5693909,-0.61584824,-0.8284564,-0.7954562,-0.51614535,-0.5693909,-0.65236515,-0.6758462,-0.637388,-0.6758462,-0.5757311,-0.58869606,-0.5821652,-0.7006698,-0.644812,-0.6300887,-0.58869606,-0.5821652,-0.6678773,-0.62291014,-0.5509075,-0.61584824,-0.6839641,-0.61584824,-0.5331787,-0.6678773,-0.7180439,-0.5953266,-0.5106129,-0.58869606,-0.50514996,-0.5757311,-0.70926994,-0.637388,-0.5693909,-0.7180439,-0.5331787,-0.54491717,-0.60206,-0.6088994,-0.61584824,-0.5821652,-0.6758462,-0.61584824,-0.65236515,-0.62291014,-0.5274264,-0.6088994,-0.5757311,-0.6300887,-0.6300887,-0.6300887,-0.61584824,-0.60206,-0.53900826,-0.6758462,-0.6300887,-0.6300887,-0.5821652,-0.70926994,-0.644812,-0.60206,-0.5106129,-0.637388,-0.5693909,-0.52174926,-0.62291014,-0.637388,-0.5693909,-0.54491717,-0.6088994,-0.58869606,-0.54491717,-0.5953266,-0.66005194,-0.53900826,-0.637388,-0.5953266,-0.62291014,-0.56314194,-0.65236515,-0.60206,-0.5821652,-0.6088994,-0.5693909,-0.60206,-0.5757311,-0.644812,-0.5693909,-0.5757311,-0.43511212,-0.56314194,-0.5757311,-0.6922366,-0.58869606,-0.60206,-0.5821652,-0.58869606,-0.53900826,-0.66005194,-0.5274264,-0.6758462,-0.53900826,-0.644812,-0.5821652,-0.66005194,-0.58869606,-0.499755,-0.53900826,-0.6300887,-0.65236515,-0.65236515,-0.6088994,-0.66005194,-0.644812,-0.76478726,-0.5274264,-0.5953266,-0.5693909,-0.61584824,-0.60206,-0.5331787,-0.6758462,-0.5569816,-0.6839641,-0.65236515,-0.47882104,-0.6922366,-0.48396072,-0.62291014,-0.637388,-0.637388,-0.5953266,-0.5953266,-0.5953266,-0.56314194,-0.58869606,-0.5821652,-0.54491717,-0.60206,-0.52174926,-0.58869606,-0.65236515,-0.46872076,-0.5693909,-0.5757311,-0.5757311,-0.5953266,-0.58869606,-0.6758462,-0.6678773,-0.72699875,-0.53900826,-0.56314194,-0.50514996,-0.5509075,-0.6088994,-0.644812,-0.53900826,-0.5693909,-0.6839641,-0.5821652,-0.5569816,-0.6300887,-0.66005194,-0.6758462,-0.6922366,-0.61584824,-0.637388,-0.66005194,-0.65236515,-0.6088994,-0.49442616,-0.5509075,-0.6758462,-0.61584824,-0.6300887,-0.62291014,-0.56314194,-0.5953266,-0.53900826,-0.52174926,-0.637388,-0.6088994,-0.62291014,-0.7006698,-0.6300887,-0.61584824,-0.5274264,-0.6088994,-0.499755,-0.62291014,-0.56314194,-0.54491717,-0.5509075,-0.62291014,-0.5821652,-0.5693909,-0.6300887,-0.637388,-0.5106129,-0.6678773,-0.5953266,-0.66005194,-0.70926994,-0.58869606,-0.5509075,-0.6300887,-0.6678773,-0.5757311,-0.6300887,-0.61584824,-0.56314194,-0.644812,-0.62291014,-0.62291014,-0.65236515,-0.62291014,-0.62291014,-0.60206,-0.6300887,-0.5569816,-0.56314194,-0.62291014,-0.5509075,-0.62291014,-0.56314194,-0.66005194,-0.6758462,-0.53900826,-0.70926994,-0.56314194,-0.6758462,-0.5953266,-0.58869606,-0.61584824,-0.5274264,-0.62291014,-0.58869606,-0.5953266,-0.62291014,-0.5569816,-0.5331787,-0.50514996,-0.5693909,-0.58869606,-0.66005194,-0.50514996,-0.5757311,-0.62291014,-0.5106129,-0.62291014,-0.62291014,-0.66005194,-0.6088994,-0.65236515,-0.5693909,-0.56314194,-0.7006698,-0.644812,-0.6300887,-0.56314194,-0.46375728,-0.5569816,-0.6300887,-0.62291014,-0.5821652,-0.5821652,-0.5953266,-0.5509075,-0.61584824,-0.6922366,-0.5331787,-0.53900826,-0.5953266,-0.6300887,-0.65236515,-0.61584824,-0.65236515,-0.58869606,-0.5953266,-0.5509075,-0.65236515,-0.61584824,-0.6088994,-0.637388,-0.5953266,-0.56314194,-0.5569816,-0.74548215,-0.65236515,-0.56314194,-0.637388,-0.62291014,-0.51614535,-0.6300887,-0.50514996,-0.6300887,-0.62291014,-0.6839641,-0.6300887,-0.5757311,-0.6088994,-0.6922366,-0.58869606,-0.6678773,-0.5821652,-0.6088994,-0.5953266,-0.5693909,-0.5757311,-0.6088994,-0.60206,-0.5757311,-0.5757311,-0.6758462,-0.60206,-0.56314194,-0.637388,-0.637388,-0.60206,-0.60206,-0.60206,-0.6300887,-0.66005194,-0.51614535,-0.54491717,-0.5693909,-0.6088994,-0.56314194,-0.6300887,-0.62291014,-0.5821652,-0.4737415,-0.5821652,-0.5569816,-0.6678773,-0.5821652,-0.50514996,-0.644812,-0.51614535,-0.5757311,-0.5821652,-0.5757311,-0.5757311,-0.5953266,-0.56314194,-0.5953266,-0.637388,-0.5274264,-0.637388,-0.5274264,-0.6088994,-0.6758462,-0.6678773,-0.5509075,-0.60206,-0.5693909,-0.5821652,-0.5274264,-0.6300887,-0.5757311,-0.6088994,-0.5757311,-0.65236515,-0.5274264,-0.66005194,-0.58869606,-0.6088994,-0.5106129,-0.61584824,-0.6678773,-0.62291014,-0.5953266,-0.60206,-0.5757311,-0.60206,-0.60206,-0.644812,-0.53900826,-0.6088994,-0.6300887,-0.5569816,-0.7180439,-0.6300887,-0.60206,-0.5274264,-0.54491717,-0.637388,-0.61584824,-0.60206,-0.5953266,-0.54491717,-0.5509075,-0.52174926,-0.65236515,-0.56314194,-0.5509075,-0.6839641,-0.60206,-0.66005194,-0.6088994,-0.5953266,-0.56314194,-0.5953266,-0.58869606,-0.51614535,-0.5693909,-0.6300887,-0.62291014,-0.6922366,-0.6088994,-0.66005194,-0.70926994,-0.62291014,-0.6839641,-0.6088994,-0.47882104,-0.5274264,-0.5509075,-0.6088994,-0.56314194,-0.72699875,-0.5757311,-0.637388,-0.637388,-0.61584824,-0.56314194,-0.6758462,-0.58869606,-0.6758462,-0.6300887,-0.6839641,-0.5569816,-0.65236515,-0.52174926,-0.54491717,-0.5274264,-0.637388,-0.61584824,-0.51614535,-0.60206,-0.5821652,-0.5274264,-0.6088994,-0.6300887,-0.58869606,-0.5757311,-0.65236515,-0.5757311,-0.5331787,-0.6678773,-0.49442616,-0.5953266,-0.5757311,-0.61584824,-0.61584824,-0.5821652,-0.5953266,-0.61584824,-0.66005194,-0.65236515,-0.6300887,-0.62291014,-0.5693909,-0.53900826,-0.5953266,-0.6088994,-0.66005194,-0.5821652,-0.6678773,-0.62291014,-0.61584824,-0.8171754,-0.60206,-0.5757311,-0.6758462,-0.5509075,-0.58869606,-0.60206,-0.5953266,-0.5274264,-0.5569816,-0.7180439,-0.637388,-0.6839641,-0.6922366,-0.5953266,-0.5953266,-0.61584824,-0.54491717,-0.5693909,-0.6758462,-0.6088994,-0.499755,-0.60206,-0.5509075,-0.637388,-0.5509075,-0.5693909,-0.61584824,-0.5693909,-0.644812,-0.6758462,-0.66005194,-0.73614216,-0.65236515,-0.5757311,-0.5953266,-0.60206,-0.5757311,-0.47882104,-0.61584824,-0.52174926,-0.66005194,-0.61584824,-0.5757311,-0.6839641,-0.6088994,-0.5953266,-0.70926994,-0.65236515,-0.54491717,-0.54491717,-0.5509075,-0.56314194,-0.58869606,-0.6758462,-0.66005194,-0.637388,-0.54491717,-0.60206,-0.5106129,-0.50514996,-0.60206,-0.5953266,-0.54491717,-0.66005194,-0.6088994,-0.5509075,-0.5757311,-0.53900826,-0.6088994,-0.53900826,-0.65236515,-0.62291014,-0.66005194,-0.5569816,-0.6678773,-0.5821652,-0.5693909,-0.51614535,-0.5693909,-0.6300887,-0.6300887,-0.6758462,-0.46872076,-0.58869606,-0.61584824,-0.53900826,-0.60206,-0.6678773,-0.5953266,-0.62291014,-0.6839641,-0.644812,-0.65236515,-0.6839641,-0.58869606,-0.5274264,-0.65236515,-0.5693909,-0.6678773,-0.5569816,-0.5953266,-0.6088994,-0.637388,-0.5331787,-0.58869606,-0.66005194,-0.51614535,-0.6922366,-0.5569816,-0.70926994,-0.5757311,-0.6300887,-0.58869606,-0.60206,-0.6300887,-0.66005194,-0.6839641,-0.5693909,-0.6678773,-0.65236515,-0.5821652,-0.56314194,-0.637388,-0.5569816,-0.5569816,-0.5953266,-0.51614535,-0.5693909,-0.6839641,-0.56314194,-0.5953266,-0.66005194,-0.6758462,-0.61584824,-0.61584824,-0.51614535,-0.5509075,-0.5569816,-0.54491717,-0.637388,-0.62291014,-0.637388,-0.5693909,-0.5331787,-0.58869606,-0.61584824,-0.62291014,-0.5693909,-0.499755,-0.6758462,-0.5757311,-0.65236515,-0.6922366,-0.6300887,-0.637388,-0.61584824,-0.61584824,-0.5106129,-0.54491717,-0.5569816,-0.5509075,-0.5693909,-0.5693909,-0.6839641,-0.66005194,-0.5757311,-0.5509075,-0.60206,-0.5509075,-0.58869606,-0.5693909,-0.6300887,-0.6839641,-0.66005194,-0.60206,-0.65236515,-0.66005194,-0.65236515,-0.637388,-0.54491717,-0.5509075,-0.5757311,-0.52174926,-0.61584824,-0.53900826,-0.70926994,-0.6088994,-0.5757311,-0.56314194,-0.52174926,-0.60206,-0.637388,-0.54491717,-0.5821652,-0.53900826,-0.5953266,-0.5757311,-0.5757311,-0.5274264,-0.54491717,-0.70926994,-0.5953266,-0.49442616,-0.6678773,-0.5331787,-0.6300887,-0.48916188,-0.60206,-0.61584824,-0.6678773,-0.5821652,-0.58869606,-0.53900826,-0.5509075,-0.5953266,-0.58869606,-0.5509075,-0.56314194,-0.6300887,-0.5757311,-0.6088994,-0.637388,-0.60206,-0.61584824,-0.637388,-0.61584824,-0.7006698,-0.6839641,-0.5509075,-0.5757311,-0.62291014,-0.6758462,-0.60206,-0.6678773,-0.6300887,-0.51614535,-0.60206,-0.6758462,-0.5274264,-0.51614535,-0.5953266,-0.56314194,-0.5757311,-0.6839641,-0.53900826,-0.54491717,-0.644812,-0.54491717,-0.6300887,-0.5106129,-0.5569816,-0.637388,-0.6300887,-0.637388,-0.6758462,-0.5274264,-0.5953266,-0.6758462,-0.5693909,-0.644812,-0.5953266,-0.6088994,-0.62291014,-0.5821652,-0.62291014,-0.6088994,-0.61584824,-0.56314194,-0.58869606,-0.62291014,-0.66005194,-0.58869606,-0.5821652,-0.5569816,-0.6088994,-0.6678773,-0.637388,-0.66005194,-0.60206,-0.5693909,-0.56314194,-0.53900826,-0.70926994,-0.5274264,-0.7006698,-0.6088994,-0.58869606,-0.56314194,-0.76478726,-0.5953266,-0.58869606,-0.637388,-0.65236515,-0.5693909,-0.6088994,-0.62291014,-0.58869606,-0.60206,-0.5509075,-0.50514996,-0.5509075,-0.65236515,-0.48396072,-0.53900826,-0.5757311,-0.60206,-0.5106129,-0.5693909,-0.6678773,-0.5953266,-0.5953266,-0.61584824,-0.65236515,-0.5757311,-0.5757311,-0.644812,-0.5509075,-0.5757311,-0.58869606,-0.6839641,-0.72699875,-0.6300887,-0.60206,-0.644812,-0.5509075,-0.53900826,-0.5821652,-0.50514996,-0.61584824,-0.58869606,-0.5953266,-0.58869606,-0.61584824,-0.5757311,-0.6088994,-0.5509075,-0.5757311,-0.54491717,-0.52174926,-0.6758462,-0.644812,-0.5821652,-0.5953266,-0.62291014,-0.52174926,-0.51614535,-0.54491717,-0.61584824,-0.637388,-0.50514996,-0.62291014,-0.56314194,-0.61584824,-0.53900826,-0.5757311,-0.5953266,-0.637388,-0.60206,-0.5569816,-0.5509075,-0.58869606,-0.5331787,-0.62291014,-0.5757311,-0.52174926,-0.54491717,-0.62291014,-0.5693909,-0.6300887,-0.66005194,-0.5821652,-0.637388,-0.6088994,-0.644812,-0.5569816,-0.53900826,-0.61584824,-0.58869606,-0.5757311,-0.58869606,-0.6839641,-0.5693909,-0.73614216,-0.62291014,-0.6758462,-0.60206,-0.6300887,-0.60206,-0.60206,-0.60206,-0.65236515,-0.5821652,-0.6839641,-0.637388,-0.66005194,-0.56314194,-0.5693909,-0.60206,-0.65236515,-0.6300887,-0.60206,-0.60206,-0.5953266,-0.5953266,-0.61584824,-0.58869606,-0.5953266,-0.56314194,-0.52174926,-0.58869606,-0.61584824,-0.53900826,-0.5953266,-0.5693909,-0.5821652,-0.58869606,-0.6678773,-0.56314194,-0.6088994,-0.58869606,-0.54491717,-0.644812,-0.6758462,-0.6839641,-0.66005194,-0.5509075,-0.6922366,-0.5331787,-0.47882104,-0.5821652,-0.6678773,-0.60206,-0.5757311,-0.6758462,-0.53900826,-0.62291014,-0.56314194,-0.58869606,-0.637388,-0.53900826,-0.5953266,-0.54491717,-0.5757311,-0.58869606,-0.72699875,-0.62291014,-0.7006698,-0.5821652,-0.5821652,-0.53900826,-0.5274264,-0.66005194,-0.5757311,-0.5569816,-0.499755,-0.5569816,-0.5274264,-0.5274264,-0.62291014,-0.5509075,-0.6300887,-0.637388,-0.60206,-0.5569816,-0.61584824,-0.5821652,-0.5953266,-0.48396072,-0.5757311,-0.65236515,-0.49442616,-0.6300887,-0.6922366,-0.6922366,-0.5953266,-0.66005194,-0.6300887,-0.61584824,-0.60206,-0.53900826,-0.5757311,-0.58869606,-0.6922366,-0.61584824,-0.5757311,-0.56314194,-0.5509075,-0.5821652,-0.5953266,-0.637388,-0.65236515,-0.6758462,-0.48916188,-0.637388,-0.7006698,-0.644812,-0.65236515,-0.60206,-0.637388,-0.5106129,-0.6758462,-0.5509075,-0.644812,-0.5757311,-0.58869606,-0.5693909,-0.72699875,-0.5106129,-0.5509075,-0.60206,-0.65236515,-0.54491717,-0.56314194,-0.65236515,-0.53900826,-0.644812,-0.637388,-0.62291014,-0.5953266,-0.53900826,-0.54491717,-0.56314194,-0.5821652,-0.6922366,-0.6678773,-0.65236515,-0.5757311,-0.644812,-0.6678773,-0.6678773,-0.66005194,-0.5757311,-0.5569816,-0.65236515,-0.644812,-0.65236515,-0.5757311,-0.6758462,-0.62291014,-0.70926994,-0.644812,-0.60206,-0.6300887,-0.5693909,-0.5821652,-0.5821652,-0.54491717,-0.58869606,-0.6088994,-0.5953266,-0.6678773,-0.5693909,-0.637388,-0.62291014,-0.5821652,-0.60206,-0.58869606,-0.58869606,-0.58869606,-0.5693909,-0.65236515,-0.65236515,-0.53900826,-0.58869606,-0.58869606,-0.637388,-0.65236515,-0.5569816,-0.5509075,-0.53900826,-0.6678773,-0.644812,-0.62291014,-0.54491717,-0.5693909,-0.6678773,-0.61584824,-0.5106129,-0.5693909,-0.61584824,-0.5274264,-0.58869606,-0.5274264,-0.5953266,-0.58869606,-0.6088994,-0.5693909,-0.66005194,-0.5757311,-0.70926994,-0.66005194,-0.644812,-0.58869606,-0.62291014,-0.61584824,-0.62291014,-0.60206,-0.5509075,-0.58869606,-0.7550275,-0.51614535,-0.6758462,-0.58869606,-0.5953266,-0.5569816,-0.65236515,-0.61584824,-0.637388,-0.4737415,-0.54491717,-0.6678773,-0.6922366,-0.644812,-0.5331787,-0.5693909,-0.5569816,-0.50514996,-0.5757311,-0.56314194,-0.58869606,-0.60206,-0.58869606,-0.5757311,-0.6088994,-0.6088994,-0.60206,-0.51614535,-0.5953266,-0.6678773,-0.51614535,-0.60206,-0.54491717,-0.60206,-0.65236515,-0.7006698,-0.6922366,-0.5331787,-0.5331787,-0.637388,-0.5757311,-0.65236515,-0.637388,-0.5509075,-0.61584824,-0.6300887,-0.53900826,-0.6088994,-0.5509075,-0.60206,-0.49442616,-0.73614216,-0.54491717,-0.644812,-0.644812,-0.5821652,-0.644812,-0.54491717,-0.62291014,-0.65236515,-0.6922366,-0.60206,-0.54491717,-0.6088994,-0.58869606,-0.5331787,-0.6758462,-0.6758462,-0.6088994,-0.6300887,-0.5274264,-0.5821652,-0.5569816,-0.52174926,-0.644812,-0.5821652,-0.52174926,-0.51614535,-0.51614535,-0.5953266,-0.62291014,-0.53900826,-0.56314194,-0.6088994,-0.4737415,-0.6678773,-0.54491717,-0.60206,-0.5953266,-0.61584824,-0.5106129,-0.6300887,-0.61584824,-0.5693909,-0.56314194,-0.6300887,-0.5953266,-0.6300887,-0.644812,-0.6088994,-0.5757311,-0.60206,-0.5953266,-0.5821652,-0.7180439,-0.5953266,-0.6839641,-0.6088994,-0.61584824,-0.60206,-0.6678773,-0.7006698,-0.637388,-0.61584824,-0.6300887,-0.65236515,-0.58869606,-0.5821652,-0.62291014,-0.6758462,-0.637388,-0.60206,-0.5509075,-0.6300887,-0.58869606,-0.60206,-0.7180439,-0.5569816,-0.54491717,-0.6300887,-0.637388,-0.5953266,-0.5331787,-0.5693909,-0.56314194,-0.52174926,-0.7849907,-0.6300887,-0.61584824,-0.70926994,-0.644812,-0.62291014,-0.6678773,-0.6088994,-0.7180439,-0.6678773,-0.61584824,-0.5953266,-0.60206,-0.65236515,-0.6088994,-0.52174926,-0.6300887,-0.7006698,-0.58869606,-0.5757311,-0.5509075,-0.5569816,-0.5953266,-0.5274264,-0.61584824,-0.5274264,-0.56314194,-0.58869606,-0.5509075,-0.6758462,-0.58869606,-0.5509075,-0.53900826,-0.644812,-0.5569816,-0.5757311,-0.6678773,-0.5693909,-0.5757311,-0.62291014,-0.6088994,-0.5821652,-0.5331787,-0.5821652,-0.58869606,-0.644812,-0.66005194,-0.637388,-0.65236515,-0.5953266,-0.5693909,-0.62291014,-0.5693909,-0.499755,-0.644812,-0.54491717,-0.54491717,-0.52174926,-0.6922366,-0.5274264,-0.6300887,-0.5106129,-0.6678773,-0.6758462,-0.6300887,-0.60206,-0.72699875,-0.56314194,-0.56314194,-0.56314194,-0.52174926,-0.70926994,-0.65236515,-0.65236515,-0.54491717,-0.58869606,-0.5953266,-0.5509075,-0.5509075,-0.5757311,-0.65236515,-0.5693909,-0.49442616,-0.637388,-0.61584824,-0.5569816,-0.644812,-0.61584824,-0.50514996,-0.62291014,-0.6678773,-0.65236515,-0.58869606,-0.51614535,-0.6300887,-0.5509075,-0.6300887,-0.6758462,-0.62291014,-0.6678773,-0.5693909,-0.54491717,-0.70926994,-0.61584824,-0.5569816,-0.5569816,-0.65236515,-0.60206,-0.73614216,-0.61584824,-0.6300887,-0.6088994,-0.62291014,-0.60206,-0.5821652,-0.62291014,-0.6300887,-0.5693909,-0.637388,-0.5953266,-0.60206,-0.61584824,-0.61584824,-0.58869606,-0.5953266,-0.5569816,-0.60206,-0.58869606,-0.7849907,-0.60206,-0.61584824,-0.644812,-0.73614216,-0.61584824,-0.5331787,-0.5953266,-0.6300887,-0.5274264,-0.70926994,-0.58869606,-0.66005194,-0.644812,-0.61584824,-0.644812,-0.54491717,-0.644812,-0.6922366,-0.637388,-0.61584824,-0.6839641,-0.637388,-0.58869606,-0.5757311,-0.5569816,-0.5821652,-0.5953266,-0.5757311,-0.60206,-0.60206,-0.56314194,-0.51614535,-0.6758462,-0.5693909,-0.56314194,-0.6300887,-0.7180439,-0.56314194,-0.6088994,-0.6088994,-0.7006698,-0.60206,-0.54491717,-0.65236515,-0.53900826,-0.6300887,-0.60206,-0.6088994,-0.637388,-0.65236515,-0.56314194,-0.644812,-0.6088994,-0.5509075,-0.7180439,-0.6300887,-0.7006698,-0.5821652,-0.53900826,-0.5106129,-0.637388,-0.60206,-0.6300887,-0.5821652,-0.53900826,-0.5693909,-0.70926994,-0.52174926,-0.53900826,-0.61584824,-0.5821652,-0.50514996,-0.5569816,-0.6678773,-0.58869606,-0.5274264,-0.5569816,-0.7180439,-0.5821652,-0.7180439,-0.5331787,-0.48916188,-0.61584824,-0.7006698,-0.61584824,-0.61584824,-0.637388,-0.7006698,-0.66005194,-0.6758462,-0.66005194,-0.5693909,-0.66005194,-0.60206,-0.56314194,-0.644812,-0.6678773,-0.5509075,-0.7954562,-0.6300887,-0.5757311,-0.72699875,-0.65236515,-0.7180439,-0.5821652,-0.6758462,-0.56314194,-0.60206,-0.62291014,-0.53900826,-0.637388,-0.644812,-0.53900826,-0.637388,-0.62291014,-0.644812,-0.6088994,-0.65236515,-0.6300887,-0.5953266,-0.6088994,-0.58869606,-0.5569816,-0.5953266,-0.58869606,-0.61584824,-0.46872076,-0.58869606,-0.644812,-0.66005194,-0.6758462,-0.65236515,-0.66005194,-0.5821652,-0.49442616,-0.60206,-0.65236515,-0.60206,-0.61584824,-0.7180439,-0.58869606,-0.66005194,-0.6300887,-0.73614216,-0.58869606,-0.644812,-0.53900826,-0.5693909,-0.644812,-0.53900826,-0.637388,-0.5509075,-0.56314194,-0.61584824,-0.65236515,-0.5757311,-0.5274264,-0.6922366,-0.58869606,-0.6088994,-0.5331787,-0.5569816,-0.5274264,-0.60206,-0.65236515,-0.58869606,-0.644812,-0.5331787,-0.5693909,-0.644812,-0.6758462,-0.6088994,-0.637388,-0.5509075,-0.5569816,-0.6678773,-0.50514996,-0.6758462,-0.60206,-0.6678773,-0.6839641,-0.5953266,-0.65236515,-0.60206,-0.56314194,-0.5693909,-0.644812,-0.637388,-0.65236515,-0.6300887,-0.65236515,-0.6088994,-0.5274264,-0.6088994,-0.5274264,-0.61584824,-0.66005194,-0.60206,-0.5953266,-0.66005194,-0.56314194,-0.56314194,-0.48916188,-0.5953266,-0.61584824,-0.52174926,-0.5331787,-0.72699875,-0.60206,-0.53900826,-0.60206,-0.5331787,-0.5569816,-0.5821652,-0.52174926,-0.60206,-0.5569816,-0.5274264,-0.65236515,-0.60206,-0.53900826,-0.6839641,-0.5509075,-0.5693909,-0.5569816,-0.58869606,-0.60206,-0.5953266,-0.5821652,-0.5569816,-0.6922366,-0.6300887,-0.637388,-0.6088994,-0.51614535,-0.70926994,-0.6300887,-0.54491717,-0.56314194,-0.65236515,-0.5757311,-0.53900826,-0.644812,-0.5821652,-0.50514996,-0.5693909,-0.637388,-0.6300887,-0.6678773,-0.6758462,-0.6088994,-0.65236515,-0.637388,-0.637388,-0.499755,-0.65236515,-0.5274264,-0.61584824,-0.7006698,-0.58869606,-0.7006698,-0.58869606,-0.65236515,-0.5821652,-0.637388,-0.65236515,-0.5509075,-0.61584824,-0.58869606,-0.5331787,-0.5331787,-0.60206,-0.70926994,-0.6300887,-0.644812,-0.644812,-0.6839641,-0.5821652,-0.5953266,-0.5821652,-0.73614216,-0.6758462,-0.60206,-0.5757311,-0.5821652,-0.7006698,-0.74548215,-0.62291014,-0.54491717,-0.644812,-0.54491717,-0.62291014,-0.5693909,-0.58869606,-0.56314194,-0.4305164,-0.5693909,-0.5821652,-0.65236515,-0.6758462,-0.6300887,-0.66005194,-0.70926994,-0.5757311,-0.6300887,-0.6088994,-0.5274264,-0.637388,-0.70926994,-0.5693909,-0.5821652,-0.62291014,-0.62291014,-0.6088994,-0.5106129,-0.72699875,-0.51614535,-0.7550275,-0.6839641,-0.5693909,-0.644812,-0.5509075,-0.5821652,-0.58869606,-0.644812,-0.62291014,-0.6088994,-0.5693909,-0.54491717,-0.5693909,-0.6758462,-0.6300887,-0.61584824,-0.72699875,-0.56314194,-0.5509075,-0.5821652,-0.62291014,-0.5331787,-0.644812,-0.5331787,-0.62291014,-0.5821652,-0.5757311,-0.7180439,-0.50514996,-0.5757311,-0.6839641,-0.49442616,-0.5953266,-0.5757311,-0.5953266,-0.5953266,-0.53900826,-0.637388,-0.644812,-0.6300887,-0.5693909,-0.60206,-0.61584824,-0.58869606,-0.5953266,-0.51614535,-0.61584824,-0.61584824,-0.50514996,-0.66005194,-0.52174926,-0.58869606,-0.51614535,-0.58869606,-0.5509075,-0.5953266,-0.644812,-0.5569816,-0.5757311,-0.5331787,-0.644812,-0.62291014,-0.5569816,-0.65236515,-0.6300887,-0.6678773,-0.6839641,-0.6678773,-0.6088994,-0.637388,-0.637388,-0.637388,-0.5509075,-0.6758462,-0.65236515,-0.62291014,-0.6678773,-0.66005194,-0.65236515,-0.5821652,-0.51614535,-0.5569816,-0.7006698,-0.644812,-0.70926994,-0.5693909,-0.5106129,-0.5693909,-0.58869606,-0.50514996,-0.58869606,-0.644812,-0.5509075,-0.5821652,-0.6088994,-0.61584824,-0.66005194,-0.6300887,-0.6088994,-0.5821652,-0.73614216,-0.65236515,-0.6678773,-0.62291014,-0.65236515,-0.5693909,-0.6300887,-0.52174926,-0.6678773,-0.6839641,-0.50514996,-0.61584824,-0.5693909,-0.6300887,-0.6678773,-0.5953266,-0.6300887,-0.49442616,-0.644812,-0.6088994,-0.62291014,-0.66005194,-0.6922366,-0.637388,-0.76478726,-0.5509075,-0.62291014,-0.7006698,-0.60206,-0.62291014,-0.53900826,-0.5821652,-0.51614535,-0.5509075,-0.5757311,-0.6678773,-0.5757311,-0.65236515,-0.6678773,-0.5953266,-0.65236515,-0.6300887,-0.6088994,-0.7006698,-0.6088994,-0.60206,-0.65236515,-0.61584824,-0.5693909,-0.637388,-0.66005194,-0.5821652,-0.72699875,-0.56314194,-0.52174926,-0.70926994,-0.5953266,-0.5757311,-0.48396072,-0.6758462,-0.5274264,-0.637388,-0.6300887,-0.644812,-0.6300887,-0.54491717,-0.66005194,-0.5693909,-0.6088994,-0.54491717,-0.644812,-0.6088994,-0.5821652,-0.6300887,-0.50514996,-0.62291014,-0.54491717,-0.5569816,-0.7180439,-0.5331787,-0.5509075,-0.52174926,-0.5821652,-0.56314194,-0.60206,-0.5953266,-0.62291014,-0.54491717,-0.6088994,-0.5953266,-0.7006698,-0.637388,-0.6678773,-0.60206,-0.66005194,-0.6300887,-0.52174926,-0.58869606,-0.50514996,-0.5693909,-0.54491717,-0.7006698,-0.644812,-0.56314194,-0.5953266,-0.61584824,-0.637388,-0.637388,-0.61584824,-0.53900826,-0.5693909,-0.5821652,-0.5757311,-0.61584824,-0.58869606,-0.5821652,-0.7006698,-0.7180439,-0.637388,-0.58869606,-0.6922366,-0.5757311,-0.6678773,-0.5569816,-0.61584824,-0.637388,-0.637388,-0.5821652,-0.58869606,-0.5953266,-0.5757311,-0.6088994,-0.6088994,-0.637388,-0.60206,-0.62291014,-0.61584824,-0.60206,-0.637388,-0.6922366,-0.644812,-0.5106129,-0.46872076,-0.5953266,-0.5757311,-0.56314194,-0.5569816,-0.5274264,-0.6300887,-0.6678773,-0.5331787,-0.637388,-0.6758462,-0.5757311,-0.5821652,-0.61584824,-0.5569816,-0.65236515,-0.5757311,-0.5693909,-0.5821652,-0.56314194,-0.5821652,-0.5757311,-0.6300887,-0.60206,-0.5693909,-0.644812,-0.5331787,-0.70926994,-0.62291014,-0.6922366,-0.56314194,-0.5331787,-0.65236515,-0.637388,-0.60206,-0.637388,-0.6088994,-0.62291014,-0.7550275,-0.5693909,-0.62291014,-0.73614216,-0.5953266,-0.51614535,-0.644812,-0.6678773,-0.5274264,-0.6088994,-0.644812,-0.5821652,-0.5757311,-0.65236515,-0.6758462,-0.5693909,-0.6088994,-0.54491717,-0.5757311,-0.56314194,-0.62291014,-0.5757311,-0.5693909,-0.6300887,-0.5274264,-0.6839641,-0.58869606,-0.644812,-0.62291014,-0.644812,-0.6300887,-0.6088994,-0.65236515,-0.644812,-0.6300887,-0.5331787,-0.58869606,-0.66005194,-0.61584824,-0.5953266,-0.6922366,-0.6678773,-0.5693909,-0.65236515,-0.5757311,-0.5274264,-0.5693909,-0.66005194,-0.60206,-0.5693909,-0.70926994,-0.60206,-0.60206,-0.6839641,-0.6300887,-0.5106129,-0.6300887,-0.5757311,-0.637388,-0.70926994,-0.5274264,-0.65236515,-0.644812,-0.6922366,-0.5569816,-0.61584824,-0.62291014,-0.60206,-0.5757311,-0.6300887,-0.644812,-0.6300887,-0.7006698,-0.58869606,-0.48916188,-0.65236515,-0.6088994,-0.5757311,-0.51614535,-0.60206,-0.53900826,-0.51614535,-0.61584824,-0.65236515,-0.58869606,-0.5821652,-0.6088994,-0.6839641,-0.51614535,-0.70926994,-0.58869606,-0.51614535,-0.6088994,-0.60206,-0.72699875,-0.5693909,-0.58869606,-0.62291014,-0.5821652,-0.62291014,-0.5821652,-0.62291014,-0.60206,-0.54491717,-0.58869606,-0.51614535,-0.5569816,-0.61584824,-0.499755,-0.56314194,-0.6300887,-0.6758462,-0.58869606,-0.53900826,-0.60206,-0.5821652,-0.637388,-0.66005194,-0.6300887,-0.72699875,-0.5693909,-0.6678773,-0.5569816,-0.58869606,-0.50514996,-0.5953266,-0.5693909,-0.62291014,-0.62291014,-0.5757311,-0.5509075,-0.5821652,-0.61584824,-0.6922366,-0.6088994,-0.5509075,-0.5693909,-0.61584824,-0.7550275,-0.60206,-0.5693909,-0.56314194,-0.5693909,-0.50514996,-0.6678773,-0.5821652,-0.58869606,-0.5331787,-0.62291014,-0.6678773,-0.6300887,-0.6678773,-0.62291014,-0.5106129,-0.61584824,-0.5693909,-0.644812,-0.53900826,-0.6088994,-0.5953266,-0.66005194,-0.5331787,-0.6678773,-0.5757311,-0.48396072,-0.5509075,-0.65236515,-0.5509075,-0.5757311,-0.7180439,-0.65236515,-0.58869606,-0.60206,-0.54491717,-0.644812,-0.6678773,-0.644812,-0.5509075,-0.60206,-0.56314194,-0.5757311,-0.5757311,-0.6300887,-0.62291014,-0.58869606,-0.6088994,-0.51614535,-0.6839641,-0.644812,-0.56314194,-0.56314194,-0.5509075,-0.6758462,-0.637388,-0.637388,-0.5693909,-0.5106129,-0.6088994,-0.5569816,-0.5569816,-0.56314194,-0.49442616,-0.5331787,-0.5953266,-0.6088994,-0.5569816,-0.5693909,-0.66005194,-0.61584824,-0.5693909,-0.5821652,-0.5693909,-0.6839641,-0.5757311,-0.7006698,-0.65236515,-0.6300887,-0.65236515,-0.499755,-0.5509075,-0.6678773,-0.644812,-0.5953266,-0.54491717,-0.5821652,-0.61584824,-0.61584824,-0.5821652,-0.5821652,-0.56314194,-0.56314194,-0.60206,-0.60206,-0.53900826,-0.5274264,-0.5821652,-0.5106129,-0.5821652,-0.60206,-0.58869606,-0.6678773,-0.644812,-0.6922366,-0.5106129,-0.48916188,-0.637388,-0.637388,-0.61584824,-0.54491717,-0.5821652,-0.51614535,-0.60206,-0.5821652,-0.644812,-0.6758462,-0.637388,-0.66005194,-0.66005194,-0.60206,-0.4491986,-0.66005194,-0.65236515,-0.637388,-0.60206,-0.5693909,-0.6922366,-0.56314194,-0.6758462,-0.5757311,-0.73614216,-0.6922366,-0.54491717,-0.66005194,-0.5821652,-0.65236515,-0.58869606,-0.6088994,-0.6758462,-0.5757311,-0.6300887,-0.54491717,-0.5821652,-0.6300887,-0.61584824,-0.60206,-0.6758462,-0.6839641,-0.56314194,-0.61584824,-0.6088994,-0.60206,-0.62291014,-0.62291014,-0.51614535,-0.6300887,-0.45884997,-0.6088994,-0.5274264,-0.53900826,-0.65236515,-0.52174926,-0.61584824,-0.61584824,-0.62291014,-0.56314194,-0.5509075,-0.50514996,-0.6758462,-0.62291014,-0.58869606,-0.6300887,-0.62291014,-0.6088994,-0.6300887,-0.6300887,-0.70926994,-0.644812,-0.5953266,-0.6088994,-0.62291014,-0.5693909,-0.5693909,-0.53900826,-0.6839641,-0.61584824,-0.58869606,-0.53900826,-0.644812,-0.644812,-0.6088994,-0.6300887,-0.6678773,-0.6758462,-0.644812,-0.637388,-0.62291014,-0.58869606,-0.637388,-0.65236515,-0.6088994,-0.5821652,-0.5274264,-0.62291014,-0.76478726,-0.66005194,-0.637388,-0.5953266,-0.644812,-0.644812,-0.62291014,-0.61584824,-0.62291014,-0.65236515,-0.5693909,-0.644812,-0.60206,-0.61584824,-0.58869606,-0.5953266,-0.51614535,-0.5693909,-0.54491717,-0.5509075,-0.637388,-0.6839641,-0.644812,-0.5693909,-0.6088994,-0.6839641,-0.5821652,-0.58869606,-0.5757311,-0.6678773,-0.5693909,-0.5569816,-0.60206,-0.62291014,-0.5509075,-0.644812,-0.48916188,-0.6839641,-0.5693909,-0.5757311,-0.5821652,-0.5757311,-0.61584824,-0.5757311,-0.61584824,-0.52174926,-0.6839641,-0.5693909,-0.5693909,-0.6300887,-0.5274264,-0.58869606,-0.5757311,-0.56314194,-0.48396072,-0.644812,-0.5757311,-0.65236515,-0.62291014,-0.5821652,-0.6088994,-0.60206,-0.58869606,-0.6758462,-0.65236515,-0.62291014,-0.5693909,-0.58869606,-0.5274264,-0.6088994,-0.62291014,-0.5569816,-0.66005194,-0.6922366,-0.5569816,-0.60206,-0.52174926,-0.49442616,-0.61584824,-0.5331787,-0.58869606,-0.60206,-0.5509075,-0.5953266,-0.60206,-0.51614535,-0.52174926,-0.60206,-0.5953266,-0.6300887,-0.56314194,-0.644812,-0.5757311,-0.54491717,-0.61584824,-0.6758462,-0.6922366,-0.6300887,-0.65236515,-0.5509075,-0.5274264,-0.5821652,-0.5953266,-0.6678773,-0.6678773,-0.48916188,-0.5953266,-0.56314194,-0.6839641,-0.5757311,-0.6088994,-0.5757311,-0.6088994,-0.5693909,-0.5331787,-0.65236515,-0.6088994,-0.5953266,-0.5693909,-0.60206,-0.66005194,-0.62291014,-0.65236515,-0.65236515,-0.644812,-0.5953266,-0.5693909,-0.61584824,-0.62291014,-0.5953266,-0.5953266,-0.60206,-0.5569816,-0.62291014,-0.5821652,-0.66005194,-0.6839641,-0.70926994,-0.5821652,-0.70926994,-0.6839641,-0.5693909,-0.5509075,-0.48916188,-0.60206,-0.54491717,-0.5953266,-0.61584824,-0.7180439,-0.5569816,-0.58869606,-0.7180439,-0.5331787,-0.56314194,-0.61584824,-0.5757311,-0.5953266,-0.58869606,-0.5821652,-0.60206,-0.637388,-0.499755,-0.54491717,-0.5821652,-0.5757311,-0.5821652,-0.6758462,-0.5509075,-0.5757311,-0.49442616,-0.7006698,-0.5569816,-0.60206,-0.6678773,-0.6300887,-0.6088994,-0.62291014,-0.5569816,-0.66005194,-0.58869606,-0.6300887,-0.637388,-0.58869606,-0.61584824,-0.6088994,-0.5693909,-0.5953266,-0.7006698,-0.61584824,-0.65236515,-0.6678773,-0.5821652,-0.66005194,-0.5331787,-0.5331787,-0.5274264,-0.56314194,-0.644812,-0.51614535,-0.5693909,-0.7550275,-0.50514996,-0.6758462,-0.6300887,-0.60206,-0.5757311,-0.70926994,-0.56314194,-0.6678773,-0.58869606,-0.60206,-0.65236515,-0.6088994,-0.5821652,-0.6758462,-0.60206,-0.61584824,-0.5757311,-0.5569816,-0.5331787,-0.5331787,-0.58869606,-0.5953266,-0.5274264,-0.6678773,-0.5331787,-0.56314194,-0.6300887,-0.52174926,-0.62291014,-0.56314194,-0.5757311,-0.644812,-0.5106129,-0.5757311,-0.50514996,-0.6088994,-0.66005194,-0.6088994,-0.6088994,-0.644812,-0.60206,-0.65236515,-0.56314194,-0.5693909,-0.58869606,-0.65236515,-0.6839641,-0.60206,-0.6088994,-0.60206,-0.70926994,-0.637388,-0.60206,-0.56314194,-0.61584824,-0.644812,-0.60206,-0.61584824,-0.53900826,-0.60206,-0.56314194,-0.5509075,-0.644812,-0.5953266,-0.6758462,-0.54491717,-0.66005194,-0.6922366,-0.5821652,-0.5509075,-0.54491717,-0.48916188,-0.6300887,-0.6088994,-0.5569816,-0.56314194,-0.70926994,-0.6088994,-0.5569816,-0.6839641,-0.5569816,-0.53900826,-0.5693909,-0.62291014,-0.6300887,-0.637388,-0.5757311,-0.6922366,-0.66005194,-0.5953266,-0.61584824,-0.5331787,-0.5821652,-0.5757311,-0.65236515,-0.58869606,-0.5757311,-0.5274264,-0.5821652,-0.53900826,-0.60206,-0.51614535,-0.66005194,-0.61584824,-0.7180439,-0.58869606,-0.5757311,-0.6088994,-0.5757311,-0.5569816,-0.5953266,-0.61584824,-0.62291014,-0.56314194,-0.637388,-0.65236515,-0.5953266,-0.5953266,-0.58869606,-0.6678773,-0.5569816,-0.62291014,-0.5953266,-0.6088994,-0.6839641,-0.6300887,-0.5509075,-0.61584824,-0.66005194,-0.6088994,-0.62291014,-0.72699875,-0.61584824,-0.62291014,-0.5757311,-0.499755,-0.6758462,-0.6300887,-0.5331787,-0.58869606,-0.52174926,-0.6758462,-0.5569816,-0.70926994,-0.6088994,-0.56314194,-0.644812,-0.61584824,-0.5757311,-0.72699875,-0.52174926,-0.56314194,-0.54491717,-0.7006698,-0.6300887,-0.5953266,-0.56314194,-0.5953266,-0.62291014,-0.6758462,-0.58869606,-0.54491717,-0.70926994,-0.6088994,-0.49442616,-0.5569816,-0.56314194,-0.54491717,-0.6088994,-0.5821652,-0.58869606,-0.6088994,-0.84003824,-0.62291014,-0.5274264,-0.61584824,-0.53900826,-0.60206,-0.5331787,-0.5569816,-0.60206,-0.54491717,-0.62291014,-0.7180439,-0.60206,-0.6678773,-0.7550275,-0.66005194,-0.51614535,-0.51614535,-0.58869606,-0.6300887,-0.5821652,-0.66005194,-0.5953266,-0.56314194,-0.6678773,-0.54491717,-0.54491717,-0.61584824,-0.56314194,-0.637388,-0.60206,-0.62291014,-0.70926994,-0.5757311,-0.5509075,-0.5757311,-0.66005194,-0.5821652,-0.53900826,-0.61584824,-0.644812,-0.7006698,-0.5693909,-0.6088994,-0.5509075,-0.5953266,-0.6758462,-0.65236515,-0.72699875,-0.644812,-0.5821652,-0.5757311,-0.58869606,-0.6758462,-0.65236515,-0.58869606,-0.6088994,-0.644812,-0.6678773,-0.65236515,-0.58869606,-0.6300887,-0.644812,-0.6300887,-0.66005194,-0.5953266,-0.6922366,-0.644812,-0.58869606,-0.53900826,-0.5569816,-0.5569816,-0.73614216,-0.5693909,-0.5509075,-0.6300887,-0.5821652,-0.5569816,-0.5693909,-0.58869606,-0.6922366,-0.5821652,-0.62291014,-0.52174926,-0.58869606,-0.72699875,-0.6922366,-0.5509075,-0.5331787,-0.56314194,-0.61584824,-0.6300887,-0.62291014,-0.61584824,-0.5821652,-0.62291014,-0.5821652,-0.6922366,-0.5953266,-0.54491717,-0.5757311,-0.60206,-0.62291014,-0.52174926,-0.5569816,-0.56314194,-0.62291014,-0.5757311,-0.61584824,-0.5821652,-0.50514996,-0.637388,-0.73614216,-0.62291014,-0.5331787,-0.637388,-0.5693909,-0.53900826,-0.6088994,-0.54491717,-0.6088994,-0.5757311,-0.5331787,-0.7180439,-0.65236515,-0.56314194,-0.5569816,-0.61584824,-0.62291014,-0.53900826,-0.5821652,-0.65236515,-0.62291014,-0.5331787,-0.58869606,-0.60206,-0.6300887,-0.5821652,-0.65236515,-0.5509075,-0.6300887,-0.6758462,-0.62291014,-0.65236515,-0.6758462,-0.61584824,-0.65236515,-0.5757311,-0.50514996,-0.6300887,-0.66005194,-0.6088994,-0.5693909,-0.5693909,-0.62291014,-0.60206,-0.6088994,-0.644812,-0.65236515,-0.54491717,-0.60206,-0.62291014,-0.644812,-0.6922366,-0.5693909,-0.637388,-0.5821652,-0.50514996,-0.58869606,-0.5953266,-0.6839641,-0.54491717,-0.50514996,-0.6758462,-0.7180439,-0.6758462,-0.56314194,-0.58869606,-0.5509075,-0.5821652,-0.6300887,-0.6300887,-0.58869606,-0.5569816,-0.61584824,-0.5693909,-0.6300887,-0.56314194,-0.58869606,-0.5106129,-0.53900826,-0.70926994,-0.56314194,-0.6088994,-0.5821652,-0.5331787,-0.6088994,-0.73614216,-0.6088994,-0.637388,-0.644812,-0.5569816,-0.54491717,-0.62291014,-0.637388,-0.58869606,-0.62291014,-0.5953266,-0.52174926,-0.54491717,-0.47882104,-0.56314194,-0.56314194,-0.644812,-0.5821652,-0.52174926,-0.61584824,-0.61584824,-0.5693909,-0.5953266,-0.5569816,-0.62291014,-0.6839641,-0.46375728,-0.6088994,-0.5693909,-0.5953266,-0.5821652,-0.62291014,-0.62291014,-0.6300887,-0.6758462,-0.5509075,-0.6300887,-0.62291014,-0.6088994,-0.58869606,-0.5274264,-0.5509075,-0.7006698,-0.6922366,-0.60206,-0.644812,-0.62291014,-0.7180439,-0.5757311,-0.61584824,-0.644812,-0.5821652,-0.60206,-0.53900826,-0.66005194,-0.7006698,-0.637388,-0.6300887,-0.637388,-0.5331787,-0.637388,-0.52174926,-0.60206,-0.5821652,-0.6839641,-0.61584824,-0.499755,-0.5693909,-0.5953266,-0.61584824,-0.5693909,-0.58869606,-0.5693909,-0.6300887,-0.637388,-0.6088994,-0.49442616,-0.58869606,-0.66005194,-0.6922366,-0.62291014,-0.6678773,-0.65236515,-0.60206,-0.6678773,-0.644812,-0.54491717,-0.5953266,-0.6922366,-0.5693909,-0.6300887,-0.60206,-0.5274264,-0.58869606,-0.644812,-0.65236515,-0.58869606,-0.60206,-0.5693909,-0.66005194,-0.61584824,-0.62291014,-0.56314194,-0.65236515,-0.54491717,-0.51614535,-0.58869606,-0.65236515,-0.5757311,-0.61584824,-0.5821652,-0.58869606,-0.60206,-0.66005194,-0.5821652,-0.6088994,-0.5953266,-0.6300887,-0.7006698,-0.62291014,-0.53900826,-0.65236515,-0.58869606,-0.5953266,-0.5509075,-0.5509075,-0.58869606,-0.5693909,-0.7180439,-0.6839641,-0.6839641,-0.6088994,-0.53900826,-0.6300887,-0.5569816,-0.637388,-0.5953266,-0.50514996,-0.5757311,-0.53900826,-0.6300887,-0.6839641,-0.73614216,-0.61584824,-0.65236515,-0.7849907,-0.54491717,-0.637388,-0.56314194,-0.6922366,-0.50514996,-0.6758462,-0.637388,-0.60206,-0.637388,-0.54491717,-0.5821652,-0.56314194,-0.5821652,-0.60206,-0.65236515,-0.74548215,-0.644812,-0.637388,-0.61584824,-0.62291014,-0.6758462,-0.62291014,-0.5693909,-0.5953266,-0.70926994,-0.65236515,-0.56314194,-0.54491717,-0.65236515,-0.5274264,-0.6758462,-0.58869606,-0.499755,-0.48916188,-0.58869606,-0.6839641,-0.54491717,-0.5509075,-0.644812,-0.5509075,-0.5953266,-0.62291014,-0.74548215,-0.5821652,-0.6758462,-0.5953266,-0.644812,-0.62291014,-0.73614216,-0.6758462,-0.6922366,-0.5569816,-0.6300887,-0.56314194,-0.52174926,-0.5569816,-0.58869606,-0.6758462,-0.58869606,-0.56314194,-0.644812,-0.70926994,-0.5693909,-0.499755,-0.6758462,-0.60206,-0.5569816,-0.60206,-0.6922366,-0.6088994,-0.5693909,-0.58869606,-0.58869606,-0.7006698,-0.54491717,-0.58869606,-0.5757311,-0.5953266,-0.6922366,-0.5953266,-0.6088994,-0.46872076,-0.62291014,-0.6758462,-0.5274264,-0.53900826,-0.65236515,-0.637388,-0.5693909,-0.6758462,-0.58869606,-0.6758462,-0.53900826,-0.5509075,-0.6678773,-0.637388,-0.5569816,-0.70926994,-0.637388,-0.5106129,-0.60206,-0.58869606,-0.66005194,-0.56314194,-0.65236515,-0.6088994,-0.6300887,-0.73614216,-0.70926994,-0.637388,-0.5569816,-0.60206,-0.5757311,-0.5953266,-0.644812,-0.6678773,-0.6088994,-0.637388,-0.5693909,-0.58869606,-0.5953266,-0.5757311,-0.6678773,-0.5569816,-0.637388,-0.5274264,-0.54491717,-0.49442616,-0.60206,-0.637388,-0.61584824,-0.60206,-0.5274264,-0.644812,-0.5106129,-0.61584824,-0.5693909,-0.60206,-0.5821652,-0.53900826,-0.644812,-0.5953266,-0.5953266,-0.5953266,-0.5757311,-0.5953266,-0.60206,-0.5693909,-0.60206,-0.5953266,-0.58869606,-0.6088994,-0.51614535,-0.6300887,-0.65236515,-0.5953266,-0.6088994,-0.5821652,-0.61584824,-0.52174926,-0.56314194,-0.644812,-0.58869606,-0.58869606,-0.54491717,-0.53900826,-0.6678773,-0.66005194,-0.5509075,-0.6300887,-0.5274264,-0.6678773,-0.60206,-0.58869606,-0.53900826,-0.637388,-0.637388,-0.4737415,-0.6088994,-0.5693909,-0.5757311,-0.5693909,-0.56314194,-0.5569816,-0.70926994,-0.5331787,-0.5331787,-0.5509075,-0.60206,-0.66005194,-0.5953266,-0.637388,-0.61584824,-0.637388,-0.644812,-0.644812,-0.5953266,-0.60206,-0.5821652,-0.6922366,-0.6758462,-0.7006698,-0.7180439,-0.5693909,-0.5953266,-0.60206,-0.6922366,-0.5821652,-0.62291014,-0.65236515,-0.56314194,-0.5821652,-0.6678773,-0.644812,-0.5953266,-0.5821652,-0.6678773,-0.5953266,-0.644812,-0.5757311,-0.65236515,-0.52174926,-0.58869606,-0.6300887,-0.62291014,-0.65236515,-0.60206,-0.6758462,-0.56314194,-0.5757311,-0.70926994,-0.5569816,-0.637388,-0.47882104,-0.73614216,-0.65236515,-0.65236515,-0.6678773,-0.66005194,-0.62291014,-0.6678773,-0.5274264,-0.6300887,-0.54491717,-0.48916188,-0.6300887,-0.58869606,-0.6922366,-0.4305164,-0.65236515,-0.5953266,-0.53900826,-0.66005194,-0.499755,-0.644812,-0.5509075,-0.56314194,-0.66005194,-0.65236515,-0.70926994,-0.5693909,-0.6300887,-0.73614216,-0.58869606,-0.51614535,-0.6300887,-0.60206,-0.637388,-0.60206,-0.58869606,-0.56314194,-0.60206,-0.5693909,-0.48916188,-0.66005194,-0.6678773,-0.61584824,-0.6088994,-0.61584824,-0.6922366,-0.46872076,-0.6922366,-0.6300887,-0.6300887,-0.644812,-0.5569816,-0.50514996,-0.637388,-0.60206,-0.637388,-0.5821652,-0.61584824,-0.5757311,-0.5953266,-0.65236515,-0.5757311,-0.5693909,-0.5693909,-0.51614535,-0.6300887,-0.61584824,-0.54491717,-0.73614216,-0.66005194,-0.5693909,-0.5757311,-0.644812,-0.60206,-0.5953266,-0.5953266,-0.5953266,-0.6300887,-0.5757311,-0.6088994,-0.5569816,-0.5569816,-0.5757311,-0.5331787,-0.65236515,-0.60206,-0.72699875,-0.5274264,-0.6758462,-0.52174926,-0.66005194,-0.5331787,-0.58869606,-0.5757311,-0.56314194,-0.5757311,-0.54491717,-0.65236515,-0.65236515,-0.48396072,-0.48916188,-0.56314194,-0.5274264,-0.5821652,-0.5757311,-0.62291014,-0.6088994,-0.5509075,-0.62291014,-0.5821652,-0.5331787,-0.644812,-0.5274264,-0.644812,-0.5821652,-0.6678773,-0.5274264,-0.637388,-0.6300887,-0.644812,-0.61584824,-0.54491717,-0.5821652,-0.5821652,-0.58869606,-0.58869606,-0.58869606,-0.5757311,-0.6839641,-0.48916188,-0.5331787,-0.6922366,-0.637388,-0.5509075,-0.5757311,-0.58869606,-0.6300887,-0.6300887,-0.5821652,-0.54491717,-0.637388,-0.7006698,-0.54491717,-0.62291014,-0.6088994,-0.60206,-0.5693909,-0.5693909,-0.637388,-0.6088994,-0.644812,-0.58869606,-0.5693909,-0.56314194,-0.61584824,-0.5821652,-0.53900826,-0.5693909,-0.60206,-0.66005194,-0.637388,-0.54491717,-0.46375728,-0.5509075,-0.61584824,-0.50514996,-0.6300887,-0.5569816,-0.62291014,-0.53900826,-0.5569816,-0.6678773,-0.58869606,-0.5693909,-0.66005194,-0.5757311,-0.5693909,-0.6088994,-0.70926994,-0.60206,-0.499755,-0.56314194,-0.58869606,-0.5569816,-0.644812,-0.6922366,-0.56314194,-0.5569816,-0.5821652,-0.5757311,-0.6839641,-0.5569816,-0.6922366,-0.58869606,-0.7006698,-0.54491717,-0.51614535,-0.6678773,-0.58869606,-0.65236515,-0.4737415,-0.6839641,-0.56314194,-0.5757311,-0.5569816,-0.62291014,-0.70926994,-0.637388,-0.5757311,-0.5693909,-0.5693909,-0.65236515,-0.5757311,-0.62291014,-0.6088994,-0.51614535,-0.5821652,-0.62291014,-0.644812,-0.6088994,-0.6839641,-0.51614535,-0.53900826,-0.60206,-0.6678773,-0.5953266,-0.5953266,-0.5569816,-0.5569816,-0.5331787,-0.6088994,-0.48916188,-0.61584824,-0.5757311,-0.7006698,-0.637388,-0.5953266,-0.6088994,-0.5693909,-0.6300887,-0.60206,-0.5757311,-0.65236515,-0.5757311,-0.7180439,-0.637388,-0.58869606,-0.60206,-0.5106129,-0.5953266,-0.5821652,-0.6922366,-0.5953266,-0.46375728,-0.5569816,-0.637388,-0.7180439,-0.6758462,-0.6839641,-0.5106129,-0.644812,-0.637388,-0.5569816,-0.58869606,-0.62291014,-0.7006698,-0.6922366,-0.5569816,-0.60206,-0.5693909,-0.644812,-0.644812,-0.62291014,-0.6839641,-0.50514996,-0.61584824,-0.62291014,-0.6088994,-0.60206,-0.637388,-0.6300887,-0.6678773,-0.66005194,-0.5953266,-0.5757311,-0.6758462,-0.70926994,-0.5821652,-0.5757311,-0.6678773,-0.5953266,-0.5693909,-0.5953266,-0.5953266,-0.49442616,-0.61584824,-0.51614535,-0.6300887,-0.5509075,-0.54491717,-0.60206,-0.5569816,-0.56314194,-0.5757311,-0.66005194,-0.6088994,-0.637388,-0.5821652,-0.6300887,-0.74548215,-0.5693909,-0.65236515,-0.66005194,-0.5569816,-0.65236515,-0.62291014,-0.5509075,-0.56314194,-0.56314194,-0.58869606,-0.44445214,-0.5569816,-0.5821652,-0.66005194,-0.7006698,-0.61584824,-0.5331787,-0.6300887,-0.49442616,-0.499755,-0.58869606,-0.70926994,-0.62291014,-0.5274264,-0.6300887,-0.72699875,-0.5821652,-0.53900826,-0.60206,-0.5821652,-0.6300887,-0.5953266,-0.54491717,-0.61584824,-0.644812,-0.74548215,-0.5331787,-0.66005194,-0.54491717,-0.70926994,-0.70926994,-0.5757311,-0.7180439,-0.6088994,-0.5274264,-0.61584824,-0.637388,-0.53900826,-0.6922366,-0.5509075,-0.5757311,-0.65236515,-0.5821652,-0.6300887,-0.5509075,-0.5569816,-0.54491717,-0.5953266,-0.5757311,-0.6678773,-0.58869606,-0.6758462,-0.61584824,-0.5569816,-0.644812,-0.5569816,-0.5953266,-0.6839641,-0.5953266,-0.66005194,-0.70926994,-0.58869606,-0.5569816,-0.65236515,-0.53900826,-0.6300887,-0.5953266,-0.5693909,-0.5953266,-0.6088994,-0.5274264,-0.6300887,-0.52174926,-0.5757311,-0.54491717,-0.6088994,-0.60206,-0.5821652,-0.6088994,-0.56314194,-0.4737415,-0.61584824,-0.56314194,-0.6088994,-0.60206,-0.61584824,-0.6300887,-0.5953266,-0.60206,-0.637388,-0.58869606,-0.58869606,-0.5693909,-0.6758462,-0.65236515,-0.66005194,-0.5953266,-0.5953266,-0.5953266,-0.5953266,-0.5821652,-0.5821652,-0.6300887,-0.58869606,-0.5569816,-0.62291014,-0.5821652,-0.6088994,-0.62291014,-0.5274264,-0.58869606,-0.5953266,-0.45884997,-0.6839641,-0.5821652,-0.54491717,-0.60206,-0.7006698,-0.6300887,-0.61584824,-0.60206,-0.5693909,-0.53900826,-0.52174926,-0.644812,-0.60206,-0.5274264,-0.61584824,-0.49442616,-0.6839641,-0.5693909,-0.5757311,-0.6088994,-0.6678773,-0.637388,-0.5693909,-0.65236515,-0.58869606,-0.62291014,-0.51614535,-0.7180439,-0.61584824,-0.6088994,-0.5757311,-0.6758462,-0.48396072,-0.58869606,-0.5569816,-0.6088994,-0.637388,-0.6678773,-0.74548215,-0.5757311,-0.644812,-0.637388,-0.62291014,-0.61584824,-0.62291014,-0.6088994,-0.54491717,-0.61584824,-0.62291014,-0.637388,-0.62291014,-0.644812,-0.6678773,-0.644812,-0.51614535,-0.58869606,-0.70926994,-0.66005194,-0.5953266,-0.6922366,-0.62291014,-0.5274264,-0.6300887,-0.6300887,-0.51614535,-0.5569816,-0.60206,-0.60206,-0.60206,-0.56314194,-0.5693909,-0.5757311,-0.6088994,-0.61584824,-0.70926994,-0.6088994,-0.58869606,-0.5569816,-0.6678773,-0.6678773,-0.62291014,-0.5757311,-0.6839641,-0.6088994,-0.637388,-0.65236515,-0.60206,-0.66005194,-0.65236515,-0.6300887,-0.5757311,-0.644812,-0.70926994,-0.5569816,-0.61584824,-0.637388,-0.74548215,-0.58869606,-0.46872076,-0.58869606,-0.65236515,-0.5106129,-0.54491717,-0.5331787,-0.5693909,-0.5509075,-0.5693909,-0.73614216,-0.70926994,-0.5953266,-0.6758462,-0.6678773,-0.5953266,-0.58869606,-0.5757311,-0.5953266,-0.5274264,-0.637388,-0.644812,-0.637388,-0.637388,-0.6922366,-0.637388,-0.6678773,-0.6088994,-0.499755,-0.66005194,-0.54491717,-0.61584824,-0.5569816,-0.6678773,-0.52174926,-0.58869606,-0.6839641,-0.5569816,-0.58869606,-0.6678773,-0.66005194,-0.6922366,-0.65236515,-0.53900826,-0.5509075,-0.56314194,-0.50514996,-0.5509075,-0.5757311,-0.66005194,-0.637388,-0.5821652,-0.5106129,-0.6839641,-0.5821652,-0.56314194,-0.53900826,-0.51614535,-0.5757311,-0.6088994,-0.7006698,-0.65236515,-0.62291014,-0.6088994,-0.6922366,-0.5331787,-0.644812,-0.65236515,-0.62291014,-0.5331787,-0.637388,-0.5693909,-0.6758462,-0.6678773,-0.70926994,-0.6088994,-0.5331787,-0.48916188,-0.61584824,-0.62291014,-0.5757311,-0.6678773,-0.7006698,-0.6088994,-0.6300887,-0.5693909,-0.644812,-0.644812,-0.637388,-0.5953266,-0.5821652,-0.5757311,-0.5757311,-0.52174926,-0.53900826,-0.5106129,-0.58869606,-0.7550275,-0.6839641,-0.6678773,-0.644812,-0.61584824,-0.7006698,-0.6088994,-0.7006698,-0.54491717,-0.6678773,-0.62291014,-0.7180439,-0.52174926,-0.53900826,-0.5569816,-0.5509075,-0.644812,-0.6678773,-0.5569816,-0.5693909,-0.72699875,-0.62291014,-0.6678773,-0.644812,-0.66005194,-0.66005194,-0.50514996,-0.5821652,-0.6678773,-0.6678773,-0.5953266,-0.70926994,-0.6922366,-0.6300887,-0.644812,-0.6922366,-0.65236515,-0.5569816,-0.61584824,-0.7180439,-0.5274264,-0.6678773,-0.637388,-0.62291014,-0.5693909,-0.6839641,-0.54491717,-0.644812,-0.6922366,-0.52174926,-0.62291014,-0.66005194,-0.5757311,-0.61584824,-0.52174926,-0.5274264,-0.5953266,-0.66005194,-0.58869606,-0.5509075,-0.5953266,-0.5821652,-0.5821652,-0.6088994,-0.62291014,-0.66005194,-0.62291014,-0.5693909,-0.5757311,-0.60206,-0.73614216,-0.5953266,-0.6088994,-0.58869606,-0.5821652,-0.53900826,-0.56314194,-0.8284564,-0.58869606,-0.5953266,-0.5509075,-0.60206,-0.60206,-0.60206,-0.56314194,-0.5509075,-0.637388,-0.61584824,-0.6678773,-0.50514996,-0.65236515,-0.637388,-0.5821652,-0.6922366,-0.5509075,-0.637388,-0.5331787,-0.56314194,-0.62291014,-0.499755,-0.7006698,-0.6839641,-0.7006698,-0.61584824,-0.65236515,-0.53900826,-0.7006698,-0.5757311,-0.65236515,-0.5757311,-0.65236515,-0.66005194,-0.637388,-0.65236515,-0.637388,-0.6678773,-0.5693909,-0.637388,-0.5274264,-0.7006698,-0.62291014,-0.51614535,-0.5331787,-0.5757311,-0.5569816,-0.644812,-0.5331787,-0.6300887,-0.61584824,-0.72699875,-0.5821652,-0.6922366,-0.6088994,-0.66005194,-0.6300887,-0.54491717,-0.5693909,-0.5953266,-0.637388,-0.5693909,-0.5757311,-0.60206,-0.5693909,-0.61584824,-0.5106129,-0.637388,-0.61584824,-0.56314194,-0.5821652,-0.62291014,-0.5569816,-0.6088994,-0.52174926,-0.5693909,-0.56314194,-0.5509075,-0.5953266,-0.65236515,-0.7180439,-0.6678773,-0.60206,-0.56314194,-0.5569816,-0.62291014,-0.58869606,-0.637388,-0.6300887,-0.65236515,-0.6300887,-0.49442616,-0.54491717,-0.5106129,-0.66005194,-0.61584824,-0.6922366,-0.5331787,-0.5953266,-0.58869606,-0.56314194,-0.5274264,-0.62291014,-0.644812,-0.5331787,-0.62291014,-0.61584824,-0.56314194,-0.51614535,-0.5274264,-0.7954562,-0.66005194,-0.66005194,-0.6678773,-0.62291014,-0.5953266,-0.6758462,-0.6088994,-0.5569816,-0.5106129,-0.50514996,-0.54491717,-0.5821652,-0.54491717,-0.5953266,-0.6300887,-0.61584824,-0.5693909,-0.5693909,-0.6088994,-0.5953266,-0.5821652,-0.6922366,-0.5509075,-0.52174926,-0.62291014,-0.58869606,-0.6839641,-0.5953266,-0.66005194,-0.73614216,-0.5693909,-0.5693909,-0.60206,-0.499755,-0.6300887,-0.5274264,-0.52174926,-0.6678773,-0.5757311,-0.61584824,-0.70926994,-0.61584824,-0.5953266,-0.5331787,-0.6088994,-0.6088994,-0.60206,-0.61584824,-0.58869606,-0.4737415,-0.6300887,-0.644812,-0.5569816,-0.58869606,-0.6678773,-0.5953266,-0.6758462,-0.5509075,-0.6088994,-0.5569816,-0.62291014,-0.65236515,-0.5757311,-0.70926994,-0.644812,-0.74548215,-0.66005194,-0.56314194,-0.7006698,-0.6300887,-0.62291014,-0.5821652,-0.6839641,-0.54491717,-0.5757311,-0.6758462,-0.74548215,-0.5821652,-0.637388,-0.54491717,-0.62291014,-0.66005194,-0.54491717,-0.644812,-0.62291014,-0.58869606,-0.6088994,-0.60206,-0.56314194,-0.62291014,-0.5693909,-0.62291014,-0.56314194,-0.53900826,-0.5569816,-0.49442616,-0.62291014,-0.58869606,-0.62291014,-0.62291014,-0.6088994,-0.6088994,-0.61584824,-0.6758462,-0.60206,-0.6758462,-0.5693909,-0.5569816,-0.6758462,-0.5757311,-0.5693909,-0.47882104,-0.53900826,-0.6678773,-0.53900826,-0.6088994,-0.6839641,-0.6300887,-0.644812,-0.54491717,-0.6300887,-0.5821652,-0.53900826,-0.6088994,-0.6088994,-0.51614535,-0.6088994,-0.644812,-0.5106129,-0.51614535,-0.7006698,-0.5953266,-0.5693909,-0.61584824,-0.5274264,-0.50514996,-0.5331787,-0.66005194,-0.58869606,-0.58869606,-0.56314194,-0.5274264,-0.54491717,-0.56314194,-0.60206,-0.5693909,-0.60206,-0.5953266,-0.5509075,-0.6300887,-0.5693909,-0.5821652,-0.6922366,-0.5757311,-0.58869606,-0.62291014,-0.6758462,-0.637388,-0.52174926,-0.6300887,-0.5274264,-0.65236515,-0.5693909,-0.5331787,-0.5106129,-0.65236515,-0.5757311,-0.66005194,-0.5569816,-0.70926994,-0.5757311,-0.6088994,-0.66005194,-0.61584824,-0.5953266,-0.73614216,-0.5757311,-0.5331787,-0.58869606,-0.6088994,-0.53900826,-0.5953266,-0.7954562,-0.5106129,-0.73614216,-0.5821652,-0.61584824,-0.6088994,-0.5757311,-0.5953266,-0.46375728,-0.52174926,-0.6300887,-0.6922366,-0.5821652,-0.5757311,-0.65236515,-0.60206,-0.60206,-0.62291014,-0.72699875,-0.58869606,-0.6088994,-0.56314194,-0.5953266,-0.60206,-0.644812,-0.6088994,-0.5953266,-0.62291014,-0.6088994,-0.5509075,-0.5821652,-0.6758462,-0.5331787,-0.61584824,-0.65236515,-0.65236515,-0.62291014,-0.499755,-0.644812,-0.5331787,-0.53900826,-0.66005194,-0.61584824,-0.5106129,-0.60206,-0.66005194,-0.637388,-0.5693909,-0.644812,-0.62291014,-0.62291014,-0.5509075,-0.65236515,-0.66005194,-0.5569816,-0.50514996,-0.6300887,-0.58869606,-0.58869606,-0.66005194,-0.5757311,-0.6839641,-0.66005194,-0.6088994,-0.52174926,-0.6758462,-0.644812,-0.5509075,-0.637388,-0.5509075,-0.6758462,-0.6678773,-0.65236515,-0.6088994,-0.5693909,-0.5693909,-0.61584824,-0.61584824,-0.637388,-0.61584824,-0.6839641,-0.6758462,-0.6758462,-0.5331787,-0.6300887,-0.48916188,-0.5693909,-0.50514996,-0.6088994,-0.54491717,-0.6088994,-0.60206,-0.6758462,-0.60206,-0.5821652,-0.5953266,-0.56314194,-0.56314194,-0.50514996,-0.53900826,-0.66005194,-0.66005194,-0.6922366,-0.61584824,-0.62291014,-0.5331787,-0.644812,-0.48396072,-0.5509075,-0.5509075,-0.5821652,-0.6300887,-0.6922366,-0.53900826,-0.62291014,-0.66005194,-0.6300887,-0.5106129,-0.70926994,-0.5106129,-0.61584824,-0.6758462,-0.5821652,-0.5953266,-0.5569816,-0.48916188,-0.5693909,-0.56314194,-0.58869606,-0.54491717,-0.46872076,-0.61584824,-0.6088994,-0.60206,-0.62291014,-0.66005194,-0.49442616,-0.62291014,-0.62291014,-0.5757311,-0.6088994,-0.5274264,-0.54491717,-0.637388,-0.6758462,-0.5106129,-0.637388,-0.56314194,-0.48916188,-0.5821652,-0.6839641,-0.5509075,-0.637388,-0.6758462,-0.5569816,-0.6758462,-0.5569816,-0.5821652,-0.7180439,-0.60206,-0.499755,-0.6839641,-0.61584824,-0.58869606,-0.62291014,-0.6839641,-0.637388,-0.644812,-0.62291014,-0.6300887,-0.65236515,-0.5821652,-0.5821652,-0.6088994,-0.6678773,-0.48916188,-0.5569816,-0.51614535,-0.56314194,-0.54491717,-0.60206,-0.5569816,-0.6088994,-0.6088994,-0.58869606,-0.5757311,-0.6839641,-0.6300887,-0.52174926,-0.5509075,-0.6300887,-0.61584824,-0.6678773,-0.60206,-0.61584824,-0.6088994,-0.5757311,-0.60206,-0.62291014,-0.6300887,-0.6839641,-0.637388,-0.6758462,-0.5569816,-0.60206,-0.65236515,-0.58869606,-0.5331787,-0.56314194,-0.5106129,-0.65236515,-0.62291014,-0.61584824,-0.54491717,-0.52174926,-0.72699875,-0.44445214,-0.61584824,-0.58869606,-0.6922366,-0.56314194,-0.6839641,-0.6088994,-0.5274264,-0.52174926,-0.5821652,-0.56314194,-0.5569816,-0.54491717,-0.6300887,-0.5821652,-0.54491717,-0.6758462,-0.5693909,-0.5274264,-0.5693909,-0.5693909,-0.5106129,-0.61584824,-0.644812,-0.7006698,-0.6088994,-0.6300887,-0.5757311,-0.6758462,-0.62291014,-0.5693909,-0.637388,-0.5693909,-0.5106129,-0.6300887,-0.60206,-0.5569816,-0.5331787,-0.61584824,-0.56314194,-0.66005194,-0.6300887,-0.5509075,-0.5953266,-0.56314194,-0.6678773,-0.5821652,-0.65236515,-0.61584824,-0.50514996,-0.6088994,-0.5331787,-0.5331787,-0.62291014,-0.6088994,-0.65236515,-0.6300887,-0.50514996,-0.5757311,-0.51614535,-0.66005194,-0.61584824,-0.65236515,-0.54491717,-0.5757311,-0.6758462,-0.5509075,-0.7180439,-0.61584824,-0.56314194,-0.5757311,-0.5569816,-0.5693909,-0.72699875,-0.637388,-0.5953266,-0.5757311,-0.6088994,-0.5331787,-0.5953266,-0.56314194,-0.54491717,-0.60206,-0.5821652,-0.6839641,-0.61584824,-0.5953266,-0.58869606,-0.5274264,-0.54491717,-0.5331787,-0.60206,-0.5693909,-0.5821652,-0.62291014,-0.58869606,-0.644812,-0.6839641,-0.5569816,-0.5757311,-0.62291014,-0.6088994,-0.5693909,-0.6300887,-0.56314194,-0.5757311,-0.5693909,-0.6300887,-0.65236515,-0.637388,-0.6088994,-0.56314194,-0.6758462,-0.6088994,-0.58869606,-0.637388,-0.60206,-0.5331787,-0.6300887,-0.53900826,-0.66005194,-0.6088994,-0.66005194,-0.6758462,-0.65236515,-0.54491717,-0.6300887,-0.61584824,-0.6678773,-0.6678773,-0.637388,-0.6922366,-0.6300887,-0.5569816,-0.5953266,-0.6088994,-0.644812,-0.637388,-0.5693909,-0.5569816,-0.47882104,-0.61584824,-0.6839641,-0.7180439,-0.5331787,-0.5274264,-0.7006698,-0.66005194,-0.6678773,-0.61584824,-0.61584824,-0.5821652,-0.644812,-0.6678773,-0.65236515,-0.54491717,-0.7006698,-0.5953266,-0.5821652,-0.61584824,-0.58869606,-0.61584824,-0.644812,-0.6839641,-0.6300887,-0.65236515,-0.5821652,-0.637388,-0.61584824,-0.5693909,-0.60206,-0.6088994,-0.644812,-0.637388,-0.5569816,-0.7180439,-0.6088994,-0.6300887,-0.6088994,-0.65236515,-0.6300887,-0.6088994,-0.7006698,-0.65236515,-0.7180439,-0.73614216,-0.644812,-0.52174926,-0.5509075,-0.60206,-0.65236515,-0.51614535,-0.65236515,-0.5953266,-0.5821652,-0.5693909,-0.52174926,-0.637388,-0.52174926,-0.5821652,-0.54491717,-0.65236515,-0.65236515,-0.65236515,-0.58869606,-0.62291014,-0.60206,-0.5509075,-0.637388,-0.6922366,-0.644812,-0.7180439,-0.54491717,-0.66005194,-0.58869606,-0.5106129,-0.66005194,-0.5331787,-0.5509075,-0.61584824,-0.72699875,-0.637388,-0.65236515,-0.61584824,-0.5569816,-0.6088994,-0.61584824,-0.6088994,-0.637388,-0.5569816,-0.5693909,-0.62291014,-0.5274264,-0.5693909,-0.637388,-0.54491717,-0.5693909,-0.6839641,-0.60206,-0.6088994,-0.6300887,-0.53900826,-0.51614535,-0.5274264,-0.62291014,-0.56314194,-0.7849907,-0.5509075,-0.60206,-0.54491717,-0.54491717,-0.56314194,-0.6088994,-0.5821652,-0.5331787,-0.6088994,-0.6088994,-0.61584824,-0.5274264,-0.49442616,-0.60206,-0.62291014,-0.6300887,-0.66005194,-0.58869606,-0.5757311,-0.7006698,-0.5821652,-0.7006698,-0.6088994,-0.6678773,-0.6300887,-0.644812,-0.60206,-0.5821652,-0.5106129,-0.5509075,-0.61584824,-0.52174926,-0.53900826,-0.644812,-0.6300887,-0.5953266,-0.6088994,-0.5569816,-0.644812,-0.644812,-0.56314194,-0.5953266,-0.65236515,-0.58869606,-0.6300887,-0.65236515,-0.61584824,-0.61584824,-0.5693909,-0.5821652,-0.70926994,-0.66005194,-0.53900826,-0.62291014,-0.5953266,-0.5953266,-0.66005194,-0.58869606,-0.60206,-0.644812,-0.61584824,-0.5821652,-0.5953266,-0.60206,-0.5953266,-0.6088994,-0.6839641,-0.637388,-0.5509075,-0.7180439,-0.60206,-0.60206,-0.6758462,-0.52174926,-0.6678773,-0.6678773,-0.58869606,-0.65236515,-0.5274264,-0.5509075,-0.6678773,-0.6758462,-0.637388,-0.5331787,-0.56314194,-0.6088994,-0.58869606,-0.6678773,-0.644812,-0.53900826,-0.5757311,-0.5953266,-0.52174926,-0.5757311,-0.6839641,-0.6839641,-0.644812,-0.60206,-0.62291014,-0.61584824,-0.52174926,-0.5274264,-0.6758462,-0.6088994,-0.5821652,-0.50514996,-0.7180439,-0.5509075,-0.51614535,-0.7180439,-0.58869606,-0.48916188,-0.5331787,-0.5821652,-0.61584824,-0.6922366,-0.52174926,-0.52174926,-0.6678773,-0.5274264,-0.53900826,-0.54491717,-0.52174926,-0.5821652,-0.6300887,-0.5693909,-0.58869606,-0.58869606,-0.56314194,-0.6300887,-0.5331787,-0.61584824,-0.5953266,-0.60206,-0.62291014,-0.5569816,-0.5331787,-0.5274264,-0.54491717,-0.58869606,-0.65236515,-0.56314194,-0.51614535,-0.48396072,-0.61584824,-0.61584824,-0.5821652,-0.62291014,-0.65236515,-0.5693909,-0.62291014,-0.6839641,-0.6300887,-0.65236515,-0.5757311,-0.5821652,-0.637388,-0.6088994,-0.6088994,-0.6922366,-0.499755,-0.56314194,-0.65236515,-0.5757311,-0.6088994,-0.6088994,-0.6300887,-0.6088994,-0.5757311,-0.5821652,-0.73614216,-0.49442616,-0.6678773,-0.6300887,-0.52174926,-0.58869606,-0.5757311,-0.5821652,-0.62291014,-0.5274264,-0.54491717,-0.5953266,-0.60206,-0.6300887,-0.6678773,-0.62291014,-0.5331787,-0.5569816,-0.637388,-0.65236515,-0.7180439,-0.644812,-0.637388,-0.6300887,-0.637388,-0.66005194,-0.644812,-0.5509075,-0.6678773,-0.5821652,-0.60206,-0.65236515,-0.5953266,-0.5953266,-0.5569816,-0.52174926,-0.5821652,-0.61584824,-0.5106129,-0.52174926,-0.5509075,-0.644812,-0.6088994,-0.5953266,-0.61584824,-0.51614535,-0.5509075,-0.5274264,-0.6300887,-0.62291014,-0.6678773,-0.5569816,-0.5953266,-0.6300887,-0.5953266,-0.6839641,-0.54491717,-0.5821652,-0.5331787,-0.49442616,-0.49442616,-0.6678773,-0.5569816,-0.5106129,-0.62291014,-0.66005194,-0.5757311,-0.60206,-0.5953266,-0.66005194,-0.54491717,-0.62291014,-0.5953266,-0.62291014,-0.58869606,-0.54491717,-0.637388,-0.61584824,-0.54491717,-0.48916188,-0.499755,-0.6678773,-0.644812,-0.5953266,-0.5953266,-0.5953266,-0.644812,-0.56314194,-0.73614216,-0.60206,-0.52174926,-0.6758462,-0.60206,-0.60206,-0.66005194,-0.60206,-0.58869606,-0.5953266,-0.66005194,-0.65236515,-0.5821652,-0.5821652,-0.5509075,-0.5757311,-0.6088994,-0.52174926,-0.5569816,-0.5569816,-0.6839641,-0.5569816,-0.6839641,-0.56314194,-0.66005194,-0.5509075,-0.60206,-0.5821652,-0.5509075,-0.6758462,-0.54491717,-0.5953266,-0.5569816,-0.5821652,-0.5509075,-0.5953266,-0.58869606,-0.637388,-0.6088994,-0.65236515,-0.5693909,-0.6088994,-0.5757311,-0.5821652,-0.5953266,-0.6758462,-0.65236515,-0.60206,-0.644812,-0.644812,-0.58869606,-0.5821652,-0.5509075,-0.56314194,-0.637388,-0.6922366,-0.7550275,-0.53900826,-0.5757311,-0.6758462,-0.5569816,-0.5274264,-0.5569816,-0.7550275,-0.56314194,-0.61584824,-0.66005194,-0.65236515,-0.45884997,-0.56314194,-0.5569816,-0.6839641,-0.5274264,-0.43511212,-0.61584824,-0.644812,-0.637388,-0.66005194,-0.56314194,-0.5331787,-0.60206,-0.53900826,-0.5953266,-0.5274264,-0.6088994,-0.6088994,-0.5757311,-0.58869606,-0.5274264,-0.5821652,-0.61584824,-0.6088994,-0.6678773,-0.5821652,-0.58869606,-0.644812,-0.637388,-0.6922366,-0.6300887,-0.6839641,-0.5821652,-0.58869606,-0.5331787,-0.53900826,-0.499755,-0.5693909,-0.6678773,-0.5821652,-0.7006698,-0.6300887,-0.637388,-0.5106129,-0.7006698,-0.5569816,-0.66005194,-0.58869606,-0.5569816,-0.6088994,-0.5821652,-0.5953266,-0.637388,-0.6300887,-0.50514996,-0.48396072,-0.65236515,-0.76478726,-0.5106129,-0.637388,-0.6678773,-0.66005194,-0.6758462,-0.5331787,-0.5509075,-0.56314194,-0.644812,-0.52174926,-0.56314194,-0.5509075,-0.60206,-0.62291014,-0.5569816,-0.5106129,-0.58869606,-0.5106129,-0.5274264,-0.6839641,-0.51614535,-0.58869606,-0.6839641,-0.62291014,-0.6300887,-0.51614535,-0.60206,-0.5953266,-0.6300887,-0.5757311,-0.56314194,-0.6678773,-0.56314194,-0.60206,-0.50514996,-0.5274264,-0.5331787,-0.5693909,-0.7006698,-0.5569816,-0.7180439,-0.5274264,-0.5821652,-0.58869606,-0.54491717,-0.637388,-0.6088994,-0.644812,-0.6678773,-0.5953266,-0.45884997,-0.56314194,-0.62291014,-0.61584824,-0.61584824,-0.6922366,-0.637388,-0.5821652,-0.66005194,-0.644812,-0.76478726,-0.5693909,-0.65236515,-0.5953266,-0.65236515,-0.65236515,-0.73614216,-0.6300887,-0.5821652,-0.65236515,-0.58869606,-0.5509075,-0.61584824,-0.65236515,-0.56314194,-0.6678773,-0.58869606,-0.5509075,-0.7006698,-0.637388,-0.8284564,-0.5331787,-0.5274264,-0.5757311,-0.70926994,-0.6088994,-0.7006698,-0.5953266,-0.5953266,-0.637388,-0.5331787,-0.6300887,-0.61584824,-0.51614535,-0.644812,-0.5757311,-0.65236515,-0.6758462,-0.49442616,-0.6088994,-0.637388,-0.51614535,-0.6678773,-0.58869606,-0.54491717,-0.637388,-0.53900826,-0.5569816,-0.62291014,-0.6088994,-0.61584824,-0.5509075,-0.6300887,-0.58869606,-0.6839641,-0.637388,-0.50514996,-0.644812,-0.56314194,-0.6839641,-0.637388,-0.6088994,-0.61584824,-0.53900826,-0.5569816,-0.62291014,-0.6300887,-0.53900826,-0.6678773,-0.60206,-0.5821652,-0.65236515,-0.60206,-0.62291014,-0.6300887,-0.54491717,-0.5757311,-0.5953266,-0.58869606,-0.61584824,-0.5569816,-0.54491717,-0.6088994,-0.5821652,-0.61584824,-0.62291014,-0.5274264,-0.6300887,-0.6300887,-0.5274264,-0.61584824,-0.6088994,-0.58869606,-0.6839641,-0.62291014,-0.62291014,-0.5331787,-0.66005194,-0.58869606,-0.58869606,-0.5274264,-0.58869606,-0.6088994,-0.5569816,-0.70926994,-0.66005194,-0.5693909,-0.50514996,-0.54491717,-0.637388,-0.5693909,-0.637388,-0.7180439,-0.6678773,-0.60206,-0.6088994,-0.6678773,-0.5274264,-0.5569816,-0.5569816,-0.637388,-0.65236515,-0.637388,-0.65236515,-0.5757311,-0.5821652,-0.61584824,-0.60206,-0.66005194,-0.6088994,-0.60206,-0.5509075,-0.60206,-0.56314194,-0.5569816,-0.6300887,-0.5569816,-0.62291014,-0.5757311,-0.53900826,-0.637388,-0.61584824,-0.6922366,-0.51614535,-0.61584824,-0.66005194,-0.5953266,-0.5106129,-0.644812,-0.66005194,-0.6678773,-0.62291014,-0.62291014,-0.6678773,-0.62291014,-0.6300887,-0.644812,-0.5693909,-0.6300887,-0.52174926,-0.62291014,-0.62291014,-0.51614535,-0.65236515,-0.65236515,-0.60206,-0.49442616,-0.5821652,-0.73614216,-0.6678773,-0.5569816,-0.6678773,-0.5953266,-0.51614535,-0.6678773,-0.637388,-0.6922366,-0.5757311,-0.61584824,-0.56314194,-0.6088994,-0.5953266,-0.58869606,-0.637388,-0.6300887,-0.5953266,-0.6758462,-0.5821652,-0.5569816,-0.6088994,-0.5757311,-0.6088994,-0.48396072,-0.65236515,-0.62291014,-0.5693909,-0.6758462,-0.56314194,-0.61584824,-0.5693909,-0.5953266,-0.644812,-0.48916188,-0.52174926,-0.6678773,-0.6088994,-0.6088994,-0.66005194,-0.637388,-0.51614535,-0.5953266,-0.60206,-0.6839641,-0.58869606,-0.58869606,-0.6088994,-0.5821652,-0.6300887,-0.5693909,-0.45884997,-0.5757311,-0.5693909,-0.54491717,-0.62291014,-0.61584824,-0.499755,-0.5331787,-0.76478726,-0.5569816,-0.5274264,-0.644812,-0.6300887,-0.51614535,-0.52174926,-0.6088994,-0.637388,-0.56314194,-0.5821652,-0.52174926,-0.66005194,-0.6758462,-0.61584824,-0.5509075,-0.7550275,-0.637388,-0.61584824,-0.53900826,-0.499755,-0.58869606,-0.637388,-0.61584824,-0.637388,-0.5569816,-0.61584824,-0.6088994,-0.644812,-0.54491717,-0.6300887,-0.5821652,-0.54491717,-0.637388,-0.6758462,-0.60206,-0.5106129,-0.6300887,-0.644812,-0.5569816,-0.7550275,-0.58869606,-0.51614535,-0.56314194,-0.6678773,-0.62291014,-0.5757311,-0.5821652,-0.54491717,-0.56314194,-0.47882104,-0.5693909,-0.72699875,-0.70926994,-0.5757311,-0.6088994,-0.58869606,-0.6758462,-0.5821652,-0.5757311,-0.5569816,-0.58869606,-0.5569816,-0.60206,-0.5274264,-0.5821652,-0.66005194,-0.48396072,-0.60206,-0.5274264,-0.5693909,-0.6678773,-0.6922366,-0.66005194,-0.5693909,-0.6088994,-0.6678773,-0.61584824,-0.5509075,-0.5569816,-0.6088994,-0.5821652,-0.5953266,-0.50514996,-0.5509075,-0.51614535,-0.61584824,-0.5757311,-0.62291014,-0.6922366,-0.5693909,-0.5757311,-0.54491717,-0.637388,-0.6839641,-0.5693909,-0.66005194,-0.43975705,-0.6300887,-0.5757311,-0.61584824,-0.637388,-0.6758462,-0.6088994,-0.60206,-0.48916188,-0.5331787,-0.499755,-0.6088994,-0.62291014,-0.5274264,-0.5953266,-0.58869606,-0.61584824,-0.5509075,-0.66005194,-0.61584824,-0.637388,-0.6088994,-0.5821652,-0.5821652,-0.66005194,-0.5509075,-0.5953266,-0.6088994,-0.5821652,-0.62291014,-0.6088994,-0.5569816,-0.5953266,-0.6088994,-0.60206,-0.58869606,-0.5509075,-0.6758462,-0.6088994,-0.5693909,-0.58869606,-0.5509075,-0.58869606,-0.5509075,-0.65236515,-0.5693909,-0.5821652,-0.65236515,-0.58869606,-0.6088994,-0.5693909,-0.53900826,-0.61584824,-0.5953266,-0.5693909,-0.58869606,-0.499755,-0.637388,-0.48916188,-0.5693909,-0.6678773,-0.62291014,-0.58869606,-0.61584824,-0.6088994,-0.60206,-0.6922366,-0.5569816,-0.6839641,-0.6300887,-0.53900826,-0.53900826,-0.50514996,-0.5821652,-0.70926994,-0.5693909,-0.6758462,-0.54491717,-0.74548215,-0.52174926,-0.65236515,-0.5953266,-0.637388,-0.637388,-0.644812,-0.637388,-0.5693909,-0.5953266,-0.5569816,-0.5757311,-0.6300887,-0.61584824,-0.5693909,-0.60206,-0.54491717,-0.6088994,-0.56314194,-0.6300887,-0.53900826,-0.5331787,-0.74548215,-0.5821652,-0.6088994,-0.6839641,-0.65236515,-0.637388,-0.5757311,-0.58869606,-0.5821652,-0.5821652,-0.65236515,-0.65236515,-0.6922366,-0.6839641,-0.5569816,-0.53900826,-0.637388,-0.66005194,-0.6088994,-0.56314194,-0.5757311,-0.6922366,-0.5106129,-0.53900826,-0.66005194,-0.6839641,-0.60206,-0.58869606,-0.61584824,-0.637388,-0.46872076,-0.56314194,-0.52174926,-0.5693909,-0.5757311,-0.60206,-0.58869606,-0.62291014,-0.50514996,-0.5757311,-0.66005194,-0.5509075,-0.644812,-0.5953266,-0.54491717,-0.62291014,-0.6678773,-0.5953266,-0.6758462,-0.5953266,-0.56314194,-0.5757311,-0.54491717,-0.6088994,-0.61584824,-0.5757311,-0.5953266,-0.6088994,-0.5757311,-0.5757311,-0.5821652,-0.70926994,-0.54491717,-0.5106129,-0.644812,-0.637388,-0.5693909,-0.5509075,-0.66005194,-0.637388,-0.5569816,-0.74548215,-0.54491717,-0.62291014,-0.5509075,-0.60206,-0.62291014,-0.6088994,-0.637388,-0.70926994,-0.61584824,-0.73614216,-0.61584824,-0.6758462,-0.8284564,-0.48916188,-0.637388,-0.61584824,-0.56314194,-0.6678773,-0.60206,-0.5509075,-0.6300887,-0.60206,-0.637388,-0.6678773,-0.60206,-0.5821652,-0.5509075,-0.6678773,-0.60206,-0.60206,-0.644812,-0.61584824,-0.6839641,-0.65236515,-0.5693909,-0.52174926,-0.6922366,-0.5509075,-0.644812,-0.74548215,-0.65236515,-0.58869606,-0.6088994,-0.5953266,-0.5274264,-0.66005194,-0.53900826,-0.5821652,-0.5569816,-0.5693909,-0.58869606,-0.65236515,-0.5757311,-0.58869606,-0.62291014,-0.5757311,-0.6758462,-0.5693909,-0.65236515,-0.66005194,-0.50514996,-0.6758462,-0.5821652,-0.5757311,-0.53900826,-0.6678773,-0.6300887,-0.5821652,-0.5106129,-0.62291014,-0.5757311,-0.5757311,-0.58869606,-0.52174926,-0.5693909,-0.5509075,-0.5821652,-0.6678773,-0.56314194,-0.60206,-0.53900826,-0.45884997,-0.56314194,-0.6678773,-0.58869606,-0.61584824,-0.6088994,-0.62291014,-0.74548215,-0.5757311,-0.6300887,-0.6678773,-0.65236515,-0.65236515,-0.5953266,-0.5953266,-0.54491717,-0.62291014,-0.62291014,-0.50514996,-0.58869606,-0.48396072,-0.5821652,-0.60206,-0.70926994,-0.62291014,-0.6922366,-0.637388,-0.644812,-0.54491717,-0.56314194,-0.5821652,-0.62291014,-0.50514996,-0.56314194,-0.5274264,-0.5274264,-0.5509075,-0.65236515,-0.6300887,-0.6678773,-0.6922366,-0.54491717,-0.6300887,-0.60206,-0.7180439,-0.54491717,-0.5331787,-0.5953266,-0.58869606,-0.62291014,-0.58869606,-0.52174926,-0.5331787,-0.5569816,-0.62291014,-0.60206,-0.6758462,-0.60206,-0.66005194,-0.5331787,-0.499755,-0.56314194,-0.6300887,-0.61584824,-0.6088994,-0.52174926,-0.6300887,-0.65236515,-0.5274264,-0.6300887,-0.5331787,-0.6088994,-0.5274264,-0.58869606,-0.7180439,-0.6300887,-0.65236515,-0.6839641,-0.5757311,-0.5569816,-0.58869606,-0.644812,-0.6088994,-0.5953266,-0.62291014,-0.54491717,-0.5953266,-0.5569816,-0.5274264,-0.5757311,-0.58869606,-0.60206,-0.62291014,-0.61584824,-0.5821652,-0.61584824,-0.61584824,-0.7180439,-0.6839641,-0.6088994,-0.60206,-0.6088994,-0.5331787,-0.6088994,-0.6839641,-0.56314194,-0.5693909,-0.60206,-0.6300887,-0.6300887,-0.5953266,-0.65236515,-0.53900826,-0.52174926,-0.62291014,-0.52174926,-0.6300887,-0.5569816,-0.644812,-0.5693909,-0.7006698,-0.61584824,-0.50514996,-0.65236515,-0.6300887,-0.49442616,-0.5821652,-0.6300887,-0.48916188,-0.61584824,-0.6922366,-0.53900826,-0.58869606,-0.5693909,-0.6088994,-0.637388,-0.61584824,-0.5331787,-0.65236515,-0.6678773,-0.6678773,-0.58869606,-0.7747715,-0.5821652,-0.5569816,-0.5693909,-0.644812,-0.5331787,-0.5757311,-0.56314194,-0.5757311,-0.5953266,-0.65236515,-0.61584824,-0.637388,-0.637388,-0.5693909,-0.61584824,-0.62291014,-0.5757311,-0.51614535,-0.70926994,-0.5274264,-0.66005194,-0.5693909,-0.7180439,-0.56314194,-0.644812,-0.637388,-0.62291014,-0.46872076,-0.644812,-0.6758462,-0.5821652,-0.5757311,-0.5693909,-0.5821652,-0.5821652,-0.6839641,-0.60206,-0.6300887,-0.61584824,-0.70926994,-0.51614535,-0.66005194,-0.644812,-0.5757311,-0.5693909,-0.5821652,-0.5757311,-0.6758462,-0.5693909,-0.6300887,-0.5757311,-0.5953266,-0.5274264,-0.5569816,-0.58869606,-0.6088994,-0.6678773,-0.58869606,-0.58869606,-0.5757311,-0.5757311,-0.58869606,-0.61584824,-0.6758462,-0.637388,-0.5953266,-0.7180439,-0.58869606,-0.5953266,-0.5757311,-0.6088994,-0.61584824,-0.637388,-0.5757311,-0.5693909,-0.5693909,-0.65236515,-0.61584824,-0.51614535,-0.52174926,-0.54491717,-0.5757311,-0.58869606,-0.6300887,-0.5331787,-0.6839641,-0.6839641,-0.58869606,-0.5274264,-0.5331787,-0.5953266,-0.644812,-0.5757311,-0.73614216,-0.644812,-0.5693909,-0.5757311,-0.6088994,-0.6088994,-0.5757311,-0.50514996,-0.66005194,-0.61584824,-0.637388,-0.65236515,-0.56314194,-0.6678773,-0.56314194,-0.54491717,-0.73614216,-0.6300887,-0.5757311,-0.60206,-0.5509075,-0.6088994,-0.6922366,-0.7006698,-0.5757311,-0.56314194,-0.637388,-0.61584824,-0.6678773,-0.5757311,-0.65236515,-0.637388,-0.5757311,-0.5509075,-0.58869606,-0.5569816,-0.51614535,-0.65236515,-0.60206,-0.65236515,-0.5953266,-0.54491717,-0.5953266,-0.6922366,-0.637388,-0.6922366,-0.66005194,-0.65236515,-0.5821652,-0.60206,-0.6300887,-0.6300887,-0.70926994,-0.62291014,-0.66005194,-0.6839641,-0.7180439,-0.6758462,-0.6300887,-0.62291014,-0.5953266,-0.66005194,-0.72699875,-0.637388,-0.5693909,-0.54491717,-0.5757311,-0.7006698,-0.6839641,-0.6300887,-0.54491717,-0.5693909,-0.7180439,-0.56314194,-0.66005194,-0.54491717,-0.6300887,-0.7006698,-0.56314194,-0.6088994,-0.5509075,-0.6758462,-0.47882104,-0.6678773,-0.66005194,-0.62291014,-0.58869606,-0.644812,-0.6088994,-0.53900826,-0.56314194,-0.6088994,-0.5757311,-0.61584824,-0.5757311,-0.62291014,-0.62291014,-0.51614535,-0.54491717,-0.72699875,-0.7006698,-0.62291014,-0.5693909,-0.5821652,-0.61584824,-0.65236515,-0.65236515,-0.5693909,-0.62291014,-0.6088994,-0.60206,-0.5331787,-0.62291014,-0.6300887,-0.6088994,-0.61584824,-0.62291014,-0.5331787,-0.7006698,-0.6758462,-0.7006698,-0.61584824,-0.637388,-0.6088994,-0.5509075,-0.5693909,-0.6678773,-0.5953266,-0.5509075,-0.5821652,-0.76478726,-0.5821652,-0.53900826,-0.56314194,-0.5331787,-0.58869606,-0.5821652,-0.6088994,-0.5953266,-0.6300887,-0.62291014,-0.5509075,-0.52174926,-0.5693909,-0.6922366,-0.56314194,-0.60206,-0.7006698,-0.644812,-0.62291014,-0.7006698,-0.60206,-0.5757311,-0.61584824,-0.644812,-0.5757311,-0.5821652,-0.66005194,-0.61584824,-0.7849907,-0.6839641,-0.66005194,-0.6922366,-0.72699875,-0.66005194,-0.5821652,-0.5821652,-0.6678773,-0.644812,-0.499755,-0.5821652,-0.5757311,-0.6678773,-0.6088994,-0.50514996,-0.6088994,-0.62291014,-0.6088994,-0.60206,-0.6758462,-0.5569816,-0.6758462,-0.66005194,-0.54491717,-0.6300887,-0.5821652,-0.56314194,-0.58869606,-0.644812,-0.6088994,-0.5821652,-0.5106129,-0.54491717,-0.60206,-0.6088994,-0.62291014,-0.58869606,-0.61584824,-0.62291014,-0.5509075,-0.644812,-0.6088994,-0.61584824,-0.7954562,-0.5331787,-0.70926994,-0.61584824,-0.644812,-0.65236515,-0.5693909,-0.61584824,-0.7180439,-0.7006698,-0.66005194,-0.60206,-0.7006698,-0.58869606,-0.53900826,-0.6678773,-0.637388,-0.54491717,-0.45884997,-0.7006698,-0.62291014,-0.637388,-0.5757311,-0.5953266,-0.56314194,-0.5757311,-0.52174926,-0.5821652,-0.62291014,-0.6300887,-0.70926994,-0.5693909,-0.65236515,-0.5274264,-0.5693909,-0.5953266,-0.6300887,-0.637388,-0.6678773,-0.58869606,-0.6758462,-0.637388,-0.61584824,-0.66005194,-0.56314194,-0.644812,-0.61584824,-0.54491717,-0.5757311,-0.6678773,-0.58869606,-0.52174926,-0.5953266,-0.52174926,-0.5693909,-0.5821652,-0.5693909,-0.6922366,-0.48396072,-0.58869606,-0.5509075,-0.53900826,-0.56314194,-0.5821652,-0.5331787,-0.65236515,-0.6678773,-0.66005194,-0.5953266,-0.5953266,-0.6300887,-0.65236515,-0.7006698,-0.637388,-0.62291014,-0.5821652,-0.637388,-0.6088994,-0.65236515,-0.51614535,-0.6300887,-0.66005194,-0.65236515,-0.5821652,-0.5953266,-0.6839641,-0.70926994,-0.5821652,-0.5757311,-0.5331787,-0.5821652,-0.60206,-0.52174926,-0.6300887,-0.65236515,-0.5953266,-0.637388,-0.644812,-0.65236515,-0.50514996,-0.5953266,-0.72699875,-0.637388,-0.5274264,-0.6088994,-0.7180439,-0.62291014,-0.60206,-0.644812,-0.6088994,-0.6088994,-0.5274264,-0.6300887,-0.5569816,-0.7747715,-0.60206,-0.6839641,-0.6088994,-0.5821652,-0.644812,-0.6088994,-0.58869606,-0.5693909,-0.5509075,-0.52174926,-0.50514996,-0.62291014,-0.6839641,-0.6088994,-0.54491717,-0.5693909,-0.6088994,-0.637388,-0.6088994,-0.5953266,-0.56314194,-0.6758462,-0.5274264,-0.644812,-0.5953266,-0.56314194,-0.6758462,-0.637388,-0.637388,-0.58869606,-0.6678773,-0.6839641,-0.637388,-0.5953266,-0.5821652,-0.70926994,-0.6088994,-0.62291014,-0.56314194,-0.58869606,-0.6678773,-0.644812,-0.50514996,-0.5693909,-0.5953266,-0.60206,-0.637388,-0.74548215,-0.5331787,-0.5757311,-0.5757311,-0.65236515,-0.6922366,-0.7006698,-0.61584824,-0.56314194,-0.6088994,-0.60206,-0.6922366,-0.58869606,-0.58869606,-0.60206,-0.65236515,-0.6678773,-0.58869606,-0.66005194,-0.5953266,-0.65236515,-0.66005194,-0.644812,-0.61584824,-0.6839641,-0.49442616,-0.62291014,-0.5106129,-0.637388,-0.6922366,-0.58869606,-0.53900826,-0.6758462,-0.62291014,-0.5693909,-0.6678773,-0.7006698,-0.644812,-0.54491717,-0.7180439,-0.6300887,-0.5821652,-0.6300887,-0.65236515,-0.56314194,-0.53900826,-0.61584824,-0.58869606,-0.6088994,-0.61584824,-0.52174926,-0.58869606,-0.66005194,-0.62291014,-0.6088994,-0.5331787,-0.6758462,-0.66005194,-0.5821652,-0.56314194,-0.5953266,-0.6088994,-0.54491717,-0.7180439,-0.58869606,-0.61584824,-0.7006698,-0.644812,-0.5821652,-0.56314194,-0.65236515,-0.51614535,-0.58869606,-0.5693909,-0.5693909,-0.6758462,-0.52174926,-0.644812,-0.6300887,-0.5274264,-0.5953266,-0.66005194,-0.637388,-0.6678773,-0.6678773,-0.62291014,-0.6300887,-0.66005194,-0.61584824,-0.7180439,-0.5821652,-0.637388,-0.6839641,-0.6678773,-0.637388,-0.6300887,-0.66005194,-0.6300887,-0.62291014,-0.6758462,-0.6088994,-0.61584824,-0.54491717,-0.58869606,-0.58869606,-0.6300887,-0.6678773,-0.637388,-0.5569816,-0.51614535,-0.644812,-0.54491717,-0.5821652,-0.6300887,-0.60206,-0.5821652,-0.5953266,-0.61584824,-0.5757311,-0.6922366,-0.637388,-0.6758462,-0.58869606,-0.62291014,-0.6088994,-0.6922366,-0.65236515,-0.7180439,-0.51614535,-0.6678773,-0.637388,-0.56314194,-0.74548215,-0.5274264,-0.5953266,-0.6300887,-0.61584824,-0.58869606,-0.5693909,-0.637388,-0.46872076,-0.53900826,-0.62291014,-0.5953266,-0.5509075,-0.60206,-0.49442616,-0.54491717,-0.66005194,-0.5821652,-0.6922366,-0.65236515,-0.5953266,-0.5821652,-0.65236515,-0.58869606,-0.644812,-0.61584824,-0.56314194,-0.5331787,-0.644812,-0.46375728,-0.5953266,-0.6758462,-0.6300887,-0.65236515,-0.5757311,-0.6300887,-0.61584824,-0.6088994,-0.637388,-0.54491717,-0.61584824,-0.5821652,-0.5106129],\"xaxis\":\"x\",\"yaxis\":\"y\",\"type\":\"histogram\"}],                        {\"template\":{\"data\":{\"histogram2dcontour\":[{\"type\":\"histogram2dcontour\",\"colorbar\":{\"outlinewidth\":0,\"ticks\":\"\"},\"colorscale\":[[0.0,\"#0d0887\"],[0.1111111111111111,\"#46039f\"],[0.2222222222222222,\"#7201a8\"],[0.3333333333333333,\"#9c179e\"],[0.4444444444444444,\"#bd3786\"],[0.5555555555555556,\"#d8576b\"],[0.6666666666666666,\"#ed7953\"],[0.7777777777777778,\"#fb9f3a\"],[0.8888888888888888,\"#fdca26\"],[1.0,\"#f0f921\"]]}],\"choropleth\":[{\"type\":\"choropleth\",\"colorbar\":{\"outlinewidth\":0,\"ticks\":\"\"}}],\"histogram2d\":[{\"type\":\"histogram2d\",\"colorbar\":{\"outlinewidth\":0,\"ticks\":\"\"},\"colorscale\":[[0.0,\"#0d0887\"],[0.1111111111111111,\"#46039f\"],[0.2222222222222222,\"#7201a8\"],[0.3333333333333333,\"#9c179e\"],[0.4444444444444444,\"#bd3786\"],[0.5555555555555556,\"#d8576b\"],[0.6666666666666666,\"#ed7953\"],[0.7777777777777778,\"#fb9f3a\"],[0.8888888888888888,\"#fdca26\"],[1.0,\"#f0f921\"]]}],\"heatmap\":[{\"type\":\"heatmap\",\"colorbar\":{\"outlinewidth\":0,\"ticks\":\"\"},\"colorscale\":[[0.0,\"#0d0887\"],[0.1111111111111111,\"#46039f\"],[0.2222222222222222,\"#7201a8\"],[0.3333333333333333,\"#9c179e\"],[0.4444444444444444,\"#bd3786\"],[0.5555555555555556,\"#d8576b\"],[0.6666666666666666,\"#ed7953\"],[0.7777777777777778,\"#fb9f3a\"],[0.8888888888888888,\"#fdca26\"],[1.0,\"#f0f921\"]]}],\"heatmapgl\":[{\"type\":\"heatmapgl\",\"colorbar\":{\"outlinewidth\":0,\"ticks\":\"\"},\"colorscale\":[[0.0,\"#0d0887\"],[0.1111111111111111,\"#46039f\"],[0.2222222222222222,\"#7201a8\"],[0.3333333333333333,\"#9c179e\"],[0.4444444444444444,\"#bd3786\"],[0.5555555555555556,\"#d8576b\"],[0.6666666666666666,\"#ed7953\"],[0.7777777777777778,\"#fb9f3a\"],[0.8888888888888888,\"#fdca26\"],[1.0,\"#f0f921\"]]}],\"contourcarpet\":[{\"type\":\"contourcarpet\",\"colorbar\":{\"outlinewidth\":0,\"ticks\":\"\"}}],\"contour\":[{\"type\":\"contour\",\"colorbar\":{\"outlinewidth\":0,\"ticks\":\"\"},\"colorscale\":[[0.0,\"#0d0887\"],[0.1111111111111111,\"#46039f\"],[0.2222222222222222,\"#7201a8\"],[0.3333333333333333,\"#9c179e\"],[0.4444444444444444,\"#bd3786\"],[0.5555555555555556,\"#d8576b\"],[0.6666666666666666,\"#ed7953\"],[0.7777777777777778,\"#fb9f3a\"],[0.8888888888888888,\"#fdca26\"],[1.0,\"#f0f921\"]]}],\"surface\":[{\"type\":\"surface\",\"colorbar\":{\"outlinewidth\":0,\"ticks\":\"\"},\"colorscale\":[[0.0,\"#0d0887\"],[0.1111111111111111,\"#46039f\"],[0.2222222222222222,\"#7201a8\"],[0.3333333333333333,\"#9c179e\"],[0.4444444444444444,\"#bd3786\"],[0.5555555555555556,\"#d8576b\"],[0.6666666666666666,\"#ed7953\"],[0.7777777777777778,\"#fb9f3a\"],[0.8888888888888888,\"#fdca26\"],[1.0,\"#f0f921\"]]}],\"mesh3d\":[{\"type\":\"mesh3d\",\"colorbar\":{\"outlinewidth\":0,\"ticks\":\"\"}}],\"scatter\":[{\"fillpattern\":{\"fillmode\":\"overlay\",\"size\":10,\"solidity\":0.2},\"type\":\"scatter\"}],\"parcoords\":[{\"type\":\"parcoords\",\"line\":{\"colorbar\":{\"outlinewidth\":0,\"ticks\":\"\"}}}],\"scatterpolargl\":[{\"type\":\"scatterpolargl\",\"marker\":{\"colorbar\":{\"outlinewidth\":0,\"ticks\":\"\"}}}],\"bar\":[{\"error_x\":{\"color\":\"#2a3f5f\"},\"error_y\":{\"color\":\"#2a3f5f\"},\"marker\":{\"line\":{\"color\":\"#E5ECF6\",\"width\":0.5},\"pattern\":{\"fillmode\":\"overlay\",\"size\":10,\"solidity\":0.2}},\"type\":\"bar\"}],\"scattergeo\":[{\"type\":\"scattergeo\",\"marker\":{\"colorbar\":{\"outlinewidth\":0,\"ticks\":\"\"}}}],\"scatterpolar\":[{\"type\":\"scatterpolar\",\"marker\":{\"colorbar\":{\"outlinewidth\":0,\"ticks\":\"\"}}}],\"histogram\":[{\"marker\":{\"pattern\":{\"fillmode\":\"overlay\",\"size\":10,\"solidity\":0.2}},\"type\":\"histogram\"}],\"scattergl\":[{\"type\":\"scattergl\",\"marker\":{\"colorbar\":{\"outlinewidth\":0,\"ticks\":\"\"}}}],\"scatter3d\":[{\"type\":\"scatter3d\",\"line\":{\"colorbar\":{\"outlinewidth\":0,\"ticks\":\"\"}},\"marker\":{\"colorbar\":{\"outlinewidth\":0,\"ticks\":\"\"}}}],\"scattermapbox\":[{\"type\":\"scattermapbox\",\"marker\":{\"colorbar\":{\"outlinewidth\":0,\"ticks\":\"\"}}}],\"scatterternary\":[{\"type\":\"scatterternary\",\"marker\":{\"colorbar\":{\"outlinewidth\":0,\"ticks\":\"\"}}}],\"scattercarpet\":[{\"type\":\"scattercarpet\",\"marker\":{\"colorbar\":{\"outlinewidth\":0,\"ticks\":\"\"}}}],\"carpet\":[{\"aaxis\":{\"endlinecolor\":\"#2a3f5f\",\"gridcolor\":\"white\",\"linecolor\":\"white\",\"minorgridcolor\":\"white\",\"startlinecolor\":\"#2a3f5f\"},\"baxis\":{\"endlinecolor\":\"#2a3f5f\",\"gridcolor\":\"white\",\"linecolor\":\"white\",\"minorgridcolor\":\"white\",\"startlinecolor\":\"#2a3f5f\"},\"type\":\"carpet\"}],\"table\":[{\"cells\":{\"fill\":{\"color\":\"#EBF0F8\"},\"line\":{\"color\":\"white\"}},\"header\":{\"fill\":{\"color\":\"#C8D4E3\"},\"line\":{\"color\":\"white\"}},\"type\":\"table\"}],\"barpolar\":[{\"marker\":{\"line\":{\"color\":\"#E5ECF6\",\"width\":0.5},\"pattern\":{\"fillmode\":\"overlay\",\"size\":10,\"solidity\":0.2}},\"type\":\"barpolar\"}],\"pie\":[{\"automargin\":true,\"type\":\"pie\"}]},\"layout\":{\"autotypenumbers\":\"strict\",\"colorway\":[\"#636efa\",\"#EF553B\",\"#00cc96\",\"#ab63fa\",\"#FFA15A\",\"#19d3f3\",\"#FF6692\",\"#B6E880\",\"#FF97FF\",\"#FECB52\"],\"font\":{\"color\":\"#2a3f5f\"},\"hovermode\":\"closest\",\"hoverlabel\":{\"align\":\"left\"},\"paper_bgcolor\":\"white\",\"plot_bgcolor\":\"#E5ECF6\",\"polar\":{\"bgcolor\":\"#E5ECF6\",\"angularaxis\":{\"gridcolor\":\"white\",\"linecolor\":\"white\",\"ticks\":\"\"},\"radialaxis\":{\"gridcolor\":\"white\",\"linecolor\":\"white\",\"ticks\":\"\"}},\"ternary\":{\"bgcolor\":\"#E5ECF6\",\"aaxis\":{\"gridcolor\":\"white\",\"linecolor\":\"white\",\"ticks\":\"\"},\"baxis\":{\"gridcolor\":\"white\",\"linecolor\":\"white\",\"ticks\":\"\"},\"caxis\":{\"gridcolor\":\"white\",\"linecolor\":\"white\",\"ticks\":\"\"}},\"coloraxis\":{\"colorbar\":{\"outlinewidth\":0,\"ticks\":\"\"}},\"colorscale\":{\"sequential\":[[0.0,\"#0d0887\"],[0.1111111111111111,\"#46039f\"],[0.2222222222222222,\"#7201a8\"],[0.3333333333333333,\"#9c179e\"],[0.4444444444444444,\"#bd3786\"],[0.5555555555555556,\"#d8576b\"],[0.6666666666666666,\"#ed7953\"],[0.7777777777777778,\"#fb9f3a\"],[0.8888888888888888,\"#fdca26\"],[1.0,\"#f0f921\"]],\"sequentialminus\":[[0.0,\"#0d0887\"],[0.1111111111111111,\"#46039f\"],[0.2222222222222222,\"#7201a8\"],[0.3333333333333333,\"#9c179e\"],[0.4444444444444444,\"#bd3786\"],[0.5555555555555556,\"#d8576b\"],[0.6666666666666666,\"#ed7953\"],[0.7777777777777778,\"#fb9f3a\"],[0.8888888888888888,\"#fdca26\"],[1.0,\"#f0f921\"]],\"diverging\":[[0,\"#8e0152\"],[0.1,\"#c51b7d\"],[0.2,\"#de77ae\"],[0.3,\"#f1b6da\"],[0.4,\"#fde0ef\"],[0.5,\"#f7f7f7\"],[0.6,\"#e6f5d0\"],[0.7,\"#b8e186\"],[0.8,\"#7fbc41\"],[0.9,\"#4d9221\"],[1,\"#276419\"]]},\"xaxis\":{\"gridcolor\":\"white\",\"linecolor\":\"white\",\"ticks\":\"\",\"title\":{\"standoff\":15},\"zerolinecolor\":\"white\",\"automargin\":true,\"zerolinewidth\":2},\"yaxis\":{\"gridcolor\":\"white\",\"linecolor\":\"white\",\"ticks\":\"\",\"title\":{\"standoff\":15},\"zerolinecolor\":\"white\",\"automargin\":true,\"zerolinewidth\":2},\"scene\":{\"xaxis\":{\"backgroundcolor\":\"#E5ECF6\",\"gridcolor\":\"white\",\"linecolor\":\"white\",\"showbackground\":true,\"ticks\":\"\",\"zerolinecolor\":\"white\",\"gridwidth\":2},\"yaxis\":{\"backgroundcolor\":\"#E5ECF6\",\"gridcolor\":\"white\",\"linecolor\":\"white\",\"showbackground\":true,\"ticks\":\"\",\"zerolinecolor\":\"white\",\"gridwidth\":2},\"zaxis\":{\"backgroundcolor\":\"#E5ECF6\",\"gridcolor\":\"white\",\"linecolor\":\"white\",\"showbackground\":true,\"ticks\":\"\",\"zerolinecolor\":\"white\",\"gridwidth\":2}},\"shapedefaults\":{\"line\":{\"color\":\"#2a3f5f\"}},\"annotationdefaults\":{\"arrowcolor\":\"#2a3f5f\",\"arrowhead\":0,\"arrowwidth\":1},\"geo\":{\"bgcolor\":\"white\",\"landcolor\":\"#E5ECF6\",\"subunitcolor\":\"white\",\"showland\":true,\"showlakes\":true,\"lakecolor\":\"white\"},\"title\":{\"x\":0.05},\"mapbox\":{\"style\":\"light\"}}},\"xaxis\":{\"anchor\":\"y\",\"domain\":[0.0,1.0],\"title\":{\"text\":\"value\"}},\"yaxis\":{\"anchor\":\"x\",\"domain\":[0.0,1.0],\"title\":{\"text\":\"percent\"}},\"legend\":{\"title\":{\"text\":\"variable\"},\"tracegroupgap\":0},\"title\":{\"text\":\"Log Frequency of Features\"},\"barmode\":\"relative\"},                        {\"responsive\": true}                    ).then(function(){\n",
       "                            \n",
       "var gd = document.getElementById('1a6f8139-d95a-4c02-a99a-67cf207a1e91');\n",
       "var x = new MutationObserver(function (mutations, observer) {{\n",
       "        var display = window.getComputedStyle(gd).display;\n",
       "        if (!display || display === 'none') {{\n",
       "            console.log([gd, 'removed!']);\n",
       "            Plotly.purge(gd);\n",
       "            observer.disconnect();\n",
       "        }}\n",
       "}});\n",
       "\n",
       "// Listen for the removal of the full notebook cells\n",
       "var notebookContainer = gd.closest('#notebook-container');\n",
       "if (notebookContainer) {{\n",
       "    x.observe(notebookContainer, {childList: true});\n",
       "}}\n",
       "\n",
       "// Listen for the clearing of the current output cell\n",
       "var outputEl = gd.closest('.output');\n",
       "if (outputEl) {{\n",
       "    x.observe(outputEl, {childList: true});\n",
       "}}\n",
       "\n",
       "                        })                };                            </script>        </div>\n",
       "</body>\n",
       "</html>"
      ]
     },
     "metadata": {},
     "output_type": "display_data"
    }
   ],
   "source": [
    "# Plot log frequency\n",
    "log_freq = (feature_freqs).log10()\n",
    "px.histogram(utils.to_numpy(log_freq), title=\"Log Frequency of Features\", histnorm='percent')"
   ]
  },
  {
   "cell_type": "markdown",
   "metadata": {
    "id": "QjWHwXTiFyjJ"
   },
   "source": [
    "1. Here we can see a distribution centered around 0.2-0.4, which means that many features are rarely activated, supporting the finding of sparse and monosemantic features in the paper.\n",
    "2. In the paper, the authors often observe a long tail of very low-frequency features, because the autoencoder is learning on real MLP activations from a large Transformer and is trained more times.\n",
    "3. However, this result can be reasonable for a toy and synthetic scenario with the chosen hyperparameters. With our toy data or fewer training steps, we may not replicate that exact shape like a big spike near zero. Our result is just a sign that our setup is less sparse than the paper’s final dictionary.\n",
    "4. If our goal is to replicate the high sparsity, we might consider increasing the L1 coefficient, training longer, or using real Transformer activations.\n",
    "5. I will replicate the true results in the 2nd section.\n",
    "\n"
   ]
  },
  {
   "cell_type": "markdown",
   "metadata": {
    "id": "bBnftZYs8HT0"
   },
   "source": [
    "### Step7: Example: Extract Tokens Activating a Specific Feature\n",
    "\n",
    "- The original code includes helper functions (such as get_acts and make_token_df) to extract tokens that strongly activate a given feature from Transformer activations.  \n",
    "Here, we demonstrate this on synthetic data. (In a full replication, we would extract tokens from real transformer outputs.)\n",
    "\n",
    "- Below, get_acts filters examples where a specified feature is activated (activation > 0) and make_token_df creates a DataFrame showing tokens and their contexts."
   ]
  },
  {
   "cell_type": "code",
   "execution_count": 10,
   "metadata": {
    "colab": {
     "base_uri": "https://localhost:8080/",
     "height": 431,
     "referenced_widgets": [
      "1759e7ae9a524b6b9e78d389c86e7b96",
      "fd6e390d84e44e67aeb9cb6967995ef1",
      "47def3096c74451393cf576df09900df",
      "e5cb95f81b0f4a64b204f812117dc9ec",
      "0055b109a4a44f809dc49bc4cb756ea0",
      "0f6b015277cb48bc9934d19a7082d869",
      "60c718375bbf40278466dc954d2e3ec4",
      "16c09f54b5ba43f58aa14283fc10fbb5",
      "c21c793261a840f4977f88026f7ee2ef",
      "22ddbe70e67049758c69a42b9d05fd6f",
      "d86ca27bcbe546b09b22bd05b5cc03a8"
     ]
    },
    "id": "GpNON50t7_eh",
    "outputId": "f37068ae-3adb-4587-ee36-b61bbfcc592a"
   },
   "outputs": [
    {
     "data": {
      "application/vnd.jupyter.widget-view+json": {
       "model_id": "1759e7ae9a524b6b9e78d389c86e7b96",
       "version_major": 2,
       "version_minor": 0
      },
      "text/plain": [
       "  0%|          | 0/3 [00:00<?, ?it/s]"
      ]
     },
     "metadata": {},
     "output_type": "display_data"
    },
    {
     "name": "stdout",
     "output_type": "stream",
     "text": [
      "Filtered activations shape: torch.Size([192, 128])\n",
      "Filtered tokens shape: torch.Size([192, 128])\n"
     ]
    },
    {
     "data": {
      "application/vnd.google.colaboratory.intrinsic+json": {
       "summary": "{\n  \"name\": \"display(token_df\",\n  \"rows\": 10,\n  \"fields\": [\n    {\n      \"column\": \"Token\",\n      \"properties\": {\n        \"dtype\": \"string\",\n        \"num_unique_values\": 10,\n        \"samples\": [\n          \"token7517\",\n          \"token7001\",\n          \"token3612\"\n        ],\n        \"semantic_type\": \"\",\n        \"description\": \"\"\n      }\n    },\n    {\n      \"column\": \"Context\",\n      \"properties\": {\n        \"dtype\": \"string\",\n        \"num_unique_values\": 10,\n        \"samples\": [\n          \"token3458 token6609 token9431 $ token7517 $ token9529 token823 token6223\",\n          \"token7372 token7131 token2688 $ token7001 $ token6204 token7154 token2949\",\n          \"token1288 token5738 token9206 $ token3612 $ token1530 token9859 token2670\"\n        ],\n        \"semantic_type\": \"\",\n        \"description\": \"\"\n      }\n    },\n    {\n      \"column\": \"Label\",\n      \"properties\": {\n        \"dtype\": \"string\",\n        \"num_unique_values\": 10,\n        \"samples\": [\n          \"76/73\",\n          \"112/99\",\n          \"16/95\"\n        ],\n        \"semantic_type\": \"\",\n        \"description\": \"\"\n      }\n    },\n    {\n      \"column\": \"Activation\",\n      \"properties\": {\n        \"dtype\": \"float32\",\n        \"num_unique_values\": 10,\n        \"samples\": [\n          1.6366709470748901,\n          1.844282627105713,\n          1.678978681564331\n        ],\n        \"semantic_type\": \"\",\n        \"description\": \"\"\n      }\n    }\n  ]\n}",
       "type": "dataframe"
      },
      "text/html": [
       "\n",
       "  <div id=\"df-eddb62d2-c398-4bcc-b91a-0e5bdd45aeb3\" class=\"colab-df-container\">\n",
       "    <div>\n",
       "<style scoped>\n",
       "    .dataframe tbody tr th:only-of-type {\n",
       "        vertical-align: middle;\n",
       "    }\n",
       "\n",
       "    .dataframe tbody tr th {\n",
       "        vertical-align: top;\n",
       "    }\n",
       "\n",
       "    .dataframe thead th {\n",
       "        text-align: right;\n",
       "    }\n",
       "</style>\n",
       "<table border=\"1\" class=\"dataframe\">\n",
       "  <thead>\n",
       "    <tr style=\"text-align: right;\">\n",
       "      <th></th>\n",
       "      <th>Token</th>\n",
       "      <th>Context</th>\n",
       "      <th>Label</th>\n",
       "      <th>Activation</th>\n",
       "    </tr>\n",
       "  </thead>\n",
       "  <tbody>\n",
       "    <tr>\n",
       "      <th>12860</th>\n",
       "      <td>token9427</td>\n",
       "      <td>token3967 token7779 token3767 $ token9427 $ to...</td>\n",
       "      <td>100/60</td>\n",
       "      <td>2.005157</td>\n",
       "    </tr>\n",
       "    <tr>\n",
       "      <th>14435</th>\n",
       "      <td>token7001</td>\n",
       "      <td>token7372 token7131 token2688 $ token7001 $ to...</td>\n",
       "      <td>112/99</td>\n",
       "      <td>1.844283</td>\n",
       "    </tr>\n",
       "    <tr>\n",
       "      <th>16185</th>\n",
       "      <td>token2730</td>\n",
       "      <td>token8111 token9993 token85 $ token2730 $ toke...</td>\n",
       "      <td>126/57</td>\n",
       "      <td>1.811067</td>\n",
       "    </tr>\n",
       "    <tr>\n",
       "      <th>21281</th>\n",
       "      <td>token3473</td>\n",
       "      <td>token5881 token5448 token8903 $ token3473 $ to...</td>\n",
       "      <td>166/33</td>\n",
       "      <td>1.752173</td>\n",
       "    </tr>\n",
       "    <tr>\n",
       "      <th>5747</th>\n",
       "      <td>token9040</td>\n",
       "      <td>token5829 token7762 token6971 $ token9040 $ to...</td>\n",
       "      <td>44/115</td>\n",
       "      <td>1.722101</td>\n",
       "    </tr>\n",
       "    <tr>\n",
       "      <th>2143</th>\n",
       "      <td>token3612</td>\n",
       "      <td>token1288 token5738 token9206 $ token3612 $ to...</td>\n",
       "      <td>16/95</td>\n",
       "      <td>1.678979</td>\n",
       "    </tr>\n",
       "    <tr>\n",
       "      <th>17611</th>\n",
       "      <td>token9762</td>\n",
       "      <td>token4640 token2388 token3587 $ token9762 $ to...</td>\n",
       "      <td>137/75</td>\n",
       "      <td>1.656868</td>\n",
       "    </tr>\n",
       "    <tr>\n",
       "      <th>16996</th>\n",
       "      <td>token6184</td>\n",
       "      <td>token3447 token2702 token9960 $ token6184 $ to...</td>\n",
       "      <td>132/100</td>\n",
       "      <td>1.655692</td>\n",
       "    </tr>\n",
       "    <tr>\n",
       "      <th>9801</th>\n",
       "      <td>token7517</td>\n",
       "      <td>token3458 token6609 token9431 $ token7517 $ to...</td>\n",
       "      <td>76/73</td>\n",
       "      <td>1.636671</td>\n",
       "    </tr>\n",
       "    <tr>\n",
       "      <th>22727</th>\n",
       "      <td>token258</td>\n",
       "      <td>token5991 token2448 token1760 $ token258 $ tok...</td>\n",
       "      <td>177/71</td>\n",
       "      <td>1.626519</td>\n",
       "    </tr>\n",
       "  </tbody>\n",
       "</table>\n",
       "</div>\n",
       "    <div class=\"colab-df-buttons\">\n",
       "\n",
       "  <div class=\"colab-df-container\">\n",
       "    <button class=\"colab-df-convert\" onclick=\"convertToInteractive('df-eddb62d2-c398-4bcc-b91a-0e5bdd45aeb3')\"\n",
       "            title=\"Convert this dataframe to an interactive table.\"\n",
       "            style=\"display:none;\">\n",
       "\n",
       "  <svg xmlns=\"http://www.w3.org/2000/svg\" height=\"24px\" viewBox=\"0 -960 960 960\">\n",
       "    <path d=\"M120-120v-720h720v720H120Zm60-500h600v-160H180v160Zm220 220h160v-160H400v160Zm0 220h160v-160H400v160ZM180-400h160v-160H180v160Zm440 0h160v-160H620v160ZM180-180h160v-160H180v160Zm440 0h160v-160H620v160Z\"/>\n",
       "  </svg>\n",
       "    </button>\n",
       "\n",
       "  <style>\n",
       "    .colab-df-container {\n",
       "      display:flex;\n",
       "      gap: 12px;\n",
       "    }\n",
       "\n",
       "    .colab-df-convert {\n",
       "      background-color: #E8F0FE;\n",
       "      border: none;\n",
       "      border-radius: 50%;\n",
       "      cursor: pointer;\n",
       "      display: none;\n",
       "      fill: #1967D2;\n",
       "      height: 32px;\n",
       "      padding: 0 0 0 0;\n",
       "      width: 32px;\n",
       "    }\n",
       "\n",
       "    .colab-df-convert:hover {\n",
       "      background-color: #E2EBFA;\n",
       "      box-shadow: 0px 1px 2px rgba(60, 64, 67, 0.3), 0px 1px 3px 1px rgba(60, 64, 67, 0.15);\n",
       "      fill: #174EA6;\n",
       "    }\n",
       "\n",
       "    .colab-df-buttons div {\n",
       "      margin-bottom: 4px;\n",
       "    }\n",
       "\n",
       "    [theme=dark] .colab-df-convert {\n",
       "      background-color: #3B4455;\n",
       "      fill: #D2E3FC;\n",
       "    }\n",
       "\n",
       "    [theme=dark] .colab-df-convert:hover {\n",
       "      background-color: #434B5C;\n",
       "      box-shadow: 0px 1px 3px 1px rgba(0, 0, 0, 0.15);\n",
       "      filter: drop-shadow(0px 1px 2px rgba(0, 0, 0, 0.3));\n",
       "      fill: #FFFFFF;\n",
       "    }\n",
       "  </style>\n",
       "\n",
       "    <script>\n",
       "      const buttonEl =\n",
       "        document.querySelector('#df-eddb62d2-c398-4bcc-b91a-0e5bdd45aeb3 button.colab-df-convert');\n",
       "      buttonEl.style.display =\n",
       "        google.colab.kernel.accessAllowed ? 'block' : 'none';\n",
       "\n",
       "      async function convertToInteractive(key) {\n",
       "        const element = document.querySelector('#df-eddb62d2-c398-4bcc-b91a-0e5bdd45aeb3');\n",
       "        const dataTable =\n",
       "          await google.colab.kernel.invokeFunction('convertToInteractive',\n",
       "                                                    [key], {});\n",
       "        if (!dataTable) return;\n",
       "\n",
       "        const docLinkHtml = 'Like what you see? Visit the ' +\n",
       "          '<a target=\"_blank\" href=https://colab.research.google.com/notebooks/data_table.ipynb>data table notebook</a>'\n",
       "          + ' to learn more about interactive tables.';\n",
       "        element.innerHTML = '';\n",
       "        dataTable['output_type'] = 'display_data';\n",
       "        await google.colab.output.renderOutput(dataTable, element);\n",
       "        const docLink = document.createElement('div');\n",
       "        docLink.innerHTML = docLinkHtml;\n",
       "        element.appendChild(docLink);\n",
       "      }\n",
       "    </script>\n",
       "  </div>\n",
       "\n",
       "\n",
       "<div id=\"df-9b827559-1968-460b-a736-b50a932c1663\">\n",
       "  <button class=\"colab-df-quickchart\" onclick=\"quickchart('df-9b827559-1968-460b-a736-b50a932c1663')\"\n",
       "            title=\"Suggest charts\"\n",
       "            style=\"display:none;\">\n",
       "\n",
       "<svg xmlns=\"http://www.w3.org/2000/svg\" height=\"24px\"viewBox=\"0 0 24 24\"\n",
       "     width=\"24px\">\n",
       "    <g>\n",
       "        <path d=\"M19 3H5c-1.1 0-2 .9-2 2v14c0 1.1.9 2 2 2h14c1.1 0 2-.9 2-2V5c0-1.1-.9-2-2-2zM9 17H7v-7h2v7zm4 0h-2V7h2v10zm4 0h-2v-4h2v4z\"/>\n",
       "    </g>\n",
       "</svg>\n",
       "  </button>\n",
       "\n",
       "<style>\n",
       "  .colab-df-quickchart {\n",
       "      --bg-color: #E8F0FE;\n",
       "      --fill-color: #1967D2;\n",
       "      --hover-bg-color: #E2EBFA;\n",
       "      --hover-fill-color: #174EA6;\n",
       "      --disabled-fill-color: #AAA;\n",
       "      --disabled-bg-color: #DDD;\n",
       "  }\n",
       "\n",
       "  [theme=dark] .colab-df-quickchart {\n",
       "      --bg-color: #3B4455;\n",
       "      --fill-color: #D2E3FC;\n",
       "      --hover-bg-color: #434B5C;\n",
       "      --hover-fill-color: #FFFFFF;\n",
       "      --disabled-bg-color: #3B4455;\n",
       "      --disabled-fill-color: #666;\n",
       "  }\n",
       "\n",
       "  .colab-df-quickchart {\n",
       "    background-color: var(--bg-color);\n",
       "    border: none;\n",
       "    border-radius: 50%;\n",
       "    cursor: pointer;\n",
       "    display: none;\n",
       "    fill: var(--fill-color);\n",
       "    height: 32px;\n",
       "    padding: 0;\n",
       "    width: 32px;\n",
       "  }\n",
       "\n",
       "  .colab-df-quickchart:hover {\n",
       "    background-color: var(--hover-bg-color);\n",
       "    box-shadow: 0 1px 2px rgba(60, 64, 67, 0.3), 0 1px 3px 1px rgba(60, 64, 67, 0.15);\n",
       "    fill: var(--button-hover-fill-color);\n",
       "  }\n",
       "\n",
       "  .colab-df-quickchart-complete:disabled,\n",
       "  .colab-df-quickchart-complete:disabled:hover {\n",
       "    background-color: var(--disabled-bg-color);\n",
       "    fill: var(--disabled-fill-color);\n",
       "    box-shadow: none;\n",
       "  }\n",
       "\n",
       "  .colab-df-spinner {\n",
       "    border: 2px solid var(--fill-color);\n",
       "    border-color: transparent;\n",
       "    border-bottom-color: var(--fill-color);\n",
       "    animation:\n",
       "      spin 1s steps(1) infinite;\n",
       "  }\n",
       "\n",
       "  @keyframes spin {\n",
       "    0% {\n",
       "      border-color: transparent;\n",
       "      border-bottom-color: var(--fill-color);\n",
       "      border-left-color: var(--fill-color);\n",
       "    }\n",
       "    20% {\n",
       "      border-color: transparent;\n",
       "      border-left-color: var(--fill-color);\n",
       "      border-top-color: var(--fill-color);\n",
       "    }\n",
       "    30% {\n",
       "      border-color: transparent;\n",
       "      border-left-color: var(--fill-color);\n",
       "      border-top-color: var(--fill-color);\n",
       "      border-right-color: var(--fill-color);\n",
       "    }\n",
       "    40% {\n",
       "      border-color: transparent;\n",
       "      border-right-color: var(--fill-color);\n",
       "      border-top-color: var(--fill-color);\n",
       "    }\n",
       "    60% {\n",
       "      border-color: transparent;\n",
       "      border-right-color: var(--fill-color);\n",
       "    }\n",
       "    80% {\n",
       "      border-color: transparent;\n",
       "      border-right-color: var(--fill-color);\n",
       "      border-bottom-color: var(--fill-color);\n",
       "    }\n",
       "    90% {\n",
       "      border-color: transparent;\n",
       "      border-bottom-color: var(--fill-color);\n",
       "    }\n",
       "  }\n",
       "</style>\n",
       "\n",
       "  <script>\n",
       "    async function quickchart(key) {\n",
       "      const quickchartButtonEl =\n",
       "        document.querySelector('#' + key + ' button');\n",
       "      quickchartButtonEl.disabled = true;  // To prevent multiple clicks.\n",
       "      quickchartButtonEl.classList.add('colab-df-spinner');\n",
       "      try {\n",
       "        const charts = await google.colab.kernel.invokeFunction(\n",
       "            'suggestCharts', [key], {});\n",
       "      } catch (error) {\n",
       "        console.error('Error during call to suggestCharts:', error);\n",
       "      }\n",
       "      quickchartButtonEl.classList.remove('colab-df-spinner');\n",
       "      quickchartButtonEl.classList.add('colab-df-quickchart-complete');\n",
       "    }\n",
       "    (() => {\n",
       "      let quickchartButtonEl =\n",
       "        document.querySelector('#df-9b827559-1968-460b-a736-b50a932c1663 button');\n",
       "      quickchartButtonEl.style.display =\n",
       "        google.colab.kernel.accessAllowed ? 'block' : 'none';\n",
       "    })();\n",
       "  </script>\n",
       "</div>\n",
       "\n",
       "    </div>\n",
       "  </div>\n"
      ],
      "text/plain": [
       "           Token                                            Context    Label  \\\n",
       "12860  token9427  token3967 token7779 token3767 $ token9427 $ to...   100/60   \n",
       "14435  token7001  token7372 token7131 token2688 $ token7001 $ to...   112/99   \n",
       "16185  token2730  token8111 token9993 token85 $ token2730 $ toke...   126/57   \n",
       "21281  token3473  token5881 token5448 token8903 $ token3473 $ to...   166/33   \n",
       "5747   token9040  token5829 token7762 token6971 $ token9040 $ to...   44/115   \n",
       "2143   token3612  token1288 token5738 token9206 $ token3612 $ to...    16/95   \n",
       "17611  token9762  token4640 token2388 token3587 $ token9762 $ to...   137/75   \n",
       "16996  token6184  token3447 token2702 token9960 $ token6184 $ to...  132/100   \n",
       "9801   token7517  token3458 token6609 token9431 $ token7517 $ to...    76/73   \n",
       "22727   token258  token5991 token2448 token1760 $ token258 $ tok...   177/71   \n",
       "\n",
       "       Activation  \n",
       "12860    2.005157  \n",
       "14435    1.844283  \n",
       "16185    1.811067  \n",
       "21281    1.752173  \n",
       "5747     1.722101  \n",
       "2143     1.678979  \n",
       "17611    1.656868  \n",
       "16996    1.655692  \n",
       "9801     1.636671  \n",
       "22727    1.626519  "
      ]
     },
     "metadata": {},
     "output_type": "display_data"
    }
   ],
   "source": [
    "@torch.no_grad()\n",
    "def get_acts(feature_id):\n",
    "    filtered_tokens = []\n",
    "    filtered_activations = []\n",
    "    # Loop over a number of batches\n",
    "    for _ in tqdm.trange(3):\n",
    "        # Randomly select a batch of tokens\n",
    "        # For synthetic example, we treat rows of synthetic_data as \"tokens\"\n",
    "        tokens = torch.randint(0, 10000, (cfg[\"model_batch_size\"], cfg[\"seq_len\"])).cuda()\n",
    "        # Simulate a \"cache\" by using synthetic data as if they were MLP activations(in practice, these activations come from a Transformer layer)\n",
    "        mlp_acts = torch.randn(cfg[\"model_batch_size\"], cfg[\"seq_len\"], cfg[\"d_mlp\"]).cuda()\n",
    "        mlp_acts_flattened = mlp_acts.reshape(-1, cfg[\"d_mlp\"])\n",
    "        loss, x_reconstruct, hidden_acts, l2_loss, l1_loss = encoder(mlp_acts_flattened)\n",
    "        b, c = tokens.shape\n",
    "        hidden = hidden_acts.reshape(b, c, -1)\n",
    "        # Extract the specified feature activations\n",
    "        feature_activations = hidden[..., feature_id]\n",
    "        # Only keep samples where the feature is active somewhere\n",
    "        batch_has_active_feature = (feature_activations > 0).any(dim=1).cpu()\n",
    "        if not batch_has_active_feature.any():\n",
    "            continue\n",
    "        filtered_tokens.append(tokens[batch_has_active_feature])\n",
    "        filtered_activations.append(feature_activations[batch_has_active_feature])\n",
    "        cnt = sum(len(i) for i in filtered_tokens)\n",
    "        if cnt > 200:\n",
    "            break\n",
    "    return torch.cat(filtered_tokens, dim=0), torch.cat(filtered_activations, dim=0)\n",
    "\n",
    "# For demonstration, choose feature index 10\n",
    "feature_id = 10\n",
    "filtered_tokens, filtered_activations = get_acts(feature_id)\n",
    "print(\"Filtered activations shape:\", filtered_activations.shape)\n",
    "print(\"Filtered tokens shape:\", filtered_tokens.shape)\n",
    "\n",
    "# Assume we have a helper function to convert token IDs to strings\n",
    "def fake_token_to_string(token_id):\n",
    "    return f\"token{token_id.item()}\"\n",
    "\n",
    "def make_token_df(tokens, len_prefix=3, len_suffix=3):\n",
    "    # Convert tokens to strings using a fake conversion function\n",
    "    str_tokens = [[fake_token_to_string(t) for t in sample] for sample in tokens.cpu().numpy()]\n",
    "    context = []\n",
    "    labels = []\n",
    "    for b in range(len(str_tokens)):\n",
    "        for p in range(len(str_tokens[b])):\n",
    "            prefix = \" \".join(str_tokens[b][max(0, p-len_prefix):p])\n",
    "            suffix = \" \".join(str_tokens[b][p+1:min(len(str_tokens[b]), p+1+len_suffix)])\n",
    "            current = str_tokens[b][p]\n",
    "            context.append(f\"{prefix} $ {current} $ {suffix}\")\n",
    "            labels.append(f\"{b}/{p}\") # Here we use ChatGpt-4o to refine this code at 16:00pm 2/15/2025\n",
    "    return pd.DataFrame({\"Token\": sum(str_tokens, []), \"Context\": context, \"Label\": labels})\n",
    "\n",
    "token_df = make_token_df(filtered_tokens)\n",
    "# Add the corresponding activation values\n",
    "token_df[\"Activation\"] = filtered_activations.view(-1).cpu().numpy()\n",
    "# Sort by activation descending and display the top 10\n",
    "display(token_df.sort_values(\"Activation\", ascending=False).head(10))"
   ]
  },
  {
   "cell_type": "markdown",
   "metadata": {
    "id": "2abjD7TmDSgA"
   },
   "source": [
    "* Note that here we use fake_token_to_string function, this is because (1) this helps avoid additional complexity and dependencies (2) in this demonstration, the data are randomly generated. Even if we used a real tokenizer, the output text would not have any meaningful semantic content. (3) the key objective is to show the entire pipeline, from obtaining transformer activations, processing them through the autoencoder, and finally associating these activations with tokens in a DataFrame. The exact text content is not that important.\n",
    "* Here we can see the activation values range from 1.62 to 2.00, indicating that certain tokens strongly activate by specific learned features. Tokens like token9427, token7001... have the highest activation values, meaning they are strongly associated with specific learned features (f10). This suggests that the sparse autoencoder is successfully identifying distinct feature activations and the certain tokens contribute more strongly to specific neuron responses.\n",
    "* The variation in activation values across different tokens suggests that the autoencoder has learned to differentiate between tokens.\n",
    "* The context column shows that each token appears in different textual environments, meaning that activations are influenced by surrounding tokens, which supports the idea that even in a sparse feature space, the token activations are still dependent on context.\n",
    "* Some tokens appear in different contexts but have similar activation strengths, which could mean that a single feature is still representing multiple meanings. However, this is expected as synthetic data lacks real-world semantics."
   ]
  },
  {
   "cell_type": "markdown",
   "metadata": {
    "id": "tHTk2nYrFUP5"
   },
   "source": [
    "### Step8. Conclusion and Discussion for Experiment1\n",
    "\n",
    "**Observations:**  \n",
    "1. The autoencoder training loss decreases over epochs, indicating that the model learns to reconstruct synthetic MLP activations.\n",
    "2. The histogram of feature activation frequencies shows that many features are rarely activated, supporting the finding of sparse features in the paper.\n",
    "3. Our example using get_acts and make_token_df demonstrates a method to extract tokens that activate a specific feature ( here we use feature 10 ).\n",
    "\n",
    "**Comparison with the Paper:**  \n",
    "Although we used synthetic data and a simplified model, the loss reduction, sparse activation, and interpretable feature extraction are consistent with the findings in the paper.\n",
    "\n",
    "**The Simplifications Made:**  \n",
    "1. Synthetic data is used instead of actual Transformer activations.\n",
    "2. We implemented a single-layer autoencoder and trained it for only 100 epochs on a small dataset.\n",
    "3. The token extraction example uses fake token IDs and a dummy conversion function.\n",
    "\n",
    "**Conclusion:**  \n",
    "1. This notebook so far demonstrates that a sparse autoencoder can effectively decompose activations into many features through a simplified implementation and example.\n",
    "2. In the next experiment, we will use real Transformer-generated MLP activations instead of synthetic data. This will allow us to evaluate whether the monosemanticity observed in experiment 1 holds when applied to actual neural network representations. Additionally, we will introduce a pre-trained autoencoder to improve feature extraction and conduct further tests to validate the presence of distinct, interpretable features.\n"
   ]
  },
  {
   "cell_type": "markdown",
   "metadata": {
    "id": "WCk99Q3ArHXf"
   },
   "source": [
    "## Now We Move into Experiment2"
   ]
  },
  {
   "cell_type": "markdown",
   "metadata": {
    "id": "AoUlFJ2wrmQJ"
   },
   "source": [
    "### Step1. Configuration and Initialization\n",
    "* Compare with experiment1, here we add remove_parallel_component_of_grads and load_from_hf function."
   ]
  },
  {
   "cell_type": "code",
   "execution_count": 11,
   "metadata": {
    "id": "411IHzh7mo10"
   },
   "outputs": [],
   "source": [
    "# Define an AutoEncoder model class for sparse feature learning.\n",
    "class AutoEncoder(nn.Module):\n",
    "    def __init__(self, cfg):\n",
    "        super().__init__()\n",
    "        # Overcomplete dimension\n",
    "        d_hidden = cfg[\"d_mlp\"] * cfg[\"dict_mult\"]\n",
    "        d_mlp = cfg[\"d_mlp\"]\n",
    "        l1_coeff = cfg[\"l1_coeff\"]\n",
    "        dtype = DTYPES[cfg[\"enc_dtype\"]]\n",
    "        torch.manual_seed(cfg[\"seed\"])\n",
    "\n",
    "        # Encoder: maps d_mlp to d_hidden\n",
    "        self.W_enc = nn.Parameter(torch.nn.init.kaiming_uniform_(torch.empty(d_mlp, d_hidden, dtype=dtype)))\n",
    "        self.b_enc = nn.Parameter(torch.zeros(d_hidden, dtype=dtype))\n",
    "\n",
    "        # Decoder: maps d_hidden to d_mlp\n",
    "        self.W_dec = nn.Parameter(torch.nn.init.kaiming_uniform_(torch.empty(d_hidden, d_mlp, dtype=dtype)))\n",
    "        self.b_dec = nn.Parameter(torch.zeros(d_mlp, dtype=dtype))\n",
    "\n",
    "        # Normalize each row of W_dec so that each feature direction is unit length\n",
    "        self.W_dec.data[:] = self.W_dec / (self.W_dec.norm(dim=-1, keepdim=True) + 1e-6)\n",
    "\n",
    "        self.d_hidden = d_hidden\n",
    "        self.l1_coeff = l1_coeff\n",
    "\n",
    "        self.to(\"cuda\")\n",
    "\n",
    "    def forward(self, x):\n",
    "        # Center the input by subtracting decoder bias\n",
    "        x_cent = x - self.b_dec\n",
    "        # Encoder: Compute sparse activations with ReLU\n",
    "        acts = F.relu(x_cent @ self.W_enc + self.b_enc)\n",
    "        # Decoder: Reconstruct the input from sparse codes\n",
    "        x_reconstruct = acts @ self.W_dec + self.b_dec\n",
    "        # L2 loss: reconstruction error\n",
    "        l2_loss = (x_reconstruct.float() - x.float()).pow(2).sum(-1).mean(0)\n",
    "        # L1 loss: sparsity regularization on activations\n",
    "        l1_loss = self.l1_coeff * (acts.float().abs().sum())\n",
    "        loss = l2_loss + l1_loss\n",
    "        return loss, x_reconstruct, acts, l2_loss, l1_loss\n",
    "\n",
    "    @torch.no_grad()\n",
    "    def remove_parallel_component_of_grads(self):\n",
    "        \"\"\"\n",
    "        Removes gradient components that are parallel to decoder weights.\n",
    "        This helps maintain orthogonality in the learned features.\n",
    "        \"\"\"\n",
    "        W_dec_normed = self.W_dec / self.W_dec.norm(dim=-1, keepdim=True)\n",
    "        W_dec_grad_proj = (self.W_dec.grad * W_dec_normed).sum(-1, keepdim=True) * W_dec_normed\n",
    "        self.W_dec.grad -= W_dec_grad_proj\n",
    "\n",
    "    @classmethod\n",
    "    def load_from_hf(cls, version):\n",
    "        \"\"\"\n",
    "        Load a pre-trained autoencoder model from hugging face hub.\n",
    "        \"\"\"\n",
    "        if version == \"run1\":\n",
    "            version = 25\n",
    "        elif version == \"run2\":\n",
    "            version = 47\n",
    "\n",
    "        cfg = utils.download_file_from_hf(\"NeelNanda/sparse_autoencoder\", f\"{version}_cfg.json\")\n",
    "        pprint.pprint(cfg)\n",
    "        self = cls(cfg=cfg)\n",
    "        self.load_state_dict(utils.download_file_from_hf(\"NeelNanda/sparse_autoencoder\", f\"{version}.pt\", force_is_torch=True))\n",
    "        return self"
   ]
  },
  {
   "cell_type": "markdown",
   "metadata": {
    "id": "4OmqSSVwtHGg"
   },
   "source": [
    "### Step2: Loading Pre-trained Transformer Model"
   ]
  },
  {
   "cell_type": "code",
   "execution_count": 12,
   "metadata": {
    "colab": {
     "base_uri": "https://localhost:8080/",
     "height": 356,
     "referenced_widgets": [
      "f0210af518e24abca91ff1b33c71e108",
      "0f7afefe5f3e4679a618f5f95074f353",
      "e79781f1f9b543c4967f7d16b9232d76",
      "b44f2086d2b6481087becb250e6cbf9f",
      "81fadf5f919340f2bbbf28b00bcf78eb",
      "54521b5843bf4c3293059fa0634be1c8",
      "49a3e8c6035b42f8bdccb1debbcca298",
      "1eb10467d5934481a03e3163ede8139a",
      "3bfb1cd940504105ac9ac9016fb342d3",
      "405e06e47afc482b9ca02e961fb649c1",
      "a668ed0cbdc74053bf8c6d659cfef976",
      "5f2e5c81615c4a778f34aa23b065c460",
      "9953583fdecc4ca0bd030a20c187ea5d",
      "f99e2935ea5841949b00047cb6e53b26",
      "eee7c87224eb48e6b66c64f16641641e",
      "01660cb14dc84222b5366f22e127ba37",
      "c23090ebbc794eb98443a7e847c9e12f",
      "b7ac6c6fe4c74acfae20f867e73ff1da",
      "361b93a47f4544c1bf966af4549a2c03",
      "392dcbdb63284d47bc2753cf9fb706e9",
      "dfbbef7ac1474ca7b4e8535d24093d02",
      "8dd6a3a9cea0495580ef527d5044a1a5",
      "987e59db0aab47eda68c611caed6874a",
      "a883ced8f9b345a18ee2c39388dc0959",
      "6cf0196a940642b48ba9c6d74622729f",
      "04b0eb8d0ef94c8caf206ceaf120706c",
      "7b9f2ad5fb3744308bc3a6c33c749479",
      "f770e6c66e6d46dc87c40d65502f4826",
      "8c761aac7b5248fd86f0039f74ac5975",
      "0fb4821215d74b9991258b6a526cbdca",
      "dbe6957ba8ba4afd90055c93f7b34032",
      "f0db9ec94a124ac894dd7e7363ca52ee",
      "a6da494a49c04eb3b8f9e85be922e345",
      "a87212e20b7c47f7b4ed09b415f2b936",
      "b6a89e3735464ce5adaa5a0135c63357",
      "1a8cad8261c3410f93965da1e8dd9bb3",
      "2ea13717b2ef4e6db55fb657e1fccee7",
      "97db70d5d5c045f0841d44780ad0cf16",
      "ed812ec0127d406b9ddd12774f9bad9f",
      "ebaa07894c45418780f0454f926df9ea",
      "0847c319736a4b5a92ab50300e1fafac",
      "904ff6116fbe4909bf7907692ffee663",
      "b808f2e6cc234e01b22223adaa1fd884",
      "be07c12e866142b5a752edcc6cccaa08",
      "dd2b2a8e0e2d48cfa6c9e913307a4120",
      "de38ac2555bc4faa99edf0090511d3c0",
      "a9faa354f9e44bbe901de5b658898fa3",
      "7692c283096d4080a4f94d6c7937facc",
      "80e5c21038f8464a9014c3d2c6ebf19f",
      "c331cc4b42e64eae81347cbdbddb6fbb",
      "cb52a80e483045eebb703b87a00d44fb",
      "600e88456c7b434087fd9cf62e1f0621",
      "b9473301d942452dbbe6908dee8b35d3",
      "e445614408e1481d8f18204c934737d3",
      "e1fef2c09ff54b74a267c0038616fb95"
     ]
    },
    "id": "B_aqzMXSow-1",
    "outputId": "2ef0d90d-a5da-42bd-f8f1-6e4d721f34cd"
   },
   "outputs": [
    {
     "name": "stderr",
     "output_type": "stream",
     "text": [
      "/usr/local/lib/python3.11/dist-packages/huggingface_hub/utils/_auth.py:94: UserWarning:\n",
      "\n",
      "\n",
      "The secret `HF_TOKEN` does not exist in your Colab secrets.\n",
      "To authenticate with the Hugging Face Hub, create a token in your settings tab (https://huggingface.co/settings/tokens), set it as secret in your Google Colab and restart your session.\n",
      "You will be able to reuse this secret in all of your notebooks.\n",
      "Please note that authentication is recommended but still optional to access public models or datasets.\n",
      "\n"
     ]
    },
    {
     "data": {
      "application/vnd.jupyter.widget-view+json": {
       "model_id": "f0210af518e24abca91ff1b33c71e108",
       "version_major": 2,
       "version_minor": 0
      },
      "text/plain": [
       "config.json:   0%|          | 0.00/1.28k [00:00<?, ?B/s]"
      ]
     },
     "metadata": {},
     "output_type": "display_data"
    },
    {
     "data": {
      "application/vnd.jupyter.widget-view+json": {
       "model_id": "5f2e5c81615c4a778f34aa23b065c460",
       "version_major": 2,
       "version_minor": 0
      },
      "text/plain": [
       "model_final.pth:   0%|          | 0.00/213M [00:00<?, ?B/s]"
      ]
     },
     "metadata": {},
     "output_type": "display_data"
    },
    {
     "data": {
      "application/vnd.jupyter.widget-view+json": {
       "model_id": "987e59db0aab47eda68c611caed6874a",
       "version_major": 2,
       "version_minor": 0
      },
      "text/plain": [
       "tokenizer_config.json:   0%|          | 0.00/51.0 [00:00<?, ?B/s]"
      ]
     },
     "metadata": {},
     "output_type": "display_data"
    },
    {
     "data": {
      "application/vnd.jupyter.widget-view+json": {
       "model_id": "a87212e20b7c47f7b4ed09b415f2b936",
       "version_major": 2,
       "version_minor": 0
      },
      "text/plain": [
       "tokenizer.json:   0%|          | 0.00/2.04M [00:00<?, ?B/s]"
      ]
     },
     "metadata": {},
     "output_type": "display_data"
    },
    {
     "data": {
      "application/vnd.jupyter.widget-view+json": {
       "model_id": "dd2b2a8e0e2d48cfa6c9e913307a4120",
       "version_major": 2,
       "version_minor": 0
      },
      "text/plain": [
       "special_tokens_map.json:   0%|          | 0.00/81.0 [00:00<?, ?B/s]"
      ]
     },
     "metadata": {},
     "output_type": "display_data"
    },
    {
     "name": "stdout",
     "output_type": "stream",
     "text": [
      "Loaded pretrained model gelu-1l into HookedTransformer\n",
      "Changing model dtype to torch.float32\n"
     ]
    }
   ],
   "source": [
    "# Load a pre-trained 1-layer GELU transformer model from HookedTransformer library.\n",
    "model = HookedTransformer.from_pretrained(\"gelu-1l\").to(DTYPES[cfg[\"enc_dtype\"]])\n",
    "\n",
    "# Extract model parameters.\n",
    "n_layers = model.cfg.n_layers\n",
    "d_model = model.cfg.d_model\n",
    "n_heads = model.cfg.n_heads\n",
    "d_head = model.cfg.d_head\n",
    "d_mlp = model.cfg.d_mlp\n",
    "d_vocab = model.cfg.d_vocab"
   ]
  },
  {
   "cell_type": "markdown",
   "metadata": {
    "id": "Xj8WCnIctNm_"
   },
   "source": [
    "### Step3: Preparing Dataset\n",
    "* Load dataset C4-Code-20K"
   ]
  },
  {
   "cell_type": "code",
   "execution_count": 13,
   "metadata": {
    "colab": {
     "base_uri": "https://localhost:8080/",
     "height": 145,
     "referenced_widgets": [
      "e59986907f064fad843e9473408ff565",
      "c50b35010aa34e71adeb9dd01f5fc606",
      "56bce17f596a43b48ca0093db5a9954a",
      "e2f2860ed8374ea2a09ce75d63c97a03",
      "6f261594acd64ec2bcf08699bd996090",
      "75b37816327c462bb76fbcd00a7c8795",
      "5cfb948b66124b3da5e8340a2ad7e125",
      "069af44b4b8645dcbb21206e7d622773",
      "2e04f42294644be78979827978dd34ec",
      "00912cd5f98e42dd8ae585e8ab4377ea",
      "22bd47668cdb4532a8d6f1cb60353629",
      "dd88d4f2f0c9443197a45516917e1e07",
      "fc5272793c1047e39d792e485157fac5",
      "ef94e3947be94fd9854c110898a4d503",
      "726832bbc4c94f08aa488679564cdcf5",
      "bc5af604bcbc40e5b3d163ccd0e64849",
      "0e70c647c14049408136c2b661eb3ad5",
      "4fa346d503ea413588aa646002015283",
      "81e9710392204ba4a5acf8cc9c3d4ebd",
      "baddb94db68d4e7fa77dbf7e200c0325",
      "70d8c8359d274c3b91c66a31dad335c9",
      "3973e3dd99314d8789bc31a77e579763",
      "76b94a1271e8430b805183fa3d0bb4a9",
      "3382514269d7451da28e548e0c887fce",
      "0a9cb53a777a4a8380f4e28d5fe96859",
      "68a06e58b43c4bb0ba7419901468444a",
      "a0c7eab1444747ae85995c9c409430c4",
      "d3dbbe95ffbe439892a077586dc5e121",
      "1703726b851a4069b56ded3118ff0267",
      "7fd971b29ae94cdaa2a7d66a8063e1b2",
      "337cbd27683a46ef870bd728c950ee7f",
      "166bd028cd2443578ee8d6c554e453af",
      "632cd309af36453e9d16e40be2da449d",
      "c48452aabe0745f9b182f69562caeb75",
      "134bd149297b469496d2f2aac8f67830",
      "fc25d667e8534c2bbb3d935c03aa3305",
      "6291a60fc43e44599d1bff60ca8029ef",
      "a718ccca3440495ab0facb0d9da90bd9",
      "304a3311b65d4db6bdac57cdffcc226f",
      "fb1c9221d49a4a87b27a5bd884968be0",
      "c6916a9bcb5c490fb12070b3a7316394",
      "f604be245d8745a1831f5f6f5b7a0d31",
      "fe003047f4ee47caa4603f181ee80925",
      "6ff42dde219540578978803eb4462b38"
     ]
    },
    "id": "ZO4A-lcY2tFk",
    "outputId": "c6eac4c0-4f79-4659-b16d-beef71be8915"
   },
   "outputs": [
    {
     "data": {
      "application/vnd.jupyter.widget-view+json": {
       "model_id": "e59986907f064fad843e9473408ff565",
       "version_major": 2,
       "version_minor": 0
      },
      "text/plain": [
       "README.md:   0%|          | 0.00/754 [00:00<?, ?B/s]"
      ]
     },
     "metadata": {},
     "output_type": "display_data"
    },
    {
     "data": {
      "application/vnd.jupyter.widget-view+json": {
       "model_id": "dd88d4f2f0c9443197a45516917e1e07",
       "version_major": 2,
       "version_minor": 0
      },
      "text/plain": [
       "(…)-00000-of-00001-97684e149eb4d60d.parquet:   0%|          | 0.00/42.8M [00:00<?, ?B/s]"
      ]
     },
     "metadata": {},
     "output_type": "display_data"
    },
    {
     "data": {
      "application/vnd.jupyter.widget-view+json": {
       "model_id": "76b94a1271e8430b805183fa3d0bb4a9",
       "version_major": 2,
       "version_minor": 0
      },
      "text/plain": [
       "Generating train split:   0%|          | 0/20000 [00:00<?, ? examples/s]"
      ]
     },
     "metadata": {},
     "output_type": "display_data"
    },
    {
     "data": {
      "application/vnd.jupyter.widget-view+json": {
       "model_id": "c48452aabe0745f9b182f69562caeb75",
       "version_major": 2,
       "version_minor": 0
      },
      "text/plain": [
       "Map (num_proc=10):   0%|          | 0/20000 [00:00<?, ? examples/s]"
      ]
     },
     "metadata": {},
     "output_type": "display_data"
    }
   ],
   "source": [
    "# Load dataset from Hugging Face\n",
    "data = load_dataset(\"NeelNanda/c4-code-20k\", split=\"train\")\n",
    "# Tokenize and concatenate text\n",
    "tokenized_data = utils.tokenize_and_concatenate(data, model.tokenizer, max_length=128)\n",
    "# Shuffle dataset with a fixed seed\n",
    "tokenized_data = tokenized_data.shuffle(42)\n",
    "# Extract token sequences from processed dataset\n",
    "all_tokens = tokenized_data[\"tokens\"]"
   ]
  },
  {
   "cell_type": "markdown",
   "metadata": {
    "id": "2Py_8qJttaU4"
   },
   "source": [
    "### Step4: Loading Pre-trained Autoencoder"
   ]
  },
  {
   "cell_type": "code",
   "execution_count": 14,
   "metadata": {
    "colab": {
     "base_uri": "https://localhost:8080/",
     "height": 349,
     "referenced_widgets": [
      "bcf751763730435f82ab1e13edfb57c8",
      "8272954893f74a34a78650bc3710a83c",
      "e8a0ac6a6b394e6cac7bb44efc1bd7a2",
      "ff45a9ff872c4e3f918815f7bdde57f6",
      "e235cb1d93824bef8041dacff8841ad0",
      "e3f43a91920a4a318ee03b743d33b2c5",
      "1033f93acc2c4e318142c4afb0433066",
      "f99aca4b1fd147a8b459dd336036ba84",
      "f569b70556074f83b58322aeb7593593",
      "7351472dcf904532af2a3a127050527a",
      "4775d361d06247448a45b233f8c0a7f3",
      "f4362c9913cb4c05966ebb3a2492561f",
      "1da69774bd3a406086f2e7ef1712146a",
      "cb047be4ccac40f9a141f5ba02659280",
      "87adeab127db4997877ee2880928e417",
      "a507ce31774b4b58b26bf361ee78284c",
      "29d0e7665d374e1a9ee82bec2c7b0adc",
      "2e11fc95a2c54a43a9f35aa3a716b3f2",
      "692d17635d894ca2985910d310e1eb8c",
      "59fe4334463a4c68b2d6be7e606a9c96",
      "983b2bb157ee40b893e66266c261266d",
      "22c3576200674310947a2c55119c982d"
     ]
    },
    "id": "gvSb52B53uLs",
    "outputId": "dcd8b02d-a212-41fc-bd48-4c96dcf0b1f7"
   },
   "outputs": [
    {
     "data": {
      "application/vnd.jupyter.widget-view+json": {
       "model_id": "bcf751763730435f82ab1e13edfb57c8",
       "version_major": 2,
       "version_minor": 0
      },
      "text/plain": [
       "25_cfg.json:   0%|          | 0.00/283 [00:00<?, ?B/s]"
      ]
     },
     "metadata": {},
     "output_type": "display_data"
    },
    {
     "name": "stdout",
     "output_type": "stream",
     "text": [
      "{'batch_size': 4096,\n",
      " 'beta1': 0.9,\n",
      " 'beta2': 0.99,\n",
      " 'buffer_batches': 12288,\n",
      " 'buffer_mult': 384,\n",
      " 'buffer_size': 1572864,\n",
      " 'd_mlp': 2048,\n",
      " 'dict_mult': 8,\n",
      " 'enc_dtype': 'fp32',\n",
      " 'l1_coeff': 0.0003,\n",
      " 'lr': 0.0001,\n",
      " 'model_batch_size': 512,\n",
      " 'num_tokens': 2000000000,\n",
      " 'seed': 52,\n",
      " 'seq_len': 128}\n"
     ]
    },
    {
     "data": {
      "application/vnd.jupyter.widget-view+json": {
       "model_id": "f4362c9913cb4c05966ebb3a2492561f",
       "version_major": 2,
       "version_minor": 0
      },
      "text/plain": [
       "25.pt:   0%|          | 0.00/269M [00:00<?, ?B/s]"
      ]
     },
     "metadata": {},
     "output_type": "display_data"
    }
   ],
   "source": [
    "# Select which pre-trained autoencoder run to use (Here are two options: \"run1\" and \"run2\").\n",
    "auto_encoder_run = \"run1\" # @param [\"run1\", \"run2\"]\n",
    "encoder = AutoEncoder.load_from_hf(auto_encoder_run)"
   ]
  },
  {
   "cell_type": "markdown",
   "metadata": {
    "id": "0yukaMbntfhL"
   },
   "source": [
    "### Step5: Evaluating MLP Feature Reconstruction\n",
    "* Compute original model loss and compare it with reconstruction loss (MLP activations replaced by autoencoder outputs) and zero-ablation loss (MLP activations set to zero)\n"
   ]
  },
  {
   "cell_type": "code",
   "execution_count": 15,
   "metadata": {
    "id": "HScukfZn4GLa"
   },
   "outputs": [],
   "source": [
    "# Define a hook function that replaces MLP activations with reconstructed activations.\n",
    "def replacement_hook(mlp_post, hook, encoder):\n",
    "    mlp_post_reconstr = encoder(mlp_post)[1]\n",
    "    return mlp_post_reconstr\n",
    "\n",
    "# Define a hook function that replaces MLP activations with their mean values.\n",
    "def mean_ablate_hook(mlp_post, hook):\n",
    "    mlp_post[:] = mlp_post.mean([0, 1])\n",
    "    return mlp_post\n",
    "\n",
    "# Define a hook function that zeros out MLP activations.\n",
    "def zero_ablate_hook(mlp_post, hook):\n",
    "    mlp_post[:] = 0.\n",
    "    return mlp_post\n",
    "\n",
    "@torch.no_grad()\n",
    "def get_recons_loss(num_batches=5, local_encoder=None):\n",
    "    \"\"\"\n",
    "    Compute reconstruction loss and compare it with baseline and ablated losses.\n",
    "\n",
    "    Args:\n",
    "        num_batches: number of batches for evaluation.\n",
    "        local_encoder: the encoder used for reconstruction.\n",
    "\n",
    "    Returns:\n",
    "        score: reconstruction score.\n",
    "        loss: original model loss.\n",
    "        recons_loss: loss after reconstruction with autoencoder.\n",
    "        zero_abl_loss: loss when MLP activations are zeroed out.\n",
    "    \"\"\"\n",
    "    if local_encoder is None:\n",
    "        local_encoder = encoder\n",
    "    loss_list = []\n",
    "\n",
    "    for i in range(num_batches):\n",
    "        # Select a random batch of tokens\n",
    "        tokens = all_tokens[torch.randperm(len(all_tokens))[:cfg[\"model_batch_size\"]]]\n",
    "\n",
    "        # Compute original model loss\n",
    "        loss = model(tokens, return_type=\"loss\")\n",
    "\n",
    "        # Compute loss after replacing MLP activations with reconstructed ones\n",
    "        recons_loss = model.run_with_hooks(tokens, return_type=\"loss\", fwd_hooks=[(utils.get_act_name(\"post\", 0), partial(replacement_hook, encoder=local_encoder))])\n",
    "\n",
    "        # Compute loss after zeroing out MLP activations\n",
    "        zero_abl_loss = model.run_with_hooks(tokens, return_type=\"loss\", fwd_hooks=[(utils.get_act_name(\"post\", 0), zero_ablate_hook)])\n",
    "\n",
    "        loss_list.append((loss, recons_loss, zero_abl_loss))\n",
    "\n",
    "    # Compute mean losses across batches\n",
    "    losses = torch.tensor(loss_list)\n",
    "    loss, recons_loss, zero_abl_loss = losses.mean(0).tolist()\n",
    "\n",
    "    # Print losses\n",
    "    print(f\"loss: {loss:.4f}, recons_loss: {recons_loss:.4f}, zero_abl_loss: {zero_abl_loss:.4f}\")\n",
    "\n",
    "    # Compute reconstruction score\n",
    "    score = ((zero_abl_loss - recons_loss) / (zero_abl_loss - loss))\n",
    "    print(f\"Reconstruction Score: {score:.2%}\")\n",
    "\n",
    "    return score, loss, recons_loss, zero_abl_loss"
   ]
  },
  {
   "cell_type": "code",
   "execution_count": 16,
   "metadata": {
    "colab": {
     "base_uri": "https://localhost:8080/",
     "height": 0
    },
    "id": "pJgxyoSyTYpk",
    "outputId": "24b70a9b-058e-44f7-ce09-307f3b679a27"
   },
   "outputs": [
    {
     "name": "stdout",
     "output_type": "stream",
     "text": [
      "loss: 3.2575, recons_loss: 3.7475, zero_abl_loss: 8.7729\n",
      "Reconstruction Score: 91.12%\n"
     ]
    }
   ],
   "source": [
    "# Compute the reconstruction loss using the pre-trained autoencoder, which evaluates how well the autoencoder can reconstruct MLP activations.\n",
    "_ = get_recons_loss(num_batches=20, local_encoder=encoder)"
   ]
  },
  {
   "cell_type": "markdown",
   "metadata": {
    "id": "gPXFXDbx-d0Q"
   },
   "source": [
    "* We can see that the reconstruction loss is close to the original loss. This suggests that a small set of extracted features can retain most of the original model’s behavior, which supports the paper's hypothesis that MLP activations can be decomposed into a meaningful feature space.\n",
    "* A 91.12% reconstruction score means that the autoencoder’s extracted sparse features can explain most of the variance in the original activations. This implies that MLP activations are not fully distributed but instead dominated by a small number of key features (neurons), suggesting that some neurons might each correspond to an interpretable concept.\n",
    "* Here the reconstruction loss being slightly higher than the original loss (3.7475 vs. 3.2575) suggests that some amount of superposition still exists, but the autoencoder is capable of reducing it."
   ]
  },
  {
   "cell_type": "markdown",
   "metadata": {
    "id": "-4tBu5kuuN8B"
   },
   "source": [
    "### Step6. Activation Frequency Analysis"
   ]
  },
  {
   "cell_type": "code",
   "execution_count": 17,
   "metadata": {
    "id": "ekEY_4p14LRa"
   },
   "outputs": [],
   "source": [
    "# Compute frequency of neuron activations using an autoencoder.\n",
    "@torch.no_grad()\n",
    "def get_freqs(num_batches=25, local_encoder=None):\n",
    "    \"\"\"\n",
    "    Analyze the frequency of neuron activations.\n",
    "\n",
    "    Args:\n",
    "        num_batches: number of batches to sample.\n",
    "        local_encoder: the encoder used for feature extraction.\n",
    "\n",
    "    Returns:\n",
    "        act_freq_scores: frequency of each neuron's activation.\n",
    "    \"\"\"\n",
    "    if local_encoder is None:\n",
    "        local_encoder = encoder\n",
    "\n",
    "    # Initialize activation frequency storage (on GPU)\n",
    "    act_freq_scores = torch.zeros(local_encoder.d_hidden, dtype=torch.float32).cuda()\n",
    "    total = 0\n",
    "\n",
    "    for i in tqdm.trange(num_batches):\n",
    "        # Select a random batch of tokens\n",
    "        tokens = all_tokens[torch.randperm(len(all_tokens))[:cfg[\"model_batch_size\"]]]\n",
    "\n",
    "        # Run model and extract cached activations from the first MLP layer\n",
    "        _, cache = model.run_with_cache(tokens, stop_at_layer=1, names_filter=utils.get_act_name(\"post\", 0))\n",
    "        mlp_acts = cache[utils.get_act_name(\"post\", 0)]\n",
    "        # Flatten activations\n",
    "        mlp_acts = mlp_acts.reshape(-1, d_mlp)\n",
    "\n",
    "        # Encode activations to get sparse features\n",
    "        hidden = local_encoder(mlp_acts)[2]\n",
    "\n",
    "        # Count active neurons (where activation > 0)\n",
    "        act_freq_scores += (hidden > 0).sum(0)\n",
    "        total += hidden.shape[0]\n",
    "\n",
    "    # Normalize activation frequencies\n",
    "    act_freq_scores /= total\n",
    "\n",
    "    # Compute percentage of \"dead\" neurons (never activated)\n",
    "    num_dead = (act_freq_scores == 0).float().mean()\n",
    "    print(\"Num dead\", num_dead)\n",
    "\n",
    "    return act_freq_scores"
   ]
  },
  {
   "cell_type": "code",
   "execution_count": 18,
   "metadata": {
    "colab": {
     "base_uri": "https://localhost:8080/",
     "height": 67,
     "referenced_widgets": [
      "aef267c551604e979c091a2a5fb85c4f",
      "d359c0cf81a54852bb31edda6f116d7c",
      "058fcbb24c6e490594a3f8ecb2ae2e82",
      "bab98388c8bc43f58759a82b02b46892",
      "4a0adfb675ac4fa58da41b03b65de339",
      "9e30696ca69e4feebb19621f4ad80d63",
      "fe060e870eb04288b6bbcf53dfa74211",
      "f571270fb6f74c419fa37c202960d8b5",
      "b73ac858d3d64482bf2fb8536b9ce024",
      "58e4531a009d46ed97f9b34c15bdfa0b",
      "a8b75e7440ac4246a5e3955add69a1b3"
     ]
    },
    "id": "p_9z1aWzT5e7",
    "outputId": "598f86b8-3a5e-4042-b87d-34c58948ae7f"
   },
   "outputs": [
    {
     "data": {
      "application/vnd.jupyter.widget-view+json": {
       "model_id": "aef267c551604e979c091a2a5fb85c4f",
       "version_major": 2,
       "version_minor": 0
      },
      "text/plain": [
       "  0%|          | 0/200 [00:00<?, ?it/s]"
      ]
     },
     "metadata": {},
     "output_type": "display_data"
    },
    {
     "name": "stdout",
     "output_type": "stream",
     "text": [
      "Num dead tensor(0., device='cuda:0')\n"
     ]
    }
   ],
   "source": [
    "# Compute activation frequencies for each neuron in the MLP layer.\n",
    "freqs = get_freqs(num_batches=200, local_encoder=encoder)"
   ]
  },
  {
   "cell_type": "code",
   "execution_count": 19,
   "metadata": {
    "colab": {
     "base_uri": "https://localhost:8080/",
     "height": 542
    },
    "id": "VJ82vWVMUCoC",
    "outputId": "8f1baf3c-65ad-4f02-e038-21ed2b66253e"
   },
   "outputs": [
    {
     "data": {
      "text/html": [
       "<html>\n",
       "<head><meta charset=\"utf-8\" /></head>\n",
       "<body>\n",
       "    <div>            <script src=\"https://cdnjs.cloudflare.com/ajax/libs/mathjax/2.7.5/MathJax.js?config=TeX-AMS-MML_SVG\"></script><script type=\"text/javascript\">if (window.MathJax && window.MathJax.Hub && window.MathJax.Hub.Config) {window.MathJax.Hub.Config({SVG: {font: \"STIX-Web\"}});}</script>                <script type=\"text/javascript\">window.PlotlyConfig = {MathJaxConfig: 'local'};</script>\n",
       "        <script charset=\"utf-8\" src=\"https://cdn.plot.ly/plotly-2.35.2.min.js\"></script>                <div id=\"6963f56e-0c6a-4fc2-af82-1a972fe43af1\" class=\"plotly-graph-div\" style=\"height:525px; width:100%;\"></div>            <script type=\"text/javascript\">                                    window.PLOTLYENV=window.PLOTLYENV || {};                                    if (document.getElementById(\"6963f56e-0c6a-4fc2-af82-1a972fe43af1\")) {                    Plotly.newPlot(                        \"6963f56e-0c6a-4fc2-af82-1a972fe43af1\",                        [{\"alignmentgroup\":\"True\",\"bingroup\":\"x\",\"histnorm\":\"percent\",\"hovertemplate\":\"variable=0\\u003cbr\\u003evalue=%{x}\\u003cbr\\u003epercent=%{y}\\u003cextra\\u003e\\u003c\\u002fextra\\u003e\",\"legendgroup\":\"0\",\"marker\":{\"color\":\"#636efa\",\"pattern\":{\"shape\":\"\"}},\"name\":\"0\",\"offsetgroup\":\"0\",\"orientation\":\"v\",\"showlegend\":true,\"x\":[-4.1952286,-4.01161,-3.9322104,-2.1657252,-4.220904,-2.501138,-2.58854,-2.529977,-2.15227,-2.409156,-2.6150262,-4.0143414,-2.055891,-3.9929588,-4.1749344,-4.022639,-3.9036882,-2.3622136,-4.0310984,-3.8789258,-3.8849852,-2.025252,-3.960312,-3.9627376,-1.4199075,-2.8148296,-4.2978706,-2.5664,-4.0310984,-2.562027,-2.969026,-2.6365242,-3.9531143,-4.0198555,-4.1297793,-4.1406355,-2.5805964,-2.853161,-2.11012,-4.199404,-3.960312,-1.003592,-3.918813,-3.9436991,-4.0697894,-1.4814514,-4.0824227,-3.8952763,-3.9627376,-0.86642,-2.2883084,-0.8727589,-2.5379534,-3.859317,-3.9367692,-3.9122665,-4.3786144,-1.208804,-4.1226892,-0.5584421,-4.057513,-1.8335845,-4.2874703,-2.6256423,-3.9322104,-4.000854,-1.6790054,-3.057714,-4.0455747,-2.4518528,-3.910106,-4.0088964,-2.304088,-2.212361,-4.1555457,-3.9955747,-1.9034185,-4.4325347,-4.000854,-0.8759465,-4.0760603,-3.9676306,-2.572498,-1.9624772,-3.975075,-3.9877737,-3.9955747,-3.9144378,-4.1020894,-3.990358,-4.1406355,-2.659505,-3.0865,-4.0666876,-2.7492576,-4.3539734,-3.9929588,-3.9436991,-1.6930529,-2.3501158,-4.1480265,-3.9322104,-2.824277,-3.9852042,-1.2715763,-3.90157,-3.970098,-4.1406355,-2.3881173,-4.098749,-2.7473273,-4.1122675,-3.9826496,-3.8870242,-2.4069176,-4.0888796,-3.2405913,-3.9725797,-4.01161,-4.0310984,-4.0515027,-4.0310984,-2.4399383,-4.0544977,-4.252913,-3.970098,-3.9390671,-2.3308427,-2.7201934,-1.2725632,-4.0824227,-2.5339468,-4.272322,-4.0697894,-3.9852042,-3.948381,-3.9801102,-3.9390671,-4.085639,-2.3799028,-3.9210174,-3.9367692,-2.3298218,-2.2418692,-3.9955747,-1.0262074,-3.9436991,-2.2609253,-4.2978706,-4.1829386,-4.1020894,-4.0455747,-4.0397263,-1.1381855,-3.8729498,-4.1020894,-4.1829386,-4.133368,-4.1262197,-4.1517696,-4.036831,-2.0830736,-3.941377,-3.369621,-4.0088964,-2.2835975,-1.9525265,-2.5213513,-4.07923,-4.098749,-4.1262197,-4.0198555,-3.948381,-4.0455747,-4.1406355,-4.50246,-4.2253346,-2.67641,-4.006199,-4.0544977,-2.5335844,-1.7806098,-4.0824227,-4.1191874,-4.1157136,-2.3139153,-3.950741,-0.8245109,-4.0666876,-2.9227142,-4.022639,-1.664381,-2.8875687,-1.8894687,-2.3276184,-2.9989097,-3.9627376,-2.6740258,-2.3042483,-4.1829386,-3.054998,-1.7511613,-1.7973052,-4.0310984,-4.0954347,-2.6638837,-2.6961012,-3.3938782,-4.085639,-0.69997513,-2.5186305,-2.8623304,-2.881877,-4.07923,-4.0198555,-1.8439344,-3.9877737,-3.8870242,-4.1631975,-1.8499155,-3.899462,-1.5341976,-0.71057415,-3.9367692,-4.036831,-3.923233,-4.0455747,-3.8709757,-4.0485287,-4.1157136,-1.7450912,-2.092679,-2.1578383,-4.2343345,-4.0198555,-3.3765047,-4.1369863,-2.2811596,-3.9344838,-1.6855223,-3.957899,-2.2549722,-4.0760603,-3.905817,-3.9676306,-1.9430542,-2.5165355,-4.39148,-4.01161,-1.6344705,-4.1952286,-4.0282607,-4.1517696,-3.990358,-4.105456,-1.8888321,-1.6201544,-2.1868453,-4.2253346,-2.5670843,-1.0394753,-3.957899,-3.9676306,-4.0824227,-4.1480265,-2.8640716,-2.6954434,-3.9079564,-4.098749,-4.348026,-2.189872,-4.2253346,-3.9929588,-4.0515027,-3.9322104,-1.8200293,-3.8729498,-4.022639,-4.105456,-4.0954347,-3.9436991,-4.063608,-1.9261144,-3.975075,-4.1406355,-2.5531263,-2.9563773,-4.1157136,-1.5615597,-3.8631685,-2.7440805,-4.1480265,-3.905817,-2.5606751,-4.1517696,-3.8931983,-4.036831,-3.92546,-4.4471297,-4.1122675,-2.6111112,-3.9322104,-1.5869566,-1.6408114,-3.9676306,-2.3914993,-4.105456,-4.1749344,-3.9826496,-4.006199,-2.0790164,-4.1443152,-2.4953773,-4.1443152,-3.948381,-3.91662,-4.0282607,-4.1952286,-4.01161,-2.8851202,-4.0143414,-3.950741,-4.1122675,-4.105456,-2.1371787,-3.9390671,-0.5775726,-2.7788115,-4.0921445,-3.9436991,-3.9036882,-4.01161,-1.5988643,-4.1020894,-2.288051,-4.1226892,-1.651776,-4.003518,-2.865042,-4.0666876,-3.9877737,-2.3981442,-4.000854,-3.4776108,-0.9385755,-4.0760603,-2.4065118,-4.01161,-2.7938838,-2.4239576,-4.1226892,-4.348026,-4.3661194,-3.970098,-3.9955747,-4.0954347,-2.8720925,-4.212176,-1.3244098,-4.0310984,-3.0852077,-2.5907037,-2.1870492,-3.0413742,-2.4085443,-3.9955747,-3.975075,-2.3110847,-3.9982064,-2.5457063,-4.0485287,-3.8809364,-1.7052643,-2.907027,-2.6275494,-4.2036195,-4.1670747,-4.01161,-3.9955747,-4.0697894,-4.07923,-4.057513,-3.990358,-3.466606,-3.970098,-4.0485287,-4.0170894,-4.2625093,-3.923233,-4.1157136,-4.1517696,-4.133368,-1.7973218,-3.9955747,-3.9210174,-2.811554,-4.238905,-2.3518403,-3.9627376,-2.6123037,-4.0310984,-2.5263102,-3.990358,-4.282362,-4.8075714,-2.556073,-4.000854,-1.2765436,-3.957899,-3.9676306,-4.2481933,-4.2926397,-4.0824227,-3.9367692,-3.8931983,-4.0143414,-4.243524,-3.212895,-2.523204,-3.970098,-3.9877737,-3.829676,-3.9676306,-4.003518,-2.8172593,-4.036831,-4.0824227,-3.918813,-4.1555457,-4.1020894,-3.8849852,-4.1157136,-3.975075,-2.7165897,-3.9555004,-4.105456,-4.0282607,-3.9826496,-4.006199,-4.098749,-4.01161,-2.2591403,-3.960312,-2.671157,-4.0544977,-3.0913796,-3.9676306,-4.000854,-4.2078767,-4.1369863,-4.1631975,-4.0921445,-2.381942,-1.7279255,-3.957899,-1.1704195,-1.6065093,-0.96893317,-1.7899547,-2.7142496,-2.9004436,-4.0198555,-3.3105066,-4.0666876,-3.0703075,-1.1042867,-2.0242138,-1.3682344,-3.9276984,-4.0426407,-4.5467978,-1.7863255,-0.7160908,-4.133368,-2.9638736,-0.9912603,-3.8053021,-1.1657315,-3.9955747,-3.960312,-3.970098,-0.57730013,-0.5290388,-4.0310984,-2.5462654,-4.1088486,-4.036831,-2.2934353,-3.957899,-4.1369863,-4.098749,-0.86983806,-4.2926397,-4.0485287,-3.946034,-3.9299486,-3.899462,-2.7171423,-4.0170894,-3.975075,-3.064426,-3.9627376,-4.0666876,-2.263446,-2.555025,-4.1670747,-4.085639,-3.9210174,-3.990358,-3.92546,-4.0170894,-3.957899,-2.6803281,-2.7826514,-4.0544977,-4.063608,-3.9877737,-1.30359,-1.482368,-4.0515027,-3.9627376,-4.000854,-4.1869965,-2.2511272,-4.1910934,-3.869011,-3.957899,-1.8506291,-2.6255305,-4.1709867,-3.948381,-2.3909771,-3.9651775,-4.1122675,-1.5774357,-4.1020894,-3.91662,-2.8972936,-4.105456,-1.3835971,-3.0574112,-4.1088486,-4.003518,-3.9775853,-3.9676306,-3.9826496,-4.0198555,-2.2774282,-3.923233,-1.0944567,-4.1226892,-2.7970285,-2.8134475,-1.7528687,-3.9775853,-4.1226892,-4.1157136,-4.063608,-3.9299486,-2.3594756,-2.3233,-1.2906036,-3.946034,-2.6256423,-4.0254407,-4.0824227,-2.3202415,-4.0198555,-1.7375085,-4.1157136,-3.975075,-3.9877737,-4.07923,-2.2586594,-1.224732,-3.8952763,-4.1709867,-3.990358,-2.3117363,-4.0426407,-4.252913,-2.110667,-3.9627376,-0.92829704,-0.912337,-4.1122675,-4.0310984,-2.4689925,-4.0729136,-4.0143414,-3.9531143,-4.0254407,-2.3638647,-3.948381,-4.1226892,-4.1297793,-4.0143414,-3.2401304,-3.6684725,-3.9725797,-3.960312,-4.2343345,-2.641024,-2.6938686,-3.9852042,-2.5619302,-3.960312,-3.990358,-3.9775853,-4.0143414,-3.91662,-4.0515027,-3.9651775,-4.1709867,-3.8809364,-3.9725797,-2.4788597,-4.1631975,-3.9299486,-2.490922,-3.948381,-4.1517696,-3.9367692,-4.1369863,-3.905817,-3.9036882,-2.4701645,-3.9299486,-1.6283222,-2.5481343,-4.06055,-2.359961,-3.8789258,-2.5592318,-2.1350753,-2.5104825,-3.9144378,-3.9144378,-1.8727773,-1.4077481,-4.303166,-4.06055,-1.0321552,-4.238905,-3.9982064,-2.1599786,-4.0888796,-1.849503,-2.624301,-2.7503006,-4.0760603,-3.90157,-3.9436991,-2.43819,-2.3846328,-3.9852042,-4.1406355,-2.4208727,-3.9929588,-3.9390671,-2.119163,-4.098749,-3.975075,-3.990358,-3.3616242,-1.8808414,-2.69676,-4.1088486,-2.5786831,-4.022639,-4.003518,-4.1555457,-4.1631975,-4.1020894,-4.036831,-4.1631975,-0.8756279,-2.2425175,-3.9367692,-4.06055,-3.1201172,-4.0697894,-4.330656,-3.9555004,-3.9982064,-1.7081922,-1.8531545,-4.063608,-4.1369863,-4.1555457,-4.0143414,-4.0824227,-1.8600711,-3.9955747,-4.159355,-2.594126,-3.9390671,-4.1262197,-3.9852042,-3.918813,-1.9292337,-2.463178,-4.085639,-2.4345698,-2.1056008,-1.5127181,-3.8423955,-3.9955747,-0.750471,-4.0954347,-2.629352,-2.5638678,-3.9531143,-3.9775853,-2.5795884,-4.0729136,-2.769514,-2.046792,-4.0729136,-2.9396808,-3.6409473,-3.960312,-4.003518,-3.91662,-1.5635443,-2.5698318,-2.4946318,-3.946034,-3.8631685,-2.9396808,-3.975075,-4.1122675,-2.699538,-3.975075,-1.541588,-3.957899,-4.133368,-2.2555926,-4.0339556,-2.6632729,-3.8612385,-4.1749344,-4.000854,-3.8368986,-0.54800165,-4.0666876,-2.32397,-3.9344838,-2.5821128,-4.1122675,-1.9573052,-4.06055,-1.7227569,-4.1952286,-1.8727773,-4.0544977,-2.6574523,-2.6476858,-4.2625093,-2.830153,-4.0143414,-2.4521527,-4.036831,-2.856577,-2.3214622,-3.923233,-3.9555004,-2.165143,-4.0729136,-4.178918,-2.6271,-3.9801102,-4.220904,-4.036831,-2.7907617,-1.7412466,-2.7528439,-4.0697894,-3.9955747,-1.6067556,-3.5927057,-2.605411,-2.6009464,-3.9982064,-0.9490632,-4.1369863,-4.50246,-2.1203852,-4.0143414,-4.212176,-1.2429237,-3.9627376,-2.7500024,-2.6799474,-1.6949265,-2.1926305,-3.9955747,-3.8849852,-4.1670747,-3.950741,-4.0954347,-4.57575,-2.738238,-3.9676306,-4.085639,-4.0282607,-2.717557,-3.941377,-4.4397707,-1.0835927,-3.8651073,-2.4942179,-4.0954347,-0.76682246,-2.4685245,-4.2673883,-4.0888796,-2.366692,-2.8740716,-4.022639,-3.9036882,-4.238905,-3.970098,-4.2253346,-2.6531374,-4.085639,-2.7304738,-1.6553935,-1.1952684,-4.2253346,-3.8749323,-4.1297793,-3.9826496,-4.282362,-4.0339556,-4.0455747,-3.9299486,-4.1020894,-4.1480265,-3.2532277,-4.0921445,-2.39,-4.398059,-3.0367339,-4.0515027,-2.2092173,-4.1631975,-2.8554354,-2.8393936,-4.1020894,-4.1709867,-3.918813,-4.1952286,-1.7224071,-4.1297793,-4.0282607,-3.9826496,-1.9606576,-2.2875366,-3.9982064,-4.212176,-3.9929588,-2.0493386,-3.8423955,-1.8139249,-4.0339556,-4.1749344,-1.5940598,-4.3539734,-4.3539734,-4.0282607,-4.1749344,-2.5254204,-4.036831,-1.3899133,-2.3600824,-4.1910934,-4.1369863,-2.3577807,-3.92546,-4.0254407,-3.941377,-1.5811381,-3.948381,-1.2864774,-4.0455747,-3.9929588,-3.9775853,-2.5569322,-4.1480265,-4.0198555,-4.1020894,-3.9390671,-4.1749344,-4.229811,-1.7243137,-4.003518,-1.9242179,-4.036831,-1.9274133,-4.5285163,-4.098749,-4.159355,-2.8981314,-0.81625503,-2.584041,-4.272322,-2.7207503,-2.678428,-4.0729136,-0.9400877,-3.9676306,-3.3083446,-3.957899,-3.9555004,-3.9036882,-1.7566361,-2.5422742,-3.9210174,-4.022639,-3.948381,-4.057513,-4.252913,-2.916765,-4.006199,-1.1376066,-4.133368,-2.303075,-4.105456,-3.923233,-0.62748456,-4.098749,-1.5664942,-0.968031,-3.7633739,-3.2238512,-3.970098,-2.1171794,-3.9775853,-1.7815546,-1.7715873,-4.2343345,-3.9725797,-2.6369836,-1.824908,-4.0666876,-4.07923,-4.022639,-3.950741,-4.0198555,-2.628112,-3.9651775,-4.50246,-4.06055,-4.282362,-4.252913,-3.9627376,-4.0426407,-4.220904,-4.0485287,-1.6438477,-1.6854967,-3.9826496,-2.5424592,-1.1972675,-4.0544977,-1.941963,-2.5999954,-4.01161,-4.022639,-2.1730068,-3.946034,-3.9122665,-2.4396462,-4.1369863,-1.2197399,-3.9344838,-4.085639,-2.941762,-2.8582952,-0.5820502,-3.2791557,-4.1262197,-1.2850802,-4.178918,-2.3976142,-3.695225,-1.1980323,-4.06055,-2.4490855,-3.8849852,-3.957899,-1.7005699,-4.1262197,-2.5889513,-4.1406355,-3.815581,-2.6238549,-3.9929588,-4.2253346,-4.2673883,-4.1157136,-1.924396,-4.1631975,-1.1903305,-4.036831,-2.9093874,-4.06055,-3.9676306,-2.1194072,-2.6673203,-3.918813,-0.8744848,-2.551519,-3.9627376,-2.4721255,-4.1122675,-4.1157136,-2.5396032,-4.085639,-3.9877737,-2.5474794,-3.100972,-2.5703244,-1.2725186,-1.9882709,-3.9555004,-4.0254407,-3.8890724,-1.9249086,-4.4471297,-4.199404,-3.9367692,-0.7720398,-3.1236267,-2.0098789,-3.8517148,-2.754648,-3.9627376,-2.4943833,-4.0198555,-4.243524,-0.9751668,-4.2926397,-3.946034,-4.1709867,-3.8890724,-2.1326582,-3.9144378,-4.0729136,-3.1321669,-4.1020894,-3.9299486,-4.036831,-3.869011,-4.0697894,-3.9676306,-3.9676306,-2.3367887,-3.8890724,-4.1631975,-1.9393963,-2.4384809,-2.7636294,-2.1393654,-2.7704506,-3.941377,-4.000854,-2.5484154,-3.8631685,-2.9556587,-3.923233,-4.238905,-0.77094966,-4.1157136,-4.4699855,-3.8350816,-2.6907363,-2.6329803,-2.491579,-4.2625093,-4.1122675,-3.90157,-1.8039546,-2.9575777,-0.6534278,-4.07923,-2.448192,-3.9929588,-4.2078767,-3.9651775,-2.414906,-4.39148,-3.9210174,-3.9367692,-4.057513,-3.960312,-4.1517696,-2.724108,-4.159355,-2.3175898,-3.948381,-3.9390671,-4.1020894,-1.9131182,-2.7153492,-1.7147394,-4.1869965,-4.0760603,-2.1824658,-4.0697894,-4.0088964,-4.178918,-4.105456,-0.5374306,-3.061057,-4.0824227,-1.1090273,-2.826938,-4.0697894,-1.9894075,-2.8762589,-4.0143414,-2.169664,-4.0170894,-4.0824227,-1.6701223,-4.036831,-4.1088486,-2.8223357,-4.1191874,-4.1088486,-2.0798757,-4.0397263,-4.098749,-3.990358,-2.328521,-3.948381,-4.1262197,-4.159355,-3.905817,-2.7541962,-2.2239249,-2.2035894,-3.8849852,-2.7404199,-3.1427155,-4.0426407,-3.990358,-4.022639,-3.9122665,-4.06055,-3.9436991,-4.0824227,-1.2877457,-3.8890724,-4.0170894,-3.9852042,-4.4471297,-0.7145783,-3.9531143,-3.9955747,-3.8729498,-4.0760603,-0.8685632,-4.006199,-3.9725797,-1.5882077,-2.4889562,-4.199404,-2.6670737,-3.1430836,-4.1480265,-4.0954347,-4.000854,-4.022639,-4.0824227,-2.4167705,-4.01161,-2.9141467,-3.9627376,-4.0760603,-3.9826496,-3.9276984,-3.918813,-2.2693694,-4.519656,-4.2343345,-2.6049838,-3.9144378,-2.65661,-1.5999497,-3.8749323,-2.4446354,-4.1122675,-2.579689,-2.9285214,-1.3267041,-1.8112562,-4.0760603,-3.9299486,-1.8833467,-4.2481933,-2.793554,-4.2078767,-0.7654564,-3.1152513,-4.178918,-4.272322,-2.7236867,-4.1709867,-3.975075,-4.0455747,-3.9276984,-3.9929588,-1.3666221,-2.403548,-2.4329147,-3.9531143,-4.1443152,-4.0198555,-2.745406,-3.8849852,-1.6940869,-3.948381,-1.2094648,-4.0426407,-3.8952763,-2.3569357,-4.0544977,-1.9227066,-4.1517696,-2.684282,-4.1631975,-3.941377,-3.918813,-4.71586,-4.0760603,-2.052109,-3.970098,-2.4716542,-3.9955747,-1.0937917,-1.037552,-0.5820907,-3.119768,-4.0088964,-4.0760603,-2.111283,-4.01161,-3.9955747,-4.0198555,-2.385598,-0.8260976,-2.4191992,-4.0697894,-2.609922,-4.330656,-3.923233,-4.01161,-1.463553,-2.3229651,-2.525865,-4.0455747,-4.0455747,-4.1517696,-3.0709312,-4.057513,-3.957899,-4.2343345,-3.910106,-2.39,-3.8809364,-2.7445219,-3.9775853,-3.9775853,-1.531008,-4.0544977,-3.3008616,-1.3691574,-4.1749344,-3.941377,-2.8131025,-4.0544977,-2.3327777,-3.9627376,-4.1709867,-3.90157,-2.4526787,-1.7513707,-2.5328608,-2.3609338,-4.105456,-4.000854,-1.926853,-2.9585402,-2.4758363,-4.01161,-4.2874703,-1.2313509,-2.9967997,-1.107473,-3.960312,-2.4149747,-2.9010763,-2.702334,-1.7215685,-3.946034,-3.2060251,-3.9725797,-4.105456,-2.7303312,-3.9531143,-1.259871,-4.0339556,-4.1406355,-2.4818237,-2.4136674,-2.208617,-4.0760603,-2.3393288,-4.0954347,-3.8350816,-4.0760603,-4.133368,-4.0426407,-2.8129303,-4.0921445,-1.6630247,-1.0479529,-2.8577216,-3.9929588,-4.1952286,-4.0397263,-2.2636406,-4.1020894,-2.6241894,-1.5360516,-3.9079564,-4.1749344,-4.243524,-3.9725797,-2.4561503,-4.212176,-4.1122675,-4.1369863,-3.923233,-4.0760603,-1.7127649,-4.1952286,-2.3185272,-4.07923,-3.9877737,-3.8890724,-2.7074392,-2.333977,-2.019697,-4.1226892,-4.0544977,-3.0845633,-3.049913,-3.0004992,-3.0907257,-4.1191874,-4.0143414,-3.9852042,-2.250891,-2.9874291,-3.9982064,-3.8612385,-2.443015,-4.0088964,-2.7296195,-4.0339556,-0.52469164,-2.8887982,-2.7996943,-3.9852042,-3.8870242,-4.0143414,-2.266422,-2.633664,-2.2124476,-4.0397263,-2.488303,-3.946034,-3.957899,-2.509282,-3.9929588,-3.9531143,-4.2673883,-2.404758,-2.714387,-3.9651775,-3.9775853,-3.9877737,-4.022639,-3.579421,-1.410393,-0.83669394,-3.9826496,-3.946034,-4.1020894,-4.1631975,-2.5801928,-3.9322104,-3.9651775,-4.1910934,-1.4021785,-1.4101135,-4.036831,-4.0954347,-4.0170894,-4.0310984,-1.7759328,-2.6853082,-2.213443,-4.2253346,-1.8248726,-2.6084132,-2.5836344,-2.3776834,-3.8870242,-2.8148296,-4.0515027,-2.4057016,-4.1910934,-3.975075,-4.1749344,-4.063608,-4.022639,-2.5682597,-3.8911307,-4.057513,-4.1088486,-1.3544145,-4.063608,-0.8623098,-3.9344838,-2.5167968,-1.7914443,-2.4054992,-3.1253922,-3.9852042,-0.918689,-3.9852042,-3.4280107,-3.857404,-2.164407,-2.9076695,-3.8890724,-3.1264548,-3.9852042,-2.5689468,-4.1226892,-4.003518,-2.5200326,-2.7448163,-2.6835139,-2.910249,-2.8317695,-1.4682177,-1.6715633,-2.6231863,-4.398059,-2.3489892,-4.0088964,-4.0824227,-2.2111094,-3.905817,-2.266667,-4.085639,-2.4499063,-2.840861,-3.9852042,-3.8952763,-3.9775853,-3.2667325,-3.910106,-4.063608,-3.3270738,-4.1910934,-2.559616,-1.6472934,-4.1226892,-4.022639,-4.1157136,-1.8927073,-1.3677704,-3.9982064,-3.9801102,-2.8499594,-4.06055,-2.5888486,-3.9929588,-1.8296632,-2.69243,-2.1154816,-2.535127,-4.159355,-2.8774567,-1.0160419,-2.2772775,-2.0207524,-2.716452,-2.694918,-2.3327205,-4.277313,-4.178918,-1.2314367,-4.0515027,-2.0774612,-3.990358,-4.0426407,-4.0666876,-2.6882725,-4.1952286,-3.8829563,-4.257684,-1.1726503,-2.4715757,-2.3983433,-2.647568,-4.0198555,-3.9344838,-2.6860795,-4.1670747,-0.9347724,-2.519331,-4.2253346,-2.1063113,-3.950741,-2.9096026,-2.467201,-2.6083057,-4.1369863,-2.4892013,-3.9651775,-3.9555004,-4.0310984,-3.9344838,-1.780466,-2.980785,-3.950741,-1.947424,-4.133368,-4.0697894,-3.9079564,-4.085639,-4.022639,-2.2277594,-3.8651073,-4.1555457,-4.0088964,-2.722426,-3.9555004,-4.0515027,-4.0254407,-2.0225077,-4.0339556,-2.309082,-4.0824227,-4.1709867,-0.6265222,-0.81925356,-0.6749117,-2.6921692,-3.8829563,-3.587548,-4.0143414,-4.0310984,-3.975075,-4.1122675,-3.3126795,-4.159355,-3.9775853,-3.9982064,-2.1953654,-2.1571908,-2.7656338,-4.0310984,-2.3866296,-2.201814,-1.6062416,-4.0666876,-2.7841,-3.9982064,-3.975075,-2.7602587,-2.078,-1.2944766,-4.1191874,-3.950741,-3.8789258,-4.105456,-1.8889552,-3.910106,-3.9929588,-1.6201322,-2.7847457,-4.1480265,-3.3013916,-3.957899,-3.9826496,-0.65028733,-4.0544977,-1.9245298,-0.49696785,-3.0845633,-4.006199,-2.1483731,-2.9176414,-3.1107812,-4.0888796,-2.3313541,-3.0445933,-4.1226892,-4.0697894,-2.7995272,-4.063608,-2.707034,-1.5780674,-0.7188791,-3.9322104,-4.0254407,-2.6579344,-4.1443152,-2.1272237,-4.0455747,-2.4756777,-4.1088486,-4.2673883,-4.0198555,-2.7792897,-4.0455747,-3.990358,-2.047176,-2.4873247,-3.975075,-4.1517696,-2.550953,-4.1191874,-3.1285882,-1.5116836,-2.106955,-4.0729136,-4.085639,-4.0666876,-4.1226892,-4.0198555,-3.9276984,-4.1088486,-4.0954347,-2.2337115,-2.147963,-2.7523937,-1.2500259,-3.990358,-4.1122675,-4.330656,-4.1088486,-2.4419136,-4.2343345,-4.0666876,-3.8849852,-4.063608,-3.957899,-3.9725797,-2.8550556,-4.3085265,-4.0198555,-2.8681614,-3.9676306,-3.9877737,-4.0954347,-4.1191874,-2.1546855,-2.4483404,-3.946034,-1.6865772,-3.859317,-4.01161,-3.957899,-4.1020894,-4.1297793,-3.4287214,-3.9079564,-3.4792058,-4.243524,-2.3831573,-2.6644955,-2.464721,-4.036831,-4.1020894,-1.6742343,-3.5345216,-4.9468236,-4.085639,-4.01161,-2.627662,-4.1631975,-4.07923,-4.0397263,-4.0282607,-4.0198555,-2.641256,-3.9929588,-4.1670747,-2.6304827,-4.1555457,-1.3602687,-2.869337,-4.0824227,-4.0697894,-2.6444006,-4.0339556,-1.3205223,-4.0397263,-4.0515027,-2.0351982,-1.7978706,-4.0666876,-4.2343345,-1.9448483,-3.923233,-4.2036195,-3.960312,-4.098749,-4.085639,-4.1709867,-3.960312,-4.01161,-3.9801102,-3.9775853,-4.8618884,-4.1709867,-4.199404,-4.1952286,-2.0477378,-4.216518,-3.0740633,-3.975075,-3.9929588,-2.6771655,-4.1952286,-3.8651073,-2.913712,-2.640908,-4.1631975,-4.159355,-4.063608,-1.8740052,-4.07923,-2.5304263,-2.5897753,-4.0170894,-1.8817288,-4.0824227,-4.0088964,-2.8996012,-4.2673883,-0.57786435,-1.8965964,-3.950741,-1.5222297,-4.0888796,-4.0888796,-2.0998917,-4.036831,-0.7546981,-4.243524,-1.150912,-4.1191874,-2.2760243,-4.0921445,-4.2036195,-2.6041307,-2.6983454,-1.4575746,-2.884307,-3.9436991,-2.5463586,-3.90157,-3.8911307,-4.1869965,-4.220904,-2.2240582,-4.1406355,-0.90805817,-2.6938686,-4.0954347,-2.694393,-3.923233,-4.0697894,-3.9852042,-1.6793727,-2.3452752,-3.957899,-2.0664496,-3.9877737,-2.4316955,-4.2078767,-3.9955747,-4.2673883,-2.1095397,-1.5336629,-2.109301,-4.0485287,-3.941377,-2.9128435,-4.0397263,-4.0824227,-2.6131732,-2.7720158,-3.975075,-4.3539734,-4.1517696,-2.4274898,-3.9982064,-4.0339556,-3.9555004,-4.0088964,-1.1996537,-2.5443118,-4.006199,-2.628788,-2.8814733,-4.0760603,-4.0143414,-3.9531143,-3.950741,-3.094334,-4.07923,-3.1732175,-3.950741,-2.5902908,-4.216518,-3.3327398,-4.178918,-2.3684223,-4.199404,-3.990358,-2.7762706,-4.0485287,-2.6063738,-3.9651775,-3.910106,-2.5478537,-4.003518,-1.794241,-2.567182,-2.4836767,-2.0777464,-2.4272063,-3.5372531,-4.0515027,-1.42797,-4.0515027,-2.745111,-4.1088486,-4.1406355,-4.0544977,-3.9627376,-4.1952286,-2.0511239,-4.1088486,-3.9955747,-3.9436991,-3.6010878,-4.216518,-4.036831,-4.212176,-4.0760603,-4.0485287,-1.8177583,-4.0666876,-3.8069985,-4.0170894,-4.1517696,-2.0901923,-3.9852042,-4.1517696,-3.9531143,-4.1670747,-3.9299486,-2.9023447,-3.905817,-4.0888796,-4.2078767,-2.2784839,-4.0198555,-3.941377,-3.8809364,-0.69513744,-4.1910934,-4.2036195,-1.9345815,-4.085639,-3.7870667,-2.2656882,-4.1709867,-4.0515027,-4.085639,-2.215615,-2.1827888,-1.4222629,-4.1088486,-4.0544977,-0.90320134,-4.0485287,-4.0339556,-2.6279995,-2.7331898,-2.5631888,-2.98435,-2.7709193,-4.0888796,-3.04342,-3.990358,-4.01161,-2.7660973,-4.036831,-3.8789258,-4.0088964,-2.5249765,-1.9596177,-4.022639,-2.6584172,-3.9852042,-3.9955747,-3.8479633,-3.9367692,-1.2915517,-2.1380155,-4.0729136,-3.9826496,-4.178918,-2.3832211,-4.1910934,-4.1088486,-4.372322,-2.716452,-4.1191874,-4.3421583,-3.9676306,-3.9852042,-3.8849852,-4.1226892,-4.0198555,-3.9531143,-1.0734016,-1.2253908,-2.7616343,-2.8713033,-3.9955747,-2.4010715,-3.9826496,-1.6813788,-4.0198555,-2.3823252,-4.0485287,-1.2754376,-4.1262197,-2.2234814,-4.133368,-2.5427365,-4.1443152,-3.9390671,-4.1226892,-3.9299486,-4.07923,-3.9436991,-2.2089171,-2.5402465,-2.408137,-2.1163123,-4.0515027,-3.9676306,-4.1952286,-2.2787356,-3.948381,-3.9801102,-4.0143414,-3.1438215,-3.9144378,-1.7571207,-2.6063738,-4.063608,-2.5305161,-1.4305413,-3.8670547,-3.9390671,-2.6051972,-4.2481933,-2.2784336,-4.085639,-3.946034,-3.9801102,-4.0729136,-4.07923,-3.9826496,-3.960312,-4.0088964,-3.9276984,-3.9390671,-4.022639,-4.212176,-1.3714209,-4.003518,-4.0397263,-2.3308427,-2.3516617,-3.2026305,-4.0455747,-3.9555004,-2.7988596,-4.0170894,-3.9775853,-3.9122665,-3.946034,-4.003518,-2.0603762,-4.1122675,-1.6212833,-4.0282607,-3.970098,-0.58067936,-3.0996363,-3.9826496,-4.1226892,-4.0921445,-3.9390671,-0.7103074,-1.9379922,-4.0760603,-1.1514452,-2.8148296,-2.5314164,-3.9651775,-3.8670547,-4.1191874,-2.5936058,-4.098749,-2.873873,-1.152043,-3.9390671,-3.9877737,-4.1122675,-2.4095643,-4.0339556,-3.948381,-3.6479614,-4.000854,-3.9555004,-4.022639,-3.9982064,-1.5914239,-2.5580804,-4.1910934,-3.9955747,-2.5582721,-4.1670747,-4.063608,-4.1122675,-2.3141885,-2.5607717,-4.1749344,-4.098749,-3.6128836,-3.9555004,-3.899462,-3.9651775,-4.2874703,-4.556236,-1.0285139,-4.0515027,-3.0469496,-3.9725797,-1.3310169,-3.798582,-4.1443152,-3.9725797,-3.9826496,-4.39148,-3.9775853,-1.2964131,-0.8886447,-2.220917,-2.4455216,-2.938069,-4.0666876,-4.003518,-2.742759,-4.1297793,-1.7565303,-4.057513,-3.957899,-1.1753967,-2.766407,-0.9325495,-1.6380726,-4.0888796,-4.1122675,-4.07923,-3.9122665,-4.1088486,-4.000854,-3.260893,-3.9344838,-3.258964,-4.022639,-4.1829386,-4.1020894,-3.060752,-4.098749,-2.6740258,-3.9299486,-4.2253346,-2.853161,-3.960312,-4.3849998,-2.6269877,-2.8495843,-4.1749344,-4.4699855,-1.852739,-4.199404,-1.4858673,-4.0455747,-4.0397263,-1.9346501,-4.0198555,-0.844795,-1.9864429,-0.7632271,-2.0827847,-3.9555004,-4.036831,-2.2204762,-4.1443152,-3.970098,-4.1670747,-3.957899,-4.3194504,-3.9775853,-4.238905,-3.9775853,-3.960312,-3.8952763,-4.0824227,-3.960312,-2.5305161,-2.9258313,-2.046615,-1.8735889,-3.9775853,-4.0426407,-1.2353885,-3.9826496,-2.738964,-4.2978706,-4.0282607,-3.946034,-2.388571,-4.1829386,-2.040258,-3.296118,-1.9133135,-2.2813623,-2.6899567,-0.75495434,-2.9369214,-4.1020894,-2.2930708,-3.918813,-1.5736752,-4.0515027,-3.941377,-1.8204322,-4.1226892,-3.941377,-1.9059298,-4.1406355,-3.9627376,-4.0170894,-4.0088964,-2.9196193,-3.9079564,-2.8877733,-3.9651775,-2.99261,-4.0729136,-0.79408205,-2.581708,-3.91662,-3.2771437,-4.2343345,-4.0397263,-3.9036882,-2.5546446,-4.159355,-3.9801102,-4.4699855,-1.0168017,-4.0198555,-4.1088486,-3.6042733,-4.01161,-2.0326471,-1.1919647,-3.430861,-2.3104885,-4.085639,-1.7252561,-4.2343345,-3.9627376,-4.0455747,-4.057513,-3.9322104,-2.3924143,-3.9801102,-4.1262197,-4.003518,-2.714387,-4.06055,-4.07923,-4.000854,-4.133368,-1.2275116,-4.2673883,-1.6832156,-3.9929588,-2.2400227,-4.0824227,-3.9210174,-3.7379968,-2.7323303,-4.0455747,-4.0666876,-4.0455747,-1.1758534,-3.970098,-3.9877737,-4.0544977,-2.4285553,-4.1910934,-1.527663,-4.0310984,-3.3078058,-3.9877737,-2.893751,-4.2343345,-1.4301914,-3.9955747,-4.1480265,-4.0954347,-2.1263363,-2.6428838,-2.2552106,-2.7673368,-4.133368,-3.9651775,-4.1910934,-3.9322104,-1.687325,-4.0666876,-4.0729136,-4.0729136,-4.006199,-4.1670747,-4.0888796,-3.9079564,-4.0760603,-4.0088964,-4.063608,-4.1670747,-2.6064808,-3.8631685,-3.8651073,-3.9344838,-4.1262197,-4.063608,-4.2673883,-3.9826496,-4.1020894,-1.3265411,-2.833934,-2.7591918,-3.9322104,-4.0824227,-3.9955747,-3.9210174,-3.957899,-2.366692,-2.4883845,-2.1844473,-3.9801102,-2.520296,-1.1678798,-1.81543,-1.4637225,-3.9367692,-2.6521845,-4.0729136,-4.0485287,-4.2078767,-4.1670747,-4.0339556,-2.8824832,-4.098749,-3.8709757,-4.0954347,-2.5202081,-2.2733302,-4.229811,-2.7327597,-3.918813,-3.9801102,-1.2906554,-2.728767,-4.330656,-3.9531143,-4.0455747,-3.9725797,-3.0142488,-4.277313,-2.4441926,-1.2185984,-3.8849852,-2.2495234,-4.105456,-3.9826496,-1.4975779,-4.07923,-4.2036195,-4.0198555,-2.5528421,-4.596183,-3.950741,-3.9299486,-4.0198555,-4.1517696,-4.628755,-4.0455747,-2.9957485,-3.9651775,-2.7693582,-4.003518,-3.9299486,-4.159355,-4.1226892,-4.0397263,-4.1122675,-2.0476491,-1.9043106,-3.2565646,-3.905817,-4.01161,-3.9801102,-4.1910934,-4.1910934,-1.6663314,-2.729335,-3.9725797,-2.2339387,-4.105456,-1.6258063,-4.1226892,-4.105456,-3.9929588,-4.0455747,-4.212176,-3.899462,-1.7322968,-3.975075,-3.8973641,-3.9955747,-3.0953233,-4.1480265,-4.0544977,-4.0088964,-4.003518,-2.2306352,-4.1226892,-2.4913325,-1.5446149,-3.9079564,-2.2637866,-4.1749344,-3.9079564,-2.1992064,-4.105456,-3.990358,-2.441181,-4.1555457,-1.6521091,-2.091303,-3.8243363,-4.01161,-2.81639,-4.1088486,-3.9852042,-4.1088486,-3.957899,-4.1122675,-2.6188667,-4.0397263,-4.4622326,-4.000854,-3.849835,-2.9196193,-3.941377,-4.006199,-4.1555457,-3.2857587,-3.8952763,-4.000854,-2.3220181,-4.098749,-4.1262197,-3.3225937,-1.2666162,-3.9955747,-1.7006896,-4.000854,-1.4148277,-4.2253346,-3.899462,-2.5654244,-2.5615437,-4.1749344,-3.9676306,-1.8832252,-3.3765047,-3.975075,-4.06055,-2.50621,-2.1729279,-4.1709867,-2.3540509,-2.125805,-2.5346727,-4.098749,-2.9332688,-2.8776567,-1.9375559,-4.178918,-4.0515027,-2.8871596,-2.2137032,-3.9555004,-2.8881829,-3.9826496,-2.175025,-1.5102221,-2.850335,-4.000854,-2.0305378,-1.5742216,-3.9955747,-4.0888796,-3.9877737,-4.06055,-2.2319443,-1.9904695,-4.2673883,-4.0954347,-2.2448866,-3.1332464,-1.1423447,-3.950741,-3.9367692,-1.4938016,-2.8654306,-4.0485287,-4.133368,-4.0170894,-4.0666876,-4.1952286,-0.6145549,-1.8262029,-3.9436991,-4.0666876,-2.6240778,-2.2350302,-4.0198555,-2.252263,-0.73853314,-2.716176,-1.3574405,-1.984904,-3.8651073,-2.7426124,-3.948381,-4.0170894,-3.8670547,-4.1226892,-4.1191874,-1.215061,-4.0544977,-1.6014401,-2.4330583,-4.7592993,-4.0888796,-4.1088486,-1.2564465,-4.50246,-2.6878846,-1.5410348,-4.1952286,-3.960312,-3.0115182,-4.272322,-4.1262197,-4.1406355,-3.9982064,-4.0824227,-4.1226892,-1.9945862,-3.9826496,-3.3094244,-3.0983047,-4.2625093,-4.0339556,-4.2078767,-1.5250621,-4.1088486,-1.8539493,-3.9390671,-3.0050342,-1.0321666,-0.8134185,-4.063608,-4.1555457,-3.948381,-4.0426407,-4.0170894,-2.066388,-2.3131516,-4.0426407,-3.8829563,-0.77037907,-2.5945425,-3.948381,-4.229811,-3.9676306,-4.0666876,-4.1020894,-2.602854,-4.1517696,-2.6715302,-1.9456661,-3.9929588,-4.0254407,-4.4325347,-4.1952286,-2.6548104,-4.0888796,-4.0954347,-2.182264,-3.3298976,-2.8673794,-3.941377,-2.442574,-4.0888796,-4.1262197,-4.0426407,-0.7147734,-2.8507106,-3.4946597,-4.0339556,-3.9929588,-4.0143414,-3.1696773,-4.0310984,-4.0310984,-4.105456,-3.9367692,-2.8567677,-3.960312,-2.4161482,-2.777698,-2.3645391,-2.4241688,-2.596527,-4.4325347,-3.0115182,-3.946034,-2.0867155,-1.6077751,-3.8849852,-4.0310984,-3.957899,-3.9955747,-2.5488844,-3.8890724,-1.9388204,-3.869011,-4.003518,-2.6517088,-2.9443195,-2.8993912,-3.829676,-4.0824227,-2.5669866,-3.960312,-0.72657555,-4.0310984,-2.071764,-4.0544977,-1.8231227,-3.9826496,-4.0397263,-2.4024084,-2.7415876,-2.5899813,-4.2926397,-4.0485287,-4.1517696,-4.1406355,-2.5457063,-3.3099651,-4.0170894,-4.0455747,-3.9676306,-2.7702942,-1.7040156,-2.7146618,-3.941377,-4.0254407,-4.1443152,-1.7086121,-2.3937905,-4.2673883,-4.098749,-3.8829563,-3.8789258,-4.1480265,-3.9676306,-3.910106,-4.1191874,-0.88881505,-4.0088964,-4.1191874,-4.085639,-1.7221973,-3.946034,-4.0515027,-1.7299562,-4.1157136,-4.1226892,-4.2625093,-4.0254407,-3.918813,-4.085639,-4.0339556,-1.8248196,-4.2036195,-2.9115443,-2.52908,-3.9627376,-4.1829386,-2.550482,-2.6187565,-4.057513,-4.0824227,-4.252913,-1.8527957,-4.133368,-3.9367692,-3.0197618,-1.4329913,-4.303166,-4.1122675,-2.6124125,-2.6217418,-2.6584172,-2.8667939,-2.516971,-1.9982933,-2.1009607,-4.01161,-3.948381,-0.55364406,-2.5162745,-4.50246,-1.8899621,-3.9322104,-4.0666876,-2.2517893,-3.9982064,-3.5072606,-3.946034,-4.0254407,-4.1555457,-3.9210174,-3.9531143,-3.9826496,-3.957899,-4.1517696,-4.0921445,-2.530786,-4.330656,-4.06055,-2.7101505,-3.3237095,-1.5799375,-4.0455747,-4.0515027,-3.9877737,-2.7624006,-4.2036195,-3.9955747,-3.9210174,-1.9676625,-4.036831,-4.105456,-3.7919648,-3.9436991,-4.2253346,-4.01161,-4.0824227,-4.01161,-4.022639,-4.003518,-4.000854,-2.8851202,-3.2055993,-3.9531143,-4.0426407,-4.0666876,-4.0426407,-4.133368,-1.5282261,-4.057513,-3.975075,-2.25674,-3.9929588,-1.2799543,-2.624971,-1.5463742,-4.0697894,-3.9982064,-1.8076497,-3.9929588,-4.098749,-4.1670747,-3.957899,-4.1226892,-4.0888796,-2.5122895,-3.263803,-0.94564664,-3.9982064,-1.1628642,-4.1631975,-3.960312,-2.2074187,-1.7946705,-4.0544977,-4.1517696,-2.04341,-3.970098,-4.282362,-4.3786144,-4.178918,-3.9676306,-2.5038357,-3.9344838,-3.9210174,-4.036831,-2.6015813,-4.0515027,-3.975075,-2.5341282,-3.9210174,-2.2351213,-2.1491945,-3.899462,-2.7379482,-3.990358,-3.8911307,-4.07923,-4.0455747,-2.4776638,-4.229811,-4.0282607,-3.9725797,-4.0339556,-3.9826496,-4.0760603,-2.46689,-3.9676306,-4.2673883,-3.8631685,-3.8554993,-1.4261135,-2.5860803,-4.1670747,-2.902133,-4.238905,-3.9676306,-1.0434678,-2.372778,-4.1443152,-3.9929588,-4.0339556,-0.9798305,-4.0515027,-4.0921445,-4.39148,-4.0426407,-4.3194504,-3.8536031,-1.4518126,-3.960312,-4.0954347,-1.2323772,-3.9079564,-3.91662,-3.9852042,-2.4926493,-1.9855446,-2.9464233,-2.277378,-2.6814723,-4.0729136,-4.022639,-3.9651775,-3.8911307,-4.336369,-3.9826496,-3.9390671,-4.1480265,-3.957899,-4.238905,-4.159355,-2.260201,-4.1226892,-4.06055,-3.9531143,-4.1829386,-4.9022827,-4.063608,-4.003518,-4.0888796,-4.1480265,-3.1083932,-3.9079564,-3.2346358,-4.1122675,-4.1555457,-4.0254407,-4.1262197,-4.0515027,-1.0158879,-4.0954347,-2.6396346,-4.2036195,-1.3146404,-2.78685,-2.4197564,-3.9826496,-2.7642453,-3.990358,-3.9676306,-4.0426407,-1.3357803,-4.0729136,-4.105456,-4.063608,-4.0254407,-2.3010554,-4.1406355,-2.4443402,-3.8002524,-1.1384735,-4.07923,-4.1369863,-3.9826496,-4.0170894,-3.910106,-2.5838377,-3.9852042,-4.133368,-4.105456,-2.6855652,-3.0445933,-4.1829386,-2.5390525,-4.0282607,-2.9046795,-3.826109,-4.0339556,-4.1226892,-2.3454514,-2.7756376,-4.057513,-4.0485287,-3.950741,-2.6445177,-2.3189688,-3.91662,-1.664969,-4.0760603,-2.7433457,-2.8417807,-0.89685905,-3.910106,-4.0455747,-4.0282607,-3.8911307,-2.5799913,-4.0170894,-3.90157,-4.257684,-4.0088964,-4.063608,-2.6106784,-4.0143414,-4.212176,-3.941377,-4.0921445,-3.948381,-0.6494067,-4.178918,-4.7443314,-4.000854,-4.2036195,-3.948381,-3.8332722,-4.01161,-1.5338622,-3.9826496,-1.9042895,-3.105004,-3.201786,-2.003847,-4.0666876,-1.139196,-4.0282607,-1.8317274,-4.01161,-2.6906064,-4.1670747,-4.216518,-4.0310984,-2.510826,-4.063608,-4.0485287,-1.2232537,-4.282362,-2.834115,-1.3558556,-4.2343345,-3.9801102,-2.1679046,-3.8973641,-4.229811,-1.526521,-3.91662,-4.1709867,-4.1297793,-4.252913,-4.003518,-4.325017,-0.9277939,-4.199404,-2.555501,-3.8460996,-0.45719668,-2.6461575,-2.5610611,-2.1350753,-4.1406355,-2.373717,-0.92535627,-1.794753,-2.484323,-4.0544977,-4.036831,-4.229811,-4.0544977,-2.1717453,-4.057513,-0.8363047,-2.0581884,-4.1869965,-2.967302,-3.948381,-3.8890724,-3.2976933,-3.9955747,-4.0666876,-4.1297793,-3.910106,-2.6283371,-4.0282607,-2.8084733,-2.5385025,-2.375853,-0.4993693,-4.0455747,-3.9210174,-4.252913,-1.9150321,-3.9531143,-2.8292575,-4.1555457,-3.7726965,-3.9826496,-3.8651073,-3.9367692,-2.9556587,-1.896701,-2.7047448,-3.9367692,-3.975075,-1.7012354,-3.91662,-3.946034,-4.1829386,-2.9931316,-4.006199,-4.1122675,-4.0515027,-4.022639,-3.90157,-1.8972864,-1.0693152,-3.025065,-2.182506,-3.1622965,-4.085639,-4.1262197,-3.92546,-4.0760603,-1.4612851,-3.905817,-4.022639,-4.0339556,-4.330656,-2.3526754,-2.6035984,-3.8002524,-2.278786,-4.0143414,-3.91662,-4.0697894,-3.970098,-2.3543506,-4.098749,-4.1262197,-3.9725797,-2.7265017,-4.003518,-4.1517696,-4.003518,-4.0666876,-4.2673883,-0.81574136,-1.8399187,-1.2636778,-4.0088964,-1.6040205,-2.510826,-3.9036882,-4.2625093,-4.000854,-3.9367692,-4.1262197,-4.0397263,-4.1670747,-1.088885,-4.0954347,-4.1191874,-4.105456,-0.83556163,-4.0310984,-3.1501424,-2.0897033,-4.1952286,-3.9955747,-0.70372015,-2.3955662,-2.8393936,-3.9531143,-2.3677418,-4.1122675,-4.2874703,-4.0544977,-4.3085265,-3.9651775,-2.8129303,-3.9436991,-3.9801102,-4.0282607,-4.1369863,-4.4397707,-2.6699157,-1.5420218,-4.0954347,-2.5458927,-4.000854,-3.9982064,-2.3494039,-2.2029967,-4.1157136,-4.1020894,-4.0339556,-4.159355,-2.1449547,-4.0697894,-2.758583,-1.8914874,-2.6177661,-2.5346727,-4.063608,-2.5927744,-4.2253346,-4.105456,-4.0544977,-1.1796411,-4.1262197,-3.960312,-1.9640362,-4.2078767,-4.212176,-2.9443195,-4.057513,-3.8952763,-2.5424592,-1.3638378,-3.9775853,-1.9002678,-4.0666876,-2.9954863,-4.243524,-4.0397263,-2.4908397,-1.7791249,-3.941377,-4.1443152,-4.0455747,-2.3499968,-4.2978706,-4.022639,-4.0888796,-3.948381,-2.5071464,-3.8729498,-3.9982064,-3.9531143,-4.2978706,-4.0310984,-2.6084132,-0.81726676,-3.829676,-4.1670747,-4.0888796,-3.92546,-3.948381,-4.0666876,-2.6877556,-3.9367692,-4.003518,-4.1369863,-4.2078767,-4.0544977,-4.063608,-4.1952286,-3.941377,-4.1020894,-4.1191874,-4.0170894,-4.0254407,-2.181861,-3.9436991,-4.0198555,-3.8314705,-4.000854,-4.3085265,-3.948381,-3.8829563,-1.7447965,-4.585846,-0.83121604,-4.0515027,-4.372322,-3.9651775,-3.9826496,-3.8121276,-3.857404,-3.90157,-4.022639,-0.5057216,-4.1262197,-4.0697894,-1.4674239,-4.2481933,-2.5064652,-3.9555004,-4.1262197,-4.2253346,-4.0485287,-4.0170894,-4.133368,-2.3042483,-2.7252328,-3.9651775,-3.9390671,-3.9531143,-3.8536031,-1.5192404,-1.57198,-2.3050504,-2.6608381,-4.0455747,-3.948381,-4.0310984,-2.82676,-2.130863,-4.0143414,-2.1647942,-2.3414183,-3.9555004,-3.9826496,-2.1846502,-2.5081701,-3.8870242,-4.220904,-2.4374635,-4.063608,-2.7362118,-1.7464787,-2.6746519,-3.050806,-4.105456,-1.9581227,-2.3357534,-4.1709867,-3.0079942,-2.800866,-1.9633534,-2.3398502,-2.5995736,-1.7064762,-2.0255613,-4.1749344,-2.9236026,-3.9676306,-3.957899,-1.4442565,-2.7796087,-1.3432878,-4.1369863,-4.0729136,-3.9436991,-4.1910934,-1.731739,-3.4996562,-4.212176,-3.948381,-4.1262197,-4.1555457,-3.8870242,-2.088304,-4.0888796,-1.5738937,-1.9250424,-2.3763573,-4.216518,-2.7255144,-4.1910934,-1.6385567,-3.8973641,-2.7362118,-4.1088486,-4.2078767,-1.9041193,-4.1952286,-3.9210174,-2.775954,-4.1749344,-4.1406355,-2.5797899,-4.0760603,-1.6941656,-3.9676306,-3.9436991,-2.094224,-4.0198555,-4.216518,-4.063608,-4.01161,-3.1921904,-3.946034,-1.3915427,-3.970098,-4.1517696,-3.3132243,-3.941377,-2.1980755,-3.8709757,-1.7251717,-4.1122675,-3.975075,-2.5204718,-2.4874063,-3.0522985,-1.3074145,-4.0888796,-3.948381,-1.1766171,-2.45965,-4.216518,-4.0515027,-4.1910934,-3.990358,-3.8729498,-4.003518,-2.8132749,-4.1122675,-3.899462,-3.946034,-2.6876264,-2.8906486,-4.0729136,-3.9676306,-3.975075,-3.923233,-3.9651775,-4.178918,-3.990358,-2.5853655,-4.1631975,-4.0397263,-2.8772566,-4.1749344,-3.9036882,-4.1262197,-0.6981484,-3.8442438,-2.2822244,-2.0717952,-4.2481933,-4.1088486,-2.6329803,-2.1586015,-3.9036882,-4.0088964,-4.0310984,-3.91662,-3.9210174,-2.8877733,-3.1626818,-4.238905,-1.3773147,-0.7570385,-2.3544705,-4.325017,-2.587001,-1.8914461,-0.730899,-4.105456,-3.975075,-2.2418692,-2.5279162,-4.1262197,-0.98389316,-4.003518,-2.534491,-3.9955747,-3.9775853,-1.854044,-4.0921445,-3.9725797,-4.0515027,-3.9982064,-2.0738642,-2.47544,-4.229811,-2.1854212,-2.65278,-2.7468832,-2.2380004,-4.0310984,-2.5643537,-1.6941131,-3.0169966,-1.9849297,-4.098749,-4.036831,-4.1555457,-0.54695624,-1.7046864,-3.9367692,-2.852217,-4.0760603,-2.888388,-2.52188,-4.0170894,-2.5867963,-4.105456,-3.9826496,-4.1369863,-2.7792897,-3.946034,-2.0819197,-4.0143414,-1.0474086,-4.1517696,-3.8651073,-3.9555004,-3.9144378,-4.243524,-4.1480265,-4.7592993,-3.8789258,-3.2919447,-3.9929588,-4.313954,-3.9775853,-1.2262022,-4.229811,-3.950741,-2.7183878,-2.2643707,-3.946034,-4.1631975,-4.229811,-3.9276984,-4.0666876,-4.105456,-2.2911491,-4.003518,-4.0515027,-4.07923,-4.133368,-3.9725797,-2.044789,-4.3849998,-1.8016653,-4.1480265,-4.0760603,-3.9651775,-4.1443152,-4.098749,-2.4403033,-3.5483534,-4.1020894,-4.0310984,-2.2527845,-4.1670747,-4.022639,-4.057513,-2.1689985,-4.0824227,-4.0339556,-3.957899,-3.9555004,-2.4150436,-3.8729498,-2.6911263,-2.7991931,-3.9982064,-4.01161,-3.8829563,-4.1709867,-4.1020894,-4.0198555,-4.0888796,-4.199404,-4.0729136,-4.1088486,-1.629981,-0.80669856,-4.0760603,-1.0058025,-2.501895,-3.946034,-2.1323705,-2.7870123,-3.9877737,-2.2167926,-4.1020894,-4.0254407,-3.9801102,-4.1749344,-3.90157,-2.132083,-3.957899,-3.9982064,-2.1254156,-3.9276984,-4.105456,-2.6328664,-1.5613762,-2.9034045,-2.6655986,-2.9734921,-4.0397263,-4.1157136,-4.272322,-4.0455747,-2.166658,-4.1829386,-2.6376736,-4.1709867,-1.8363763,-2.8873641,-1.6783351,-4.133368,-4.1157136,-3.950741,-3.91662,-4.085639,-3.8931983,-3.923233,-4.0088964,-1.7522838,-0.74598473,-0.6942084,-3.9651775,-2.5850596,-2.3057466,-4.1631975,-3.8479633,-4.1709867,-4.238905,-3.923233,-4.057513,-3.9344838,-1.1383824,-4.01161,-4.243524,-4.1631975,-2.921164,-2.3576598,-4.4699855,-4.252913,-4.0455747,-3.948381,-3.948381,-1.6554652,-4.0666876,-4.01161,-3.9531143,-3.9852042,-4.105456,-4.105456,-4.1122675,-3.1135263,-2.1288612,-3.8952763,-3.062585,-4.1297793,-4.537561,-3.9955747,-2.4153194,-4.272322,-1.1854484,-2.814138,-2.7728007,-4.0143414,-4.1297793,-3.0920343,-1.4087796,-3.990358,-2.1526089,-3.0295815,-4.063608,-3.9299486,-2.5297077,-4.159355,-3.9877737,-4.0310984,-1.3877524,-3.9555004,-4.0339556,-3.849835,-2.8507106,-3.7140214,-3.90157,-4.063608,-2.452754,-4.07923,-2.0642004,-2.2624748,-2.1144109,-4.1829386,-4.4254174,-4.1020894,-4.0824227,-2.923825,-4.105456,-4.0824227,-4.000854,-1.5278058,-1.995976,-2.0962043,-3.950741,-1.7825335,-1.3059268,-4.39148,-3.8931983,-3.9676306,-3.9344838,-4.1088486,-4.1709867,-3.957899,-2.1175964,-2.043703,-3.857404,-4.1670747,-4.220904,-2.6444006,-4.0282607,-3.9826496,-3.033286,-3.990358,-2.4770272,-2.8772566,-4.1157136,-4.1122675,-3.9531143,-3.0746925,-4.0760603,-2.6616888,-4.036831,-3.9982064,-2.7134268,-2.0724838,-4.1517696,-4.1020894,-4.036831,-2.2907865,-4.063608,-3.9079564,-4.1297793,-2.1534383,-4.0254407,-3.9276984,-2.6134996,-4.277313,-2.595795,-3.9322104,-3.9344838,-2.8346581,-3.8931983,-4.277313,-4.1191874,-3.0085344,-4.0760603,-2.6299171,-4.0143414,-4.0198555,-2.320685,-4.1952286,-4.4699855,-3.9276984,-2.3257623,-2.7415876,-3.9826496,-3.8829563,-3.975075,-4.0282607,-4.1088486,-2.9848616,-4.2036195,-2.596004,-2.1697423,-4.1088486,-4.000854,-2.408952,-3.975075,-4.036831,-2.3329487,-1.4180156,-4.1555457,-4.022639,-2.360812,-4.212176,-4.1122675,-4.0339556,-2.1476278,-4.06055,-4.1480265,-3.9852042,-4.216518,-1.8677244,-3.9210174,-4.036831,-3.8931983,-0.61701053,-2.1346052,-4.0198555,-4.1910934,-3.9627376,-4.199404,-4.0254407,-1.9671953,-1.7356874,-1.5845975,-2.8392105,-3.0370226,-3.8631685,-4.1910934,-0.92505735,-0.62836796,-3.918813,-4.2036195,-2.763322,-1.3126974,-3.9144378,-4.006199,-4.2673883,-4.1517696,-0.81364113,-3.9436991,-4.2343345,-4.1088486,-2.632184,-3.9555004,-4.1443152,-4.0760603,-3.9801102,-2.5049365,-4.07923,-4.220904,-0.86200297,-3.9036882,-3.502176,-3.8911307,-2.689308,-4.1226892,-3.990358,-3.948381,-4.2253346,-1.9059298,-4.0544977,-0.99392086,-4.1406355,-2.158258,-4.036831,-3.0164456,-3.8554993,-3.9531143,-3.948381,-3.8670547,-2.2868178,-2.81639,-3.0228243,-3.970098,-2.4121583,-2.0472941,-3.9210174,-2.4690707,-3.92546,-2.240714,-3.9676306,-3.5372531,-3.950741,-3.8849852,-3.8911307,-2.6296911,-4.1262197,-4.003518,-4.1191874,-1.8372682,-2.5267558,-3.9955747,-4.238905,-4.0515027,-2.434786,-1.1171366,-2.9087424,-4.0697894,-2.9169838,-3.970098,-2.9034045,-3.946034,-1.761262,-2.3228536,-3.9555004,-2.9523208,-4.01161,-1.1167861,-4.0426407,-2.6044502,-3.91662,-4.0729136,-2.0124083,-3.3597994,-2.4246619,-3.8870242,-4.1443152,-4.1952286,-3.9826496,-4.0254407,-1.3340036,-4.229811,-3.8709757,-4.243524,-4.006199,-4.216518,-3.9982064,-2.4585056,-4.063608,-2.2805016,-2.372028,-4.036831,-4.0397263,-4.06055,-3.9390671,-3.9801102,-1.0628248,-3.9775853,-2.4973724,-2.6013694,-4.036831,-2.9520833,-2.5216155,-1.429357,-2.4712617,-4.0310984,-3.9555004,-1.5007907,-4.1749344,-2.934863,-4.257684,-3.9210174,-4.2481933,-2.915454,-3.9367692,-3.8890724,-4.0824227,-2.716866,-3.26041,-4.1369863,-4.0339556,-2.2775788,-3.8769245,-3.857404,-4.057513,-4.1157136,-3.280165,-3.8849852,-4.0954347,-1.9039706,-3.910106,-2.6009464,-4.3085265,-2.815003,-3.9826496,-4.0455747,-3.9929588,-3.7854464,-2.02875,-0.9885824,-4.1670747,-4.1555457,-2.6040242,-4.000854,-4.057513,-4.0170894,-2.8477135,-4.71586,-3.9955747,-4.257684,-2.38922,-4.01161,-0.67706627,-4.330656,-3.9276984,-1.8356495,-1.5969111,-3.960312,-3.8651073,-2.3820057,-3.957899,-4.0426407,-4.277313,-4.0729136,-2.7753215,-3.9627376,-4.000854,-2.4874878,-4.0254407,-4.243524,-3.8087013,-4.2625093,-4.229811,-4.1749344,-3.960312,-1.6873507,-4.243524,-3.0295815,-2.50097,-2.2330763,-4.006199,-3.8332722,-3.9276984,-1.866105,-4.133368,-3.9852042,-2.5030754,-4.0339556,-3.3181593,-2.396292,-3.960312,-2.70609,-1.044512,-3.9982064,-3.8709757,-3.9775853,-2.4691486,-3.9322104,-1.800793,-2.5495415,-2.7442274,-1.8113077,-2.6963646,-3.62725,-1.4603736,-4.1020894,-3.1336067,-4.098749,-4.0729136,-4.0729136,-2.8186538,-3.905817,-3.8173182,-3.8809364,-4.07923,-2.0662334,-3.9627376,-2.611328,-1.8048838,-4.1555457,-2.8802643,-4.1670747,-2.6971557,-2.0425906,-2.3376527,-4.0697894,-4.0544977,-2.9554195,-4.1088486,-1.6708049,-3.9367692,-1.9232173,-3.941377,-3.9276984,-4.0198555,-4.0824227,-4.01161,-4.133368,-3.8911307,-2.1980755,-4.1262197,-4.07923,-0.9603688,-4.0954347,-4.212176,-2.4082048,-4.133368,-4.057513,-1.991612,-4.2874703,-4.0254407,-4.0760603,-2.47544,-0.6043526,-4.159355,-4.1670747,-3.9676306,-4.0339556,-2.463949,-2.1897078,-3.970098,-2.4488618,-4.0666876,-4.0310984,-4.238905,-2.6998034,-4.2253346,-3.9344838,-3.8554993,-1.586404,-3.869011,-4.098749,-3.9390671,-4.1443152,-3.905817,-4.0170894,-3.9651775,-4.0310984,-2.5057003,-3.9852042,-4.003518,-2.9224923,-3.9725797,-4.676373,-3.8809364,-2.6746519,-4.1088486,-4.2673883,-1.9114504,-2.7436395,-3.8350816,-3.859317,-2.4867554,-3.990358,-4.063608,-4.1555457,-2.5647426,-2.2786348,-1.9414066,-4.0485287,-2.436521,-4.1088486,-3.558784,-3.9531143,-3.9036882,-3.918813,-2.9960113,-4.1122675,-3.9826496,-1.4793521,-4.0282607,-3.9725797,-3.22921,-4.1869965,-0.876391,-4.3849998,-4.2036195,-3.9627376,-3.1508923,-4.0954347,-3.918813,-1.9988481,-3.9122665,-4.159355,-1.2646812,-4.1297793,-2.783134,-2.7378032,-1.7563033,-4.303166,-3.8849852,-3.0631979,-3.1149058,-4.022639,-4.0254407,-2.8776567,-4.0426407,-3.1289446,-0.94351643,-4.1369863,-4.0254407,-1.6924648,-1.8628842,-3.8931983,-3.918813,-4.1157136,-3.9276984,-4.057513,-3.8952763,-3.9436991,-4.006199,-2.228028,-3.8651073,-4.1157136,-3.9122665,-3.4202678,-4.336369,-3.3121352,-4.1555457,-0.6097539,-2.4921548,-1.092645,-4.0282607,-2.4477456,-4.0198555,-4.1157136,-2.3658295,-2.9967997,-1.6467994,-4.330656,-2.7415876,-2.4022744,-1.7983536,-3.1332464,-3.9929588,-4.003518,-2.0680587,-4.0515027,-3.9775853,-2.8794603,-1.889058,-2.5483217,-4.0760603,-4.1480265,-2.081312,-0.8322957,-1.9221747,-4.0666876,-2.125805,-3.319817,-4.0310984,-3.9531143,-0.5710378,-4.0310984,-1.1291312,-3.90157,-2.0441725,-3.9390671,-4.0310984,-4.0697894,-2.7879872,-4.1709867,-3.923233,-4.036831,-4.0455747,-3.8870242,-3.9367692,-3.9676306,-4.159355,-3.7919648,-2.4122267,-4.2481933,-4.282362,-4.1157136,-4.0397263,-2.5248876,-1.1995908,-2.2370844,-4.1517696,-3.9390671,-4.0397263,-4.1709867,-2.4927316,-1.8504037,-3.9801102,-4.360004,-3.905817,-0.9707111,-3.9390671,-2.7442274,-4.1191874,-1.289828,-1.7232051,-2.979266,-3.353772,-2.2249026,-3.9390671,-4.0339556,-0.7436398,-2.1441045,-3.9122665,-3.9826496,-4.1443152,-2.4588869,-3.8973641,-4.1443152,-4.1709867,-4.000854,-4.257684,-4.0170894,-1.0243868,-3.9826496,-4.063608,-4.1088486,-2.4432356,-2.1989968,-2.6133907,-4.1088486,-3.990358,-4.0824227,-4.1297793,-2.1995418,-4.1122675,-2.3996055,-4.1262197,-2.6309357,-3.9725797,-4.398059,-3.9929588,-3.9982064,-3.899462,-4.0697894,-3.8479633,-2.2312667,-2.4233248,-4.243524,-3.9982064,-4.0666876,-2.288978,-3.9929588,-4.1670747,-3.948381,-0.6949325,-0.8917945,-4.0282607,-4.0729136,-2.4487128,-1.5863528,-4.003518,-3.960312,-4.0170894,-3.948381,-4.1226892,-2.4593446,-1.3807214,-3.957899,-4.1369863,-2.3430505,-0.8142767,-2.6335502,-4.1122675,-3.9367692,-3.155418,-0.59232247,-3.9877737,-3.9299486,-4.07923,-4.0921445,-1.502524,-2.6256423,-3.9877737,-2.9282963,-3.9344838,-2.3196323,-4.229811,-2.3672473,-4.0282607,-2.290683,-2.1207702,-4.1406355,-4.2673883,-3.941377,-3.9079564,-4.238905,-2.315776,-3.9982064,-3.950741,-3.91662,-2.381559,-3.970098,-1.7340319,-4.1443152,-4.1517696,-3.1823986,-2.5458927,-3.5318074,-4.0310984,-3.005571,-3.184826,-2.267844,-4.105456,-3.910106,-0.67189765,-4.1670747,-1.1576732,-4.0339556,-3.9801102,-4.07923,-2.9499521,-3.9210174,-4.4115224,-3.90157,-4.159355,-2.6744013,-2.7844229,-3.899462,-3.9852042,-4.0198555,-2.6798205,-2.2629116,-4.1020894,-4.085639,-3.975075,-2.1631703,-4.0697894,-2.5743842,-0.8121491,-2.5995736,-1.1493353,-2.725092,-4.0254407,-3.941377,-2.4908397,-2.6359506,-3.9122665,-2.0968995,-4.003518,-3.9531143,-4.07923,-3.9801102,-4.0088964,-4.1262197,-4.336369,-2.6029603,-2.4805396,-2.5830252,-4.0088964,-4.0397263,-4.1369863,-3.9929588,-4.0254407,-3.04577,-0.98843,-1.960222,-3.9367692,-2.7303312,-4.057513,-4.105456,-4.0310984,-1.4141049,-2.057371,-1.6668973,-4.098749,-3.9852042,-4.1631975,-4.1910934,-2.111523,-1.8489784,-2.2856393,-2.2721877,-3.899462,-4.022639,-3.9627376,-4.1020894,-4.1297793,-3.9555004,-4.022639,-0.6350966,-3.91662,-3.9436991,-4.0455747,-4.0143414,-4.06055,-4.0088964,-0.8033182,-2.3767989,-3.8749323,-2.708793,-3.9826496,-4.0666876,-3.9555004,-4.0198555,-2.514364,-4.1517696,-1.7545524,-4.0485287,-3.8973641,-3.91662,-4.199404,-2.7786524,-2.454713,-1.0730815,-4.216518,-3.9344838,-3.9877737,-4.0760603,-4.0544977,-4.1226892,-4.0170894,-4.1297793,-2.4325557,-4.0888796,-3.960312,-1.5565851,-4.1191874,-2.1059728,-0.839125,-3.0628915,-3.9555004,-0.79756236,-3.9367692,-4.0282607,-1.1953099,-2.7273498,-2.0930073,-3.1840153,-3.990358,-3.9775853,-4.0143414,-4.216518,-4.1749344,-4.098749,-4.006199,-4.1517696,-2.725092,-4.0088964,-2.267059,-3.92546,-4.1670747,-2.0520494,-4.1480265,-4.398059,-4.0455747,-4.0198555,-2.241638,-1.7003437,-4.178918,-2.3156116,-4.0888796,-2.7353463,-3.8350816,-1.4557691,-3.1771855,-4.1480265,-4.1517696,-2.758279,-3.9122665,-3.957899,-3.990358,-0.8253168,-2.1324065,-1.4921356,-3.948381,-3.9651775,-3.9344838,-2.1791298,-4.1631975,-3.960312,-3.9210174,-4.178918,-4.0397263,-4.105456,-4.0760603,-1.7559103,-4.0485287,-2.0144038,-4.1122675,-2.67553,-2.5844483,-3.960312,-3.941377,-1.2281387,-4.07923,-1.5852906,-3.948381,-2.4111323,-4.0282607,-4.000854,-2.4116108,-3.910106,-4.1517696,-3.8749323,-4.2078767,-3.9344838,-3.8517148,-3.9826496,-1.8026906,-3.9390671,-3.1019766,-3.9852042,-2.6980808,-3.9955747,-3.103656,-2.4591157,-2.5029066,-4.0760603,-3.9367692,-2.7599535,-4.098749,-2.6421854,-4.0397263,-4.0666876,-4.0954347,-2.5024006,-3.0855305,-1.9491652,-2.4455957,-3.9367692,-4.0170894,-4.07923,-4.2253346,-4.199404,-2.1629002,-4.06055,-4.1020894,-2.8673794,-4.0310984,-3.950741,-3.948381,-4.01161,-0.76158744,-1.6159302,-2.3698485,-2.9879444,-1.0539199,-4.0697894,-2.9429228,-4.257684,-4.098749,-4.252913,-3.9344838,-0.85136384,-4.057513,-4.063608,-3.946034,-4.0544977,-4.2673883,-4.1088486,-2.8750644,-4.0282607,-4.006199,-2.5492594,-3.8729498,-1.7796193,-3.9651775,-2.3395605,-2.253354,-4.229811,-4.0921445,-2.6299171,-4.1869965,-4.0339556,-1.6335574,-4.057513,-3.8612385,-1.5770452,-3.3677626,-4.1709867,-2.0507364,-4.325017,-1.175365,-3.9367692,-2.1124833,-2.1402066,-3.8890724,-4.1122675,-3.4930067,-4.252913,-2.7503006,-3.8870242,-4.1480265,-4.0888796,-3.5804288,-2.8790588,-4.1709867,-2.253782,-2.8621376,-3.923233,-2.5643537,-1.6491092,-4.022639,-4.0254407,-4.1226892,-4.0455747,-4.1020894,-4.2625093,-4.1020894,-3.918813,-4.2343345,-2.7884755,-4.07923,-4.229811,-2.9853737,-3.8769245,-2.7327597,-4.1406355,-2.441181,-2.5103967,-3.960312,-4.0697894,-4.216518,-3.9627376,-4.1910934,-3.9877737,-4.006199,-4.2481933,-4.0666876,-2.6572115,-2.7330463,-4.243524,-1.8027747,-2.9325874,-4.1443152,-4.1369863,-4.003518,-4.0088964,-4.1910934,-0.993576,-4.1157136,-2.0268283,-4.1226892,-2.2502775,-4.0455747,-4.036831,-4.477879,-4.0921445,-4.0824227,-4.0921445,-4.1749344,-4.0760603,-3.948381,-3.2494452,-4.0170894,-4.1406355,-2.6552894,-4.1749344,-2.2348936,-4.063608,-4.0170894,-3.8536031,-2.1091306,-4.1517696,-3.9651775,-0.6432733,-2.333234,-0.9275359,-2.4718113,-4.1517696,-2.5185428,-2.2989402,-3.8749323,-4.0198555,-3.9122665,-4.0143414,-2.5664,-4.1480265,-2.8577216,-1.054229,-0.60179555,-3.9210174,-1.7341756,-3.918813,-2.663517,-4.0282607,-2.1560502,-3.4483657,-4.3085265,-4.01161,-4.1020894,-3.0079942,-4.133368,-4.0339556,-4.1369863,-3.9367692,-4.0729136,-4.277313,-4.105456,-3.946034,-0.9523428,-4.098749,-4.4047384,-4.212176,-3.0370226,-1.8238819,-4.0729136,-3.975075,-3.9725797,-3.1016414,-3.923233,-3.8769245,-3.7497544,-2.3922834,-3.950741,-0.834905,-4.003518,-4.0666876,-3.9555004,-4.105456,-3.829676,-4.1297793,-2.5252428,-2.888593,-0.8435249,-4.1369863,-2.2389643,-4.1088486,-3.7409065,-3.7467852,-2.8449225,-3.9531143,-2.627887,-4.0921445,-4.0198555,-3.923233,-4.325017,-1.9977127,-1.5796857,-3.950741,-4.238905,-4.0544977,-4.1631975,-1.9914821,-4.313954,-2.754648,-2.9700148,-1.7435169,-2.0029385,-4.1555457,-4.006199,-3.025627,-0.40814802,-4.0954347,-4.4397707,-3.9144378,-4.0143414,-2.697552,-2.850147,-3.9390671,-1.7710706,-4.0544977,-1.3318641,-3.946034,-4.0455747,-3.9627376,-1.8037521,-2.4162862,-3.950741,-4.243524,-4.0760603,-4.0954347,-3.90157,-4.0170894,-3.9436991,-4.06055,-4.1297793,-4.1406355,-4.036831,-3.9877737,-2.2571712,-0.7364216,-4.1443152,-1.8776299,-3.9982064,-4.0143414,-4.0198555,-4.0310984,-3.975075,-0.9452305,-4.0088964,-4.1297793,-4.1369863,-2.732044,-3.9852042,-2.7990263,-0.86441916,-2.1826677,-2.0411894,-3.9852042,-3.90157,-3.8973641,-2.132838,-3.9276984,-4.0282607,-3.8973641,-4.0088964,-4.1555457,-4.1555457,-3.905817,-1.3089398,-3.9929588,-1.3479168,-3.9531143,-4.1555457,-4.0485287,-1.8038026,-3.7005126,-2.4598792,-3.9725797,-3.0525975,-0.95152646,-4.0198555,-3.905817,-4.0339556,-2.1688812,-4.0888796,-0.9275987,-3.948381,-0.88568056,-2.1615906,-4.2625093,-0.98039263,-2.3022234,-2.2104204,-2.3174796,-4.178918,-4.1262197,-4.0888796,-3.9367692,-4.0729136,-4.0282607,-3.9299486,-4.0544977,-3.8314705,-3.0031612,-3.90157,-4.556236,-4.006199,-2.4157338,-4.0697894,-4.0254407,-4.0760603,-3.8769245,-0.66230255,-4.098749,-2.385791,-1.059532,-3.990358,-4.063608,-4.0455747,-4.105456,-2.355912,-4.0954347,-3.9390671,-2.556359,-2.6814723,-3.9144378,-3.905817,-3.9676306,-3.869011,-4.105456,-2.8871596,-3.9826496,-4.212176,-4.257684,-2.6668277,-2.2831392,-2.8732789,-2.3577807,-4.2625093,-4.0198555,-1.1786801,-1.5678347,-4.0282607,-4.0397263,-2.0897684,-3.9036882,-3.9651775,-4.003518,-4.01161,-3.1131825,-3.9627376,-4.1157136,-4.06055,-3.0186536,-3.0753226,-3.4387965,-2.810182,-3.950741,-4.272322,-4.0544977,-2.7961986,-2.9975898,-4.0888796,-4.07923,-3.9322104,-2.5956903,-4.238905,-2.989494,-3.9122665,-3.7126515,-2.6538537,-2.2662263,-3.905817,-2.3534524,-0.72144943,-1.4354551,-2.2239249,-4.0143414,-4.1670747,-3.0158954,-2.878858,-3.960312,-4.0455747,-4.2036195,-3.9036882,-2.460032,-2.9253848,-3.8870242,-4.2874703,-0.63388556,-2.6172166,-3.9877737,-3.9079564,-3.8829563,-4.2078767,-4.057513,-4.057513,-1.9026763,-3.9367692,-4.0088964,-4.01161,-3.9299486,-3.91662,-4.1020894,-4.1226892,-1.2207568,-4.330656,-3.9651775,-4.2481933,-2.8449225,-4.0515027,-3.9982064,-3.7497544,-1.6168288,-4.0455747,-4.0888796,-1.4422486,-2.2405295,-3.3019226,-1.4420798,-3.9775853,-4.098749,-2.4900198,-3.9299486,-1.2486892,-3.946034,-2.675907,-4.5285163,-3.9826496,-4.000854,-2.6373284,-3.0327141,-2.3845043,-3.9801102,-1.1420469,-3.9436991,-3.9676306,-1.6033075,-4.2625093,-2.6630287,-0.89038354,-4.000854,-2.5633826,-4.0729136,-3.8890724,-3.2806704,-1.7106631,-3.9367692,-4.1555457,-1.4627905,-4.1443152,-3.2966425,-4.1631975,-3.9122665,-1.7289752,-4.0198555,-1.2713931,-1.6902639,-2.2211814,-3.9651775,-3.0681314,-3.9982064,-3.9676306,-3.9555004,-2.6160107,-2.8434412,-3.4930067,-4.5467978,-2.2710483,-1.3325703,-4.0515027,-3.9627376,-4.1088486,-3.9390671,-4.1631975,-4.3661194,-4.0515027,-3.9877737,-4.1555457,-4.0282607,-3.857404,-4.0544977,-4.000854,-4.022639,-2.5381365,-4.0455747,-3.941377,-1.7580309,-2.791089,-2.0790164,-4.1122675,-4.0697894,-4.1122675,-3.8479633,-4.2874703,-3.8973641,-2.488466,-3.9676306,-4.133368,-2.3993394,-4.1869965,-2.243956,-2.4335616,-4.2253346,-2.0776196,-2.4319103,-4.0485287,-3.8460996,-2.4233248,-3.9531143,-4.1443152,-4.085639,-4.003518,-4.006199,-4.0426407,-4.1749344,-2.7513459,-4.3849998,-4.098749,-3.9676306,-1.6859852,-3.12752,-3.9852042,-2.5726962,-1.3568009,-3.9801102,-4.0666876,-3.950741,-2.3006315,-1.9759094,-1.35703,-3.8973641,-3.869011,-2.268188,-3.910106,-2.6399815,-3.9982064,-4.1869965,-3.9676306,-4.1406355,-4.0426407,-4.0397263,-1.4439691,-4.702295,-2.7234063,-2.4883845,-4.1749344,-4.1480265,-4.0310984,-4.1480265,-4.2673883,-4.1157136,-4.212176,-3.9651775,-4.0426407,-2.311682,-3.9955747,-4.0515027,-4.06055,-4.2036195,-2.6609595,-3.9531143,-1.9577138,-4.1297793,-4.272322,-4.085639,-1.7731725,-3.91662,-4.0339556,-3.9344838,-0.89178,-4.159355,-2.6035984,-3.0015619,-3.9555004,-2.0568871,-0.78439087,-0.81923604,-2.1224535,-4.510973,-4.057513,-4.0515027,-2.4815023,-3.9390671,-2.5642564,-3.8631685,-4.1443152,-3.970098,-1.1684343,-3.0145228,-1.36528,-3.9955747,-3.8829563,-1.0891681,-3.90157,-3.1346898,-3.9725797,-3.8911307,-3.516739,-4.1670747,-1.9367989,-4.243524,-1.6544114,-4.133368,-4.0198555,-3.975075,-2.860404,-2.9624126,-3.899462,-4.1670747,-2.5759788,-3.990358,-3.975075,-3.946034,-4.085639,-3.9826496,-4.1369863,-4.1517696,-2.019115,-4.01161,-4.0544977,-3.8911307,-3.8931983,-1.6640997,-3.9036882,-4.3786144,-4.0921445,-3.910106,-2.5986257,-4.085639,-0.90726095,-4.0088964,-4.0426407,-4.0455747,-3.950741,-3.9955747,-2.805753,-2.4995441,-2.8796613,-2.7796087,-4.07923,-3.212895,-1.9790804,-3.9929588,-3.910106,-3.957899,-3.9651775,-4.1749344,-2.5535054,-3.941377,-4.2078767,-1.5188987,-2.5879238,-3.8890724,-3.941377,-2.6020052,-4.1910934,-2.211368,-2.72467,-1.522362,-4.022639,-2.597995,-3.8789258,-2.7356346,-3.9627376,-1.5209434,-1.3146349,-4.3786144,-1.5994856,-2.6056247,-3.9826496,-1.1945541,-2.3307292,-2.0113728,-4.676373,-3.941377,-3.9344838,-4.178918,-2.340024,-2.3189135,-3.1917782,-3.950741,-4.105456,-4.0170894,-4.1749344,-4.0760603,-4.0824227,-3.9122665,-4.1157136,-4.243524,-4.1226892,-4.216518,-3.9955747,-2.4775045,-4.0544977,-2.1047227,-4.1122675,-4.212176,-3.970098,-2.7470312,-3.9852042,-4.022639,-4.1122675,-3.948381,-1.7569542,-4.07923,-4.229811,-2.9754918,-4.000854,-1.5062582,-3.9852042,-2.9034045,-4.1088486,-1.3268616,-4.057513,-2.6407921,-3.975075,-4.1952286,-2.4896104,-4.098749,-4.1749344,-3.8517148,-3.8069985,-1.9134438,-3.9955747,-2.617986,-2.3465686,-2.2685323,-3.0803967,-3.8651073,-4.036831,-4.0455747,-2.528095,-1.4423512,-2.50097,-3.2220795,-4.303166,-3.9826496,-3.8890724,-4.0282607,-1.420005,-4.000854,-2.9805315,-1.3220999,-3.9801102,-1.573695,-3.8809364,-2.84031,-2.0073373,-4.1297793,-4.0729136,-4.0485287,-3.9955747,-4.1088486,-1.8338196,-4.06055,-4.0282607,-4.216518,-4.0339556,-2.0553489,-4.1226892,-4.1122675,-4.1262197,-3.3998275,-2.2340748,-3.9299486,-3.7467852,-3.9531143,-1.0160035,-3.8890724,-2.491908,-2.4967895,-3.8829563,-2.8592525,-1.8514943,-4.0282607,-4.0339556,-4.257684,-3.9852042,-1.8683896,-3.92546,-4.1869965,-4.1749344,-4.006199,-3.8973641,-4.1517696,-3.3121352,-2.3238025,-2.519945,-3.950741,-4.1226892,-2.3281822,-4.006199,-2.9646058,-4.0824227,-3.950741,-2.089736,-1.5488247,-4.0515027,-4.06055,-3.1218686,-1.6816208,-4.003518,-1.7708204,-4.0339556,-3.9210174,-4.0088964,-1.8187876,-3.975075,-3.950741,-3.91662,-3.918813,-4.1262197,-4.0455747,-4.1297793,-1.0403675,-3.9627376,-4.1406355,-2.2159202,-2.1455474,-2.3779364,-3.957899,-2.6432333,-4.1157136,-3.0020945,-2.2835975,-1.7747476,-4.0339556,-4.1226892,-3.8387234,-3.9877737,-4.2673883,-1.7509673,-0.9353087,-2.0818555,-4.0143414,-4.1088486,-4.0544977,-3.0267532,-4.0485287,-4.199404,-1.9037582,-4.098749,-4.1869965,-4.0921445,-2.6262023,-3.948381,-1.6309546,-4.057513,-0.8226867,-2.03658,-4.1631975,-4.0485287,-4.1122675,-4.0455747,-4.0954347,-2.074997,-4.000854,-4.1952286,-3.4085672,-2.886751,-3.910106,-1.1650217,-2.5553107,-2.1193721,-4.1517696,-4.0426407,-1.863968,-1.8640845,-4.212176,-4.216518,-4.0170894,-2.5922558,-4.1088486,-3.9651775,-4.0485287,-2.5297973,-4.057513,-4.0310984,-4.1670747,-1.6359239,-3.970098,-1.1605294,-4.0426407,-3.9676306,-4.1910934,-2.790598,-2.548978,-4.0544977,-4.1226892,-4.216518,-4.0760603,-1.0999941,-2.9762437,-3.918813,-4.006199,-4.0310984,-4.0088964,-2.4589632,-4.1191874,-2.4815826,-1.1183463,-4.0254407,-3.9276984,-2.801201,-3.9344838,-4.1020894,-3.9322104,-3.9955747,-2.6622972,-1.7678748,-3.11733,-3.3708644,-3.990358,-4.0544977,-4.1157136,-4.0397263,-2.3606296,-1.6024683,-2.9884603,-4.325017,-3.8769245,-4.1088486,-0.6888886,-2.8430717,-3.242904,-3.9210174,-3.9367692,-2.914582,-4.0088964,-2.57558,-3.1531491,-4.0485287,-0.8784358,-4.0397263,-4.199404,-3.9627376,-3.970098,-4.006199,-2.228611,-4.0455747,-4.0485287,-3.9877737,-3.948381,-4.098749,-2.4847274,-2.443015,-3.9826496,-2.8449225,-4.0310984,-4.0339556,-4.0888796,-4.022639,-4.01161,-3.9144378,-2.010476,-1.6278381,-3.957899,-3.8870242,-4.0455747,-4.0339556,-3.9651775,-4.063608,-2.3597791,-3.9775853,-2.1652594,-4.1480265,-4.1297793,-3.9627376,-4.098749,-2.5555964,-4.1829386,-3.9955747,-1.4329913,-2.3601432,-2.8310502,-4.0544977,-1.4940249,-3.9877737,-4.216518,-2.7189424,-0.96295816,-2.951846,-2.7420266,-4.0666876,-2.9328144,-4.06055,-0.7381152,-2.1136525,-1.8014638,-3.8809364,-4.243524,-4.1480265,-3.8536031,-3.77427,-4.0170894,-4.0824227,-2.392218,-4.257684,-3.9367692,-4.4047384,-2.430051,-1.2739159,-2.6999364,-4.0729136,-4.0198555,-4.1480265,-2.6668277,-4.003518,-3.9826496,-4.085639,-4.0485287,-1.3923991,-2.519331,-3.8350816,-4.2874703,-0.9167546,-2.4013383,-4.01161,-3.9122665,-2.6576934,-3.8809364,-4.0426407,-4.1670747,-1.0939759,-3.6822798,-3.9982064,-4.970933,-4.1869965,-2.6194181,-2.529977,-4.085639,-1.2853562,-2.644167,-3.950741,-4.022639,-4.9022827,-4.1088486,-4.2343345,-3.918813,-4.0888796,-1.839717,-4.243524,-4.1749344,-4.1406355,-4.085639,-4.257684,-1.0486519,-4.063608,-3.9676306,-2.595168,-4.0544977,-3.485646,-4.178918,-2.233303,-2.7311869,-4.0310984,-4.4254174,-0.99238664,-3.3121352,-2.9106803,-4.0729136,-4.022639,-3.523765,-2.5882318,-2.806771,-3.9531143,-2.4587343,-4.0426407,-2.887978,-4.0426407,-3.975075,-3.9651775,-3.9276984,-3.9299486,-2.6959696,-2.293279,-4.199404,-4.0485287,-4.036831,-4.0455747,-1.053425,-4.1443152,-2.3691037,-2.2337115,-3.04342,-1.5969948,-4.0143414,-4.0310984,-3.9676306,-3.990358,-3.9079564,-2.4463358,-4.105456,-3.8536031,-3.8554993,-4.1952286,-3.9826496,-4.2673883,-2.7121954,-1.6728219,-4.000854,-2.313206,-4.1191874,-4.01161,-2.9117606,-3.9725797,-2.6069095,-2.7513459,-3.9531143,-3.9955747,-4.0397263,-4.229811,-3.970098,-3.9852042,-2.114825,-2.6520655,-2.561254,-4.06055,-1.5854131,-3.9555004,-2.3877287,-2.6124125,-4.0170894,-4.133368,-1.7964085,-4.238905,-4.098749,-4.2673883,-1.9884257,-2.9014988,-4.0485287,-4.0455747,-4.1369863,-3.9322104,-2.6855652,-4.1157136,-3.9627376,-4.0088964,-4.0088964,-2.5070612,-2.605304,-2.7578237,-1.6470228,-1.5458429,-3.9322104,-2.0336487,-1.8905387,-3.9299486,-4.229811,-2.4953773,-4.0888796,-2.297045,-4.0729136,-3.905817,-4.0888796,-0.800091,-2.4537325,-4.105456,-4.0339556,-2.7832947,-2.9471266,-3.9801102,-4.1020894,-2.5420895,-4.0254407,-1.488243,-2.3543506,-3.0104308,-4.1443152,-4.0697894,-4.098749,-1.1724807,-4.1191874,-0.99932855,-3.90157,-4.360004,-4.0339556,-4.000854,-2.6810906,-2.6942618,-1.5323606,-4.7908773,-0.7427521,-4.0544977,-4.6891403,-1.1517459,-4.1406355,-4.0760603,-4.0170894,-1.7056679,-1.2696782,-4.0282607,-1.3227124,-4.199404,-4.178918,-4.1555457,-2.4955432,-2.3774936,-4.1262197,-4.2874703,-2.4926493,-4.022639,-3.990358,-3.92546,-3.9982064,-2.6118698,-3.990358,-3.0161703,-4.57575,-4.07923,-4.1088486,-4.0666876,-2.5544546,-3.990358,-3.857404,-3.09269,-4.824933,-1.2387791,-2.7588873,-3.9210174,-4.0088964,-4.2036195,-0.5486631,-3.0641186,-4.1369863,-4.1262197,-4.1952286,-4.06055,-1.1513814,-1.9109536,-2.6856937,-3.093347,-3.92546,-2.9797716,-2.4182262,-1.7459763,-2.9587815,-3.9555004,-2.5624137,-3.9982064,-2.328973,-2.2829359,-2.610895,-3.970098,-3.857404,-3.350789,-3.960312,-2.7027347,-4.1020894,-2.6492195,-3.9322104,-1.5379869,-4.06055,-4.0339556,-4.0954347,-3.9955747,-4.0697894,-4.494111,-4.105456,-2.585876,-2.4128437,-4.229811,-1.1640266,-4.510973,-2.959505,-3.975075,-4.1829386,-3.905817,-3.107713,-3.9144378,-1.0625278,-3.918813,-2.2522156,-4.0426407,-4.105456,-0.53874743,-3.910106,-4.348026,-4.1226892,-2.5015585,-3.948381,-4.1631975,-4.0888796,-4.006199,-2.5436623,-3.3176084,-3.9955747,-4.0254407,-2.6916475,-2.9513717,-0.7744032,-2.3662608,-4.159355,-4.0824227,-4.2078767,-2.6467447,-2.5834312,-3.9826496,-4.085639,-4.1631975,-4.06055,-4.303166,-4.085639,-1.9947958,-2.7965305,-3.2314625,-2.6963646,-2.9782562,-4.085639,-4.2078767,-2.295786,-3.9826496,-4.063608,-1.5459081,-4.0697894,-0.8886447,-4.0954347,-2.936463,-4.0824227,-4.0088964,-2.8756614,-4.1443152,-4.085639,-3.92546,-0.9945356,-4.0824227,-4.0954347,-3.8829563,-3.910106,-4.1262197,-4.1555457,-3.4872708,-2.5669866,-4.2673883,-3.9531143,-4.07923,-3.3591928,-2.8276505,-0.8566099,-3.9955747,-2.689697,-3.9877737,-3.0788047,-2.3796487,-4.022639,-4.2253346,-1.2684617,-4.0282607,-3.9436991,-4.1226892,-1.6745223,-2.2577946,-3.975075,-0.6650751,-1.7479748,-2.444119,-1.7375665,-1.6654718,-4.0921445,-2.454562,-2.145436,-4.336369,-4.006199,-3.9982064,-3.9627376,-4.4115224,-4.238905,-4.1829386,-2.20448,-1.445194,-4.0666876,-4.537561,-0.7441146,-4.1709867,-4.1555457,-4.0954347,-1.1255629,-4.105456,-3.9210174,-4.1670747,-4.0729136,-1.3508562,-4.06055,-4.2253346,-2.370719,-4.0954347,-3.975075,-2.470713,-3.9982064,-3.9725797,-4.057513,-2.3316953,-3.8973641,-4.0088964,-2.6256423,-3.8314705,-4.1191874,-3.0493188,-4.006199,-4.098749,-3.9322104,-2.810182,-3.9929588,-3.661122,-4.133368,-2.925608,-4.199404,-4.1910934,-4.1191874,-2.2826817,-2.436159,-1.7382188,-4.1088486,-1.8428807,-0.64851606,-2.6231863,-3.9210174,-4.159355,-2.470713,-2.3322074,-4.1226892,-4.159355,-3.9676306,-4.1157136,-4.1369863,-4.325017,-3.9555004,-4.0310984,-2.5856717,-1.6089153,-3.9276984,-4.0824227,-4.0143414,-2.6739006,-1.5692874,-3.9531143,-4.1910934,-2.0169322,-2.181418,-2.9475963,-2.9563773,-3.7952607,-2.103981,-2.2922387,-1.1667304,-4.0143414,-4.1191874,-4.1829386,-3.9531143,-4.1910934,-4.0088964,-1.9247749,-4.0485287,-4.1443152,-1.786131,-3.9210174,-4.105456,-2.1254156,-1.708165,-4.0729136,-1.5023977,-2.2742765,-3.9531143,-4.003518,-1.9826568,-3.9436991,-1.4805127,-3.8729498,-4.313954,-4.2926397,-4.0921445,-4.0515027,-3.92546,-2.7852302,-2.5615437,-2.318196,-3.8670547,-3.9982064,-1.9381301,-4.1088486,-2.7617877,-3.4106092,-4.212176,-2.2483478,-4.1910934,-3.946034,-2.6593838,-4.418414,-3.910106,-4.0254407,-3.9982064,-4.0760603,-4.2874703,-2.5200326,-4.252913,-4.2625093,-4.1157136,-3.9436991,-4.199404,-4.272322,-2.5602899,-4.1191874,-4.0426407,-2.8625236,-3.9955747,-4.085639,-2.9227142,-2.2222414,-2.7681131,-3.8973641,-0.8904864,-4.0666876,-2.7821696,-4.000854,-4.257684,-4.2978706,-3.923233,-4.0515027,-1.7036,-3.8973641,-4.5467978,-4.0198555,-2.6548104,-4.6639705,-2.139329,-1.7253828,-2.5983102,-2.3060682,-3.905817,-1.3276387,-2.383734,-3.2721548,-3.9826496,-4.036831,-2.8956227,-0.7912552,-1.4636068,-3.9852042,-4.1406355,-3.9826496,-4.0921445,-4.0954347,-4.098749,-4.0143414,-1.759156,-4.01161,-2.7238271,-4.0697894,-3.9651775,-3.869011,-2.162399,-2.4335616,-2.273629,-2.716866,-4.0310984,-3.9555004,-2.917203,-3.6183531,-3.9436991,-2.284158,-2.2529743,-0.56203866,-4.0339556,-4.098749,-4.1020894,-4.01161,-4.4622326,-4.0339556,-3.9725797,-3.8729498,-4.0824227,-4.022639,-4.0426407,-4.1443152,-2.167281,-3.0367339,-4.105456,-3.9627376,-4.105456,-3.957899,-3.960312,-4.3421583,-4.000854,-3.9627376,-3.957899,-4.556236,-2.6283371,-4.2481933,-4.1749344,-3.899462,-1.9009637,-4.06055,-2.74896,-4.0455747,-4.0310984,-4.022639,-4.057513,-4.418414,-4.1191874,-3.9276984,-4.0426407,-2.1654923,-4.1555457,-4.1555457,-4.0254407,-4.1443152,-2.8449225,-3.9651775,-2.6775439,-2.3188584,-2.1058037,-3.948381,-3.950741,-2.5887456,-3.946034,-3.923233,-0.90137047,-2.4259322,-1.4068341,-3.9531143,-4.063608,-4.0697894,-4.372322,-3.427301,-1.0537639,-1.0844482,-4.07923,-3.204749,-4.3849998,-4.0515027,-2.227267,-3.9651775,-3.975075,-4.1555457,-4.1369863,-2.5838377,-4.1020894,-4.036831,-3.8670547,-4.0824227,-2.5413513,-2.3766725,-4.0143414,-1.9929662,-4.1122675,-3.975075,-4.1443152,-4.1952286,-4.000854,-4.1191874,-4.0254407,-2.3287468,-1.831188,-2.814138,-4.2673883,-4.1020894,-3.9210174,-4.1869965,-2.0374172,-4.0824227,-4.0426407,-3.2546546,-0.7888018,-3.9122665,-2.704342,-3.9651775,-1.478793,-4.063608,-3.9299486,-2.7978597,-2.4876506,-4.1020894,-4.0921445,-2.3930035,-1.9942199,-3.905817,-3.9775853,-1.2297103,-3.2305603,-4.1088486,-1.3441827,-3.9036882,-2.693345,-4.01161,-4.0143414,-2.5569322,-3.485646,-3.9531143,-4.1191874,-3.8789258,-4.0310984,-3.9801102,-2.111557,-2.5616403,-2.610138,-2.6840258,-1.8002237,-3.957899,-2.4514027,-2.3461566,-3.859317,-2.9775004,-4.1709867,-4.1829386,-3.4154117,-1.7686833,-2.8826854,-1.0099947,-4.022639,-2.8804655,-4.1406355,-4.159355,-4.0254407,-2.7134268,-3.9877737,-3.9651775,-2.6871102,-2.5305161,-4.1406355,-4.0455747,-4.0485287,-4.0824227,-3.9676306,-4.057513,-4.085639,-4.313954,-4.0426407,-4.0544977,-4.0697894,-2.0604978,-4.0170894,-4.022639,-0.76504415,-3.960312,-1.8352319,-1.5293188,-2.4165628,-4.006199,-4.199404,-4.0921445,-0.9019728,-4.1191874,-4.360004,-3.9676306,-4.1749344,-2.7563086,-4.0921445,-2.791581,-2.2338023,-4.3849998,-4.216518,-2.826049,-2.1282196,-3.905817,-3.946034,-3.3555713,-2.5789847,-2.875462,-3.1162894,-2.282885,-4.2978706,-1.9210238,-4.336369,-3.9877737,-3.948381,-2.2342112,-4.098749,-2.2508438,-4.199404,-1.1104128,-4.2978706,-3.9144378,-3.9210174,-2.3206296,-3.2405913,-4.0170894,-3.5390832,-3.9955747,-4.057513,-3.8612385,-2.0589468,-2.6437,-3.9775853,-3.975075,-3.6386342,-1.0488269,-1.6694407,-4.0888796,-3.91662,-2.4756777,-4.0666876,-4.0729136,-4.0921445,-4.199404,-2.1934576,-1.2385128,-3.9725797,-2.565132,-2.0249152,-3.043713,-3.9955747,-3.960312,-2.8665988,-2.835928,-3.9826496,-3.9982064,-1.2439916,-1.2153959,-3.2064512,-4.057513,-4.0954347,-4.0088964,-4.1122675,-1.0590489,-4.1191874,-3.957899,-2.0450242,-2.794709,-4.0729136,-0.93572235,-3.91662,-3.990358,-4.0254407,-4.0697894,-3.9801102,-4.022639,-2.7200541,-3.9651775,-4.085639,-1.8842393,-4.0954347,-4.1088486,-1.0680082,-0.65007645,-3.9367692,-3.9852042,-3.90157,-4.1020894,-2.432843,-3.9531143,-3.9775853,-2.3486342,-2.5219681,-4.07923,-2.0556803,-4.1297793,-2.66769,-4.0170894,-4.2078767,-1.6121916,-4.1709867,-2.309082,-2.478301,-2.6435833,-4.01161,-2.9328144,-2.7579753,-1.5461038,-3.9276984,-4.0515027,-3.970098,-2.7462916,-4.063608,-3.8554993,-2.365768,-2.9222708,-4.057513,-4.216518,-4.212176,-2.4852943,-1.9427521,-2.8165636,-4.133368,-4.243524,-4.105456,-3.9852042,-3.9627376,-4.1262197,-4.0824227,-3.9801102,-2.507573,-4.1517696,-4.0310984,-1.087414,-3.90157,-4.252913,-1.6079148,-1.9156429,-4.0515027,-4.0088964,-2.4821455,-3.9436991,-2.6540928,-4.0515027,-4.006199,-4.1262197,-2.7528439,-2.5119448,-4.0760603,-3.9982064,-4.2078767,-2.9700148,-2.8388445,-4.003518,-0.88419193,-1.9124243,-2.7408574,-2.8375661,-3.9801102,-4.0760603,-3.9531143,-2.671157,-4.1369863,-3.315959,-4.0544977,-1.7941091,-3.9929588,-4.1157136,-3.9367692,-3.950741,-4.252913,-3.8849852,-3.9982064,-1.6428797,-4.1088486,-4.1517696,-1.8481929,-1.4062798,-4.0544977,-4.1709867,-2.6469798,-4.1517696,-2.7792897,-1.4497768,-3.9555004,-3.8243363,-3.0592303,-4.216518,-1.314367,-2.4686804,-1.7555779,-4.01161,-4.085639,-4.0760603,-4.07923,-3.9036882,-2.2042253,-4.0455747,-4.2926397,-4.1226892,-1.8884423,-1.3530319,-2.6151357,-2.3826451,-4.0310984,-4.199404,-2.6570911,-2.4877322,-3.9775853,-2.92427,-4.003518,-2.626763,-4.057513,-2.938299,-4.0198555,-3.0829558,-4.2673883,-3.9322104,-4.0310984,-2.6485112,-4.212176,-1.8321954,-1.7681699,-0.8964329,-2.6058385,-4.085639,-4.105456,-1.949826,-3.948381,-3.9144378,-4.159355,-3.899462,-3.9929588,-1.7728109,-4.0170894,-4.0310984,-4.1406355,-4.1517696,-4.0485287,-3.9955747,-4.2253346,-4.325017,-2.5975752,-4.0310984,-2.8544865,-3.9344838,-4.085639,-3.1332464,-3.8809364,-2.6576934,-1.3316137,-4.0088964,-3.8973641,-3.9651775,-4.282362,-4.1749344,-3.8350816,-4.0254407,-2.4355805,-4.159355,-4.0254407,-3.9036882,-4.257684,-3.0852077,-3.9982064,-2.2540197,-2.8169115,-2.3740304,-2.409496,-1.6217713,-4.0697894,-3.960312,-3.8809364,-2.418365,-3.9982064,-4.0254407,-4.0544977,-4.1226892,-3.8809364,-3.9344838,-3.9929588,-2.5240896,-2.0927448,-1.8114794,-3.6913006,-2.8902369,-2.565132,-4.2926397,-4.0397263,-1.8896333,-2.063218,-3.948381,-3.1823986,-4.0921445,-2.9962738,-4.212176,-1.8472221,-4.1020894,-4.2078767,-4.057513,-2.3919566,-4.0455747,-3.9852042,-2.572498,-1.8566276,-4.085639,-2.563965,-4.0170894,-4.1631975,-3.9982064,-4.4325347,-4.0088964,-2.803724,-3.9436991,-4.105456,-4.01161,-4.006199,-2.3404305,-4.07923,-3.8749323,-1.6675256,-1.3961115,-4.1406355,-4.006199,-3.923233,-4.0170894,-2.5154917,-3.9322104,-4.1709867,-2.628788,-4.2343345,-4.0426407,-4.105456,-2.5381365,-4.0515027,-4.000854,-4.2036195,-4.133368,-3.9982064,-3.9627376,-3.3035192,-4.06055,-3.9955747,-2.3424084,-2.4900198,-2.3427584,-3.975075,-4.1020894,-4.098749,-4.0760603,-1.6876477,-3.970098,-4.0666876,-4.651912,-4.1517696,-2.4366658,-4.1749344,-4.057513,-4.1910934,-3.9651775,-1.3701136,-4.313954,-3.0750074,-1.7219877,-1.4672529,-3.9390671,-1.7919694,-4.1020894,-4.0824227,-2.6766615,-4.8618884,-1.7947199,-4.0310984,-3.9929588,-4.1555457,-3.2328198,-3.3170578,-1.089624,-3.9955747,-3.8332722,-2.7866876,-4.0426407,-3.990358,-4.0254407,-3.1921904,-4.1122675,-2.6445177,-4.0143414,-3.9122665,-2.2984128,-1.0962727,-3.957899,-4.0954347,-2.2275803,-4.1952286,-2.4749649,-4.3539734,-3.8460996,-1.810142,-4.159355,-3.8387234,-1.650577,-4.1369863,-1.9298197,-3.1176775,-1.5746297,-1.5489749,-1.8714149,-4.0310984,-4.057513,-4.0760603,-1.6034139,-2.8824832,-3.199682,-4.0954347,-2.1097786,-2.175541,-2.9200602,-1.2219526,-4.2481933,-4.1369863,-0.73038006,-3.419571,-3.9775853,-1.6273884,-3.9122665,-4.1555457,-1.9439853,-2.3931346,-4.07923,-2.5591357,-1.71174,-2.0827205,-2.472283,-3.798582,-4.0088964,-2.4621012,-2.6247475,-4.098749,-4.0666876,-3.9322104,-2.7588873,-3.9775853,-4.0921445,-4.3539734,-1.172824,-4.1406355,-3.9276984,-2.5278268,-3.1732175,-2.4584296,-4.01161,-4.105456,-4.01161,-2.513931,-3.9826496,-3.9322104,-4.1480265,-4.057513,-3.9725797,-0.60740745,-4.0888796,-2.3755383,-2.4636405,-3.90157,-1.8917972,-2.8005307,-4.098749,-2.5306962,-4.1369863,-4.0954347,-3.9651775,-2.712332,-4.006199,-4.0254407,-4.0954347,-4.0088964,-4.2036195,-4.257684,-3.2756412,-3.9929588,-1.7175524,-1.7492527,-2.5566456,-4.0544977,-3.9801102,-3.2811768,-2.7810476,-4.1122675,-2.897503,-3.9390671,-3.4045117,-2.3252013,-1.6242748,-2.908313,-2.682875,-2.7770631,-2.3832211,-3.9852042,-4.1517696,-4.000854,-2.257459,-3.960312,-3.6635582,-4.2926397,-2.5590396,-3.9436991,-4.0310984,-1.1250925,-1.0875632,-2.6034918,-1.5348601,-3.9826496,-2.2599597,-2.588129,-4.0254407,-4.063608,-2.4923196,-0.89232165,-2.5592318,-2.824808,-4.0954347,-4.085639,-3.9775853,-2.4968727,-4.1517696,-4.0760603,-1.8492031,-2.1714306,-1.1794528,-2.4248028,-4.0426407,-1.4543104,-2.1686466,-3.9801102,-4.0921445,-1.1255949,-4.085639,-4.105456,-2.7682686,-3.990358,-2.9012876,-3.9775853,-1.4088749,-1.806205,-3.9725797,-0.5950652,-4.098749,-4.0666876,-4.1262197,-4.1910934,-3.9775853,-3.8973641,-4.022639,-3.0718684,-4.036831,-4.0485287,-3.9122665,-2.6523035,-4.2036195,-2.4769475,-3.941377,-3.905817,-3.9955747,-3.9955747,-3.970098,-3.990358,-3.9555004,-3.990358,-3.9627376,-4.1670747,-3.9276984,-2.8488352,-4.178918,-3.9877737,-4.1406355,-1.9535971,-4.243524,-3.9299486,-4.1226892,-4.454615,-4.022639,-2.8162165,-4.1226892,-4.0254407,-1.8216437,-2.8621376,-4.1226892,-2.926055,-4.0485287,-3.9955747,-1.6355342,-3.9436991,-4.1952286,-2.4491599,-2.1876206,-4.0921445,-2.4751232,-3.9929588,-4.0455747,-3.8789258,-3.8973641,-0.5701621,-2.1858683,-1.0219291,-3.1716406,-4.0254407,-1.4824324,-4.063608,-0.78716034,-3.9651775,-3.970098,-1.7053046,-2.7433457,-2.6511147,-3.990358,-3.9122665,-4.133368,-2.8074512,-4.0544977,-4.0666876,-4.1517696,-0.7491985,-3.9852042,-1.0501697,-3.9144378,-2.1061082,-1.6737587,-3.9322104,-3.990358,-4.1191874,-3.8769245,-2.5354905,-2.044378,-2.4287686,-3.038179,-4.003518,-2.8427024,-3.92546,-4.1191874,-2.5831268,-2.5635767,-3.9651775,-4.1555457,-4.282362,-3.9531143,-2.689308,-3.9826496,-3.9436991,-4.0729136,-4.0397263,-2.1391828,-4.1191874,-4.085639,-4.003518,-2.9403737,-4.0426407,-3.9367692,-2.7797685,-2.6699157,-3.948381,-3.92546,-4.0310984,-3.9144378,-3.3597994,-4.063608,-4.1157136,-3.9210174,-4.1631975,-2.3852758,-1.2449876,-2.729051,-3.9276984,-4.1406355,-2.8935432,-4.676373,-4.1709867,-3.4209661,-1.5579048,-1.9483408,-2.7147992,-4.0198555,-4.1709867,-4.0426407,-4.1406355,-4.0485287,-4.0455747,-1.8046641,-2.1147559,-2.1692333,-2.242842,-2.1725333,-2.5862849,-3.9955747,-3.0318577,-4.0824227,-2.550482,-2.259285,-1.224612,-2.6451025,-2.1102908,-3.0079942,-2.661324,-1.7444432,-2.327731,-3.5211167,-4.000854,-4.2978706,-4.0921445,-4.1020894,-2.2592366,-4.01161,-3.9210174,-2.5838377,-4.0697894,-2.55952,-4.0088964,-4.01161,-2.1958642,-2.4945488,-1.7972885,-3.857404,-4.178918,-4.1517696,-4.0339556,-2.4774246,-4.0954347,-1.2955956,-4.0954347,-2.1255925,-2.683386,-3.9955747,-2.071858,-2.7362118,-2.1205251,-4.0198555,-3.8517148,-2.0910087,-3.9775853,-3.946034,-4.1406355,-0.9995801,-3.1375911,-2.4962075,-4.1952286,-2.2272224,-3.9210174,-4.085639,-1.9879355,-4.036831,-3.840556,-4.2253346,-1.411889,-4.098749,-3.899462,-2.3242495,-4.1020894,-1.7882421,-4.159355,-4.2343345,-4.1829386,-4.1443152,-4.1829386,-2.342525,-2.7871745,-4.330656,-3.9344838,-4.063608,-2.252121,-2.993915,-3.8809364,-4.0426407,-1.7838851,-1.6874411,-3.9852042,-0.88911265,-2.3014798,-4.000854,-4.0310984,-3.9725797,-4.1910934,-4.06055,-2.2385511,-3.9555004,-3.9367692,-0.7401476,-3.8870242,-3.2346358,-4.0254407,-3.9877737,-4.1369863,-3.8911307,-2.9450195,-3.0522985,-4.0339556,-2.7824907,-3.9676306,-4.0824227,-2.9655845,-4.1020894,-4.0282607,-4.212176,-2.894166,-4.1829386,-1.6159412,-4.1157136,-4.0729136,-3.9801102,-2.0673773,-3.857404,-1.5684526,-1.0124291,-3.0709312,-4.006199,-4.1517696,-3.9725797,-3.9322104,-3.9367692,-2.4957924,-4.0426407,-3.948381,-4.4471297,-2.8184793,-2.5266664,-4.0339556,-1.7598417,-1.9724624,-2.6691725,-3.6374822,-2.4767888,-1.8538736,-3.167333,-4.1122675,-4.003518,-2.6774178,-4.2874703,-0.679727,-2.9366922,-4.1910934,-3.0050342,-1.3939458,-2.203886,-3.957899,-3.918813,-2.9464233,-4.0143414,-2.2638838,-3.91662,-3.9852042,-2.6726513,-3.9775853,-4.1406355,-2.6466272,-4.0921445,-4.0824227,-3.0454755,-1.8952405,-3.012063,-3.9367692,-2.5247986,-3.9775853,-3.9852042,-2.231854,-0.9047355,-2.6183162,-3.9982064,-4.0143414,-4.0198555,-3.957899,-2.0898662,-4.0310984,-4.057513,-4.2673883,-2.519945,-4.003518,-4.063608,-1.8578678,-4.1297793,-4.1517696,-0.49457055,-4.0397263,-3.9144378,-3.960312,-4.1910934,-4.2343345,-2.7961986,-4.0729136,-3.8890724,-3.869011,-1.0311543,-1.7626563,-3.9436991,-4.277313,-4.1749344,-4.0888796,-2.8537285,-2.8931286,-2.0463495,-4.1829386,-2.8956227,-3.9877737,-4.0339556,-1.4317143,-4.2673883,-2.5834312,-1.1432986,-0.6009391,-1.8443972,-4.105456,-3.946034,-4.0143414,-1.858365,-4.0888796,-3.0568068,-2.9967997,-4.0824227,-4.159355,-0.6805024,-1.2500966,-4.220904,-2.40902,-4.003518,-3.923233,-4.272322,-3.948381,-2.5328608,-2.5631888,-3.941377,-2.6959696,-3.941377,-1.8481182,-4.1088486,-2.58854,-4.0088964,-4.178918,-3.8952763,-2.46993,-2.542644,-4.336369,-1.5733773,-4.2078767,-2.129218,-4.0824227,-1.8064089,-3.1159432,-3.9367692,-4.0397263,-1.1023161,-4.006199,-2.140976,-2.8760595,-1.752224,-2.6430004,-4.098749,-2.9262786,-2.7473273,-1.9315143,-4.0282607,-2.4637175,-3.910106,-3.9826496,-4.1709867,-1.7696959,-4.0954347,-2.8993912,-4.1555457,-4.085639,-3.9801102,-3.923233,-3.9929588,-4.1555457,-3.8911307,-3.9627376,-4.0824227,-4.0339556,-3.970098,-2.55379,-3.9852042,-1.3789037,-3.9929588,-3.089747,-1.99996,-3.0364456,-4.0729136,-4.1480265,-4.057513,-4.3421583,-4.39148,-4.1670747,-2.5985205,-3.9531143,-4.0426407,-3.9344838,-4.0666876,-2.7339075,-4.085639,-2.046025,-4.2036195,-1.3486736,-2.2823262,-2.143403,-4.0143414,-4.022639,-2.7823303,-3.2893565,-4.0729136,-3.9877737,-3.9436991,-3.1159432,-2.7102866,-2.6689253,-4.3421583,-4.0198555,-4.1829386,-2.498624,-3.9390671,-3.9877737,-4.2036195,-3.1930165,-2.4071205,-3.9367692,-4.057513,-4.252913,-2.977249,-3.9122665,-2.5121174,-4.257684,-4.1749344,-3.90157,-4.0729136,-4.036831,-1.8555429,-4.1869965,-2.878858,-4.0729136,-4.1088486,-4.4254174,-3.0765858,-4.0697894,-4.0697894,-4.0666876,-3.8952763,-2.0205576,-2.043967,-1.7925773,-4.0515027,-1.457704,-4.0544977,-1.8047655,-4.006199,-4.0729136,-2.3575392,-4.0339556,-4.216518,-3.90157,-4.0824227,-4.0254407,-4.0455747,-4.2036195,-2.5325894,-2.9247155,-4.3661194,-3.8631685,-2.7434926,-2.0624523,-3.9436991,-4.000854,-2.6037047,-4.220904,-2.6398659,-2.0192535,-3.2238512,-2.1837184,-3.052897,-4.036831,-4.3085265,-4.01161,-3.9775853,-2.7693582,-1.5013622,-1.2769146,-1.1519151,-2.8207538,-4.105456,-4.0339556,-4.06055,-4.003518,-2.5246212,-4.036831,-4.0921445,-3.8849852,-4.1122675,-4.1191874,-3.9929588,-1.9488117,-4.0921445,-3.8952763,-3.9322104,-4.238905,-4.0143414,-4.0282607,-4.0485287,-3.869011,-2.5852635,-4.003518,-4.0824227,-3.4921825,-1.3895102,-3.9651775,-4.0921445,-3.946034,-4.1297793,-2.468057,-4.0088964,-4.0088964,-3.9826496,-3.960312,-2.6699157,-3.91662,-4.212176,-3.92546,-3.9555004,-3.7126515,-2.6451025,-2.9757423,-3.3333106,-2.138052,-4.1369863,-4.0143414,-1.5352055,-2.600101,-2.5621235,-4.1122675,-4.1709867,-4.0954347,-4.1749344,-4.0921445,-4.2078767,-1.4609555,-4.0339556,-2.4534311,-2.3857267,-3.990358,-4.0954347,-3.9877737,-4.000854,-2.3756013,-4.133368,-2.3052108,-4.1670747,-2.4394276,-3.8849852,-2.795205,-3.9775853,-2.6488652,-3.946034,-3.025065,-4.105456,-4.4397707,-4.2481933,-4.0824227,-4.01161,-4.0729136,-2.4580488,-4.0824227,-1.8628457,-2.463486,-2.637904,-3.9436991,-1.4925804,-2.5691433,-4.0921445,-4.07923,-4.1406355,-4.0254407,-1.6973493,-4.01161,-4.220904,-4.0697894,-4.243524,-3.9877737,-1.2931211,-3.9036882,-0.6867353,-3.3304646,-4.1191874,-4.0515027,-2.6445177,-1.8455472,-1.909466,-3.9627376,-0.5769597,-2.7656338,-4.0697894,-4.057513,-2.2413607,-3.8911307,-3.941377,-2.373216,-4.105456,-4.098749,-3.957899,-4.0282607,-4.1555457,-4.0888796,-4.0282607,-4.105456,-3.9555004,-3.923233,-2.366877,-2.2734296,-4.0426407,-2.1457326,-3.9801102,-2.2708008,-4.277313,-3.9775853,-3.91662,-2.8681614,-4.2625093,-1.8550681,-4.1262197,-2.0548072,-3.4521031,-3.9877737,-4.0954347,-3.9436991,-2.6561294,-3.3597994,-3.9390671,-4.199404,-2.381559,-3.0396285,-2.147181,-1.7889425,-4.2253346,-3.950741,-2.6382494,-3.9826496,-2.6581757,-3.9036882,-3.910106,-3.9725797,-1.3422898,-1.2113236,-1.6011013,-3.9775853,-3.8890724,-2.4515526,-3.9555004,-2.2879994,-3.950741,-2.5828223,-4.07923,-3.9367692,-0.9343415,-1.4164221,-4.1369863,-1.628694,-4.1122675,-4.2343345,-2.2911491,-4.1443152,-2.5451481,-1.8996363,-4.063608,-3.8053021,-4.257684,-4.220904,-3.427301,-4.098749,-4.133368,-4.0455747,-3.9982064,-4.0485287,-3.975075,-2.161437,-4.1226892,-4.1749344,-4.0666876,-3.970098,-4.085639,-4.01161,-4.360004,-3.9877737,-1.813614,-1.5899469,-2.5109982,-4.1869965,-2.3994722,-3.92546,-4.1555457,-3.990358,-3.093347,-2.5159266,-4.105456,-4.0143414,-3.9852042,-2.4028103,-4.0515027,-4.519656,-3.9877737,-4.2078767,-4.0666876,-3.9929588,-2.2355769,-2.9641175,-2.9759932,-4.063608,-1.2379025,-0.59657854,-3.9367692,-3.9276984,-3.9322104,-2.7111037,-4.0666876,-4.057513,-2.2082741,-4.0697894,-4.1157136,-4.07923,-4.1191874,-3.9436991,-3.9725797,-4.0339556,-4.1088486,-2.2000878,-4.1088486,-4.1631975,-4.0515027,-3.9436991,-3.9436991,-1.9792826,-2.3523173,-2.54776,-2.739837,-4.3421583,-4.0954347,-2.7367897,-3.9725797,-4.0888796,-2.5955858,-2.583228,-1.672485,-4.1443152,-1.7937791,-3.918813,-4.1369863,-2.4301224,-4.1480265,-4.0729136,-2.7283413,-2.019392,-3.9955747,-4.0198555,-4.085639,-3.8849852,-2.6979485,-4.0339556,-2.2203882,-4.0254407,-2.3894799,-0.8219684,-3.941377,-0.55042654,-3.9982064,-3.9531143,-3.9651775,-3.9367692,-3.1135263,-3.91662,-2.3300486,-3.9801102,-1.6121482,-2.8947897,-1.8238642,-3.975075,-3.0440063,-2.068338,-3.905817,-2.516971,-4.0282607,-4.313954,-3.9079564,-4.1262197,-3.9651775,-2.0138564,-2.2372673,-4.1297793,-3.9276984,-4.1122675,-4.199404,-2.5306962,-1.4523305,-2.2245913,-4.220904,-4.003518,-2.4435298,-4.1869965,-1.5094932,-4.085639,-1.383219,-1.7059776,-2.6046636,-4.01161,-4.212176,-4.1262197,-4.0088964,-0.80686164,-2.3324926,-3.950741,-0.5611085,-4.212176,-3.9390671,-4.1555457,-2.290631,-4.085639,-3.899462,-4.06055,-2.5263994,-3.9826496,-1.978525,-4.1406355,-4.1122675,-3.9775853,-2.586694,-4.220904,-4.0170894,-4.01161,-2.8968751,-3.1289446,-1.7535746,-4.003518,-3.90157,-3.990358,-4.1910934,-2.514364,-4.0282607,-4.1369863,-3.9555004,-4.1369863,-3.9627376,-3.2301097,-1.5617627,-4.0666876,-4.063608,-3.4760218,-3.007724,-4.1709867,-1.5387926,-4.1262197,-1.7688078,-4.1369863,-3.941377,-0.8549573,-1.8046302,-3.8870242,-2.7753215,-2.037504,-1.2983319,-2.2737782,-1.1145201,-4.036831,-4.057513,-3.9929588,-4.1631975,-3.9144378,-3.975075,-3.946034,-2.6513524,-4.1952286,-4.098749,-3.8911307,-2.7624006,-4.0254407,-2.3446887,-3.5390832,-4.0170894,-4.0198555,-4.1480265,-4.0310984,-4.000854,-2.907027,-4.1369863,-1.3140283,-3.45739,-2.5828223,-3.9775853,-1.8564562,-3.9852042,-2.1946592,-0.6839942,-2.202025,-3.8749323,-4.1480265,-2.071639,-2.4682906,-4.0397263,-4.0310984,-0.90787166,-4.1443152,-4.0282607,-4.1369863,-4.212176,-3.9725797,-4.1369863,-2.2305,-4.0544977,-4.0515027,-2.9236026,-2.585876,-3.9725797,-3.970098,-3.941377,-2.573093,-2.238459,-4.0397263,-1.3574585,-2.334721,-4.2978706,-3.0813546,-4.036831,-4.1157136,-3.9725797,-4.022639,-3.1622965,-2.9424582,-2.2302747,-3.9982064,-4.006199,-2.431767,-4.0282607,-2.0575523,-4.085639,-3.3209257,-2.287331,-3.9390671,-2.1422982,-4.2874703,-4.1088486,-3.9826496,-3.9852042,-3.950741,-4.1369863,-3.923233,-2.5665953,-3.9801102,-4.01161,-4.0282607,-2.1863158,-4.220904,-3.9775853,-4.0198555,-3.9651775,-4.1406355,-4.0515027,-4.2253346,-3.9725797,-2.3886359,-4.006199,-4.3786144,-4.098749,-4.0455747,-3.990358,-3.3276372,-4.1406355,-3.9852042,-3.3333106,-3.9210174,-4.000854,-2.412638,-4.0544977,-4.1709867,-3.9877737,-1.5354419,-1.7208711,-4.0254407,-2.4155266,-2.617986,-4.282362,-4.1555457,-2.7474756,-1.6860495,-4.0254407,-2.8155224,-4.1869965,-1.8865603,-0.7896142,-4.178918,-3.156177,-2.4490108,-2.3965561,-4.057513,-0.48816028,-2.5536003,-4.1517696,-2.3698485,-3.9210174,-1.4770563,-4.282362,-2.3273365,-4.1297793,-3.90157,-4.0143414,-4.1226892,-2.0559213,-4.01161,-3.9122665,-3.9826496,-0.82630366,-1.9457363,-2.3696623,-2.5021477,-4.4397707,-2.3259306,-3.9929588,-3.923233,-4.3539734,-2.6631508,-2.4240985,-3.8911307,-3.9725797,-3.8749323,-3.9531143,-4.0666876,-2.7399826,-1.1320386,-3.9555004,-4.1191874,-4.178918,-2.9599886,-3.0580168,-0.91822106,-4.1226892,-4.000854,-4.4254174,-4.1406355,-2.6016874,-4.238905,-4.2253346,-1.7984536,-3.9676306,-3.946034,-4.1122675,-3.957899,-4.06055,-2.9328144,-4.282362,-4.0697894,-1.6530619,-4.0515027,-2.5265775,-4.0666876,-3.92546,-2.2416844,-4.1020894,-3.946034,-4.1480265,-2.3529742,-4.1088486,-4.0666876,-4.1020894,-4.0954347,-2.4891195,-1.5486372,-4.0198555,-2.9330416,-4.0729136,-2.8558154,-2.968533,-4.1262197,-2.667197,-4.4325347,-4.1088486,-3.946034,-4.229811,-4.1297793,-2.353991,-4.0310984,-4.1952286,-4.159355,-1.511761,-3.9036882,-4.2978706,-4.1191874,-2.432771,-1.309145,-2.7581272,-2.758583,-2.3196876,-1.3772831,-2.8804655,-3.8809364,-4.0254407,-2.4406688,-4.2343345,-3.950741,-2.4603379,-4.057513,-3.9036882,-2.5879238,-1.5783182,-4.3085265,-2.4151127,-4.006199,-3.9367692,-4.252913,-3.8749323,-4.0397263,-4.098749,-3.960312,-2.979266,-4.000854,-3.0884452,-1.3923336,-4.1869965,-3.960312,-4.0824227,-4.1869965,-4.0397263,-1.2426827,-4.1297793,-4.0760603,-3.5038643,-4.1262197,-2.2534966,-3.960312,-2.4722042,-3.8651073,-2.6654758,-2.7085218,-3.869011,-4.0666876,-4.2078767,-4.0515027,-3.950741,-4.0455747,-2.466347,-4.510973,-3.9676306,-2.2852302,-4.022639,-1.6968743,-3.9725797,-4.1088486,-4.0455747,-1.9271891,-1.707962,-2.385598,-3.9344838,-4.036831,-2.402676,-4.0544977,-3.990358,-4.0544977,-4.0088964,-2.776112,-4.1088486,-1.4606874,-4.1297793,-3.515,-3.1289446,-1.408094,-1.3687049,-2.9692733,-2.5109982,-4.1262197,-2.226552,-3.9982064,-4.1297793,-3.5655544,-3.8631685,-4.022639,-4.0515027,-3.92546,-2.0184784,-4.0339556,-2.9734921,-1.9819697,-4.1226892,-2.8255167,-4.1020894,-4.01161,-4.07923,-3.957899,-4.0143414,-0.7492967,-4.212176,-4.2673883,-4.036831,-4.1952286,-2.0345662,-4.06055,-3.957899,-3.9436991,-1.0643808,-2.4210823,-3.9929588,-4.199404,-3.7512467,-0.58733326,-4.220904,-3.91662,-2.6880138,-2.2198162,-2.6209657,-1.9050769,-4.0170894,-3.9801102,-2.8165636,-3.3448842,-2.9851174,-0.67632085,-2.4000711,-4.1749344,-4.1262197,-2.7625542,-4.003518,-2.7588873,-4.2036195,-3.389957,-2.1781697,-1.1521896,-3.9982064,-4.063608,-3.7153957,-4.0198555,-4.1480265,-2.0048108,-4.178918,-1.9985573,-4.277313,-4.0888796,-2.561254,-4.0088964,-4.1226892,-2.479259,-3.3965123,-4.006199,-4.3194504,-3.9210174,-4.565883,-2.3649073,-2.4444878,-2.8251622,-4.003518,-4.229811,-4.2926397,-3.190543,-2.7134268,-2.129111,-4.212176,-2.753745,-4.0921445,-4.0397263,-4.0729136,-4.006199,-4.4325347,-2.5983102,-2.5574102,-2.6827474,-2.3620305,-2.192424,-3.9322104,-4.057513,-4.2343345,-4.057513,-3.9725797,-3.990358,-3.957899,-4.0455747,-0.8988999,-4.1191874,-3.723734,-4.1709867,-1.7961267,-3.9955747,-3.9955747,-2.9592638,-2.8786576,-3.990358,-4.257684,-3.2565646,-4.702295,-4.105456,-4.036831,-4.238905,-3.9676306,-3.29039,-4.398059,-4.0143414,-2.6374435,-3.3886576,-4.1262197,-0.91801697,-3.8973641,-3.9531143,-2.34422,-4.159355,-2.441987,-1.2837586,-4.01161,-1.8519843,-1.4000823,-3.9344838,-4.057513,-4.0824227,-2.695575,-4.000854,-0.8294817,-2.4130495,-1.487029,-4.085639,-1.4098204,-3.8890724,-1.188412,-2.4908397,-3.9436991,-2.2920828,-4.159355,-3.9676306,-4.1869965,-4.212176,-2.9705098,-2.3009496,-3.9276984,-2.865042,-0.6209483,-2.4408882,-4.057513,-4.022639,-4.2343345,-2.5239122,-1.2214093,-4.0824227,-4.133368,-2.4057016,-3.950741,-3.8769245,-3.9775853,-3.3276372,-3.0245037,-4.0310984,-4.085639,-3.8460996,-3.990358,-2.3518999,-4.022639,-2.7378032,-4.1517696,-1.948859,-2.5933979,-2.7775393,-3.9036882,-4.01161,-3.8651073,-2.3684843,-3.90157,-1.69355,-1.8681939,-2.724108,-4.063608,-3.9877737,-4.1517696,-3.946034,-4.133368,-2.5314164,-4.1517696,-4.0888796,-2.0571895,-2.1415262,-3.9775853,-3.9367692,-4.0143414,-4.0143414,-2.5621235,-3.056203,-3.8554993,-3.9826496,-3.857404,-0.86397904,-1.815482,-2.442868,-4.0921445,-3.9436991,-3.9826496,-3.33217,-4.2978706,-4.0254407,-3.9955747,-3.960312,-2.7311869,-2.7988596,-4.000854,-4.098749,-3.9531143,-3.975075,-4.0310984,-2.469539,-4.0515027,-1.6442797,-1.6140732,-4.0170894,-2.4350748,-1.4114854,-1.1303855,-4.0397263,-3.9826496,-3.9929588,-2.6483932,-4.1517696,-1.6200659,-4.1122675,-2.8112106,-2.3294256,-4.1910934,-2.6544514,-4.1226892,-2.86002,-3.859317,-2.784584,-2.1843257,-3.92546,-4.0310984,-2.9401424,-1.8500282,-2.6686778,-0.6274036,-4.277313,-2.6696677,-1.2560735,-4.01161,-0.8179443,-4.1555457,-1.2425158,-4.0485287,-4.036831,-2.4151127,-4.057513,-4.01161,-4.0339556,-2.7531438,-2.9682865,-0.90949774,-4.0697894,-2.5786831,-2.1844473,-4.4699855,-4.0426407,-1.2160974,-0.6794393,-4.133368,-1.6918516,-2.6414883,-4.277313,-3.9627376,-2.9941764,-2.344806,-3.9299486,-4.022639,-4.1631975,-2.7017999,-4.1869965,-3.2837164,-2.7036717,-4.057513,-0.84103066,-3.3702424,-4.0426407,-3.923233,-2.8089852,-4.272322,-4.0282607,-2.0929744,-1.8348513,-3.975075,-4.1480265,-2.8251622,-4.003518,-3.8612385,-4.000854,-4.1297793,-0.73916364,-4.063608,-4.1406355,-4.000854,-2.0373883,-4.0170894,-4.4047384,-4.057513,-1.3044976,-3.412661,-2.3932002,-4.07923,-4.1406355,-3.9210174,-3.9725797,-3.8809364,-4.1631975,-1.3350458,-4.1631975,-4.159355,-3.9982064,-2.8441813,-2.4861865,-2.3955004,-4.178918,-4.1749344,-4.2253346,-1.9826314,-3.9651775,-4.1517696,-0.67351323,-4.0921445,-2.5500114,-4.303166,-3.9344838,-2.4549398,-4.2481933,-4.199404,-2.5350358,-4.0729136,-1.8981662,-4.1297793,-4.0455747,-4.133368,-2.492814,-2.4958751,-1.5397744,-3.9299486,-3.9036882,-2.9182997,-4.01161,-3.9826496,-4.0824227,-4.1226892,-3.990358,-2.2373588,-1.3264455,-2.877057,-2.2634947,-0.8052302,-4.0170894,-4.036831,-3.9531143,-2.340837,-2.3146257,-4.1480265,-3.4330106,-3.0361574,-4.1157136,-3.957899,-3.9775853,-4.1297793,-4.0282607,-4.06055,-4.098749,-2.543848,-4.1631975,-1.9550766,-2.6649854,-1.7088696,-4.3085265,-4.07923,-1.5564418,-3.9651775,-4.229811,-4.0697894,-1.8258834,-4.0888796,-4.2481933,-4.238905,-3.9852042,-1.9050558,-4.0455747,-3.447622,-1.2546513,-4.063608,-1.4846438,-3.829676,-2.6616888,-3.9210174,-2.9316807,-4.098749,-4.303166,-4.0310984,-3.9676306,-3.950741,-4.1406355,-3.8789258,-4.0282607,-4.243524,-4.1262197,-2.2552106,-4.1262197,-4.1157136,-1.083037,-4.220904,-4.0760603,-2.4321253,-1.4140637,-0.83575773,-4.1157136,-4.0339556,-4.085639,-4.178918,-4.178918,-1.207161,-4.1406355,-4.220904,-3.9877737,-1.9837279,-4.1670747,-4.0485287,-3.9531143,-4.1480265,-4.0515027,-4.0760603,-4.0515027,-2.4067824,-2.2737782,-4.1122675,-3.941377,-4.1631975,-4.105456,-1.9798391,-3.9877737,-4.2926397,-2.6253066,-3.3854265,-4.0254407,-2.700867,-2.5269341,-1.68007,-4.01161,-3.9144378,-3.236003,-2.9707575,-3.9929588,-2.7645533,-4.006199,-4.0198555,-4.1020894,-1.9946125,-2.6908662,-4.0666876,-4.003518,-4.1297793,-4.0198555,-2.4985404,-3.3407981,-3.840556,-4.1631975,-2.6359506,-4.0310984,-3.1523955,-4.1443152,-2.3046758,-4.0426407,-1.8476698,-2.704879,-4.1555457,-4.000854,-2.1788495,-3.9210174,-2.4982064,-3.9144378,-3.8789258,-4.1020894,-2.7519443,-4.006199,-2.8679657,-4.0954347,-3.990358,-2.1524959,-3.8973641,-2.0500517,-3.8952763,-3.9955747,-2.8544865,-3.910106,-4.0455747,-3.9344838,-2.3933969,-4.063608,-1.9341714,-4.0544977,-4.0954347,-3.923233,-4.277313,-2.8467813,-1.3533188,-3.960312,-2.2733302,-4.178918,-4.1297793,-3.9676306,-2.3658295,-2.6744013,-2.57349,-2.177571,-1.5348512,-2.5360365,-4.0666876,-0.7392305,-4.4325347,-4.1122675,-4.057513,-3.9344838,-3.9627376,-0.5017673,-4.0170894,-3.9651775,-4.238905,-4.0697894,-2.6056247,-0.6290884,-3.857404,-4.1670747,-2.589672,-2.243863,-4.1157136,-4.0666876,-2.2517893,-4.098749,-0.76514447,-4.0760603,-2.0882394,-4.0824227,-4.1088486,-4.2978706,-4.1869965,-2.0488932,-4.1631975,-4.0954347,-2.2098186,-1.0636036,-4.3421583,-4.0485287,-3.8973641,-4.1020894,-4.252913,-1.6921777,-4.0170894,-4.0198555,-4.1262197,-3.9210174,-3.899462,-2.1593277,-3.957899,-3.8829563,-1.9428219,-3.957899,-1.6267145,-4.1020894,-3.9982064,-1.7918545,-4.1157136,-2.6721528,-2.3765464,-3.948381,-2.9373798,-4.036831,-4.0310984,-2.8108675,-4.1157136,-0.8621149,-4.1670747,-4.0760603,-4.06055,-4.1369863,-3.9627376,-4.0666876,-3.857404,-1.9854934,-4.0544977,-4.640179,-4.1297793,-4.229811,-4.1262197,-4.1369863,-3.946034,-1.358371,-3.970098,-4.07923,-4.0666876,-0.8032339,-1.8537599,-4.0921445,-4.063608,-4.1952286,-4.0485287,-4.0824227,-3.9725797,-2.3823252,-4.003518,-4.1122675,-4.1122675,-2.5518022,-2.17147,-3.9531143,-3.9651775,-3.9852042,-4.336369,-2.2101195,-4.2253346,-3.948381,-2.8826854,-2.385791,-1.7053988,-4.1480265,-3.9276984,-4.0485287,-2.3917603,-4.1297793,-2.3171494,-3.076902,-4.022639,-4.022639,-2.9800246,-3.9775853,-4.0888796,-2.5927744,-2.3122802,-4.0760603,-3.9877737,-3.8849852,-1.9306774,-3.923233,-4.1122675,-4.022639,-2.329086,-4.0310984,-2.0462904,-3.8829563,-4.0697894,-1.4947448,-3.9801102,-4.0888796,-3.990358,-3.9367692,-2.67767,-3.9436991,-1.5129167,-3.0469496,-3.8890724,-4.0426407,-1.6244869,-4.1226892,-4.06055,-1.7664945,-4.0921445,-4.022639,-3.9801102,-4.0088964,-3.9627376,-4.1226892,-3.9676306,-4.0455747,-4.0143414,-2.5280056,-2.4771066,-3.948381,-3.9725797,-3.9555004,-1.4278352,-4.063608,-1.2376276,-3.9651775,-2.9289713,-4.1369863,-2.4162862,-1.9780713,-3.910106,-3.9955747,-0.97292954,-4.06055,-4.000854,-1.6913304,-1.8409652,-3.8423955,-3.8911307,-2.056072,-4.212176,-3.661122,-4.0921445,-3.5255394,-4.022639,-1.416941,-4.0282607,-4.0282607,-4.057513,-2.7765875,-3.8829563,-4.0143414,-3.910106,-4.1369863,-2.2481601,-4.313954,-4.272322,-4.085639,-4.1869965,-2.03658,-4.257684,-4.336369,-4.0397263,-3.9531143,-1.7537999,-1.3167295,-2.564451,-2.6636393,-1.7384509,-4.0888796,-1.9525265,-2.231041,-2.4229035,-2.654571,-0.97749364,-3.9982064,-2.195573,-4.199404,-3.91662,-2.8594444,-2.2241468,-4.006199,-2.6234093,-2.0893774,-0.8973945,-2.097629,-4.0824227,-2.7124686,-4.0760603,-2.560579,-3.9367692,-3.8973641,-3.990358,-4.036831,-2.4452262,-2.388571,-4.0143414,-2.1865194,-4.1122675,-2.2779808,-3.0631979,-2.5897753,-0.6796649,-2.9790132,-1.4951755,-1.9988745,-2.2856393,-4.1869965,-4.0921445,-4.0697894,-3.957899,-1.4233295,-4.0760603,-2.8875687,-4.0954347,-4.1480265,-3.9299486,-4.0282607,-4.0397263,-4.1749344,-4.1297793,-4.1517696,-2.2032084,-3.960312,-1.8583841,-3.8749323,-2.7434926,-3.0641186,-4.0954347,-1.4851942,-2.1090965,-2.333063,-2.1951575,-3.9826496,-4.006199,-3.4913604,-3.9322104,-4.0921445,-4.0729136,-4.0485287,-4.0544977,-4.0954347,-3.9877737,-4.1122675,-4.0666876,-3.90157,-0.73830956,-1.9680071,-2.7301888,-4.282362,-4.3786144,-4.0544977,-4.0254407,-4.0310984,-4.1297793,-1.795216,-1.7399194,-3.8911307,-4.1369863,-4.0824227,-1.1103616,-2.0346522,-3.9627376,-4.1517696,-4.1709867,-4.0254407,-3.9801102,-4.1709867,-2.466968,-3.9210174,-2.8586779,-3.9852042,-2.708793,-3.975075,-3.8243363,-4.1262197,-2.4656494,-3.9775853,-4.0729136,-4.1020894,-2.5835328,-4.06055,-3.990358,-3.9555004,-4.1088486,-2.6448684,-2.7804074,-3.960312,-2.7850688,-4.0760603,-0.92219603,-2.360204,-3.5219977,-4.2036195,-2.4475226,-4.0697894,-2.8667939,-1.4110345,-4.098749,-2.7986927,-4.1369863,-4.0485287,-3.1176775,-1.5918276,-2.9247155,-3.8554993,-2.9316807,-4.133368,-1.432747,-4.6639705,-1.9826823,-4.0088964,-3.8460996,-4.0310984,-3.9390671,-4.0921445,-1.9823514,-2.064508,-2.5019794,-4.216518,-2.9986455,-4.0544977,-4.1122675,-2.96804,-1.0940386,-1.9186217,-2.4267812,-4.1910934,-0.59158915,-1.3171201,-4.0088964,-4.0729136,-4.1480265,-4.0198555,-2.7919092,-4.0760603,-1.4247369,-2.9025564,-4.0544977,-3.92546,-4.0339556,-4.216518,-4.0143414,-2.9244928,-3.9725797,-1.3431476,-3.0765858,-4.022639,-2.418365,-4.0544977,-2.3196323,-2.058795,-3.8612385,-4.1631975,-4.098749,-1.7219317,-1.6030418,-3.8460996,-3.9036882,-3.92546,-4.057513,-2.5216155,-4.0824227,-2.5638678,-3.9122665,-3.9210174,-2.2513163,-2.7529938,-2.5385942,-1.2082899,-2.8332114,-2.91808,-4.0426407,-4.1369863,-4.0339556,-4.1709867,-4.133368,-3.9955747,-4.252913,-4.000854,-3.9299486,-2.1192675,-2.9025564,-2.245446,-2.142519,-0.5415461,-4.1088486,-4.1517696,-1.7312248,-3.8829563,-4.2253346,-2.2887204,-3.9144378,-3.8190622,-4.0485287,-4.1670747,-1.7636703,-4.220904,-4.1555457,-4.2253346,-2.7528439,-4.0729136,-3.957899,-4.282362,-3.755755,-4.1369863,-4.0426407,-3.8809364,-1.0994439,-1.6688467,-4.0170894,-4.1122675,-2.41601,-4.199404,-2.6051972,-2.8467813,-4.1829386,-4.1443152,-2.2810078,-3.957899,-2.3804119,-1.0923893,-3.9929588,-4.1709867,-4.1297793,-2.3915646,-3.8729498,-3.9775853,-4.0921445,-4.1480265,-3.9210174,-3.941377,-4.1869965,-3.9344838,-4.1369863,-4.1869965,-4.0455747,-4.105456,-3.9676306,-4.098749,-4.2036195,-1.7436198,-4.519656,-4.0170894,-2.8315895,-4.0515027,-2.650403,-4.1369863,-4.0729136,-1.5698975,-4.1555457,-3.8536031,-3.9826496,-3.9877737,-4.0697894,-1.7854673,-4.0198555,-4.0310984,-3.9725797,-2.383734,-2.1083477,-2.6121953,-2.4173243,-3.918813,-4.105456,-1.5356603,-1.777026,-4.0455747,-3.9852042,-4.1749344,-3.3259497,-3.6351876,-2.3241937,-1.3698403,-4.1226892,-3.9801102,-4.0954347,-4.2481933,-3.90157,-4.0339556,-3.9627376,-2.3617253,-2.7634757,-1.7664481,-4.036831,-4.1122675,-4.1480265,-2.4264274,-4.0485287,-2.5765784,-3.9955747,-4.0282607,-4.036831,-4.2673883,-0.6460686,-4.1443152,-3.9725797,-0.7610382,-3.946034,-3.9036882,-4.1749344,-2.6345773,-2.4191298,-4.0729136,-3.975075,-3.9344838,-2.8244538,-3.1282318,-3.419571,-1.4353033,-4.252913,-1.6319871,-3.159226,-2.557506,-3.9929588,-2.5322282,-4.0729136,-3.9801102,-1.4631292,-2.8013687,-0.87722135,-2.4185736,-4.216518,-4.1555457,-3.960312,-4.0729136,-1.4579245,-3.9826496,-3.9122665,-4.0310984,-3.9775853,-2.393659,-2.3982108,-4.0143414,-4.1262197,-3.120467,-3.369621,-3.990358,-4.0088964,-4.0254407,-4.0088964,-3.9555004,-1.6999981,-4.2926397,-4.1262197,-4.133368,-3.0865,-1.7858557,-4.199404,-4.1191874,-4.133368,-3.3591928,-4.0143414,-2.801201,-1.1769556,-3.9344838,-1.3986462,-2.8679657,-4.1369863,-4.1020894,-2.5805964,-0.59359235,-4.0697894,-4.1749344,-0.59829587,-4.1952286,-1.3342496,-3.9852042,-5.0235815,-2.6865945,-1.579112,-4.022639,-4.0485287,-0.6271699,-2.1389637,-4.1262197,-1.2796211,-4.0310984,-2.4994602,-2.2265966,-4.000854,-1.99169,-3.910106,-4.0544977,-1.5071776,-2.4132552,-2.3502939,-4.1829386,-4.1226892,-2.6770396,-1.3662031,-3.0402095,-4.0954347,-0.6301707,-4.1226892,-3.1412451,-4.243524,-3.043713,-3.0681314,-2.2016032,-3.859317,-2.260587,-3.957899,-3.9322104,-4.000854,-2.8537285,-3.9627376,-3.975075,-2.7642453,-2.4236763,-4.1406355,-4.2481933,-3.9852042,-2.8005307,-4.1369863,-4.0824227,-4.2673883,-3.8789258,-4.0426407,-4.0760603,-4.098749,-4.0666876,-1.8076326,-2.127046,-3.600031,-3.91662,-3.91662,-3.8911307,-4.1443152,-4.2078767,-0.53996986,-4.0888796,-4.1910934,-2.2432594,-4.556236,-3.9390671,-4.07923,-4.0143414,-2.2397463,-3.946034,-4.003518,-3.9555004,-4.0760603,-4.0485287,-0.8387664,-4.0310984,-4.000854,-3.957899,-2.7058206,-4.003518,-4.105456,-4.098749,-2.4572883,-1.4820461,-4.238905,-3.948381,-4.0515027,-4.0455747,-3.7936094,-4.0544977,-4.133368,-1.2544656,-2.8131025,-4.1369863,-2.1602085,-4.06055,-2.5674756,-3.9982064,-3.783832,-4.1910934,-4.1191874,-4.1297793,-1.6218045,-0.6290466,-1.4929266,-4.2625093,-4.06055,-2.8366554,-4.159355,-1.6011966,-4.1406355,-4.1631975,-1.6867062,-2.517233,-3.6205604,-3.9929588,-3.9826496,-2.344806,-2.4725976,-2.0765433,-3.8612385,-2.848648,-4.1297793,-3.3384805,-2.611003,-4.133368,-2.6869812,-1.6613321,-3.923233,-4.063608,-4.1952286,-3.9555004,-3.9651775,-4.0198555,-2.3929381,-4.4047384,-4.0170894,-1.9379003,-3.05832,-2.722146,-4.006199,-3.975075,-3.5106833,-4.1443152,-3.905817,-4.01161,-3.9877737,-3.093347,-2.8681614,-4.063608,-4.0198555,-3.9627376,-4.003518,-0.7086549,-1.0350018,-2.4452262,-1.7149183,-3.9651775,-1.3367519,-4.212176,-3.8973641,-4.1226892,-4.2036195,-3.923233,-3.9390671,-3.8442438,-2.5405223,-4.105456,-4.1020894,-4.07923,-4.1555457,-4.510973,-4.1226892,-4.057513,-2.6480393,-4.1631975,-4.0088964,-4.178918,-4.1088486,-2.596213,-4.0397263,-4.0339556,-1.7898729,-2.5284529,-2.029345,-4.133368,-3.3714876,-3.9929588,-4.0921445,-4.098749,-3.92546,-1.8510426,-1.1504433,-4.0282607,-2.3406045,-0.7156402,-4.085639,-1.8000063,-3.90157,-4.0455747,-4.0824227,-2.2013502,-4.1910934,-4.348026,-3.990358,-1.309091,-4.0426407,-4.022639,-3.798582,-4.1517696,-2.1378336,-2.907241,-2.3103259,-4.216518,-2.4439719,-1.9331248,-4.1709867,-4.0426407,-4.057513,-4.1122675,-2.2655907,-3.950741,-1.471903,-2.634806,-3.950741,-3.9676306,-2.6187565,-4.1869965,-4.0397263,-3.6697097,-2.869337,-4.1297793,-1.9925752,-3.5927057,-2.0645695,-4.0455747,-4.036831,-4.178918,-2.4115424,-3.9877737,-4.4325347,-2.9046795,-2.7085218,-1.9735585,-2.7236867,-4.0729136,-4.0143414,-3.9210174,-2.1578765,-3.8368986,-4.0198555,-2.3213513,-3.9955747,-1.454937,-2.3417091,-1.9728855,-1.6796515,-2.4029443,-3.8849852,-4.0666876,-2.1611295,-4.159355,-3.375245,-4.0760603,-3.960312,-1.6226709,-4.2036195,-4.07923,-2.3611162,-4.2036195,-4.0697894,-4.0170894,-1.3980825,-4.1749344,-2.5807984,-4.0143414,-2.1264074,-4.133368,-4.0697894,-2.9034045,-3.899462,-3.946034,-3.946034,-3.9929588,-3.941377,-3.8890724,-4.1297793,-1.413768,-4.1555457,-3.975075,-4.1020894,-2.7252328,-4.0143414,-4.0515027,-4.1020894,-4.1262197,-4.000854,-3.9775853,-4.0544977,-4.2673883,-4.1226892,-4.0339556,-3.8789258,-3.923233,-4.1122675,-1.415745,-3.859317,-2.815696,-4.0198555,-2.8326702,-2.6399815,-4.085639,-4.0143414,-3.9531143,-3.918813,-3.8789258,-4.1709867,-3.9531143,-1.8094406,-4.3194504,-0.76632375,-4.0888796,-4.0515027,-2.4741743,-2.6700397,-4.0888796,-3.970098,-2.3974159,-3.8829563,-3.0571089,-1.8372135,-4.238905,-2.6652305,-3.2832074,-3.1131825,-4.178918,-4.0888796,-4.199404,-2.6539733,-2.7385285,-2.953034,-4.000854,-0.64414155,-4.036831,-4.628755,-4.0170894,-0.9698744,-1.8987955,-4.1369863,-4.1480265,-2.1501298,-3.9801102,-3.899462,-3.9877737,-4.2078767,-2.2553062,-4.036831,-4.1297793,-3.92546,-4.036831,-1.8716713,-4.1910934,-4.0888796,-4.085639,-3.957899,-2.6370986,-3.9775853,-4.159355,-3.990358,-2.728909,-4.923982,-0.55555177,-3.8190622,-0.92404354,-2.657332,-2.364171,-4.0515027,-3.948381,-3.0650413,-4.133368,-2.047442,-4.0282607,-1.1420764,-4.2078767,-2.5851614,-4.06055,-4.105456,-0.75141066,-1.3973869,-3.4768152,-4.036831,-4.1020894,-1.9242848,-4.0544977,-3.975075,-3.9852042,-4.1226892,-2.6253066,-2.4748068,-3.9955747,-4.0088964,-0.8155645,-1.479888,-4.0515027,-1.3792781,-4.0666876,-4.238905,-4.0310984,-4.0170894,-4.0143414,-3.948381,-2.4791791,-3.6835573,-2.8748658,-3.783832,-4.000854,-2.2195086,-2.0880444,-1.7749844,-2.7405655,-3.0656574,-4.2874703,-4.2253346,-2.6345773,-4.2078767,-2.46689,-2.4175322,-2.1520066,-3.8517148,-1.7614455,-0.92791975,-2.710695,-3.990358,-4.1226892,-4.0170894,-3.9852042,-2.516884,-4.313954,-2.2837503,-3.9436991,-1.7703984,-3.923233,-1.8177061,-4.0729136,-2.117909,-3.9725797,-4.71586,-3.923233,-4.0397263,-4.0824227,-4.0921445,-3.9322104,-2.367556,-2.7805672,-3.9299486,-2.7953706,-4.098749,-2.1377242,-4.1297793,-4.1157136,-4.057513,-4.159355,-4.0143414,-2.2799459,-2.3343203,-4.0515027,-3.9877737,-4.0254407,-1.1020579,-1.6877123,-1.2943201,-2.5194187,-3.7969184,-4.0397263,-2.5897753,-3.946034,-4.1443152,-4.216518,-4.0888796,-2.7624006,-4.06055,-4.0824227,-4.0760603,-3.8729498,-3.960312,-4.0170894,-2.376105,-3.0478365,-4.0485287,-1.5352418,-2.5090253,-3.8749323,-4.0760603,-3.0128813,-4.159355,-3.8536031,-4.1517696,-3.9826496,-4.0170894,-2.4150436,-4.006199,-4.0426407,-4.01161,-3.9929588,-4.06055,-4.0666876,-4.1631975,-4.063608,-3.8849852,-4.0921445,-2.8507106,-1.2725881,-4.1020894,-4.0310984,-4.0254407,-2.9525583,-4.1262197,-1.9535257,-1.4238989,-4.01161,-4.057513,-4.1406355,-4.0666876,-3.960312,-4.617624,-4.0170894,-4.06055,-2.9143643,-4.036831,-4.0824227,-2.7047448,-1.7380157,-4.238905,-4.1517696,-1.6150116,-4.1369863,-4.0697894,-0.9402909,-4.105456,-3.9390671,-2.2181485,-1.0674443,-3.0361574,-3.2030535,-4.01161,-4.0485287,-0.6225193,-1.0493553,-4.07923,-4.199404,-4.085639,-4.022639,-2.3976805,-4.4325347,-1.7763126,-3.9982064,-2.0338492,-1.8638519,-3.3115919,-3.9826496,-4.1910934,-2.9231582,-3.9725797,-3.9322104,-2.1617062,-3.8769245,-4.220904,-4.0954347,-4.063608,-3.957899,-2.678175,-3.9852042,-4.303166,-1.8296809,-3.9982064,-4.0339556,-4.06055,-4.105456,-3.9299486,-3.8670547,-4.1480265,-3.9801102,-4.2253346,-2.601158,-2.4725976,-4.0254407,-1.5682269,-2.4416935,-3.9982064,-4.105456,-2.6636393,-2.7138379,-4.098749,-2.8292575,-4.0170894,-2.581809,-3.9322104,-4.0544977,-3.9852042,-3.8709757,-2.5623171,-4.07923,-2.000066,-4.0143414,-0.99770397,-2.4705563,-4.0888796,-2.268926,-3.970098,-2.969026,-3.4551163,-3.9367692,-1.8827797,-4.0282607,-2.9949617,-3.1056798,-3.9436991,-3.918813,-1.4920368,-4.0515027,-4.1157136,-2.0652773,-4.0143414,-2.6118698,-4.0254407,-4.1020894,-1.539848,-3.923233,-3.9676306,-2.118884,-3.9929588,-3.975075,-2.6204123,-4.0088964,-4.1226892,-4.0170894,-4.1670747,-0.9840081,-4.216518,-4.229811,-4.0143414,-2.3518999,-4.0729136,-1.9457597,-0.6604381,-3.9322104,-4.0697894,-2.7510471,-2.9668105,-4.01161,-3.990358,-2.6438167,-1.3509334,-2.146289,-2.3820698,-1.6776278,-4.220904,-4.3539734,-4.1480265,-3.9079564,-4.0397263,-2.8602118,-4.1157136,-1.6610283,-4.6639705,-4.0888796,-4.1517696,-4.1443152,-1.9141612,-1.9129447,-3.9210174,-1.8126316,-4.1122675,-2.907884,-3.3209257,-4.057513,-2.5977852,-3.9627376,-1.575656,-4.000854,-4.216518,-3.0865,-3.92546,-3.9775853,-4.6891403,-3.3126795,-4.1749344,-4.2036195,-3.9775853,-3.9877737,-2.6979485,-3.899462,-2.5247986,-1.2300344,-1.0762768,-4.1297793,-4.1709867,-1.99943,-1.6231047,-3.8931983,-4.0397263,-4.243524,-2.5603862,-3.9436991,-4.036831,-2.7794492,-4.06055,-3.9079564,-3.975075,-2.1886833,-4.1670747,-2.3352945,-3.9725797,-3.918813,-4.022639,-4.1443152,-2.5231159,-3.8749323,-4.220904,-2.2459598,-2.5673778,-3.8973641,-2.1162083,-2.7889645,-4.0426407,-2.7296195,-2.2064795,-3.9725797,-2.5617368,-4.0455747,-1.8582695,-4.1157136,-4.2253346,-2.7130158,-3.8554993,-4.1517696,-4.1191874,-4.0088964,-4.1829386,-4.063608,-4.057513,-4.07923,-4.01161,-4.1910934,-0.89318925,-4.1088486,-2.8654306,-2.3422334,-4.0143414,-3.6503246,-4.0954347,-2.1902003,-4.022639,-4.1443152,-3.990358,-4.0170894,-4.0760603,-2.3532133,-2.2559748,-2.4894469,-3.1346898,-3.9627376,-2.7324734,-3.159226,-4.133368,-2.31627,-2.0345662,-4.0143414,-3.9801102,-3.9367692,-4.006199,-4.0170894,-3.0505083,-2.58333,-1.71941,-2.9957485,-1.4219897,-3.8536031,-1.9424968,-3.8536031,-2.374721,-3.9555004,-4.0666876,-3.9322104,-4.1122675,-2.7561572,-3.923233,-4.0198555,-2.513931,-3.9627376,-4.2481933,-1.8826988,-2.0464377,-2.948537,-4.0697894,-4.0888796,-2.0431173,-1.4533005,-1.5553265,-4.0697894,-3.2234075,-3.9436991,-3.053796,-4.1829386,-2.9148,-3.9852042,-2.1278994,-4.057513,-4.057513,-2.0509152,-1.6248443,-3.9344838,-4.0339556,-4.0170894,-3.156177,-4.1088486,-3.918813,-4.3849998,-2.727633,-4.212176,-4.000854,-2.3437517,-4.243524,-4.313954,-4.1869965,-3.9929588,-2.977249,-1.5911343,-4.0455747,-4.036831,-1.2147349,-4.2343345,-2.2685814,-4.000854,-4.0282607,-3.9852042,-2.5520854,-2.5045974,-3.9144378,-3.9651775,-2.5418127,-3.9676306,-3.2001019,-3.5724323,-2.679567,-1.8099196,-2.7113764,-1.0441803,-2.4444141,-4.1157136,-3.957899,-2.3545303,-3.8243363,-4.006199,-2.1121743,-1.5928956,-4.06055,-4.0310984,-4.063608,-4.1517696,-1.9210019,-4.105456,-4.0824227,-4.1088486,-4.0954347,-4.0729136,-4.0515027,-3.9982064,-1.2541418,-2.638019,-4.036831,-4.1406355,-2.5610611,-1.1585468,-2.2957337,-2.6219637,-4.2481933,-4.0697894,-2.80305,-3.822571,-4.1191874,-4.085639,-4.2673883,-3.9955747,-3.975075,-3.9877737,-3.91662,-1.4831575,-3.975075,-0.9283959,-2.3363283,-2.439282,-4.0254407,-3.9676306,-1.8624977,-4.1157136,-4.0544977,-4.0170894,-2.3037145,-4.0729136,-4.0426407,-4.2253346,-4.1555457,-3.8670547,-4.39148,-2.6907363,-3.9276984,-3.9775853,-4.06055,-4.1262197,-2.392676,-4.000854,-4.1020894,-4.216518,-2.6003122,-3.454361,-2.7366452,-4.1406355,-1.8341812,-4.085639,-4.0921445,-3.9531143,-2.6191974,-4.057513,-2.5046823,-2.1090624,-2.3832211,-4.1020894,-4.1631975,-1.8409283,-4.159355,-3.215064,-3.8911307,-3.8517148,-3.9877737,-3.020317,-4.0426407,-1.3185472,-3.990358,-2.7304738,-3.960312,-3.9982064,-4.105456,-4.06055,-4.1122675,-4.1631975,-2.0820796,-3.899462,-3.9122665,-2.934407,-3.941377,-1.3835201,-4.0485287,-3.2172444,-4.1262197,-4.3786144,-3.1527722,-3.0595343,-4.3194504,-3.9877737,-4.1191874,-4.1020894,-2.2746754,-2.8790588,-4.133368,-4.0515027,-4.1709867,-3.9877737,-3.91662,-2.186927,-2.0030186,-2.8998117,-2.5166225,-4.0282607,-4.1480265,-2.0170424,-2.9838388,-4.0426407,-3.899462,-3.9144378,-3.9852042,-2.7459962,-4.1020894,-4.0426407,-4.0397263,-4.0760603,-2.000623,-2.1212955,-4.0666876,-3.9929588,-4.0954347,-3.405185,-4.0760603,-4.06055,-3.9775853,-3.389957,-3.9877737,-0.8191189,-4.0198555,-3.9929588,-4.022639,-4.0921445,-3.9036882,-3.9676306,-4.2343345,-2.2106788,-3.9122665,-2.2232597,-4.0760603,-1.2422842,-4.0666876,-2.11864,-1.7935153,-4.1631975,-2.793554,-4.0254407,-2.3585668,-3.9852042,-4.0088964,-2.7563086,-4.003518,-4.1157136,-2.1899543,-2.4404495,-4.063608,-4.1910934,-3.9725797,-1.2763231,-4.1088486,-2.5798905,-2.7950397,-4.4254174,-2.4451523,-4.1480265,-1.7496994,-2.7554018,-2.9587815,-1.029486,-4.1262197,-3.9436991,-3.8749323,-3.960312,-1.5911447,-4.01161,-3.096977,-3.970098,-2.9233804,-4.199404,-3.8460996,-3.9775853,-2.8415966,-3.2323668,-2.716452,-3.8849852,-2.4489362,-4.1122675,-1.7042837,-2.2299595,-1.8824157,-3.7936094,-1.7883396,-4.1709867,-1.315029,-4.0426407,-1.7136003,-4.1406355,-2.859636,-2.4203143,-2.3441615,-4.01161,-3.9982064,-3.8809364,-3.9801102,-1.4492321,-4.006199,-4.0282607,-4.063608,-1.9554831,-2.5760787,-2.307734,-3.941377,-4.0455747,-2.6428838,-2.5103967,-3.9322104,-4.1709867,-0.80502874,-2.7026012,-4.252913,-4.0666876,-4.0954347,-2.6070168,-3.9144378,-1.1746867,-2.8569582,-4.0170894,-1.8892632,-4.2078767,-3.8749323,-4.4047384,-4.0921445,-3.9801102,-4.0455747,-4.036831,-2.875462,-4.0198555,-4.510973,-1.6206632,-2.7510471,-2.556359,-3.9877737,-2.2652,-4.057513,-4.1262197,-4.0697894,-4.2343345,-4.000854,-2.4042199,-1.784611,-3.8536031,-4.098749,-3.9322104,-4.085639,-4.105456,-4.1191874,-4.1262197,-2.8294365,-4.0339556,-3.9826496,-2.953748,-4.1122675,-4.07923,-4.01161,-4.0455747,-4.0254407,-4.0143414,-4.1829386,-4.0824227,-2.6035984,-3.9555004,-1.7311106,-3.960312,-4.1191874,-1.9175241,-4.057513,-2.9185193,-2.82357,-3.9775853,-4.0198555,-1.8868258,-4.006199,-1.2741649,-3.8709757,-2.728625,-2.011863,-2.8059227,-4.0921445,-4.003518,-0.87896305,-4.036831,-2.2353036,-2.6437,-3.9826496,-4.3194504,-3.7952607,-4.1555457,-3.8870242,-4.0339556,-4.0729136,-3.9344838,-4.1406355,-2.5390525,-4.098749,-4.1191874,-3.9801102,-3.9367692,-2.1849747,-4.2078767,-2.0757222,-2.5677695,-2.721727,-3.9144378,-1.8534383,-4.1122675,-4.2078767,-4.2673883,-4.006199,-4.2343345,-1.5488623,-4.0339556,-4.06055,-3.2696817,-4.0921445,-4.063608,-2.6775439,-2.8977122,-3.9036882,-4.1480265,-4.003518,-2.0886292,-3.9877737,-4.1262197,-2.6354923,-3.941377,-2.3293123,-4.1709867,-4.1670747,-3.950741,-3.3971734,-2.683642,-1.6113566,-4.2874703,-4.2253346,-4.0824227,-4.2481933,-4.0697894,-4.1749344,-4.4254174,-3.9436991,-4.1297793,-4.313954,-0.70908886,-4.0544977,-2.5496354,-2.0059915,-4.022639,-3.9676306,-2.4546375,-4.1670747,-4.159355,-2.3574183,-4.0170894,-4.036831,-3.990358,-4.0254407,-4.1226892,-4.510973,-1.9972646,-3.9955747,-3.8952763,-3.9929588,-1.2322686,-2.2349846,-1.6422862,-4.022639,-4.2343345,-4.0729136,-3.975075,-4.1122675,-2.5745833,-4.1122675,-2.4506538,-4.022639,-2.6426508,-2.9314542,-2.6449854,-4.1122675,-0.7968959,-4.006199,-2.2059255,-3.5896037,-4.1088486,-4.272322,-2.723126,-3.9982064,-4.0339556,-4.1869965,-4.1670747,-3.941377,-4.0310984,-1.641287,-3.970098,-1.1333662,-4.1088486,-0.74561423,-4.1369863,-4.003518,-4.220904,-4.252913,-4.2253346,-2.1340995,-3.0920343,-4.0697894,-3.9344838,-2.633892,-2.4479685,-3.2115984,-3.1152513,-4.1443152,-4.1157136,-3.9929588,-1.993201,-2.4856186,-4.0515027,-3.8952763,-3.9877737,-3.9826496,-4.0254407,-2.2974653,-1.8424011,-4.1369863,-3.9436991,-4.1088486,-4.000854,-4.0697894,-2.6308224,-4.003518,-3.948381,-4.1555457,-2.8172593,-3.9299486,-1.0266638,-4.022639,-4.1480265,-4.1088486,-4.022639,-3.90157,-2.646392,-4.006199,-4.0954347,-3.013975,-1.1460578,-2.587411,-1.9608271,-4.0143414,-3.910106,-4.257684,-4.1157136,-0.5436163,-2.6228526,-4.216518,-3.9651775,-4.036831,-1.8271099,-4.000854,-3.9276984,-1.0783926,-4.105456,-3.9390671,-2.0350256,-4.022639,-4.0515027,-3.9555004,-2.2569315,-4.06055,-4.0954347,-2.1150668,-4.0515027,-3.948381,-2.6069095,-2.7054167,-4.2078767,-2.4760742,-1.9585564,-3.9144378,-4.220904,-3.8931983,-2.7257962,-4.0544977,-1.6946377,-2.8660142,-2.5855696,-2.7296195,-4.000854,-2.5256872,-1.8579445,-4.1369863,-2.3148994,-4.0339556,-4.2673883,-4.000854,-1.9219531,-2.1350029,-0.93836856,-2.049576,-4.2874703,-4.1406355,-1.4498589,-4.085639,-1.6337513,-4.220904,-4.0143414,-3.9852042,-3.9299486,-4.1020894,-1.921245,-2.0875578,-1.4778281,-2.542182,-3.8442438,-4.212176,-2.356996,-4.1670747,-2.3145711,-4.2078767,-3.990358,-3.990358,-4.0170894,-1.5323334,-4.2926397,-4.0729136,-2.4682906,-3.8911307,-3.970098,-0.5521037,-3.9344838,-4.0310984,-1.4660186,-1.6680189,-4.2874703,-4.057513,-4.0760603,-3.941377,-3.7140214,-3.9627376,-4.022639,-4.022639,-4.1088486,-1.358492,-4.0697894,-2.9233804,-4.133368,-4.3421583,-2.6602316,-3.9344838,-3.0887704,-4.1406355,-3.975075,-4.057513,-4.0760603,-3.4417183,-1.8089453,-3.8849852,-4.0515027,-4.257684,-4.0088964,-3.9651775,-0.55642045,-2.1022,-3.948381,-2.4187124,-3.2077324,-2.3200197,-4.272322,-1.1066828,-1.2515607,-2.4998794,-1.8931217,-3.8631685,-4.1480265,-4.1406355,-3.975075,-4.06055,-2.5485094,-2.4732277,-4.1517696,-3.9725797,-4.000854,-4.0888796,-4.0310984,-3.8387234,-4.178918,-4.1952286,-1.2327983,-4.243524,-3.9367692,-3.9826496,-4.1020894,-1.3607917,-2.6775439,-4.330656,-2.943155,-3.9390671,-4.0254407,-3.1650012,-3.9826496,-2.8423336,-4.1088486,-3.975075,-4.085639,-2.3672473,-3.9144378,-4.0254407,-4.1952286,-4.2978706,-2.7894537,-4.01161,-3.8423955,-4.098749,-2.2379086,-4.01161,-3.9210174,-3.905817,-2.2604904,-4.0697894,-2.8212805,-4.1555457,-2.6492195,-2.5568366,-4.0666876,-2.3816226,-0.8589752,-3.115597,-3.783832,-4.0170894,-1.0151243,-3.9436991,-3.625009,-3.8911307,-4.50246,-4.0544977,-4.0888796,-2.8083026,-3.0963147,-4.1952286,-2.4294806,-4.0254407,-3.1278758,-2.9085276,-4.0666876,-3.990358,-0.90617466,-3.9929588,-3.9725797,-4.1480265,-1.80009,-2.1637883,-1.4026405,-2.3158858,-4.063608,-4.085639,-1.9774415,-4.1122675,-3.9322104,-2.437536,-4.1226892,-2.597051,-2.8364735,-4.0697894,-2.7344823,-2.2217994,-0.5867024,-4.0954347,-4.0143414,-4.1157136,-4.0544977,-2.7625542,-4.0888796,-4.2253346,-1.4975863,-4.1869965,-4.1480265,-4.0339556,-3.8931983,-2.4514778,-2.0867803,-3.946034,-2.424521,-3.112495,-4.1443152,-3.90157,-1.758198,-4.4325347,-4.1869965,-2.0246065,-1.0612165,-4.0824227,-3.9651775,-2.1558225,-2.4918258,-3.9210174,-4.1369863,-4.1829386,-3.1535265,-4.1517696,-1.0972067,-3.910106,-4.0426407,-2.683386,-3.9929588,-3.9826496,-4.022639,-4.000854,-0.8202231,-3.9276984,-4.0954347,-4.277313,-4.022639,-2.32886,-2.4000049,-4.0515027,-4.1122675,-3.8479633,-4.0485287,-3.9122665,-0.8600493,-4.0088964,-1.1444726,-2.4360864,-2.3152826,-3.946034,-1.7712429,-1.595718,-1.7403419,-3.990358,-1.4642626,-3.918813,-2.9947,-2.8977122,-4.2253346,-3.4760218,-3.9852042,-4.1020894,-3.910106,-4.0426407,-4.1631975,-1.4978864,-2.6089513,-3.910106,-2.8582952,-2.7834556,-4.003518,-3.9775853,-3.941377,-3.9955747,-2.7324734,-2.1300755,-3.9775853,-4.057513,-1.198095,-4.0666876,-1.9387052,-3.0063772,-4.06055,-3.9276984,-4.0198555,-3.014797,-2.951846,-2.249053,-3.116636,-1.818107,-3.9651775,-4.1869965,-4.0282607,-2.641024,-4.0729136,-1.7245948,-4.0455747,-4.1406355,-4.0143414,-2.7085218,-3.9651775,-2.9722471,-4.0198555,-2.9415302,-1.8017156,-4.07923,-4.2481933,-2.0213368,-4.159355,-3.905817,-2.6937375,-3.92546,-4.0888796,-2.9182997,-4.0282607,-4.178918,-3.8670547,-1.5529243,-1.9898994,-4.178918,-4.0544977,-4.2343345,-0.6880787,-4.57575,-4.1406355,-3.9982064,-2.7891273,-2.054056,-3.9801102,-4.07923,-4.0397263,-3.7870667,-2.8323095,-4.1157136,-4.1191874,-3.9929588,-2.9337237,-4.4397707,-4.0954347,-2.5488844,-2.4044888,-2.0690832,-2.83976,-2.4691486,-3.8973641,-3.9877737,-2.6021113,-4.216518,-3.9367692,-4.0143414,-1.6941787,-0.95753515,-4.1631975,-2.8392105,-2.6361802,-3.899462,-3.957899,-2.6423018,-4.133368,-3.9982064,-3.92546,-2.8264046,-3.9390671,-2.6609595,-4.0666876,-2.640908,-4.0760603,-4.063608,-1.3876164,-2.8726852,-1.0886769,-3.9725797,-2.1889699,-3.970098,-3.960312,-3.0487254,-2.452754,-3.9955747,-2.86002,-1.7844334,-1.8745013,-4.1869965,-2.3104343,-3.899462,-3.8749323,-2.388441,-3.9801102,-4.0426407,-1.2771904,-2.6540928,-3.9367692,-1.2206773,-3.9390671,-4.0088964,-2.4977894,-4.1088486,-4.0143414,-3.9344838,-4.063608,-3.970098,-4.1297793,-4.0310984,-4.022639,-0.91583866,-3.975075,-3.8890724,-4.0544977,-2.698875,-3.8809364,-4.159355,-4.0921445,-4.0666876,-2.8705158,-4.1829386,-2.886751,-2.1735995,-4.057513,-2.280249,-4.1555457,-3.5968766,-4.4115224,-4.1122675,-4.1869965,-1.638972,-4.1670747,-4.1122675,-4.003518,-4.0339556,-2.1467347,-4.1020894,-1.0975616,-1.9557225,-4.0426407,-3.9801102,-2.6151357,-4.1829386,-2.213443,-2.0863595,-1.2568964,-3.948381,-3.9929588,-2.6264267,-4.01161,-4.0824227,-3.9651775,-4.036831,-2.0712016,-1.6217934,-4.0198555,-4.0666876,-0.6351229,-4.325017,-2.7631683,-1.9228176,-4.07923,-3.9367692,-4.1480265,-0.8606508,-3.820813,-4.243524,-3.8890724,-4.1088486,-3.918813,-2.684795,-4.0426407,-3.2225218,-4.1157136,-4.0515027,-4.022639,-4.0426407,-4.0397263,-4.0198555,-4.0088964,-4.0282607,-3.9775853,-4.022639,-1.7753319,-4.085639,-4.0282607,-3.9367692,-4.0088964,-4.07923,-1.7944226,-4.1829386,-3.039338,-4.277313,-4.006199,-4.000854,-4.330656,-4.000854,-4.1631975,-3.5193605,-0.7889697,-4.178918,-4.0921445,-4.0426407,-4.0824227,-4.0824227,-2.791253,-3.8829563,-3.9036882,-4.229811,-4.085639,-3.950741,-2.91241,-1.7431352,-4.0088964,-2.450205,-4.1670747,-2.3000495,-4.0760603,-2.426215,-4.282362,-3.8670547,-1.4885613,-4.229811,-4.3539734,-1.2659018,-4.238905,-4.159355,-4.1262197,-4.0760603,-2.8362916,-4.0310984,-2.8038929,-2.6453366,-4.0697894,-3.957899,-3.910106,-3.9877737,-1.9951102,-1.3898222,-4.0170894,-4.1157136,-4.0310984,-3.116636,-3.3121352,-0.46463838,-3.2154994,-2.7659428,-4.1297793,-4.0954347,-4.0143414,-4.1226892,-3.941377,-2.0735815,-3.957899,-4.1406355,-2.8499594,-2.43819,-4.229811,-0.9435955,-3.975075,-1.0228642,-3.9344838,-0.94177204,-2.872883,-4.0515027,-3.8789258,-2.2947395,-3.941377,-4.2078767,-2.564451,-4.336369,-3.9955747,-2.11012,-3.8749323,-4.0170894,-1.7116035,-2.2711968,-3.8278887,-4.1406355,-1.6091417,-3.9801102,-1.7965745,-2.1547613,-3.990358,-3.9801102,-3.9531143,-3.9725797,-4.0254407,-3.8709757,-4.085639,-3.9651775,-4.0282607,-4.133368,-3.946034,-4.2625093,-2.0833623,-1.6603973,-4.1952286,-0.9328628,-4.0921445,-3.90157,-3.9929588,-2.6754043,-4.0666876,-4.0760603,-4.07923,-3.8789258,-4.178918,-1.6783603,-4.0198555,-2.9031923,-4.1670747,-4.006199,-2.7412956,-4.036831,-2.2489586,-2.8558154,-3.9651775,-2.3712797,-2.7836165,-1.8357766,-1.3922812,-4.0544977,-2.0800989,-4.0697894,-3.869011,-3.9627376,-4.1749344,-2.8010333,-4.0544977,-3.899462,-4.063608,-2.346039,-3.948381,-3.9826496,-3.8729498,-4.000854,-4.0485287,-1.9721888,-4.0310984,-4.252913,-1.0553839,-3.5714433,-4.0760603,-3.9877737,-4.1191874,-4.229811,-2.0544465,-2.849397,-2.7174187,-4.022639,-4.022639,-4.1191874,-4.216518,-2.6251948,-3.8536031,-4.272322,-4.105456,-3.9877737,-2.6160107,-4.0198555,-4.1443152,-2.911977,-4.1829386,-3.727964,-4.098749,-4.0088964,-4.006199,-4.0339556,-3.9122665,-3.1100974,-4.003518,-1.8507231,-4.1952286,-4.4325347,-3.948381,-4.2874703,-3.096977,-2.440742,-3.9725797,-2.8960397,-3.1520193,-2.1120028,-3.9929588,-3.8350816,-4.098749,-4.1191874,-4.1749344,-4.000854,-4.1631975,-2.7797685,-2.8181303,-4.0282607,-2.7385285,-3.3276372,-3.9929588,-4.3194504,-4.0143414,-4.0254407,-2.9991744,-3.9531143,-3.7680101,-4.1406355,-3.9852042,-4.1122675,-2.157305,-1.3176044,-2.994438,-2.6878846,-4.0824227,-3.970098,-2.4947145,-0.96796936,-3.9299486,-0.8692983,-4.1555457,-2.1515179,-3.8809364,-1.9946125,-2.2853835,-3.9299486,-2.6827474,-2.2408066,-3.020317,-3.9322104,-1.8040051,-3.9390671,-2.528811,-2.949244,-4.0455747,-4.01161,-2.8828878,-4.0088964,-4.0088964,-4.057513,-4.0515027,-4.0544977,-2.5938137,-1.4408053,-1.0395217,-2.598731,-2.8230405,-4.0515027,-3.8931983,-4.199404,-2.3146806,-3.8931983,-2.3989408,-2.278786,-4.1191874,-4.1480265,-2.0407236,-4.0426407,-4.0954347,-2.0528867,-3.9955747,-4.063608,-3.8809364,-4.1869965,-1.333061,-2.7253735,-4.1191874,-2.0799394,-2.2097754,-3.9725797,-2.3715289,-3.9982064,-3.9322104,-4.178918,-2.1614752,-1.8110331,-1.7248479,-4.178918,-2.119756,-4.1226892,-3.9877737,-3.8849852,-4.057513,-3.8631685,-4.085639,-1.3639115,-3.9367692,-2.0724525,-3.8350816,-3.9929588,-2.0771444,-3.9122665,-3.9322104,-1.7400504,-3.9877737,-4.1226892,-3.9676306,-3.910106,-2.5067205,-3.9627376,-4.1670747,-1.8773099,-4.0515027,-4.0760603,-1.1171887,-3.9725797,-1.5613859,-3.9982064,-3.9079564,-1.2979423,-4.3085265,-3.8173182,-3.8911307,-1.8920659,-4.2078767,-4.0339556,-4.085639,-3.8973641,-2.5100534,-3.948381,-2.9473615,-3.9367692,-3.9276984,-1.7952986,-4.06055,-2.8734767,-4.3194504,-4.1869965,-4.0729136,-4.0515027,-4.0666876,-4.133368,-3.9555004,-3.975075,-3.857404,-4.000854,-3.8952763,-4.1088486,-1.5541284,-4.1443152,-3.946034,-3.970098,-2.744669,-4.2036195,-3.990358,-3.9299486,-3.9344838,-4.282362,-3.9555004,-3.9929588,-4.022639,-3.826109,-4.0397263,-2.0485077,-4.0088964,-4.0397263,-3.92546,-4.0426407,-4.1157136,-1.796392,-4.0544977,-4.1406355,-3.3067303,-2.3476295,-1.1855296,-3.905817,-3.105004,-3.9852042,-3.3154109,-4.229811,-2.81639,-1.2528256,-3.957899,-2.5451481,-4.0455747,-4.0544977,-2.035112,-4.0954347,-4.0729136,-4.1749344,-4.1517696,-1.67955,-4.1910934,-2.9163275,-3.957899,-2.4719684,-4.0397263,-3.8789258,-2.435942,-4.0888796,-2.6722772,-4.0143414,-3.8789258,-3.91662,-4.510973,-4.229811,-2.8148296,-2.3802843,-1.4931989,-3.0225449,-4.0921445,-1.7775973,-4.2625093,-3.9555004,-4.325017,-1.660555,-4.1191874,-3.957899,-3.9299486,-4.063608,-4.006199,-4.1157136,-4.2253346,-2.91241,-4.105456,-3.0829558,-4.2343345,-4.036831,-4.0824227,-2.7303312,-3.5927057,-3.9676306,-2.4831924,-2.1702127,-4.257684,-2.2424247,-1.6412637,-4.105456,-4.0254407,-1.5916102,-3.9531143,-4.022639,-1.9574493,-4.1122675,-2.0800352,-2.8120697,-3.3765047,-4.2078767,-4.199404,-4.1157136,-4.105456,-4.0426407,-3.9436991,-4.0954347,-3.9929588,-4.0310984,-3.910106,-4.06055,-3.946034,-4.0426407,-3.9210174,-4.06055,-4.1670747,-1.2428077,-4.2078767,-3.8442438,-3.941377,-2.028184,-4.0485287,-3.9929588,-4.0282607,-2.4489362,-4.2673883,-4.01161,-3.2565646,-2.2028277,-4.0666876,-3.8749323,-1.5167938,-4.006199,-3.8536031,-1.3296613,-4.1369863,-4.0310984,-4.0544977,-4.063608,-3.0826352,-0.9917412,-4.036831,-3.970098,-1.6252469,-2.687368,-3.905817,-2.4038167,-3.8829563,-3.9531143,-3.8069985,-2.805753,-1.8865806,-4.0485287,-2.9399118,-2.763322,-4.0426407,-2.8258717,-4.01161,-3.941377,-1.2881109,-2.1623607,-4.063608,-3.9079564,-4.159355,-4.0254407,-4.1191874,-4.2481933,-1.879574,-3.8729498,-2.7894537,-3.957899,-3.950741,-4.063608,-4.000854,-4.0088964,-2.4826283,-3.8651073,-2.5474794,-2.9319072,-4.0760603,-2.8508985,-4.0282607,-4.036831,-4.1297793,-4.0544977,-4.596183,-3.9627376,-0.8825688,-4.0198555,-2.7388186,-3.0233834,-3.9210174,-3.9651775,-0.7951773,-4.0666876,-2.0703592,-4.2481933,-4.036831,-4.3539734,-3.9036882,-4.000854,-3.948381,-1.9871113,-1.2712643,-2.4989583,-3.9144378,-2.7656338,-3.723734,-2.7283413,-4.2926397,-3.9955747,-4.098749,-4.036831,-1.0288225,-4.098749,-4.0954347,-4.556236,-2.611978,-4.1869965,-4.252913,-2.458201,-2.585978,-0.9188254,-1.5818764,-2.331752,-2.7602587,-4.0088964,-4.1869965,-2.4956262,-4.0729136,-4.000854,-4.1122675,-1.3592249,-4.159355,-4.01161,-1.3194202,-4.0143414,-4.1191874,-3.9299486,-4.133368,-1.3824382,-1.9706997,-3.8952763,-3.0940046,-2.844737,-4.0170894,-2.1565442,-2.0979612,-1.7630708,-3.9555004,-2.6760325,-3.9276984,-3.0753226,-4.1952286,-2.0550478,-4.159355,-2.435942,-3.9299486,-3.9144378,-4.0143414,-1.5137117,-2.96363,-3.9555004,-3.1740084,-3.8890724,-2.3145711,-1.9960022,-3.9276984,-2.5975752,-2.1230867,-2.516971,-1.2436756,-3.960312,-2.5391443,-3.92546,-1.7483903,-4.003518,-4.1869965,-3.9877737,-2.5445902,-4.003518,-3.960312,-2.9712534,-4.1020894,-4.2253346,-4.1631975,-3.0347195,-4.0760603,-4.2874703,-3.5038643,-4.1262197,-2.3974159,-4.0485287,-2.3233557,-3.960312,-3.990358,-1.4434316,-3.1967533,-2.8050756,-3.9627376,-2.6554093,-3.9929588,-4.063608,-4.1262197,-4.272322,-4.1555457,-4.057513,-3.6978607,-1.4820302,-2.6182058,-4.0282607,-4.01161,-3.9531143,-3.9725797,-2.8074512,-0.8894536,-4.0455747,-4.0310984,-1.8903533,-3.8709757,-3.9531143,-4.3085265,-2.0357447,-2.2020671,-3.8769245,-2.3249774,-4.0426407,-2.2436306,-0.9994238,-4.220904,-4.1226892,-4.1517696,-4.0310984,-3.899462,-2.4993768,-3.975075,-2.38922,-4.1262197,-4.0143414,-4.1122675,-4.0544977,-4.0888796,-1.2477268,-4.0515027,-2.4973724,-1.1251704,-2.9838388,-3.9801102,-4.1262197,-4.1122675,-4.2036195,-4.063608,-2.1612062,-3.849835,-2.5836344,-1.9988481,-3.960312,-4.0282607,-1.9082414,-4.0729136,-0.80000234,-3.910106,-4.4471297,-4.2343345,-4.1829386,-4.0310984,-4.1406355,-1.7630248,-4.0515027,-3.9036882,-3.9955747,-3.8670547,-3.9531143,-1.406084,-4.063608,-3.975075,-2.068555,-4.0485287,-3.990358,-3.1588438,-4.1088486,-4.1480265,-4.0198555,-4.006199,-3.3466475,-2.5125484,-3.9775853,-2.2230382,-4.0339556,-4.0697894,-3.9299486,-4.063608,-3.950741,-4.057513,-3.5455515,-4.1262197,-4.159355,-4.0310984,-3.8769245,-4.0544977,-2.7346263,-4.1631975,-4.0515027,-4.0426407,-4.1709867,-2.5340376,-4.1088486,-4.06055,-4.0544977,-3.9079564,-4.1869965,-4.0485287,-2.6717792,-4.036831,-1.0615952,-4.01161,-4.199404,-4.0310984,-4.1631975,-3.3045871,-2.2279835,-4.0426407,-2.51732,-1.8932045,-1.3607247,-2.6382494,-4.0170894,-3.9531143,-4.1869965,-1.0569798,-2.5479472,-3.9725797,-3.9299486,-2.179851,-3.8973641,-3.92546,-4.0515027,-1.576765,-1.3365103,-2.6197493,-4.0426407,-2.7482173,-3.960312,-1.3431418,-1.4100589,-3.948381,-3.990358,-0.58922637,-4.1631975,-4.1555457,-4.006199,-3.950741,-4.098749,-1.7740382,-4.0515027,-3.9982064,-4.000854,-1.943124,-2.4999628,-1.530927,-1.9126626,-2.8112106,-3.957899,-0.83100045,-4.003518,-4.0485287,-4.229811,-4.1157136,-1.9944553,-3.771129,-1.0434296,-4.006199,-2.2464736,-3.957899,-1.6273208,-4.057513,-2.1811767,-4.238905,-2.6556492,-4.0143414,-1.3842323,-3.9344838,-2.5705216,-4.063608,-4.0339556,-2.5077434,-3.960312,-2.1928372,-4.022639,-2.0568569,-4.2036195,-4.01161,-1.7576666,-4.0339556,-2.146549,-4.1088486,-4.1480265,-1.0516927,-4.1443152,-4.212176,-3.258964,-4.50246,-2.6214092,-4.063608,-3.9555004,-4.0310984,-4.1226892,-3.9826496,-3.950741,-3.743836,-4.1020894,-4.0760603,-4.01161,-4.0426407,-3.970098,-3.9826496,-1.1820047,-1.6936154,-2.3004727,-4.0310984,-4.0544977,-4.5467978,-1.8876843,-4.000854,-4.0170894,-3.960312,-2.4270644,-4.0515027,-4.0697894,-4.0455747,-0.8572028,-1.8848287,-1.8457702,-2.6812177,-3.0445933,-3.9801102,-3.9299486,-1.9455492,-3.9436991,-4.7908773,-3.970098,-1.8304876,-4.1122675,-2.3150089,-1.6273208,-4.2625093,-4.0921445,-2.6807094,-2.6120865,-1.9374181,-4.2078767,-2.8264046,-2.5686522,-2.8778567,-4.1443152,-2.5798905,-1.6496177,-4.085639,-4.199404,-2.9653397,-4.0697894,-4.243524,-4.1226892,-4.1670747,-4.022639,-4.036831,-4.1262197,-2.1458068,-0.76177424,-2.4051623,-2.3708434,-3.9775853,-4.006199,-4.0282607,-2.9687796,-4.1517696,-3.9555004,-2.7462916,-1.8700569,-2.103308,-4.0088964,-3.960312,-2.7015333,-2.7529938,-4.1480265,-3.90157,-3.9079564,-3.8769245,-3.8651073,-1.8207128,-4.199404,-4.0888796,-4.1297793,-3.8809364,-4.01161,-4.0170894,-4.212176,-4.2036195,-2.883293,-3.9775853,-4.003518,-4.0824227,-4.0282607,-4.0760603,-4.2673883,-4.1088486,-1.6545789,-4.3194504,-3.9955747,-2.5232928,-3.8536031,-4.6639705,-3.970098,-3.3024542,-3.9122665,-4.105456,-0.7744726,-3.970098,-3.9627376,-1.3842002,-4.3786144,-4.036831,-2.7904344,-4.1297793,-3.0284479,-4.1670747,-3.0292978,-2.5772789,-2.44782,-1.8624977,-2.717557,-4.1088486,-4.085639,-4.1869965,-2.6495743,-1.522468,-4.2036195,-4.6891403,-4.0310984,-3.9651775,-3.990358,-1.8197666,-4.1157136,-4.0697894,-4.2078767,-4.0282607,-2.18979,-4.1369863,-2.9198396,-3.990358,-3.970098,-4.1226892,-1.6817354,-4.229811,-4.036831,-4.0729136,-4.0282607,-3.4880857,-4.1631975,-4.1020894,-4.105456,-2.2049897,-2.3582642,-2.3848898,-4.1555457,-4.2036195,-2.2892876,-4.057513,-4.0282607,-3.8789258,-2.755855,-4.0921445,-4.036831,-4.0170894,-4.06055,-2.9732428,-3.946034,-2.7420266,-2.4101772,-3.9982064,-0.9948525,-3.950741,-4.0310984,-3.9676306,-4.0282607,-0.5483191,-2.6979485,-3.9367692,-3.957899,-4.0760603,-4.243524,-2.9539866,-2.760717,-2.2986238,-4.1226892,-4.1297793,-4.105456,-3.8973641,-0.87900925,-4.303166,-4.0954347,-4.0954347,-4.1749344,-2.9853737,-3.8952763,-1.9219531,-4.1631975,-3.9367692,-4.0426407,-3.960312,-3.990358,-1.3504698,-3.970098,-4.057513,-3.039338,-2.1654146,-3.9955747,-4.0888796,-2.7794492,-4.1226892,-4.2253346,-3.9036882,-4.07923,-1.9792321,-3.8423955,-2.3966222,-4.085639,-2.8218079,-4.1020894,-3.9390671,-4.1749344,-3.910106,-2.9025564,-4.0544977,-2.1014292,-2.2257042,-4.036831,-3.9725797,-4.057513,-4.1631975,-4.1369863,-3.9299486,-2.6558893,-4.2253346,-4.0282607,-4.0760603,-2.0843914,-2.319245,-4.0339556,-3.869011,-4.3194504,-4.0824227,-1.5644962,-3.7181575,-3.9322104,-4.036831,-3.9210174,-1.6923735,-2.5017266,-3.905817,-3.90157,-4.282362,-2.7443745,-2.377241,-4.0544977,-3.9531143,-4.0824227,-4.2036195,-4.4325347,-2.5345817,-3.9725797,-4.000854,-4.39148,-3.990358,-1.7624108,-2.5586557,-3.2494452,-0.8593182,-2.9316807,-2.4325557,-2.3324926,-4.036831,-3.948381,-2.2697146,-4.0697894,-3.8442438,-3.9344838,-3.9122665,-4.022639,-4.1670747,-3.9676306,-4.178918,-3.9929588,-4.238905,-3.960312,-4.199404,-4.3194504,-3.950741,-2.381878,-3.9852042,-3.9775853,-2.6550498,-3.1194186,-2.8625236,-4.0397263,-2.2686305,-2.443309,-3.9651775,-4.1555457,-2.1353648,-1.7944887,-4.0282607,-3.9725797,-1.7696334,-4.1406355,-4.1709867,-3.9276984,-3.9775853,-3.0868235,-3.970098,-3.9826496,-1.9285362,-4.098749,-2.7058206,-2.4408882,-4.022639,-2.9707575,-3.946034,-2.2580345,-4.2036195,-4.000854,-4.220904,-3.9144378,-4.1122675,-3.070619,-2.0208912,-4.0455747,-4.1829386,-4.1910934,-3.7806213,-3.4099274,-2.3697863,-2.7331898,-4.0824227,-2.8174334,-4.0088964,-2.633322,-3.7854464,-4.3194504,-4.0143414,-4.022639,-2.4012048,-3.9210174,-4.0310984,-2.68441,-2.6777961,-2.5849576,-2.4148371,-4.3194504,-2.4653397,-3.4483657,-3.9826496,-3.7072146,-4.1829386,-4.098749,-4.0729136,-4.0397263,-3.91662,-3.2691886,-4.057513,-2.6970236,-4.01161,-4.057513,-2.366877,-2.353572,-4.0170894,-4.477879,-4.07923,-3.849835,-2.935548,-3.9877737,-3.975075,-4.0088964,-2.845665,-1.6586665,-3.3665278,-2.823217,-4.06055,-4.0282607,-4.1631975,-1.8032295,-3.0341456,-2.3414183,-2.346098,-4.1406355,-2.6279995,-4.1555457,-1.6425189,-4.133368,-3.3187113,-2.6327527,-4.105456,-3.970098,-4.1869965,-4.238905,-3.905817,-1.4811141,-2.9236026,-3.9210174,-4.1369863,-2.1883152,-3.9079564,-4.003518,-3.9276984,-4.1517696,-4.199404,-1.9270546,-4.0455747,-3.0042305,-1.4176825,-4.1369863,-4.06055,-1.9814361,-3.975075,-4.2874703,-3.941377,-5.2358694,-4.0729136,-4.1262197,-4.199404,-4.0339556,-3.9801102,-3.8053021,-3.990358,-4.1262197,-3.9627376,-4.000854,-2.8726852,-2.5853655,-1.4663908,-2.1786096,-4.0397263,-3.9676306,-3.195504,-4.0666876,-3.1070342,-3.960312,-4.0697894,-1.8606862,-4.105456,-4.063608,-0.9845603,-4.0397263,-4.07923,-4.0339556,-4.0888796,-4.2253346,-3.9955747,-1.0509171,-4.229811,-3.9877737,-3.948381,-4.022639,-2.6853082,-4.212176,-4.0282607,-4.2078767,-4.0282607,-3.9036882,-4.1088486,-4.0088964,-4.0310984,-4.1226892,-1.1152419,-1.6064878,-4.0170894,-4.1191874,-4.1262197,-4.1262197,-4.0729136,-4.0455747,-1.9401348,-3.9531143,-1.8402673,-4.0824227,-3.941377,-3.9676306,-3.0074544,-0.8391414,-2.7508976,-3.15808,-4.01161,-1.7456073,-4.000854,-4.1369863,-4.0760603,-4.1443152,-4.2481933,-0.65926564,-2.8703191,-4.1369863,-2.967794,-3.9531143,-3.899462,-1.5185924,-4.0310984,-4.199404,-3.9929588,-2.3422334,-4.06055,-4.313954,-4.0760603,-4.0515027,-2.2903206,-1.5399399,-0.9510052,-4.1226892,-3.9852042,-2.3752866,-2.0830736,-4.0455747,-4.000854,-2.3475707,-2.3628242,-4.022639,-2.7227056,-4.133368,-3.941377,-4.0954347,-2.7423193,-4.0729136,-1.5706365,-3.7886932,-3.9276984,-3.9079564,-2.4350026,-4.1406355,-3.9852042,-2.9139292,-3.9955747,-4.1709867,-2.521792,-4.0729136,-4.0515027,-4.0170894,-4.1088486,-2.6593838,-4.006199,-4.0888796,-4.07923,-2.0657396,-4.1226892,-1.5370638,-4.1020894,-4.07923,-4.0485287,-4.238905,-2.5266664,-4.1369863,-1.9563932,-4.220904,-2.0169322,-4.272322,-1.7157165,-4.0515027,-3.9676306,-3.8809364,-2.5480409,-2.6091669,-3.262831,-3.9555004,-4.0339556,-4.1749344,-3.923233,-3.990358,-1.5417633,-4.1555457,-4.0397263,-4.0254407,-3.9725797,-4.0339556,-2.6906064,-4.0397263,-4.006199,-3.9555004,-3.9955747,-2.6466272,-2.3456864,-4.06055,-4.0697894,-0.9808033,-1.1349801,-1.0444766,-3.8423955,-3.0475407,-4.178918,-2.6757812,-4.098749,-4.022639,-1.8506291,-4.0729136,-3.960312,-0.9108233,-4.1555457,-4.0088964,-4.057513,-4.0088964,-2.2534018,-3.8314705,-4.003518,-4.0697894,-2.7109673,-4.1122675,-3.8931983,-1.8156034,-3.0826352,-2.555501,-1.1398504,-3.869011,-2.2380922,-3.600031,-4.1088486,-2.5298872,-4.1191874,-3.9436991,-4.133368,-4.098749,-4.01161,-2.5851614,-4.1262197,-4.238905,-3.960312,-4.105456,-4.0397263,-4.06055,-3.8809364,-2.644167,-4.003518,-1.2063673,-4.0544977,-4.282362,-4.0339556,-4.1157136,-2.450504,-2.3478658,-3.9651775,-2.7242482,-4.0282607,-4.133368,-2.0133638,-3.9676306,-4.2253346,-3.9676306,-2.5678675,-4.0544977,-4.000854,-4.0397263,-2.8968751,-4.1670747,-2.6121953,-3.9676306,-4.0455747,-4.0515027,-4.0397263,-4.1670747,-2.791581,-0.8718561,-4.0697894,-3.9390671,-3.8849852,-2.538228,-3.9877737,-4.2253346,-4.0544977,-2.9525583,-1.5147338,-2.45313,-3.849835,-4.199404,-3.9036882,-3.8332722,-2.189749,-1.3531932,-1.4933144,-4.1226892,-2.5908072,-4.000854,-4.216518,-2.4521527,-2.106345,-4.0888796,-4.0198555,-4.220904,-3.1250384,-4.1020894,-4.000854,-1.9362721,-1.6602154,-2.3707812,-4.085639,-2.3495224,-4.1749344,-4.178918,-2.3250332,-1.9865199,-2.82676,-4.1869965,-4.006199,-3.8973641,-0.88039565,-3.005571,-3.9122665,-2.403548,-2.4122267,-3.899462,-3.7774339,-3.9877737,-4.2673883,-1.0978537,-3.9627376,-1.9431938,-4.1088486,-2.6665816,-2.719915,-4.257684,-3.905817,-2.9851174,-2.55655,-2.2323968,-1.9016819,-4.098749,-4.1369863,-4.098749,-2.994438,-3.1456711,-4.0282607,-0.673532,-4.0485287,-2.4901016,-2.015831,-3.3543708,-3.9801102,-3.043713,-4.1406355,-3.9079564,-1.649062,-4.06055,-1.6809591,-2.1785693,-4.0310984,-4.2078767,-4.199404,-2.0768597,-4.1670747,-4.0254407,-1.2230985,-2.9682865,-4.0666876,-3.9982064,-4.1088486,-4.057513,-4.0921445,-0.7705135,-4.063608,-3.941377,-4.1749344,-4.199404,-4.0921445,-2.5636737,-3.9955747,-3.0150714,-2.4888744,-2.5742846,-4.0666876,-2.5539796,-4.212176,-4.063608,-4.063608,-3.9627376,-4.0760603,-2.6485112,-3.9826496,-4.2036195,-1.7204392,-4.0310984,-4.1480265,-2.0801625,-2.5878212,-3.5607078,-3.9801102,-3.957899,-1.6933012,-4.0515027,-4.1157136,-0.86255705,-4.036831,-4.0088964,-4.01161,-4.133368,-2.0302818,-4.07923,-2.6188667,-2.3173144,-3.990358,-4.1517696,-2.824808,-4.0515027,-3.9826496,-4.39148,-2.6148078,-1.500522,-2.9663198,-2.8219838,-2.295158,-3.353772,-3.8749323,-2.665353,-4.1191874,-0.7840973,-1.2102082,-4.0697894,-4.01161,-2.344513,-4.282362,-2.55493,-4.0921445,-4.1020894,-2.5532212,-3.957899,-1.2242609,-4.0515027,-2.7780159,-4.0254407,-3.9826496,-2.138854,-2.2042677,-3.9390671,-3.9929588,-0.5349352,-3.9436991,-4.1369863,-4.2978706,-3.829676,-0.8056637,-3.990358,-3.9929588,-2.260201,-2.5573146,-2.4689925,-3.9929588,-3.2229645,-2.6097062,-2.287177,-2.9539866,-4.1297793,-3.9929588,-4.1088486,-4.0282607,-3.8973641,-3.990358,-3.9775853,-1.6692549,-2.6739006,-2.644167,-2.69742,-4.07923,-4.3421583,-4.085639,-4.0310984,-4.1262197,-4.1020894,-3.918813,-4.07923,-1.5724453,-4.1369863,-2.4112008,-2.8197026,-2.3563933,-1.1311915,-4.2036195,-4.159355,-0.9076059,-4.2078767,-2.4773452,-4.0697894,-1.2068108,-4.057513,-4.0426407,-3.9775853,-3.9929588,-3.9801102,-3.9367692,-3.588575,-4.1749344,-1.8580782,-4.0254407,-1.0627452,-3.0355818,-4.133368,-3.941377,-4.0339556,-4.1262197,-4.022639,-4.0143414,-2.395698,-4.036831,-4.1262197,-3.9344838,-4.0921445,-4.0888796,-3.975075,-4.006199,-3.92546,-1.8204322,-4.085639,-3.990358,-3.9929588,-3.948381,-4.0544977,-4.0254407,-4.0397263,-1.787169,-4.0455747,-2.833934,-2.1593277,-4.1517696,-4.3786144,-2.2239249,-4.0310984,-4.252913,-3.9144378,-1.1478872,-1.2989646,-3.9725797,-4.057513,-3.2077324,-4.0666876,-3.9929588,-0.74677557,-2.071264,-0.993913,-0.7754387,-4.0397263,-1.2127619,-2.6654758,-3.9929588,-2.0610774,-2.6631508,-4.0143414,-4.006199,-4.0310984,-4.1226892,-4.01161,-4.0921445,-3.8789258,-1.6596702,-4.596183,-4.0697894,-2.395962,-4.003518,-1.5345333,-2.5301566,-3.90157,-2.0894427,-4.0760603,-4.000854,-3.3242686,-2.4703994,-3.190543,-4.1191874,-2.7818487,-4.07923,-1.3018763,-4.1829386,-4.006199,-4.1709867,-1.6993079,-2.801201,-3.946034,-4.1369863,-3.905817,-4.098749,-2.089736,-3.8911307,-1.7921171,-4.1709867,-3.0728078,-3.957899,-4.1555457,-4.3786144,-2.2444677,-3.975075,-4.105456,-3.9390671,-1.7551101,-4.159355,-4.1443152,-4.330656,-4.063608,-3.840556,-3.9826496,-4.1122675,-3.8709757,-3.869011,-3.9676306,-4.0729136,-2.595795,-2.6467447,-1.3366714,-4.0170894,-3.8612385,-2.7319012,-4.07923,-3.941377,-3.970098,-4.036831,-4.000854,-4.063608,-4.0455747,-4.1020894,-4.1157136,-4.098749,-4.199404,-0.7875063,-3.9555004,-1.4668566,-4.212176,-2.7272084,-2.267795,-3.9775853,-3.9801102,-4.0426407,-3.857404,-4.0088964,-4.0310984,-2.7965305,-3.8350816,-1.0173172,-4.1406355,-4.372322,-4.0729136,-4.0544977,-2.4496076,-4.0921445,-2.8550556,-4.1088486,-4.1020894,-4.0954347,-4.01161,-3.9929588,-4.1122675,-3.957899,-3.2310112,-1.5460665,-3.9929588,-0.796151,-2.5267558,-2.8972936,-4.676373,-2.406444,-2.7842615,-1.6787269,-2.274326,-2.8673794,-4.0339556,-2.5472925,-2.1123803,-3.859317,-3.351384,-4.0921445,-2.047945,-4.057513,-3.950741,-2.17277,-3.9982064,-4.1555457,-3.9852042,-1.2974583,-4.0515027,-4.0888796,-3.9651775,-2.2945828,-4.01161,-1.0196129,-1.5019596,-4.4254174,-2.878858,-3.970098,-4.2253346,-4.1910934,-4.1191874,-4.07923,-2.9314542,-3.975075,-3.899462,-4.0824227,-1.8348331,-2.3661375,-0.51605535,-3.8809364,-2.4512527,-4.1952286,-4.199404,-2.79306,-1.6617941,-4.1020894,-3.9555004,-3.8314705,-1.573993,-4.0888796,-3.990358,-4.216518,-2.9554195,-2.943155,-4.0544977,-1.9396732,-2.2188938,-4.003518,-3.9676306,-4.01161,-4.0397263,-2.5638678,-4.105456,-4.1369863,-4.1480265,-4.272322,-3.960312,-1.7587909,-4.0666876,-4.1480265,-4.0254407,-3.975075,-4.3421583,-1.9949006,-3.2518053,-3.9390671,-1.6470228,-2.2354403,-3.9651775,-4.085639,-4.1910934,-2.555025,-3.2811768,-3.1688945,-2.6458056,-3.9852042,-4.0455747,-0.9393863,-1.595718,-1.5626719,-4.057513,-2.687239,-3.941377,-4.178918,-3.910106,-3.1799848,-2.3579016,-4.0088964,-4.0254407,-2.0989587,-3.899462,-3.9852042,-4.0426407,-3.6397893,-4.178918,-2.1554053,-4.000854,-2.7412956,-4.3539734,-4.057513,-4.003518,-4.0666876,-4.0515027,-3.9322104,-1.0367608,-3.90157,-4.277313,-4.0282607,-2.6374435,-2.850335,-2.2933311,-1.9128795,-2.6460402,-0.98564625,-4.1749344,-3.0085344,-1.1118096,-3.950741,-2.100092,-3.9627376,-4.022639,-4.212176,-4.0544977,-1.7476336,-4.1020894,-3.9775853,-4.1122675,-4.0485287,-4.212176,-4.1226892,-3.0079942,-2.7346263,-1.8996994,-2.3475115,-2.716176,-2.589054,-2.2598147,-3.960312,-4.0824227,-0.8895543,-2.9141467,-4.1517696,-2.138125,-3.859317,-1.9700311,-4.0760603,-4.1631975,-4.0088964,-3.9079564,-4.1480265,-3.0126085,-3.9276984,-4.0455747,-1.9625503,-2.6868522,-4.0954347,-4.1157136,-3.8769245,-4.098749,-1.6590774,-2.0094454,-4.0088964,-4.2253346,-4.229811,-3.8931983,-3.9676306,-4.1020894,-2.4301224,-2.1942859,-4.0143414,-1.7395264,-3.957899,-4.022639,-4.003518,-3.4147224,-4.272322,-4.336369,-3.9852042,-3.9929588,-4.1157136,-4.1829386,-3.948381,-3.9210174,-1.7113718,-2.791417,-4.0397263,-1.8132173,-2.6091669,-3.9627376,-3.975075,-1.2666016,-4.0088964,-3.960312,-3.9955747,-4.1869965,-3.923233,-4.0888796,-2.4409614,-4.303166,-3.899462,-1.1299813,-2.5326798,-2.886751,-3.2842262,-4.1631975,-4.07923,-4.0515027,-3.869011,-4.3194504,-2.4841614,-0.56156707,-4.0397263,-4.1088486,-4.1191874,-3.941377,-3.7181575,-4.2078767,-2.3377104,-3.9344838,-4.1088486,-1.6749485,-3.990358,-2.6894376,-3.7822237,-1.9490709,-2.2400687,-4.0088964,-4.085639,-3.9322104,-4.133368,-1.1368867,-4.2481933,-4.970933,-3.9367692,-3.9627376,-1.4192457,-3.8769245,-3.1576989,-4.1088486,-3.957899,-2.5706203,-1.372026,-4.1709867,-2.6285625,-2.350353,-4.063608,-4.1406355,-4.4325347,-3.910106,-3.948381,-3.950741,-4.5467978,-1.8057134,-3.9877737,-3.91662,-2.5502937,-2.0670059,-4.0143414,-3.905817,-2.7108312,-3.9367692,-2.3023832,-4.0088964,-2.4835153,-4.2036195,-4.2253346,-4.022639,-2.3242495,-4.1555457,-0.94727755,-3.899462,-2.1085176,-4.1088486,-4.4397707,-4.022639,-2.91241,-2.2666178,-3.957899,-4.0824227,-3.9531143,-2.8592525,-3.941377,-4.199404,-2.7098787,-4.1191874,-4.1517696,-1.6985922,-3.52911,-2.6361802,-4.1122675,-2.0077689,-4.303166,-2.253877,-3.5568688,-3.8849852,-1.1645607,-0.5275411,-2.405634,-4.1869965,-4.1191874,-1.0862226,-3.262831,-4.2036195,-3.9826496,-3.0616674,-4.036831,-4.238905,-3.9651775,-4.220904,-1.7864552,-4.2036195,-0.68002254,-3.9210174,-0.9854719,-4.000854,-4.1297793,-4.0198555,-2.7465875,-2.5162745,-3.9929588,-2.6658442,-1.8638906,-4.063608,-4.1122675,-3.4251792,-4.1631975,-1.5230685,-4.0760603,-2.3834774,-0.99969125,-3.3543708,-3.7018447,-4.0254407,-2.1751838,-4.1869965,-3.975075,-2.04576,-4.1555457,-2.6014755,-2.6867235,-3.146413,-4.133368,-3.8931983,-3.9852042,-1.6329538,-2.1695466,-2.4693048,-4.003518,-4.0666876,-4.0426407,-4.0282607,-2.8013687,-2.711649,-2.9609563,-3.9122665,-2.7614815,-0.65991807,-3.9036882,-4.1297793,-3.9929588,-4.1122675,-3.923233,-2.4514027,-4.2253346,-4.199404,-3.957899,-4.1020894,-4.1122675,-4.0254407,-2.6709085,-4.418414,-2.632639,-4.1406355,-2.3715913,-4.702295,-4.0397263,-3.970098,-3.950741,-4.0339556,-4.0760603,-4.2078767,-4.0824227,-2.0953782,-2.3133152,-2.771076,-3.7351067,-4.0310984,-1.4691147,-2.3062828,-4.0515027,-2.2387347,-3.0656574,-4.057513,-2.5323186,-3.206878,-3.9390671,-1.6026806,-2.6930835,-3.941377,-3.9955747,-1.643276,-4.1406355,-2.6134996,-2.70327,-4.1869965,-4.0170894,-1.947283,-0.77886623,-4.0760603,-4.0170894,-1.9492124,-4.1262197,-3.9436991,-2.0419772,-2.6697917,-4.2673883,-2.999704,-3.9877737,-4.0729136,-4.0697894,-0.78006905,-2.7007341,-4.0397263,-4.0339556,-1.8102448,-4.0760603,-2.603279,-4.2253346,-4.0824227,-1.0308981,-3.957899,-3.957899,-2.700202,-4.0544977,-4.1829386,-4.0397263,-4.0310984,-2.3594756,-2.8198776,-2.572498,-3.970098,-4.1122675,-3.8911307,-2.38444,-4.1226892,-4.199404,-3.9531143,-4.212176,-4.2625093,-4.1088486,-4.0282607,-2.3114648,-1.7560766,-3.9555004,-4.0666876,-4.212176,-3.9852042,-1.1338024,-2.5341282,-1.5087229,-2.3681746,-2.6579344,-2.9931316,-3.9801102,-4.2078767,-2.6730258,-2.8148296,-4.1191874,-3.9651775,-4.0426407,-3.990358,-4.0760603,-3.810411,-2.3265486,-2.2746754,-3.9801102,-4.1297793,-4.1369863,-2.6207445,-4.0170894,-0.5296782,-3.4216657,-0.98080075,-3.9929588,-3.960312,-2.033076,-2.4657269,-3.8423955,-3.957899,-4.1020894,-2.5328608,-4.0198555,-2.7492576,-2.2622323,-3.8749323,-4.0921445,-4.07923,-4.272322,-4.2343345,-4.0485287,-4.1088486,-2.2039285,-4.1262197,-4.0426407,-2.4961245,-2.2681386,-3.950741,-4.0697894,-3.337903,-1.574162,-3.9299486,-4.0888796,-4.1226892,-4.006199,-4.0143414,-2.4585056,-4.0088964,-4.1262197,-4.1517696,-2.1788495,-4.1297793,-3.9955747,-3.9877737,-4.105456,-4.1555457,-2.7178338,-4.0697894,-2.487895,-4.238905,-2.4491599,-3.946034,-4.098749,-0.88118124,-2.3933969,-4.006199,-4.0954347,-4.1297793,-2.0533361,-2.757217,-4.0666876,-4.238905,-4.1670747,-2.333063,-3.918813,-4.0339556,-4.229811,-4.06055,-2.4598029,-3.9144378,-4.4047384,-2.6385953,-1.6523709,-4.1262197,-2.1807745,-4.022639,-4.036831,-2.168217,-4.1670747,-0.9095795,-2.9065993,-2.4974556,-2.7917452,-4.0697894,-1.5976136,-4.1191874,-1.7152208,-4.0544977,-4.0921445,-3.9122665,-0.59554636,-3.9929588,-2.4048254,-3.9390671,-0.7875778,-3.8931983,-1.156463,-2.4404495,-4.0397263,-4.098749,-3.9929588,-1.02914,-2.9410672,-4.06055,-4.1670747,-4.006199,-2.793554,-4.2343345,-3.9651775,-4.1480265,-2.6330943,-2.6684306,-4.1226892,-1.5702127,-4.0426407,-2.7863634,-3.9877737,-4.1369863,-4.0921445,-2.8233933,-3.9775853,-3.8729498,-4.06055,-1.6731963,-4.0760603,-4.1869965,-2.2961004,-4.252913,-4.1122675,-4.2078767,-3.9929588,-1.181316,-3.9982064,-2.7503006,-3.9079564,-4.0143414,-4.1480265,-3.957899,-4.243524,-3.8952763,-2.2968874,-2.6727762,-3.857404,-1.5549648,-4.0544977,-3.2009432,-4.2625093,-4.1443152,-4.1088486,-1.83787,-1.5076892,-4.199404,-3.829676,-4.022639,-2.7134268,-2.862717,-3.600031,-3.058623,-2.732044,-4.0310984,-4.036831,-4.063608,-2.8945818,-3.9036882,-1.050649,-2.7134268,-2.100927,-4.277313,-4.2078767,-2.7970285,-0.96532804,-1.3051448,-4.0666876,-3.905817,-2.5981002,-4.1480265,-3.9852042,-1.9427521,-4.003518,-2.225437,-2.6279995,-2.3124433,-2.075123,-0.9091965,-3.1704614,-3.9036882,-1.8204675,-4.824933,-2.646275,-3.960312,-4.0282607,-2.4109275,-1.9586045,-4.1480265,-2.47189,-3.9144378,-2.4208727,-4.199404,-2.7373686,-4.1369863,-1.2889917,-2.6228526,-4.0729136,-3.9982064,-3.975075,-2.791089,-2.4506538,-4.003518,-4.238905,-4.1829386,-2.4882212,-3.8890724,-4.272322,-2.084939,-2.9224923,-2.6880138,-4.01161,-4.1369863,-2.1730068,-2.850335,-2.7100148,-4.0397263,-3.8631685,-4.159355,-2.5878212,-1.662135,-3.775849,-1.2578409,-1.9900548,-1.0054159,-4.229811,-1.5739831,-4.1369863,-3.0109744,-2.2440023,-3.9210174,-4.063608,-3.8651073,-4.1829386,-3.8749323,-2.6209657,-0.7529117,-3.9877737,-4.006199,-4.6639705,-4.1952286,-4.178918,-4.1406355,-2.9376094,-4.063608,-4.2078767,-2.238597,-3.9676306,-3.4498568,-4.1709867,-3.258964,-3.9344838,-4.0339556,-2.428911,-3.990358,-4.3539734,-2.6999364,-3.9436991,-4.1443152,-4.0339556,-2.607983,-2.1449916,-3.9036882,-3.0647335,-4.057513,-2.34235,-4.1631975,-2.460032,-1.578911,-3.9982064,-4.1020894,-4.0921445,-4.0544977,-4.057513,-3.9929588,-3.960312,-2.7363563,-3.9877737,-3.8931983,-4.1122675,-1.7313676,-3.957899,-2.0959728,-4.07923,-4.006199,-3.4589126,-4.0921445,-4.2078767,-1.7605131,-4.0697894,-3.159226,-2.4389904,-1.1600693,-1.9025916,-3.8536031,-2.758431,-4.257684,-4.238905,-4.0697894,-4.0088964,-4.133368,-1.7139294,-4.1088486,-3.9775853,-2.8253393,-0.53083307,-4.1555457,-4.0485287,-1.6848804,-2.4888744,-2.82676,-4.0485287,-3.9725797,-3.899462,-2.304569,-4.1910934,-4.0729136,-2.0742729,-1.9978445,-3.990358,-4.1670747,-3.9929588,-3.1819954,-4.0544977,-4.0697894,-1.7517596,-2.6735253,-2.6329803,-3.9955747,-1.1240754,-3.8829563,-3.9390671,-4.036831,-2.8471541,-2.4006712,-4.036831,-2.1086538,-1.8106558,-3.9852042,-3.9982064,-2.157686,-4.0824227,-2.898551,-3.8190622,-4.07923,-4.133368,-4.0760603,-3.9531143,-1.8659298,-4.0515027,-4.0282607,-2.8730807,-4.1122675,-4.0666876,-2.5079994,-3.910106,-4.0921445,-4.0824227,-2.4255083,-4.159355,-4.006199,-3.9276984,-4.0515027,-4.0485287,-4.0824227,-4.000854,-1.7416266,-4.133368,-2.4345698,-4.0760603,-3.8479633,-4.0697894,-1.2610444,-3.960312,-3.975075,-3.2741435,-4.1480265,-3.9801102,-4.0282607,-2.2739773,-0.5842042,-1.3221332,-1.3819077,-4.2926397,-4.1443152,-4.330656,-1.6458954,-1.1692516,-2.8124137,-3.9651775,-2.0134184,-4.1952286,-2.649811,-3.957899,-4.3786144,-3.9826496,-4.0485287,-2.6719036,-2.9412987,-4.0310984,-2.8211048,-3.0104308,-4.0310984,-1.2043638,-4.0254407,-4.0824227,-3.9801102,-2.5968413,-4.0729136,-4.036831,-3.9322104,-3.9826496,-2.604877,-3.9436991,-2.1845286,-4.1709867,-2.267893,-4.212176,-4.000854,-4.1262197,-4.0455747,-3.9079564,-2.1293607,-3.9627376,-2.560579,-4.1020894,-2.5463586,-4.0397263,-2.6732755,-2.758583,-2.9742408,-4.1191874,-3.8479633,-4.3194504,-4.1829386,-4.0143414,-4.1406355,-2.6709085,-4.0954347,-3.511543,-1.1918039,-4.1262197,-2.8370194,-2.9991744,-2.6388261,-4.0455747,-3.9555004,-4.1555457,-3.9367692,-1.572376,-2.4514778,-3.9725797,-4.003518,-4.006199,-3.9676306,-2.3267736,-4.022639,-4.0485287,-2.902133,-1.1009595,-1.7847239,-3.9826496,-4.0921445,-4.4397707,-4.057513,-2.6406763,-4.1443152,-1.9018508,-2.4175322,-4.220904,-4.1122675,-3.9801102,-2.1248145,-4.057513,-2.395962,-4.216518,-2.5358546,-2.346039,-4.628755,-2.0801625,-4.1122675,-4.216518,-4.022639,-4.199404,-2.4053645,-4.3085265,-3.9982064,-2.344513,-4.085639,-1.0693152,-4.1555457,-2.8094978,-4.0888796,-2.1535516,-3.957899,-4.2926397,-2.470478,-4.0544977,-4.1406355,-3.9676306,-4.2253346,-4.1262197,-4.057513,-2.6938686,-3.9725797,-4.0426407,-0.9102905,-2.4664245,-4.2481933,-4.1122675,-3.9531143,-3.9775853,-4.2926397,-4.0143414,-2.7181108,-4.1443152,-4.085639,-3.9982064,-4.1670747,-2.8859348,-4.0485287,-4.057513,-2.5045974,-1.2817609,-3.923233,-2.2400687,-4.1869965,-2.4193387,-2.8253393,-3.975075,-3.9651775,-2.859828,-3.0158954,-4.003518,-3.923233,-1.9808778,-1.6439761,-1.4700447,-4.1517696,-3.6306343,-4.1297793,-4.1262197,-4.1122675,-2.547012,-1.2451042,-2.321129,-1.7189656,-4.2343345,-4.0921445,-4.0339556,-4.0088964,-1.9447548,-1.1399088,-3.9299486,-3.8769245,-4.1369863,-3.4366176,-1.7096024,-3.9955747,-4.0426407,-2.3018515,-3.1557975,-2.745111,-3.857404,-4.4115224,-4.277313,-4.1631975,-2.628788,-1.4306127,-1.9982405,-2.2109373,-4.085639,-4.1020894,-4.2673883,-4.229811,-4.1088486,-4.0515027,-4.0954347,-4.0143414,-2.7192202,-2.5336752,-2.4925668,-1.0946149,-3.975075,-2.0227869,-1.3876423,-3.9299486,-2.0739899,-1.7560463,-4.257684,-2.5303364,-3.9955747,-4.0310984,-3.975075,-2.2412684,-3.1314487,-2.7532942,-3.9144378,-3.948381,-4.0666876,-4.0282607,-2.053756,-0.8466123,-1.9091005,-4.1406355,-3.625009,-3.92546,-2.8947897,-3.7308068,-3.960312,-4.282362,-4.057513,-4.313954,-4.01161,-4.057513,-1.583042,-4.2036195,-3.9775853,-2.5321379,-3.0292978,-3.941377,-4.229811,-4.01161,-4.0760603,-4.006199,-4.2481933,-4.1829386,-3.098637,-2.6492195,-3.9801102,-4.0339556,-3.9344838,-2.7449634,-4.1631975,-3.9627376,-3.296118,-1.8569136,-3.9299486,-4.3661194,-3.3573782,-3.8931983,-0.88160497,-4.06055,-4.0666876,-2.5044281,-2.2964149,-4.000854,-4.0397263,-1.7825335,-1.9505823,-1.7462718,-1.1197234,-4.098749,-4.000854,-4.098749,-1.2751927,-4.133368,-4.0729136,-2.4675121,-1.8688792,-3.9390671,-2.4332738,-2.7253735,-3.8931983,-1.8249788,-3.9627376,-4.063608,-4.257684,-4.0282607,-4.220904,-4.0198555,-4.01161,-1.673009,-4.0198555,-4.2253346,-3.6479614,-4.0254407,-2.3037145,-3.948381,-1.3836228,-3.899462,-3.8749323,-4.006199,-2.7876618,-2.000066,-1.6964655,-3.970098,-3.0098882,-2.6589,-3.402498,-1.8438234,-1.050649,-3.948381,-2.7127423,-4.036831,-4.282362,-4.036831,-2.9305496,-4.06055,-1.433991,-0.9061662,-1.9735585,-4.0760603,-3.1926033,-2.1702127,-2.0874605,-4.0544977,-2.6971557,-3.918813,-4.277313,-3.9367692,-3.9826496,-2.6216307,-3.918813,-3.905817,-2.6488652,-2.2553062,-2.8297946,-1.2758976,-4.0143414,-3.9531143,-3.0126085,-4.0888796,-4.0921445,-4.0455747,-4.238905,-4.063608,-4.0170894,-3.990358,-4.0254407,-3.950741,-4.0254407,-4.1157136,-2.272833,-2.8914738,-4.1297793,-3.960312,-4.0282607,-3.950741,-4.0339556,-4.159355,-3.7112858,-4.0339556,-3.9725797,-2.7436395,-2.1864789,-4.098749,-4.1555457,-4.0310984,-1.6794614,-4.105456,-3.9775853,-2.1122086,-4.1670747,-0.9607392,-3.905817,-2.2985709,-4.0310984,-3.8890724,-2.3492854,-3.905817,-2.6299171,-0.77159774,-4.1406355,-2.5856717,-1.8387469,-3.322037,-2.7750056,-2.816043,-4.0515027,-2.2586594,-4.1517696,-2.1637883,-4.036831,-3.9651775,-3.9210174,-3.211167,-4.1297793,-4.1869965,-0.7033478,-4.07923,-3.0310025,-4.0426407,-4.0515027,-2.5335844,-3.4996562,-4.0282607,-1.9906511,-3.8829563,-4.3085265,-1.1540301,-2.425226,-3.918813,-4.0397263,-4.0824227,-3.975075,-3.9651775,-3.3958523,-2.825694,-3.1696773,-3.910106,-2.4164937,-3.3088841,-4.0339556,-3.9651775,-4.1555457,-3.91662,-3.9531143,-4.0921445,-2.884104,-4.1226892,-2.2398846,-2.3237467,-1.4952668,-4.0088964,-4.1555457,-4.0310984,-3.941377,-3.91662,-2.105939,-2.209389,-3.957899,-4.07923,-2.159213,-4.0088964,-3.1638398,-3.941377,-4.0310984,-3.8631685,-4.0729136,-4.5285163,-4.0666876,-3.9982064,-3.0848854,-1.8123217,-2.9561377,-2.6919081,-3.92546,-4.0515027,-2.8406773,-3.9852042,-2.2640786,-3.9929588,-3.0085344,-4.1555457,-4.0170894,-2.4326992,-2.6670737,-1.6253139,-2.2705042,-2.4925668,-4.282362,-4.085639,-1.4197471,-4.006199,-2.977249,-4.1670747,-4.2343345,-4.022639,-4.0824227,-4.1297793,-4.0729136,-4.0515027,-4.220904,-3.9725797,-1.5522052,-3.948381,-4.133368,-4.0254407,-2.4281998,-4.098749,-4.212176,-4.199404,-3.9276984,-4.272322,-4.1020894,-4.1631975,-2.7813678,-2.072672,-4.277313,-2.2315829,-1.6219932,-4.0824227,-2.9607143,-1.7932354,-1.4523004,-2.8638778,-2.5131528,-4.2036195,-2.6354923,-0.7771729,-4.4254174,-4.1555457,-4.1406355,-2.6832583,-2.7820091,-3.9676306,-2.3376527,-2.2027009,-3.9801102,-3.9367692,-2.4114058,-4.1952286,-4.0544977,-3.849835,-3.9651775,-4.0666876,-3.990358,-2.3449233,-3.9955747,-1.5084834,-4.057513,-3.3181593,-2.463255,-2.536492,-2.6794403,-0.852425,-4.1910934,-4.0170894,-4.0697894,-3.9367692,-4.159355,-3.615063,-4.159355,-4.06055,-4.1020894,-4.0455747,-3.5282145,-4.1262197,-1.8501408,-4.1191874,-3.1471565,-2.291979,-1.7131071,-2.9965367,-4.0729136,-4.036831,-1.538591,-4.2874703,-3.9955747,-3.9079564,-2.6070168,-3.2392097,-3.910106,-4.1910934,-1.8363943,-4.257684,-2.6341205,-2.0227587,-2.3990736,-2.0651233,-3.9210174,-4.0729136,-2.4861865,-4.272322,-3.990358,-3.9555004,-4.1443152,-3.9955747,-3.9775853,-4.0310984,-4.0666876,-4.098749,-4.036831,-1.7943237,-2.949244,-4.063608,-4.220904,-4.1555457,-4.0088964,-1.4863949,-3.2396698,-4.1829386,-4.212176,-2.2487237,-2.5661073,-1.9713194,-4.0544977,-4.2978706,-3.9079564,-3.9651775,-1.0241009,-3.9852042,-3.9390671,-2.579689,-2.493309,-1.8857648,-4.133368,-4.1869965,-3.946034,-2.9134948,-3.9725797,-2.9273984,-0.8145516,-4.036831,-2.617546,-4.003518,-3.970098,-2.8881829,-3.899462,-4.1157136,-2.6163392,-4.0088964,-2.0739586,-2.0099332,-3.8890724,-3.1365008,-4.212176,-3.9531143,-3.9436991,-4.1555457,-1.1063812,-3.0813546,-4.1020894,-4.8430176,-4.1088486,-3.9436991,-1.9952936,-1.010801,-4.1555457,-2.5718055,-4.1122675,-4.0170894,-4.1406355,-4.003518,-4.1406355,-0.78020805,-2.2131832,-3.9531143,-3.90157,-4.1517696,-2.611978,-2.7576718,-3.9775853,-3.8952763,-3.975075,-2.3244174,-2.3849542,-4.0310984,-4.006199,-2.585774,-4.022639,-4.229811,-4.330656,-3.9436991,-1.7869254,-4.220904,-4.2036195,-3.8890724,-1.7265252,-4.2343345,-4.133368,-3.5158687,-2.3910425,-4.0170894,-2.3585062,-3.9531143,-3.990358,-4.098749,-4.1226892,-2.2109373,-3.9651775,-4.01161,-1.0982755,-4.1157136,-2.089638,-4.022639,-4.178918,-2.7449634,-4.1910934,-3.9651775,-4.0729136,-3.9955747,-4.057513,-1.6762923,-4.1122675,-3.948381,-4.036831,-2.0004637,-4.1262197,-1.9875492,-3.9775853,-4.057513,-2.5033288,-4.0282607,-2.0140204,-2.5570278,-4.0697894,-4.1088486,-2.025252,-4.1555457,-4.06055,-4.199404,-4.1869965,-2.3095143,-4.0455747,-4.0921445,-2.124885,-4.036831,-0.4758744,-4.199404,-4.0254407,-4.105456,-4.199404,-4.1226892,-3.957899,-3.9826496,-4.212176,-4.2926397,-4.0282607,-0.759989,-4.1020894,-4.1157136,-4.000854,-0.79009783,-4.2036195,-2.3958302,-4.098749,-4.1709867,-3.910106,-4.0455747,-4.0485287,-2.320796,-2.398078,-3.869011,-4.000854,-3.8612385,-3.6939127,-3.970098,-1.6484245,-3.9555004,-2.0340214,-2.756006,-3.905817,-4.2978706,-4.07923,-4.07923,-1.8481741,-3.9299486,-3.8729498,-4.085639,-2.036782,-4.0760603,-2.5704231,-3.8314705,-2.589054,-2.5688486,-4.0088964,-2.8122416,-3.9276984,-2.0670059,-4.133368,-3.946034,-4.585846,-4.2673883,-3.8809364,-1.9992976,-4.057513,-2.5842447,-2.5630918,-4.0254407,-1.5528201,-3.19343,-4.1517696,-4.0143414,-2.943155,-3.9651775,-4.212176,-4.07923,-2.2434914,-4.0170894,-2.4784606,-1.4190578,-4.1088486,-4.252913,-4.0954347,-2.7772217,-3.9955747,-4.159355,-2.3096764,-0.96743786,-3.8729498,-3.957899,-4.0254407,-2.8949978,-3.2194355,-4.0170894,-4.1443152,-4.085639,-3.9877737,-3.9826496,-4.199404,-3.155039,-4.003518,-3.9676306,-3.1930165,-4.1952286,-4.1020894,-2.4901836,-3.9955747,-4.1670747,-2.889414,-3.7112858,-1.2212638,-1.4343007,-3.9982064,-3.9929588,-4.06055,-4.0310984,-2.3168194,-1.9524078,-4.0310984,-1.5629044,-3.356775,-4.105456,-2.7965305,-4.2078767,-4.0397263,-1.6184884,-0.79622227,-3.90157,-4.252913,-4.06055,-4.0282607,-4.0485287,-1.8121326,-4.485919,-4.1262197,-4.0455747,-4.1631975,-4.006199,-4.0544977,-3.910106,-3.9276984,-1.153354,-2.0871363,-4.1406355,-4.7443314,-0.8702017,-1.1495111,-2.131975,-4.01161,-4.159355,-4.2926397,-4.133368,-4.0544977,-4.1020894,-4.238905,-2.6631508,-2.697552,-4.1631975,-3.950741,-2.7119222,-2.9876866,-3.8829563,-4.0426407,-4.1443152,-1.887398,-3.9676306,-4.1910934,-2.2428882,-2.6100302,-4.1631975,-4.133368,-4.06055,-4.1869965,-3.92546,-3.970098,-4.0824227,-3.91662,-2.6068022,-4.07923,-0.831022,-2.2660306,-4.2343345,-2.5369484,-4.0954347,-2.0999584,-2.000623,-3.9344838,-3.0407915,-3.9852042,-2.1768134,-4.252913,-2.6550498,-3.91662,-4.0143414,-4.220904,-4.0254407,-3.8829563,-2.7186651,-3.990358,-4.1709867,-2.3379414,-2.4652622,-2.65661,-1.7152759,-2.3720906,-4.1555457,-3.8554993,-2.8251622,-4.0544977,-2.0062068,-2.970262,-4.485919,-4.0544977,-4.199404,-2.514624,-1.6792966,-1.8957407,-1.5824538,-2.2735293,-1.0767921,-2.3523173,-4.0824227,-2.9506612,-3.9144378,-2.7434926,-4.212176,-4.006199,-2.756006,-3.960312,-3.9651775,-4.454615,-2.6022172,-2.397151,-4.0921445,-4.1910934,-1.977794,-3.970098,-4.2036195,-4.2078767,-4.0729136,-1.166221,-4.2673883,-3.946034,-3.960312,-4.1406355,-1.8789517,-2.595377,-4.1020894,-4.1122675,-4.1157136,-4.098749,-4.330656,-3.941377,-2.1784894,-4.0888796,-3.9531143,-4.1088486,-2.6925607,-2.5674756,-3.9531143,-4.0282607,-4.006199,-4.2343345,-1.2807074,-1.9695859,-3.9955747,-4.1369863,-4.1157136,-2.2675495,-1.3689713,-3.9036882,-2.7277746,-2.8326702,-4.0666876,-1.5152458,-4.0397263,-3.9627376,-1.6263666,-1.0219542,-4.0544977,-4.2481933,-2.6413722,-4.243524,-4.1191874,-1.7475003,-4.178918,-2.2543054,-3.9852042,-2.163286,-4.0397263,-4.0170894,-2.7208898,-4.3085265,-2.1722968,-4.0824227,-3.9929588,-4.01161,-4.0088964,-3.9079564,-3.3099651,-2.8573396,-4.1157136,-2.305961,-2.1114202,-3.9826496,-4.0426407,-3.990358,-2.074619,-3.9122665,-0.8754846,-4.0397263,-2.5211754,-2.5247986,-1.9816393,-4.0254407,-2.5831268,-4.1952286,-2.6877556,-4.0729136,-4.0455747,-3.9210174,-2.2411296,-3.0063772,-2.0311923,-4.0666876,-4.1480265,-4.282362,-4.0954347,-4.006199,-3.923233,-2.2852812,-4.1480265,-3.9436991,-1.5376576,-4.0426407,-4.063608,-3.9801102,-4.057513,-4.0339556,-0.6368713,-4.0088964,-4.1829386,-1.7661697,-3.9144378,-4.0666876,-4.0455747,-4.372322,-3.9955747,-4.07923,-2.2616024,-3.9651775,-3.9852042,-3.8809364,-4.036831,-4.0397263,-4.1191874,-4.0254407,-3.9627376,-4.0254407,-4.1480265,-2.879862,-4.057513,-4.057513,-1.5201262,-4.0515027,-4.1369863,-1.8546506,-4.105456,-4.0143414,-4.1020894,-3.540922,-4.01161,-3.9436991,-4.022639,-4.003518,-4.1406355,-0.6112079,-2.6317298,-0.82572836,-4.003518,-4.0198555,-1.7084224,-2.0109107,-2.3171494,-2.0167391,-3.946034,-3.7167745,-4.0455747,-4.178918,-2.3761683,-4.1020894,-4.1631975,-2.7687352,-2.7192202,-4.105456,-1.697521,-3.9929588,-3.364069,-4.1297793,-3.9322104,-4.0824227,-4.277313,-3.9725797,-3.9390671,-4.07923,-2.7255144,-3.2888408,-2.6492195,-4.1631975,-4.07923,-3.2373745,-3.9367692,-0.92768854,-3.9079564,-2.7531438,-3.957899,-2.6080904,-1.4408345,-4.1122675,-3.184826,-4.0544977,-1.7387995,-2.2777295,-3.9676306,-4.000854,-4.098749,-2.9575777,-1.0556339,-2.7552512,-4.0455747,-4.0143414,-2.4591918,-3.9676306,-3.1416123,-4.0515027,-4.1443152,-1.5461504,-2.7894537,-4.0729136,-4.1020894,-2.8381135,-4.1088486,-4.2673883,-1.1538184,-1.7722143,-4.0515027,-4.0485287,-4.0729136,-4.0254407,-3.9775853,-1.787169,-2.5698318,-4.0544977,-2.844737,-2.8979218,-2.6279995,-3.946034,-1.4220878,-3.4065347,-1.2588836,-3.9982064,-4.036831,-3.211167,-2.2646146,-3.9276984,-2.514191,-4.0198555,-2.374972,-4.06055,-1.7928734,-2.2388725,-3.8554993,-3.9877737,-4.640179,-3.9531143,-4.1952286,-1.950819,-3.9555004,-4.0310984,-4.0310984,-2.8567677,-4.2874703,-1.1932038,-2.7319012,-2.054747,-4.1829386,-3.90157,-2.7631683,-2.6699157,-4.2343345,-3.975075,-3.957899,-2.1006598,-1.7213314,-3.9929588,-3.9826496,-4.000854,-4.0544977,-4.1088486,-2.6754043,-2.9585402,-0.91614014,-2.7892907,-3.0481324,-4.022639,-4.212176,-2.0391831,-4.7908773,-4.085639,-3.840556,-4.01161,-4.0397263,-3.1535265,-3.948381,-2.989494,-2.309082,-2.2022362,-1.2616009,-3.1314487,-2.728909,-3.0662746,-4.0921445,-4.0088964,-2.0051591,-2.6083057,-4.3085265,-2.4996278,-1.881648,-1.8662415,-1.0463307,-4.1555457,-4.085639,-3.975075,-3.9299486,-3.5947862,-2.9334962,-3.5446217,-2.7876618,-3.9877737,-4.022639,-3.742369,-3.9651775,-4.1088486,-4.036831,-4.000854,-2.9737415,-4.1517696,-3.9955747,-3.9299486,-4.085639,-4.1088486,-4.519656,-1.8178979,-4.1191874,-3.849835,-3.2163708,-3.8890724,-2.2442815,-3.92546,-1.5399858,-4.098749,-4.1191874,-1.8448235,-3.9299486,-3.1264548,-3.9775853,-4.01161,-3.9210174,-4.0824227,-3.9299486,-3.975075,-4.07923,-3.970098,-4.0310984,-1.1010097,-4.036831,-4.0485287,-0.9782746,-4.1157136,-1.2606288,-2.5543594,-2.7837777,-1.5733773,-3.950741,-4.1262197,-1.8960327,-2.798026,-1.2281611,-2.232714,-4.000854,-4.022639,-4.0485287,-3.9322104,-4.1406355,-4.199404,-4.0544977,-2.3714044,-2.7802474,-3.9676306,-3.9276984,-0.60992116,-3.9555004,-4.360004,-3.899462,-2.2953148,-2.575181,-4.3421583,-3.8554993,-2.1038802,-4.0485287,-4.0760603,-4.5467978,-4.1829386,-0.9440125,-4.0088964,-2.4789393,-1.0840652,-2.7229857,-2.0687103,-4.0310984,-2.5337656,-1.5132017,-1.7323254,-2.688531,-2.3607512,-4.063608,-2.9928708,-4.0760603,-3.8789258,-2.3715289,-3.9775853,-1.3113816,-4.085639,-4.2253346,-4.1709867,-3.946034,-3.975075,-4.133368,-4.1829386,-3.9144378,-3.9322104,-4.057513,-4.0170894,-4.0455747,-2.6638837,-3.9390671,-4.006199,-4.057513,-2.4350026,-3.849835,-4.1088486,-3.9144378,-0.89176553,-3.9775853,-3.9299486,-3.6586993,-3.9725797,-4.022639,-3.905817,-4.0339556,-4.0143414,-4.229811,-4.1480265,-4.063608,-4.199404,-4.1297793,-0.49863672,-4.0339556,-3.9955747,-4.085639,-2.191764,-3.0402095,-2.9328144,-2.3476295,-4.229811,-4.0310984,-1.0093144,-3.7031813,-1.6335917,-4.06055,-1.9860576,-3.9555004,-2.025477,-3.9627376,-4.0397263,-1.8148584,-2.5631888,-1.9826823,-2.1156547,-4.0198555,-1.7978706,-2.9759932,-4.0729136,-3.90157,-4.0729136,-3.946034,-3.1449304,-4.0339556,-3.950741,-4.085639,-4.272322,-4.0310984,-4.0729136,-4.0282607,-2.613282,-2.6439335,-2.897503,-3.9826496,-4.06055,-1.5679622,-3.9651775,-4.1122675,-3.2766423,-2.6826196,-4.1122675,-1.0904033,-2.331411,-4.3085265,-4.07923,-4.01161,-4.133368,-4.000854,-3.0718684,-4.1088486,-4.1709867,-4.1670747,-1.1747898,-3.899462,-2.8395767,-4.036831,-1.1884038,-4.1869965,-0.5962175,-3.323151,-4.1443152,-3.941377,-2.3764203,-4.105456,-4.022639,-3.5530634,-4.0544977,-2.860404,-4.1443152,-3.950741,-2.1655312,-2.7826514,-4.0170894,-2.4080691,-2.7228456,-2.0323331,-2.8025448,-2.7966962,-4.000854,-3.9036882,-4.57575,-1.950748,-4.243524,-4.0426407,-1.9689686,-4.036831,-4.1631975,-3.9555004,-3.1665542,-4.133368,-0.7384025,-3.840556,-2.3487525,-3.8479633,-3.941377,-4.022639,-2.320685,-3.8911307,-2.284158,-4.2253346,-1.8950948,-4.1088486,-2.0709207,-3.9877737,-5.1924825,-3.9367692,-4.133368,-4.0485287,-2.6426508,-4.0515027,-0.664065,-2.4602616,-4.0666876,-4.1631975,-3.8911307,-2.3617866,-2.3079493,-3.941377,-1.3028921,-4.063608,-4.0198555,-4.0485287,-4.39148,-4.07923,-1.7842399,-3.8053021,-3.9775853,-2.7643993,-1.5029289,-3.9210174,-4.0824227,-3.8849852,-4.243524,-2.7750056,-2.435725,-2.9697673,-3.9775853,-3.9122665,-4.0544977,-2.4158027,-3.8911307,-3.9299486,-4.1517696,-0.7510698,-4.0485287,-1.8766708,-4.063608,-0.7366875,-4.2625093,-4.0485287,-4.0760603,-4.0544977,-4.0170894,-3.9982064,-4.0921445,-3.8460996,-1.7442225,-2.6251948,-4.0760603,-4.1020894,-2.6751533,-2.5145373,-2.5278268,-1.8378336,-1.3877912,-2.6840258,-2.3706567,-1.0374595,-2.5263102,-3.9877737,-2.7808874,-3.003963,-4.1157136,-4.1443152,-1.9532163,-1.7977709,-3.9436991,-4.1406355,-2.487895,-4.1406355,-2.8294365,-3.946034,-0.8384593,-4.0397263,-1.8104504,-4.4622326,-4.000854,-4.0170894,-3.9276984,-3.91662,-4.0760603,-3.9801102,-4.0954347,-4.1369863,-3.9436991,-2.225838,-3.9627376,-0.70097524,-4.1480265,-1.5923665,-2.2452128,-4.1297793,-1.9164075,-4.325017,-2.1915169,-4.0544977,-4.133368,-4.0729136,-2.2623293,-0.7518415,-4.0198555,-3.9555004,-0.8104788,-0.6069322,-0.82688683,-4.1369863,-2.4346418,-1.7390463,-1.8338739,-4.330656,-2.3870819,-4.238905,-1.7342187,-2.7876618,-1.972761,-0.94167244,-2.8705158,-4.0544977,-3.9367692,-4.0455747,-4.2253346,-3.9676306,-3.9826496,-4.1226892,-3.923233,-3.2832074,-4.0824227,-1.6363024,-3.92546,-2.0504684,-4.220904,-0.53038335,-2.9991744,-4.1088486,-2.9705098,-4.07923,-1.6295516,-4.1443152,-4.229811,-4.01161,-3.2438323,-3.92546,-4.0254407,-1.6470816,-3.9929588,-4.1517696,-3.9775853,-2.8427024,-1.6827685,-4.0515027,-4.1749344,-1.1243259,-1.0625278,-2.9063857,-1.4305413,-2.78815,-3.9210174,-2.3039281,-4.000854,-3.9852042,-4.2625093,-4.0921445,-4.0954347,-4.0888796,-4.06055,-2.6466272,-3.9982064,-2.0939934,-2.4433825,-4.0544977,-4.0339556,-0.7156513,-3.9276984,-3.9929588,-2.7643993,-4.1749344,-3.3390589,-2.9744906,-4.1517696,-4.07923,-2.9280717,-3.975075,-4.0339556,-4.1952286,-2.241638,-4.1226892,-2.7092,-2.1792498,-2.8977122,-4.01161,-2.9497159,-4.0426407,-3.950741,-4.036831,-3.957899,-3.975075,-3.9826496,-2.6155727,-3.9982064,-0.5733491,-4.1480265,-3.3105066,-3.5530634,-2.1444368,-1.455648,-3.9144378,-4.003518,-3.948381,-2.333577,-4.0697894,-4.1157136,-4.2874703,-3.957899,-3.9676306,-3.857404,-4.0515027,-2.2579865,-2.7399826,-3.9436991,-4.1406355,-1.0216281,-2.4464097,-3.950741,-3.9852042,-3.9367692,-3.8911307,-4.4699855,-2.9717498,-3.990358,-1.9821224,-4.628755,-4.1226892,-3.1523955,-2.504767,-4.565883,-3.5354302,-3.0641186,-4.0729136,-3.1445603,-4.0824227,-4.4325347,-3.9676306,-4.159355,-2.8460367,-4.1480265,-4.1443152,-2.6607168,-4.07923,-4.036831,-3.9367692,-4.1631975,-3.0020945,-2.622964,-3.9651775,-1.3427739,-2.3839264,-4.0824227,-2.0239618,-4.0254407,-1.7693217,-2.8996012,-3.8554993,-4.0282607,-1.6641608,-3.8809364,-4.1157136,-4.4115224,-4.229811,-4.2343345,-4.0824227,-2.5334034,-1.2430025,-4.057513,-3.948381,-2.8255167,-3.9826496,-3.9627376,-0.6554338,-2.800866,-4.1020894,-4.0397263,-2.9525583,-4.0729136,-4.1088486,-4.022639,-4.01161,-2.9597468,-4.06055,-3.910106,-4.1670747,-0.89697194,-1.192588,-4.022639,-3.2736454,-0.86232716,-3.8709757,-4.0088964,-3.946034,-2.3414764,-3.905817,-3.849835,-4.0485287,-4.0888796,-0.5362672,-4.0426407,-0.57155347,-3.9627376,-3.9651775,-4.085639,-4.212176,-1.6733837,-4.272322,-1.9683768,-4.063608,-3.615063,-2.8524055,-3.9367692,-4.1406355,-2.7215874,-4.0954347,-1.0630271,-1.9376476,-2.1848528,-4.006199,-3.1779835,-4.0824227,-1.1001543,-2.1494188,-4.1226892,-4.1869965,-3.857404,-4.1749344,-2.9310017,-3.849835,-1.5989485,-4.06055,-2.5396032,-4.085639,-3.90157,-4.1020894,-3.8709757,-4.0888796,-4.0455747,-4.098749,-1.6074959,-4.06055,-3.9826496,-2.9126267,-3.960312,-0.6594689,-4.0544977,-4.0397263,-2.4578207,-4.057513,-2.242471,-2.1756997,-4.1020894,-2.7163138,-4.0426407,-4.4254174,-4.220904,-2.3553107,-4.1709867,-3.9982064,-3.9929588,-3.957899,-2.6024296,-2.7525437,-2.431767,-2.9913092,-1.458168,-4.0760603,-2.0748394,-4.0254407,-1.7440608,-4.0921445,-4.1443152,-4.0544977,-3.9436991,-4.0282607,-4.238905,-4.0824227,-3.9122665,-4.1555457,-4.0088964,-2.3292558,-3.9276984,-4.105456,-3.9531143,-4.022639,-3.9627376,-2.297045,-2.770138,-4.1555457,-4.178918,-4.0198555,-4.0254407,-4.1122675,-2.5409827,-4.0282607,-3.5578256,-4.036831,-3.9877737,-4.1191874,-1.7993544,-4.0455747,-2.5066354,-2.5255094,-2.5026534,-1.2384897,-4.0515027,-1.520539,-2.6062667,-0.83751917,-4.3786144,-3.9929588,-3.990358,-2.4888744,-1.7855806,-4.159355,-4.1226892,-4.1910934,-3.9775853,-1.8908067,-0.74798316,-1.1390609,-2.7097428,-4.0666876,-4.272322,-2.9436207,-2.6330943,-3.9852042,-2.2178855,-2.254591,-2.0985928,-4.2036195,-4.0088964,-3.918813,-4.0954347,-3.9877737,-1.0268329,-4.0515027,-3.92546,-4.1262197,-4.098749,-2.4869993,-3.05832,-2.607768,-1.9903919,-2.4585056,-4.0729136,-1.8890785,-1.4841019,-1.8599174,-2.7354906,-1.0834448,-4.0666876,-3.957899,-4.105456,-2.5345817,-4.1122675,-0.54214793,-4.0824227,-4.0921445,-2.3624578,-4.1191874,-2.722286,-2.7681131,-3.975075,-4.0515027,-4.0760603,-4.0198555,-3.9122665,-3.757268,-4.1517696,-2.5543594,-2.5036666,-2.4274898,-4.105456,-4.098749,-3.957899,-4.0485287,-2.9091723,-2.6439335,-2.3614817,-1.9432868,-2.8774567,-4.022639,-3.90157,-4.585846,-4.1262197,-2.1529858,-2.493309,-4.0888796,-2.7818487,-3.9725797,-4.2874703,-2.6521845,-4.0455747,-2.4635632,-2.426215,-4.098749,-3.2369168,-4.1869965,-2.7097428,-3.957899,-1.4045538,-2.126833,-2.5631888,-4.06055,-3.060752,-3.9982064,-4.2078767,-2.573589,-4.1670747,-4.0198555,-1.2198278,-4.0824227,-4.0888796,-4.057513,-0.65198135,-4.0339556,-4.272322,-3.6216683,-3.9877737,-4.1480265,-4.1226892,-3.8314705,-3.9725797,-2.4797387,-2.824277,-1.7618742,-4.0397263,-3.8789258,-4.0697894,-3.8536031,-3.9852042,-3.9852042,-4.1088486,-4.085639,-2.6095984,-4.3085265,-4.06055,-3.8536031,-4.1157136,-4.0729136,-4.0310984,-3.9929588,-3.9276984,-4.098749,-2.2104635,-4.06055,-3.120817,-3.946034,-4.003518,-4.0310984,-1.765752,-4.212176,-3.8973641,-2.5153182,-4.022639,-4.0485287,-1.3359814,-3.9436991,-4.1297793,-2.792731,-1.9930966,-0.6569964,-4.1157136,-4.0143414,-4.1670747,-4.1952286,-3.941377,-4.1088486,-4.252913,-4.313954,-3.8809364,-4.1869965,-2.3948421,-3.9775853,-2.3358111,-3.9877737,-3.8809364,-4.0697894,-2.4840806,-2.9967997,-3.0310025,-3.91662,-3.9826496,-2.9096026,-1.1473175,-3.9676306,-4.729862,-4.1157136,-2.826049,-4.1406355,-4.003518,-4.159355,-4.0143414,-2.5763786,-4.0824227,-3.9627376,-2.9742408,-3.9276984,-3.9276984,-4.1555457,-4.199404,-1.5282887,-2.2934353,-4.085639,-4.1262197,-1.2045761,-4.0339556,-2.6963646,-4.0426407,-3.946034,-4.0544977,-3.9555004,-4.1226892,-4.1262197,-3.9651775,-3.8517148,-4.036831,-1.1484913,-4.0339556,-3.9852042,-2.488711,-3.1339674,-4.2343345,-0.93882185,-4.0954347,-2.37876,-2.3792677,-4.036831,-4.0729136,-2.7799282,-3.2030535,-3.960312,-3.9344838,-3.946034,-4.01161,-3.7633739,-4.0170894,-3.9725797,-2.1562023,-4.0921445,-4.1631975,-4.000854,-2.3430505,-2.6625412,-4.2253346,-3.8173182,-2.1194072,-0.5113587,-3.960312,-4.3421583,-4.277313,-3.923233,-1.9281541,-1.7980372,-4.0824227,-4.06055,-3.8069985,-1.4421458,-2.4306223,-2.5016427,-3.970098,-4.1297793,-4.1829386,-2.4887927,-1.0861063,-3.7969184,-3.9775853,-3.9531143,-4.0485287,-4.0170894,-3.440255,-4.06055,-2.2235255,-3.8890724,-3.9210174,-2.7016666,-1.7534242,-3.6161573,-3.4258854,-4.1749344,-1.0689143,-4.1443152,-4.0544977,-4.1088486,-3.9801102,-2.3148994,-3.8423955,-4.651912,-3.9877737,-3.957899,-3.92546,-3.9826496,-3.9367692,-3.9982064,-4.1910934,-3.6709507,-3.941377,-4.063608,-1.5637383,-3.8651073,-4.510973,-4.0339556,-2.795536,-2.5570278,-4.0954347,-4.1517696,-1.2324903,-3.9929588,-2.2770267,-4.0426407,-1.7225189,-2.1730068,-2.420105,-3.829676,-2.4905117,-2.2850256,-4.057513,-3.1889021,-2.830153,-1.0425721,-3.9877737,-3.9725797,-4.0666876,-1.9057379,-4.036831,-2.272833,-1.6890574,-2.4611037,-3.9725797,-4.036831,-3.9079564,-3.905817,-3.9826496,-4.1829386,-1.3654214,-2.5461724,-4.0143414,-4.0697894,-4.1122675,-3.0053024,-3.1669436,-3.9929588,-4.2926397,-4.036831,-3.9877737,-2.34014,-2.5346727,-1.9422647,-3.9852042,-1.0798969,-3.9344838,-1.8092356,-3.8952763,-3.0797591,-3.9436991,-2.6114361,-0.75162154,-4.0426407,-2.2049048,-2.9106803,-0.647632,-4.0198555,-2.7313297,-3.062585,-4.01161,-4.1020894,-3.948381,-2.9321337,-2.1731253,-2.5297077,-2.4835153,-1.9504404,-2.3042483,-2.2910457,-4.0729136,-4.2078767,-4.0426407,-3.8789258,-4.0485287,-2.4276319,-4.0954347,-4.085639,-3.8479633,-2.3333485,-4.0515027,-4.216518,-4.036831,-2.0916958,-2.2668138,-1.2471037,-2.414011,-4.0170894,-4.1088486,-3.918813,-3.8536031,-4.0515027,-3.91662,-3.975075,-1.8171664,-3.9144378,-4.1191874,-4.0310984,-2.4040184,-2.3907166,-3.4697218,-4.1480265,-4.1369863,-3.9436991,-4.0339556,-1.9389125,-4.07923,-4.0282607,-4.036831,-3.92546,-4.0339556,-3.0301495,-3.6759493,-2.954225,-3.9826496,-2.9599886,-3.9877737,-3.9531143,-2.7063594,-4.0954347,-1.8080413,-2.7865252,-4.282362,-1.5896273,-2.8962486,-4.1020894,-4.325017,-2.1589072,-4.1749344,-2.815176,-4.272322,-2.8529723,-2.2936437,-2.25674,-1.9865456,-1.1542152,-3.990358,-2.5821128,-3.8809364,-3.899462,-3.0107024,-2.738964,-2.7280579,-3.990358,-4.0888796,-4.282362,-4.0544977,-3.905817,-3.9725797,-3.2701752,-3.9982064,-4.1517696,-2.0799394,-0.90405905,-2.5760787,-2.4101772,-4.1709867,-4.1122675,-4.085639,-4.1226892,-4.1555457,-4.133368,-2.705148,-3.826109,-4.1480265,-4.0282607,-4.1406355,-3.9390671,-3.3407981,-1.4385873,-2.4456697,-2.2578425,-1.9780208,-3.21203,-4.0088964,-2.827294,-3.8670547,-3.9982064,-2.745111,-4.1670747,-4.0729136,-4.022639,-4.0697894,-3.1630673,-3.9725797,-3.9676306,-4.0198555,-1.8994681,-4.0339556,-2.1950746,-3.9826496,-4.0729136,-3.9390671,-2.4503546,-3.905817,-4.0339556,-4.0760603,-4.07923,-1.9411057,-0.72539926,-4.085639,-1.9764361,-4.1555457,-1.6676983,-4.036831,-2.5757792,-4.0254407,-1.3204004,-4.2673883,-3.829676,-3.8849852,-3.8190622,-3.9299486,-1.5178319,-2.5196817,-0.88446,-4.085639,-2.2186306,-4.1555457,-2.443309,-2.5667908,-1.2153918,-4.0824227,-3.957899,-4.1262197,-4.0921445,-2.195199,-4.1122675,-4.2253346,-2.5704231,-3.9676306,-1.0139785,-3.960312,-2.5601935,-4.1670747,-2.7904344,-2.350472,-3.8952763,-1.3938867,-4.0198555,-4.133368,-4.0397263,-4.01161,-4.360004,-1.4275514,-4.272322,-3.9826496,-1.1854118,-2.2831392,-4.1443152,-1.0732352,-4.2036195,-4.0310984,-4.1191874,-4.0455747,-3.9725797,-2.8792593,-1.3709223,-3.9982064,-1.9928879,-2.523735,-4.0310984,-4.07923,-2.3174245,-4.133368,-3.8829563,-2.3596578,-3.5968766,-4.098749,-4.5285163,-2.9415302,-4.1191874,-3.2599275,-4.1406355,-3.402498,-4.1517696,-4.1020894,-4.1829386,-2.8569582,-2.2897522,-2.6495743,-4.1517696,-4.1088486,-3.9877737,-4.3539734,-2.953748,-2.2927585,-1.9594005,-2.025955,-4.0397263,-4.0697894,-4.006199,-3.9122665,-3.9801102,-1.946017,-3.0672019,-4.0485287,-3.1856382,-3.9852042,-4.0697894,-3.9955747,-0.52266276,-0.92482096,-1.4506812,-1.7049686,-2.019364,-0.9823658,-2.2097754,-1.0321666,-3.9877737,-4.159355,-4.098749,-3.9651775,-3.9955747,-3.9877737,-4.0254407,-1.2216036,-4.06055,-3.8911307,-4.1122675,-3.9929588,-2.728767,-3.948381,-4.1122675,-4.0426407,-2.0709207,-4.0426407,-4.216518,-4.0198555,-3.970098,-1.2120961,-1.4321301,-1.9340804,-2.5211754,-2.8533502,-2.333977,-4.063608,-4.098749,-3.9929588,-4.0544977,-1.4196078,-4.105456,-3.8442438,-4.1157136,-2.543199,-0.48218504,-2.5177562,-3.9322104,-2.4561503,-4.0455747,-4.4047384,-1.8129588,-4.0729136,-2.7396915,-4.178918,-4.1952286,-4.0339556,-0.89992386,-3.9801102,-4.159355,-2.4194083,-1.6371981,-4.0397263,-2.848648,-3.960312,-3.8350816,-0.74573964,-4.003518,-1.6272422,-4.3194504,-4.0170894,-4.220904,-1.9247079,-3.9877737,-1.8468307,-2.7385285,-4.2036195,-4.0921445,-4.1226892,-3.096977,-2.225838,-4.0515027,-1.9095092,-1.5507236,-1.6032118,-3.822571,-4.1749344,-3.8890724,-1.9902102,-4.000854,-3.92546,-4.1670747,-3.9676306,-4.0455747,-4.000854,-2.1494937,-3.92546,-4.057513,-4.1157136,-3.8952763,-4.0170894,-3.946034,-3.869011,-1.2229656,-2.2623293,-4.0888796,-3.9775853,-4.1226892,-3.970098,-2.1903648,-2.3949735,-2.9006543,-3.990358],\"xaxis\":\"x\",\"yaxis\":\"y\",\"type\":\"histogram\"}],                        {\"template\":{\"data\":{\"histogram2dcontour\":[{\"type\":\"histogram2dcontour\",\"colorbar\":{\"outlinewidth\":0,\"ticks\":\"\"},\"colorscale\":[[0.0,\"#0d0887\"],[0.1111111111111111,\"#46039f\"],[0.2222222222222222,\"#7201a8\"],[0.3333333333333333,\"#9c179e\"],[0.4444444444444444,\"#bd3786\"],[0.5555555555555556,\"#d8576b\"],[0.6666666666666666,\"#ed7953\"],[0.7777777777777778,\"#fb9f3a\"],[0.8888888888888888,\"#fdca26\"],[1.0,\"#f0f921\"]]}],\"choropleth\":[{\"type\":\"choropleth\",\"colorbar\":{\"outlinewidth\":0,\"ticks\":\"\"}}],\"histogram2d\":[{\"type\":\"histogram2d\",\"colorbar\":{\"outlinewidth\":0,\"ticks\":\"\"},\"colorscale\":[[0.0,\"#0d0887\"],[0.1111111111111111,\"#46039f\"],[0.2222222222222222,\"#7201a8\"],[0.3333333333333333,\"#9c179e\"],[0.4444444444444444,\"#bd3786\"],[0.5555555555555556,\"#d8576b\"],[0.6666666666666666,\"#ed7953\"],[0.7777777777777778,\"#fb9f3a\"],[0.8888888888888888,\"#fdca26\"],[1.0,\"#f0f921\"]]}],\"heatmap\":[{\"type\":\"heatmap\",\"colorbar\":{\"outlinewidth\":0,\"ticks\":\"\"},\"colorscale\":[[0.0,\"#0d0887\"],[0.1111111111111111,\"#46039f\"],[0.2222222222222222,\"#7201a8\"],[0.3333333333333333,\"#9c179e\"],[0.4444444444444444,\"#bd3786\"],[0.5555555555555556,\"#d8576b\"],[0.6666666666666666,\"#ed7953\"],[0.7777777777777778,\"#fb9f3a\"],[0.8888888888888888,\"#fdca26\"],[1.0,\"#f0f921\"]]}],\"heatmapgl\":[{\"type\":\"heatmapgl\",\"colorbar\":{\"outlinewidth\":0,\"ticks\":\"\"},\"colorscale\":[[0.0,\"#0d0887\"],[0.1111111111111111,\"#46039f\"],[0.2222222222222222,\"#7201a8\"],[0.3333333333333333,\"#9c179e\"],[0.4444444444444444,\"#bd3786\"],[0.5555555555555556,\"#d8576b\"],[0.6666666666666666,\"#ed7953\"],[0.7777777777777778,\"#fb9f3a\"],[0.8888888888888888,\"#fdca26\"],[1.0,\"#f0f921\"]]}],\"contourcarpet\":[{\"type\":\"contourcarpet\",\"colorbar\":{\"outlinewidth\":0,\"ticks\":\"\"}}],\"contour\":[{\"type\":\"contour\",\"colorbar\":{\"outlinewidth\":0,\"ticks\":\"\"},\"colorscale\":[[0.0,\"#0d0887\"],[0.1111111111111111,\"#46039f\"],[0.2222222222222222,\"#7201a8\"],[0.3333333333333333,\"#9c179e\"],[0.4444444444444444,\"#bd3786\"],[0.5555555555555556,\"#d8576b\"],[0.6666666666666666,\"#ed7953\"],[0.7777777777777778,\"#fb9f3a\"],[0.8888888888888888,\"#fdca26\"],[1.0,\"#f0f921\"]]}],\"surface\":[{\"type\":\"surface\",\"colorbar\":{\"outlinewidth\":0,\"ticks\":\"\"},\"colorscale\":[[0.0,\"#0d0887\"],[0.1111111111111111,\"#46039f\"],[0.2222222222222222,\"#7201a8\"],[0.3333333333333333,\"#9c179e\"],[0.4444444444444444,\"#bd3786\"],[0.5555555555555556,\"#d8576b\"],[0.6666666666666666,\"#ed7953\"],[0.7777777777777778,\"#fb9f3a\"],[0.8888888888888888,\"#fdca26\"],[1.0,\"#f0f921\"]]}],\"mesh3d\":[{\"type\":\"mesh3d\",\"colorbar\":{\"outlinewidth\":0,\"ticks\":\"\"}}],\"scatter\":[{\"fillpattern\":{\"fillmode\":\"overlay\",\"size\":10,\"solidity\":0.2},\"type\":\"scatter\"}],\"parcoords\":[{\"type\":\"parcoords\",\"line\":{\"colorbar\":{\"outlinewidth\":0,\"ticks\":\"\"}}}],\"scatterpolargl\":[{\"type\":\"scatterpolargl\",\"marker\":{\"colorbar\":{\"outlinewidth\":0,\"ticks\":\"\"}}}],\"bar\":[{\"error_x\":{\"color\":\"#2a3f5f\"},\"error_y\":{\"color\":\"#2a3f5f\"},\"marker\":{\"line\":{\"color\":\"#E5ECF6\",\"width\":0.5},\"pattern\":{\"fillmode\":\"overlay\",\"size\":10,\"solidity\":0.2}},\"type\":\"bar\"}],\"scattergeo\":[{\"type\":\"scattergeo\",\"marker\":{\"colorbar\":{\"outlinewidth\":0,\"ticks\":\"\"}}}],\"scatterpolar\":[{\"type\":\"scatterpolar\",\"marker\":{\"colorbar\":{\"outlinewidth\":0,\"ticks\":\"\"}}}],\"histogram\":[{\"marker\":{\"pattern\":{\"fillmode\":\"overlay\",\"size\":10,\"solidity\":0.2}},\"type\":\"histogram\"}],\"scattergl\":[{\"type\":\"scattergl\",\"marker\":{\"colorbar\":{\"outlinewidth\":0,\"ticks\":\"\"}}}],\"scatter3d\":[{\"type\":\"scatter3d\",\"line\":{\"colorbar\":{\"outlinewidth\":0,\"ticks\":\"\"}},\"marker\":{\"colorbar\":{\"outlinewidth\":0,\"ticks\":\"\"}}}],\"scattermapbox\":[{\"type\":\"scattermapbox\",\"marker\":{\"colorbar\":{\"outlinewidth\":0,\"ticks\":\"\"}}}],\"scatterternary\":[{\"type\":\"scatterternary\",\"marker\":{\"colorbar\":{\"outlinewidth\":0,\"ticks\":\"\"}}}],\"scattercarpet\":[{\"type\":\"scattercarpet\",\"marker\":{\"colorbar\":{\"outlinewidth\":0,\"ticks\":\"\"}}}],\"carpet\":[{\"aaxis\":{\"endlinecolor\":\"#2a3f5f\",\"gridcolor\":\"white\",\"linecolor\":\"white\",\"minorgridcolor\":\"white\",\"startlinecolor\":\"#2a3f5f\"},\"baxis\":{\"endlinecolor\":\"#2a3f5f\",\"gridcolor\":\"white\",\"linecolor\":\"white\",\"minorgridcolor\":\"white\",\"startlinecolor\":\"#2a3f5f\"},\"type\":\"carpet\"}],\"table\":[{\"cells\":{\"fill\":{\"color\":\"#EBF0F8\"},\"line\":{\"color\":\"white\"}},\"header\":{\"fill\":{\"color\":\"#C8D4E3\"},\"line\":{\"color\":\"white\"}},\"type\":\"table\"}],\"barpolar\":[{\"marker\":{\"line\":{\"color\":\"#E5ECF6\",\"width\":0.5},\"pattern\":{\"fillmode\":\"overlay\",\"size\":10,\"solidity\":0.2}},\"type\":\"barpolar\"}],\"pie\":[{\"automargin\":true,\"type\":\"pie\"}]},\"layout\":{\"autotypenumbers\":\"strict\",\"colorway\":[\"#636efa\",\"#EF553B\",\"#00cc96\",\"#ab63fa\",\"#FFA15A\",\"#19d3f3\",\"#FF6692\",\"#B6E880\",\"#FF97FF\",\"#FECB52\"],\"font\":{\"color\":\"#2a3f5f\"},\"hovermode\":\"closest\",\"hoverlabel\":{\"align\":\"left\"},\"paper_bgcolor\":\"white\",\"plot_bgcolor\":\"#E5ECF6\",\"polar\":{\"bgcolor\":\"#E5ECF6\",\"angularaxis\":{\"gridcolor\":\"white\",\"linecolor\":\"white\",\"ticks\":\"\"},\"radialaxis\":{\"gridcolor\":\"white\",\"linecolor\":\"white\",\"ticks\":\"\"}},\"ternary\":{\"bgcolor\":\"#E5ECF6\",\"aaxis\":{\"gridcolor\":\"white\",\"linecolor\":\"white\",\"ticks\":\"\"},\"baxis\":{\"gridcolor\":\"white\",\"linecolor\":\"white\",\"ticks\":\"\"},\"caxis\":{\"gridcolor\":\"white\",\"linecolor\":\"white\",\"ticks\":\"\"}},\"coloraxis\":{\"colorbar\":{\"outlinewidth\":0,\"ticks\":\"\"}},\"colorscale\":{\"sequential\":[[0.0,\"#0d0887\"],[0.1111111111111111,\"#46039f\"],[0.2222222222222222,\"#7201a8\"],[0.3333333333333333,\"#9c179e\"],[0.4444444444444444,\"#bd3786\"],[0.5555555555555556,\"#d8576b\"],[0.6666666666666666,\"#ed7953\"],[0.7777777777777778,\"#fb9f3a\"],[0.8888888888888888,\"#fdca26\"],[1.0,\"#f0f921\"]],\"sequentialminus\":[[0.0,\"#0d0887\"],[0.1111111111111111,\"#46039f\"],[0.2222222222222222,\"#7201a8\"],[0.3333333333333333,\"#9c179e\"],[0.4444444444444444,\"#bd3786\"],[0.5555555555555556,\"#d8576b\"],[0.6666666666666666,\"#ed7953\"],[0.7777777777777778,\"#fb9f3a\"],[0.8888888888888888,\"#fdca26\"],[1.0,\"#f0f921\"]],\"diverging\":[[0,\"#8e0152\"],[0.1,\"#c51b7d\"],[0.2,\"#de77ae\"],[0.3,\"#f1b6da\"],[0.4,\"#fde0ef\"],[0.5,\"#f7f7f7\"],[0.6,\"#e6f5d0\"],[0.7,\"#b8e186\"],[0.8,\"#7fbc41\"],[0.9,\"#4d9221\"],[1,\"#276419\"]]},\"xaxis\":{\"gridcolor\":\"white\",\"linecolor\":\"white\",\"ticks\":\"\",\"title\":{\"standoff\":15},\"zerolinecolor\":\"white\",\"automargin\":true,\"zerolinewidth\":2},\"yaxis\":{\"gridcolor\":\"white\",\"linecolor\":\"white\",\"ticks\":\"\",\"title\":{\"standoff\":15},\"zerolinecolor\":\"white\",\"automargin\":true,\"zerolinewidth\":2},\"scene\":{\"xaxis\":{\"backgroundcolor\":\"#E5ECF6\",\"gridcolor\":\"white\",\"linecolor\":\"white\",\"showbackground\":true,\"ticks\":\"\",\"zerolinecolor\":\"white\",\"gridwidth\":2},\"yaxis\":{\"backgroundcolor\":\"#E5ECF6\",\"gridcolor\":\"white\",\"linecolor\":\"white\",\"showbackground\":true,\"ticks\":\"\",\"zerolinecolor\":\"white\",\"gridwidth\":2},\"zaxis\":{\"backgroundcolor\":\"#E5ECF6\",\"gridcolor\":\"white\",\"linecolor\":\"white\",\"showbackground\":true,\"ticks\":\"\",\"zerolinecolor\":\"white\",\"gridwidth\":2}},\"shapedefaults\":{\"line\":{\"color\":\"#2a3f5f\"}},\"annotationdefaults\":{\"arrowcolor\":\"#2a3f5f\",\"arrowhead\":0,\"arrowwidth\":1},\"geo\":{\"bgcolor\":\"white\",\"landcolor\":\"#E5ECF6\",\"subunitcolor\":\"white\",\"showland\":true,\"showlakes\":true,\"lakecolor\":\"white\"},\"title\":{\"x\":0.05},\"mapbox\":{\"style\":\"light\"}}},\"xaxis\":{\"anchor\":\"y\",\"domain\":[0.0,1.0],\"title\":{\"text\":\"value\"}},\"yaxis\":{\"anchor\":\"x\",\"domain\":[0.0,1.0],\"title\":{\"text\":\"percent\"}},\"legend\":{\"title\":{\"text\":\"variable\"},\"tracegroupgap\":0},\"title\":{\"text\":\"Log Frequency of Features\"},\"barmode\":\"relative\"},                        {\"responsive\": true}                    ).then(function(){\n",
       "                            \n",
       "var gd = document.getElementById('6963f56e-0c6a-4fc2-af82-1a972fe43af1');\n",
       "var x = new MutationObserver(function (mutations, observer) {{\n",
       "        var display = window.getComputedStyle(gd).display;\n",
       "        if (!display || display === 'none') {{\n",
       "            console.log([gd, 'removed!']);\n",
       "            Plotly.purge(gd);\n",
       "            observer.disconnect();\n",
       "        }}\n",
       "}});\n",
       "\n",
       "// Listen for the removal of the full notebook cells\n",
       "var notebookContainer = gd.closest('#notebook-container');\n",
       "if (notebookContainer) {{\n",
       "    x.observe(notebookContainer, {childList: true});\n",
       "}}\n",
       "\n",
       "// Listen for the clearing of the current output cell\n",
       "var outputEl = gd.closest('.output');\n",
       "if (outputEl) {{\n",
       "    x.observe(outputEl, {childList: true});\n",
       "}}\n",
       "\n",
       "                        })                };                            </script>        </div>\n",
       "</body>\n",
       "</html>"
      ]
     },
     "metadata": {},
     "output_type": "display_data"
    }
   ],
   "source": [
    "# Add 1e-6.5 so that dead features show up as log_freq -6.5\n",
    "log_freq = (freqs + 10**-6.5).log10()\n",
    "px.histogram(utils.to_numpy(log_freq), title=\"Log Frequency of Features\", histnorm='percent') # Here we use Chatgpt4o to refine this code at 17:35pm 2/15/2025"
   ]
  },
  {
   "cell_type": "markdown",
   "metadata": {
    "id": "77M7HIL4FXem"
   },
   "source": [
    "* We can see the majority of features in the histogram are concentrated on the left (around -4.5 or lower), meaning that most neurons rarely activate. This supports the paper's hypothesis that the MLP layer is using a sparse feature representation, where only a small subset of neurons activate frequently, while most remain inactive.\n",
    "* Also, we see a long tail extending towards higher log_freq values. This suggests that a few neurons are activated much more often than the rest, which are likely responsible for encoding critical, monosemantic features， which are likely for those undamental, commonly used features. This aligns with the paper’s claim that Transformer MLP layers contain a few \"monosemantic neurons\" to respond to specific concepts."
   ]
  },
  {
   "cell_type": "markdown",
   "metadata": {
    "id": "Uj1iLEo3u4vn"
   },
   "source": [
    "### Step7: Select Features to Analyze Their Activation Frequency Percentiles"
   ]
  },
  {
   "cell_type": "code",
   "execution_count": 20,
   "metadata": {
    "colab": {
     "base_uri": "https://localhost:8080/",
     "height": 175
    },
    "id": "BFbcWzpeqr4L",
    "outputId": "6231310e-aca9-43f0-b604-1b42536f3baa"
   },
   "outputs": [
    {
     "data": {
      "application/vnd.google.colaboratory.intrinsic+json": {
       "summary": "{\n  \"name\": \"df_sorted\",\n  \"rows\": 4,\n  \"fields\": [\n    {\n      \"column\": \"Feature\",\n      \"properties\": {\n        \"dtype\": \"number\",\n        \"std\": 4568,\n        \"min\": 44,\n        \"max\": 9686,\n        \"num_unique_values\": 4,\n        \"samples\": [\n          2126,\n          44,\n          9686\n        ],\n        \"semantic_type\": \"\",\n        \"description\": \"\"\n      }\n    },\n    {\n      \"column\": \"Frequency\",\n      \"properties\": {\n        \"dtype\": \"string\",\n        \"num_unique_values\": 4,\n        \"samples\": [\n          \"6.3e-05\",\n          \"8.5e-05\",\n          \"5.7e-05\"\n        ],\n        \"semantic_type\": \"\",\n        \"description\": \"\"\n      }\n    },\n    {\n      \"column\": \"Percentile\",\n      \"properties\": {\n        \"dtype\": \"number\",\n        \"std\": 8.97638459716858,\n        \"min\": 3.936767578125,\n        \"max\": 24.090576171875,\n        \"num_unique_values\": 4,\n        \"samples\": [\n          6.402587890625,\n          24.090576171875,\n          3.936767578125\n        ],\n        \"semantic_type\": \"\",\n        \"description\": \"\"\n      }\n    }\n  ]\n}",
       "type": "dataframe",
       "variable_name": "df_sorted"
      },
      "text/html": [
       "\n",
       "  <div id=\"df-6590c40b-5662-40fe-8da7-27b60799908c\" class=\"colab-df-container\">\n",
       "    <div>\n",
       "<style scoped>\n",
       "    .dataframe tbody tr th:only-of-type {\n",
       "        vertical-align: middle;\n",
       "    }\n",
       "\n",
       "    .dataframe tbody tr th {\n",
       "        vertical-align: top;\n",
       "    }\n",
       "\n",
       "    .dataframe thead th {\n",
       "        text-align: right;\n",
       "    }\n",
       "</style>\n",
       "<table border=\"1\" class=\"dataframe\">\n",
       "  <thead>\n",
       "    <tr style=\"text-align: right;\">\n",
       "      <th></th>\n",
       "      <th>Feature</th>\n",
       "      <th>Frequency</th>\n",
       "      <th>Percentile</th>\n",
       "    </tr>\n",
       "  </thead>\n",
       "  <tbody>\n",
       "    <tr>\n",
       "      <th>3</th>\n",
       "      <td>9686</td>\n",
       "      <td>5.7e-05</td>\n",
       "      <td>3.936768</td>\n",
       "    </tr>\n",
       "    <tr>\n",
       "      <th>2</th>\n",
       "      <td>2126</td>\n",
       "      <td>6.3e-05</td>\n",
       "      <td>6.402588</td>\n",
       "    </tr>\n",
       "    <tr>\n",
       "      <th>1</th>\n",
       "      <td>100</td>\n",
       "      <td>7.1e-05</td>\n",
       "      <td>11.315918</td>\n",
       "    </tr>\n",
       "    <tr>\n",
       "      <th>0</th>\n",
       "      <td>44</td>\n",
       "      <td>8.5e-05</td>\n",
       "      <td>24.090576</td>\n",
       "    </tr>\n",
       "  </tbody>\n",
       "</table>\n",
       "</div>\n",
       "    <div class=\"colab-df-buttons\">\n",
       "\n",
       "  <div class=\"colab-df-container\">\n",
       "    <button class=\"colab-df-convert\" onclick=\"convertToInteractive('df-6590c40b-5662-40fe-8da7-27b60799908c')\"\n",
       "            title=\"Convert this dataframe to an interactive table.\"\n",
       "            style=\"display:none;\">\n",
       "\n",
       "  <svg xmlns=\"http://www.w3.org/2000/svg\" height=\"24px\" viewBox=\"0 -960 960 960\">\n",
       "    <path d=\"M120-120v-720h720v720H120Zm60-500h600v-160H180v160Zm220 220h160v-160H400v160Zm0 220h160v-160H400v160ZM180-400h160v-160H180v160Zm440 0h160v-160H620v160ZM180-180h160v-160H180v160Zm440 0h160v-160H620v160Z\"/>\n",
       "  </svg>\n",
       "    </button>\n",
       "\n",
       "  <style>\n",
       "    .colab-df-container {\n",
       "      display:flex;\n",
       "      gap: 12px;\n",
       "    }\n",
       "\n",
       "    .colab-df-convert {\n",
       "      background-color: #E8F0FE;\n",
       "      border: none;\n",
       "      border-radius: 50%;\n",
       "      cursor: pointer;\n",
       "      display: none;\n",
       "      fill: #1967D2;\n",
       "      height: 32px;\n",
       "      padding: 0 0 0 0;\n",
       "      width: 32px;\n",
       "    }\n",
       "\n",
       "    .colab-df-convert:hover {\n",
       "      background-color: #E2EBFA;\n",
       "      box-shadow: 0px 1px 2px rgba(60, 64, 67, 0.3), 0px 1px 3px 1px rgba(60, 64, 67, 0.15);\n",
       "      fill: #174EA6;\n",
       "    }\n",
       "\n",
       "    .colab-df-buttons div {\n",
       "      margin-bottom: 4px;\n",
       "    }\n",
       "\n",
       "    [theme=dark] .colab-df-convert {\n",
       "      background-color: #3B4455;\n",
       "      fill: #D2E3FC;\n",
       "    }\n",
       "\n",
       "    [theme=dark] .colab-df-convert:hover {\n",
       "      background-color: #434B5C;\n",
       "      box-shadow: 0px 1px 3px 1px rgba(0, 0, 0, 0.15);\n",
       "      filter: drop-shadow(0px 1px 2px rgba(0, 0, 0, 0.3));\n",
       "      fill: #FFFFFF;\n",
       "    }\n",
       "  </style>\n",
       "\n",
       "    <script>\n",
       "      const buttonEl =\n",
       "        document.querySelector('#df-6590c40b-5662-40fe-8da7-27b60799908c button.colab-df-convert');\n",
       "      buttonEl.style.display =\n",
       "        google.colab.kernel.accessAllowed ? 'block' : 'none';\n",
       "\n",
       "      async function convertToInteractive(key) {\n",
       "        const element = document.querySelector('#df-6590c40b-5662-40fe-8da7-27b60799908c');\n",
       "        const dataTable =\n",
       "          await google.colab.kernel.invokeFunction('convertToInteractive',\n",
       "                                                    [key], {});\n",
       "        if (!dataTable) return;\n",
       "\n",
       "        const docLinkHtml = 'Like what you see? Visit the ' +\n",
       "          '<a target=\"_blank\" href=https://colab.research.google.com/notebooks/data_table.ipynb>data table notebook</a>'\n",
       "          + ' to learn more about interactive tables.';\n",
       "        element.innerHTML = '';\n",
       "        dataTable['output_type'] = 'display_data';\n",
       "        await google.colab.output.renderOutput(dataTable, element);\n",
       "        const docLink = document.createElement('div');\n",
       "        docLink.innerHTML = docLinkHtml;\n",
       "        element.appendChild(docLink);\n",
       "      }\n",
       "    </script>\n",
       "  </div>\n",
       "\n",
       "\n",
       "<div id=\"df-a7b9af69-e969-4d82-83dd-9b94594b939f\">\n",
       "  <button class=\"colab-df-quickchart\" onclick=\"quickchart('df-a7b9af69-e969-4d82-83dd-9b94594b939f')\"\n",
       "            title=\"Suggest charts\"\n",
       "            style=\"display:none;\">\n",
       "\n",
       "<svg xmlns=\"http://www.w3.org/2000/svg\" height=\"24px\"viewBox=\"0 0 24 24\"\n",
       "     width=\"24px\">\n",
       "    <g>\n",
       "        <path d=\"M19 3H5c-1.1 0-2 .9-2 2v14c0 1.1.9 2 2 2h14c1.1 0 2-.9 2-2V5c0-1.1-.9-2-2-2zM9 17H7v-7h2v7zm4 0h-2V7h2v10zm4 0h-2v-4h2v4z\"/>\n",
       "    </g>\n",
       "</svg>\n",
       "  </button>\n",
       "\n",
       "<style>\n",
       "  .colab-df-quickchart {\n",
       "      --bg-color: #E8F0FE;\n",
       "      --fill-color: #1967D2;\n",
       "      --hover-bg-color: #E2EBFA;\n",
       "      --hover-fill-color: #174EA6;\n",
       "      --disabled-fill-color: #AAA;\n",
       "      --disabled-bg-color: #DDD;\n",
       "  }\n",
       "\n",
       "  [theme=dark] .colab-df-quickchart {\n",
       "      --bg-color: #3B4455;\n",
       "      --fill-color: #D2E3FC;\n",
       "      --hover-bg-color: #434B5C;\n",
       "      --hover-fill-color: #FFFFFF;\n",
       "      --disabled-bg-color: #3B4455;\n",
       "      --disabled-fill-color: #666;\n",
       "  }\n",
       "\n",
       "  .colab-df-quickchart {\n",
       "    background-color: var(--bg-color);\n",
       "    border: none;\n",
       "    border-radius: 50%;\n",
       "    cursor: pointer;\n",
       "    display: none;\n",
       "    fill: var(--fill-color);\n",
       "    height: 32px;\n",
       "    padding: 0;\n",
       "    width: 32px;\n",
       "  }\n",
       "\n",
       "  .colab-df-quickchart:hover {\n",
       "    background-color: var(--hover-bg-color);\n",
       "    box-shadow: 0 1px 2px rgba(60, 64, 67, 0.3), 0 1px 3px 1px rgba(60, 64, 67, 0.15);\n",
       "    fill: var(--button-hover-fill-color);\n",
       "  }\n",
       "\n",
       "  .colab-df-quickchart-complete:disabled,\n",
       "  .colab-df-quickchart-complete:disabled:hover {\n",
       "    background-color: var(--disabled-bg-color);\n",
       "    fill: var(--disabled-fill-color);\n",
       "    box-shadow: none;\n",
       "  }\n",
       "\n",
       "  .colab-df-spinner {\n",
       "    border: 2px solid var(--fill-color);\n",
       "    border-color: transparent;\n",
       "    border-bottom-color: var(--fill-color);\n",
       "    animation:\n",
       "      spin 1s steps(1) infinite;\n",
       "  }\n",
       "\n",
       "  @keyframes spin {\n",
       "    0% {\n",
       "      border-color: transparent;\n",
       "      border-bottom-color: var(--fill-color);\n",
       "      border-left-color: var(--fill-color);\n",
       "    }\n",
       "    20% {\n",
       "      border-color: transparent;\n",
       "      border-left-color: var(--fill-color);\n",
       "      border-top-color: var(--fill-color);\n",
       "    }\n",
       "    30% {\n",
       "      border-color: transparent;\n",
       "      border-left-color: var(--fill-color);\n",
       "      border-top-color: var(--fill-color);\n",
       "      border-right-color: var(--fill-color);\n",
       "    }\n",
       "    40% {\n",
       "      border-color: transparent;\n",
       "      border-right-color: var(--fill-color);\n",
       "      border-top-color: var(--fill-color);\n",
       "    }\n",
       "    60% {\n",
       "      border-color: transparent;\n",
       "      border-right-color: var(--fill-color);\n",
       "    }\n",
       "    80% {\n",
       "      border-color: transparent;\n",
       "      border-right-color: var(--fill-color);\n",
       "      border-bottom-color: var(--fill-color);\n",
       "    }\n",
       "    90% {\n",
       "      border-color: transparent;\n",
       "      border-bottom-color: var(--fill-color);\n",
       "    }\n",
       "  }\n",
       "</style>\n",
       "\n",
       "  <script>\n",
       "    async function quickchart(key) {\n",
       "      const quickchartButtonEl =\n",
       "        document.querySelector('#' + key + ' button');\n",
       "      quickchartButtonEl.disabled = true;  // To prevent multiple clicks.\n",
       "      quickchartButtonEl.classList.add('colab-df-spinner');\n",
       "      try {\n",
       "        const charts = await google.colab.kernel.invokeFunction(\n",
       "            'suggestCharts', [key], {});\n",
       "      } catch (error) {\n",
       "        console.error('Error during call to suggestCharts:', error);\n",
       "      }\n",
       "      quickchartButtonEl.classList.remove('colab-df-spinner');\n",
       "      quickchartButtonEl.classList.add('colab-df-quickchart-complete');\n",
       "    }\n",
       "    (() => {\n",
       "      let quickchartButtonEl =\n",
       "        document.querySelector('#df-a7b9af69-e969-4d82-83dd-9b94594b939f button');\n",
       "      quickchartButtonEl.style.display =\n",
       "        google.colab.kernel.accessAllowed ? 'block' : 'none';\n",
       "    })();\n",
       "  </script>\n",
       "</div>\n",
       "\n",
       "  <div id=\"id_e577d73b-6d79-4755-979d-3b3e1f29987c\">\n",
       "    <style>\n",
       "      .colab-df-generate {\n",
       "        background-color: #E8F0FE;\n",
       "        border: none;\n",
       "        border-radius: 50%;\n",
       "        cursor: pointer;\n",
       "        display: none;\n",
       "        fill: #1967D2;\n",
       "        height: 32px;\n",
       "        padding: 0 0 0 0;\n",
       "        width: 32px;\n",
       "      }\n",
       "\n",
       "      .colab-df-generate:hover {\n",
       "        background-color: #E2EBFA;\n",
       "        box-shadow: 0px 1px 2px rgba(60, 64, 67, 0.3), 0px 1px 3px 1px rgba(60, 64, 67, 0.15);\n",
       "        fill: #174EA6;\n",
       "      }\n",
       "\n",
       "      [theme=dark] .colab-df-generate {\n",
       "        background-color: #3B4455;\n",
       "        fill: #D2E3FC;\n",
       "      }\n",
       "\n",
       "      [theme=dark] .colab-df-generate:hover {\n",
       "        background-color: #434B5C;\n",
       "        box-shadow: 0px 1px 3px 1px rgba(0, 0, 0, 0.15);\n",
       "        filter: drop-shadow(0px 1px 2px rgba(0, 0, 0, 0.3));\n",
       "        fill: #FFFFFF;\n",
       "      }\n",
       "    </style>\n",
       "    <button class=\"colab-df-generate\" onclick=\"generateWithVariable('df_sorted')\"\n",
       "            title=\"Generate code using this dataframe.\"\n",
       "            style=\"display:none;\">\n",
       "\n",
       "  <svg xmlns=\"http://www.w3.org/2000/svg\" height=\"24px\"viewBox=\"0 0 24 24\"\n",
       "       width=\"24px\">\n",
       "    <path d=\"M7,19H8.4L18.45,9,17,7.55,7,17.6ZM5,21V16.75L18.45,3.32a2,2,0,0,1,2.83,0l1.4,1.43a1.91,1.91,0,0,1,.58,1.4,1.91,1.91,0,0,1-.58,1.4L9.25,21ZM18.45,9,17,7.55Zm-12,3A5.31,5.31,0,0,0,4.9,8.1,5.31,5.31,0,0,0,1,6.5,5.31,5.31,0,0,0,4.9,4.9,5.31,5.31,0,0,0,6.5,1,5.31,5.31,0,0,0,8.1,4.9,5.31,5.31,0,0,0,12,6.5,5.46,5.46,0,0,0,6.5,12Z\"/>\n",
       "  </svg>\n",
       "    </button>\n",
       "    <script>\n",
       "      (() => {\n",
       "      const buttonEl =\n",
       "        document.querySelector('#id_e577d73b-6d79-4755-979d-3b3e1f29987c button.colab-df-generate');\n",
       "      buttonEl.style.display =\n",
       "        google.colab.kernel.accessAllowed ? 'block' : 'none';\n",
       "\n",
       "      buttonEl.onclick = () => {\n",
       "        google.colab.notebook.generateWithVariable('df_sorted');\n",
       "      }\n",
       "      })();\n",
       "    </script>\n",
       "  </div>\n",
       "\n",
       "    </div>\n",
       "  </div>\n"
      ],
      "text/plain": [
       "   Feature Frequency  Percentile\n",
       "3     9686   5.7e-05    3.936768\n",
       "2     2126   6.3e-05    6.402588\n",
       "1      100   7.1e-05   11.315918\n",
       "0       44   8.5e-05   24.090576"
      ]
     },
     "execution_count": 20,
     "metadata": {},
     "output_type": "execute_result"
    }
   ],
   "source": [
    "# Select specific feature indices to analyze their activation frequency percentiles\n",
    "indices = [44, 100, 2126, 9686]\n",
    "\n",
    "# Compute the activation frequency percentile for each selected feature\n",
    "percentile_data = []\n",
    "for index in indices:\n",
    "    # Get the activation frequency of the feature\n",
    "    value = freqs[index].item()\n",
    "    # Count how many features have lower frequency\n",
    "    less_than = torch.lt(freqs, value).sum().item()\n",
    "    # Compute percentile ranking\n",
    "    percentile = 100.0 * less_than / len(freqs)\n",
    "    percentile_data.append((index, \"{:.1e}\".format(value), percentile))\n",
    "\n",
    "# Convert data into a DataFrame for easy visualization\n",
    "df = pd.DataFrame(percentile_data, columns=['Feature', 'Frequency', 'Percentile'])\n",
    "\n",
    "# Sort the DataFrame by activation frequency\n",
    "df_sorted = df.sort_values(by='Frequency')\n",
    "df_sorted"
   ]
  },
  {
   "cell_type": "markdown",
   "metadata": {
    "id": "GCXNnvwHJVK3"
   },
   "source": [
    "* If the percentile is low, this suggests that the neuron is not activated frequently across all inputs. Instead, it is likely highly specialized, meaning it only activates in specific conditions. This behavior matches the monosemantic neurons hypothesis, where certain neurons respond to only one or a few specific features.\n",
    "* If the percentile is high, which means this neuron is activated more frequently. It may still encode meaningful information but is less specialized than the low-percentile neurons.\n",
    "* So, here we choose those low-frequency features to see whether they are highly specialized or simply inactive/dead neurons."
   ]
  },
  {
   "cell_type": "markdown",
   "metadata": {
    "id": "jw-6L4Y7vcZ5"
   },
   "source": [
    "### Step8: Select Specific feature to Analyze Their Behavior in Transformer MLP"
   ]
  },
  {
   "cell_type": "code",
   "execution_count": 21,
   "metadata": {
    "id": "xvIJx2fmsXgk"
   },
   "outputs": [],
   "source": [
    "from html import escape\n",
    "import colorsys\n",
    "from IPython.display import display\n",
    "\n",
    "# Symbol for space visualization\n",
    "SPACE = \"\\u00b7\"\n",
    "# Symbol for new line visualization\n",
    "NEWLINE = \"\\u21b5\"\n",
    "# Symbol for new line visualization\n",
    "TAB = \"\\u2192\"\n",
    "\n",
    "def create_html(strings, values, max_value=None, saturation=0.5, allow_different_length=False, return_string=False):\n",
    "    \"\"\"\n",
    "    Generates an HTML visualization of token activations.\n",
    "\n",
    "    Args:\n",
    "      strings: list of tokens to be visualized.\n",
    "      values: activation values corresponding to each token.\n",
    "      max_value: maximum absolute value for scaling colors.\n",
    "      saturation: intensity of color saturation.\n",
    "      allow_different_length: whether to allow different lengths for strings and values.\n",
    "\n",
    "    Returns:\n",
    "      html: html string representing the visualization.\n",
    "    \"\"\"\n",
    "    escaped_strings = [escape(s, quote=True) for s in strings]\n",
    "    processed_strings = [\n",
    "        s.replace(\"\\n\", f\"{NEWLINE}<br/>\").replace(\"\\t\", f\"{TAB}&emsp;\").replace(\" \", \"&nbsp;\")\n",
    "        for s in escaped_strings\n",
    "    ]\n",
    "\n",
    "    if isinstance(values, torch.Tensor) and len(values.shape) > 1:\n",
    "        values = values.flatten().tolist()\n",
    "\n",
    "    if not allow_different_length:\n",
    "        assert len(processed_strings) == len(values)\n",
    "\n",
    "    if max_value is None:\n",
    "        # Prevent division by zero\n",
    "        max_value = max(max(values), -min(values)) + 1e-3\n",
    "    scaled_values = [v / max_value * saturation for v in values]\n",
    "\n",
    "    html = \"\"\n",
    "    for i, s in enumerate(processed_strings):\n",
    "        v = scaled_values[i] if i < len(scaled_values) else 0\n",
    "        # Red for negative values, Blue for positive values\n",
    "        hue = 0 if v < 0 else 0.66\n",
    "        # Convert HSV to RGB\n",
    "        rgb_color = colorsys.hsv_to_rgb(hue, v, 1)\n",
    "        hex_color = \"#%02x%02x%02x\" % (\n",
    "            int(rgb_color[0] * 255), int(rgb_color[1] * 255), int(rgb_color[2] * 255)\n",
    "        )\n",
    "        html += f'<span style=\"background-color: {hex_color}; border: 1px solid lightgray; font-size: 16px; border-radius: 3px;\">{s}</span>'\n",
    "\n",
    "    if return_string:\n",
    "        return html\n",
    "    else:\n",
    "        display(HTML(html)) # This function is refined by Chatgpt4o at 17:50pm 2/15/2025\n",
    "\n",
    "def basic_token_vis_make_str(strings, values, max_val=None):\n",
    "    \"\"\"\n",
    "    Creates an HTML-based token visualization with color-coded activations.\n",
    "    \"\"\"\n",
    "    if not isinstance(strings, list):\n",
    "        strings = model.to_str_tokens(strings)\n",
    "    values = utils.to_numpy(values)\n",
    "    if max_val is None:\n",
    "        max_val = values.max()\n",
    "\n",
    "    header_string = f\"<h4>Max Range <b>{values.max():.4f}</b> Min Range: <b>{values.min():.4f}</b></h4>\"\n",
    "    header_string += f\"<h4>Set Max Range <b>{max_val:.4f}</b></h4>\"\n",
    "\n",
    "    body_string = create_html(strings, values, max_value=max_val, return_string=True)\n",
    "    return header_string + body_string # This function is refined by Chatgpt4o at 18:10pm 2/15/2025\n",
    "\n",
    "def basic_feature_vis(text, feature_index, max_val=0):\n",
    "    \"\"\"\n",
    "    Computes and visualizes feature activations for a given input text.\n",
    "\n",
    "    Args:\n",
    "     text: the input text.\n",
    "     feature_index: the neuron feature index to analyze.\n",
    "     max_val: maximum activation value for color scaling.\n",
    "    \"\"\"\n",
    "    feature_in = encoder.W_enc[:, feature_index]\n",
    "    feature_bias = encoder.b_enc[feature_index]\n",
    "    _, cache = model.run_with_cache(text, stop_at_layer=1, names_filter=utils.get_act_name(\"post\", 0))\n",
    "    mlp_acts = cache[utils.get_act_name(\"post\", 0)][0]\n",
    "    feature_acts = torch.relu((mlp_acts - encoder.b_dec) @ feature_in + feature_bias)\n",
    "\n",
    "    if max_val == 0:\n",
    "        max_val = max(1e-7, feature_acts.max().item())\n",
    "\n",
    "    return basic_token_vis_make_str(text, feature_acts, max_val) # This function is refined by Chatgpt4o at 18:25pm 2/15/2025\n",
    "\n",
    "def process_token(s):\n",
    "    \"\"\"\n",
    "    Process individual tokens to replace whitespace, newlines, and tabs with visual symbols.\n",
    "    \"\"\"\n",
    "    if isinstance(s, torch.Tensor) or isinstance(s, np.int64) or isinstance(s, int):\n",
    "        s = model.to_string(s.item())\n",
    "    s = s.replace(\" \", SPACE)\n",
    "    s = s.replace(\"\\n\", NEWLINE + \"\\n\")\n",
    "    s = s.replace(\"\\t\", TAB)\n",
    "    return s\n",
    "\n",
    "def process_tokens(l):\n",
    "    \"\"\"\n",
    "    Process a list of tokens into readable format.\n",
    "    \"\"\"\n",
    "    if isinstance(l, str):\n",
    "        l = model.to_str_tokens(l)\n",
    "    elif isinstance(l, torch.Tensor) and len(l.shape) > 1:\n",
    "        l = l.squeeze(0)\n",
    "    return [process_token(s) for s in l]\n",
    "\n",
    "def list_flatten(nested_list):\n",
    "    \"\"\"\n",
    "    Flatten a nested list.\n",
    "    \"\"\"\n",
    "    return [x for y in nested_list for x in y]\n",
    "\n",
    "def make_feature_vis_gradio(feature_id, starting_text=None, batch=None, pos=None):\n",
    "    \"\"\"\n",
    "    Creates an interactive Gradio interface for visualizing neuron activations.\n",
    "    \"\"\"\n",
    "    if starting_text is None:\n",
    "        starting_text = model.to_string(all_tokens[batch, 1:pos+1])\n",
    "\n",
    "    with gr.Blocks() as demo:\n",
    "        gr.HTML(value=f\"Hacky Interactive Neuroscope for gelu-1l\")\n",
    "        with gr.Row():\n",
    "            with gr.Column():\n",
    "                text = gr.Textbox(label=\"Text\", value=starting_text)\n",
    "                feature_index = gr.Number(label=\"Feature Index\", value=feature_id, precision=0)\n",
    "                max_val = gr.Number(label=\"Max Value\", value=None)\n",
    "                inputs = [text, feature_index, max_val]\n",
    "        with gr.Row():\n",
    "            with gr.Column():\n",
    "                out = gr.HTML(label=\"Neuron Acts\", value=basic_feature_vis(starting_text, feature_id))\n",
    "        for inp in inputs:\n",
    "            inp.change(basic_feature_vis, inputs, out)\n",
    "    demo.launch(share=True) # This function is refined by Chatgpt4o at 18:45pm 2/15/2025\n",
    "\n",
    "def make_token_df(tokens, len_prefix=10, len_suffix=10):\n",
    "    \"\"\"\n",
    "    Constructs a DataFrame containing token sequences and their context.\n",
    "\n",
    "    Args:\n",
    "      tokens: tokenized input sequences.\n",
    "      len_prefix: number of context tokens before the target token.\n",
    "      len_suffix: mumber of context tokens after the target token.\n",
    "    \"\"\"\n",
    "    str_tokens = [process_tokens(model.to_str_tokens(t)) for t in tokens]\n",
    "\n",
    "    context = []\n",
    "    label = []\n",
    "    for b in range(tokens.shape[0]):\n",
    "        for p in range(tokens.shape[1]):\n",
    "            prefix = \"\".join(str_tokens[b][max(0, p-len_prefix):p])\n",
    "            suffix = \"\".join(str_tokens[b][p+1:min(tokens.shape[1]-1, p+1+len_suffix)])\n",
    "            current = str_tokens[b][p]\n",
    "            context.append(f\"{prefix}${current}${suffix}\")\n",
    "            label.append(f\"{b}/{p}\")\n",
    "\n",
    "    return pd.DataFrame(dict(\n",
    "        str_tokens=list_flatten(str_tokens),\n",
    "        context=context,\n",
    "        label=label,\n",
    "    ))"
   ]
  },
  {
   "cell_type": "code",
   "execution_count": 22,
   "metadata": {
    "colab": {
     "base_uri": "https://localhost:8080/",
     "height": 0
    },
    "id": "X2SzgM15s8Ob",
    "outputId": "26ed245b-ad71-43d4-8c93-2e196a9d0167"
   },
   "outputs": [
    {
     "name": "stdout",
     "output_type": "stream",
     "text": [
      "Feature freq: 5.737304672948085e-05\n"
     ]
    }
   ],
   "source": [
    "# Select specific feature indices\n",
    "features = [15, 100, 2126, 9686]\n",
    "\n",
    "# Define the feature ID for analysis\n",
    "# This neuron will be analyzed in detail\n",
    "feature_id = 9686  # @param {type:\"number\"}\n",
    "\n",
    "batch_size = 64  # @param {type:\"number\"}\n",
    "\n",
    "# Print activation frequency of the selected neuron\n",
    "print(f\"Feature freq: {freqs[feature_id].item()}\")"
   ]
  },
  {
   "cell_type": "code",
   "execution_count": 23,
   "metadata": {
    "colab": {
     "base_uri": "https://localhost:8080/",
     "height": 67,
     "referenced_widgets": [
      "ca8e393fcdd44ee6a1473fd9d1ea5427",
      "4371bbd7fa8b4fc1a3a7fed4cb0c6204",
      "e99654b4a2574da883b56a1c2903ed65",
      "472f3289968c4f04886568c7e4a10260",
      "12d7b16cd41d49faa3a1052103c64d96",
      "c2321348044a42ec9cbecc6f7ea476d7",
      "2a43d3b86be4430f8febc4158673cb89",
      "a74f4e60ca83455e9e2a0ffca3ca8f99",
      "5cd5273bd5b74c0cba6834897bb11478",
      "d67c0e1e8a5a47838c4d1af3bbe847d1",
      "2ed8f213187649d7a3d376d69dc90f82"
     ]
    },
    "id": "WKUDEujotpuE",
    "outputId": "233afc8f-38b8-4181-c1c2-095039eff46d"
   },
   "outputs": [
    {
     "data": {
      "application/vnd.jupyter.widget-view+json": {
       "model_id": "ca8e393fcdd44ee6a1473fd9d1ea5427",
       "version_major": 2,
       "version_minor": 0
      },
      "text/plain": [
       "  0%|          | 0/200 [00:00<?, ?it/s]"
      ]
     },
     "metadata": {},
     "output_type": "display_data"
    },
    {
     "name": "stdout",
     "output_type": "stream",
     "text": [
      "hidden_acts.shape torch.Size([83, 128]) torch.Size([83, 128])\n"
     ]
    }
   ],
   "source": [
    "@torch.no_grad()\n",
    "def get_acts(feature_id):\n",
    "    \"\"\"\n",
    "    Extract activations of a given neuron across multiple input sequences.\n",
    "\n",
    "    Args:\n",
    "        feature_id: neuron index to analyze.\n",
    "\n",
    "    Returns:\n",
    "        Token sequences where the neuron was activated.\n",
    "        Activation values for these sequences.\n",
    "    \"\"\"\n",
    "    filtered_tokens = []\n",
    "    filtered_activations = []\n",
    "\n",
    "    # Iterate over 200 random batches\n",
    "    for _ in tqdm.trange(200):\n",
    "        tokens = all_tokens[torch.randperm(len(all_tokens))[:batch_size]]\n",
    "        _, cache = model.run_with_cache(tokens, stop_at_layer=1, names_filter=utils.get_act_name(\"post\", 0))\n",
    "        # Extract MLP activations\n",
    "        mlp_acts = cache[utils.get_act_name(\"post\", 0)]\n",
    "\n",
    "        del cache, _\n",
    "\n",
    "        # Get batch and sequence length\n",
    "        b, c = tokens.shape\n",
    "        mlp_acts_flattened = mlp_acts.reshape(-1, cfg[\"d_mlp\"])\n",
    "\n",
    "        # Pass activations through the autoencoder to extract sparse features\n",
    "        loss, x_reconstruct, hidden_acts, l2_loss, l1_loss = encoder(mlp_acts_flattened)\n",
    "\n",
    "        # Reshape back into batch and sequence format\n",
    "        hidden = hidden_acts.reshape(b, c, -1)\n",
    "        del loss, x_reconstruct, hidden_acts, l2_loss, l1_loss\n",
    "\n",
    "        # Extract the activation values of the specific feature\n",
    "        feature_activations = hidden[..., feature_id]\n",
    "\n",
    "        # Find token sequences where this feature was activated\n",
    "        batch_has_active_feature = (feature_activations > 0).any(dim=1).cpu()\n",
    "        if not batch_has_active_feature.any():\n",
    "            continue\n",
    "\n",
    "        # Store token sequences and activations\n",
    "        filtered_tokens.append(tokens[batch_has_active_feature])\n",
    "        filtered_activations.append(feature_activations[batch_has_active_feature])\n",
    "\n",
    "        # Stop collecting when at least 200 sequences are found\n",
    "        cnt = (sum([len(i) for i in filtered_tokens]))\n",
    "        if cnt > 200:\n",
    "            break\n",
    "\n",
    "    return torch.cat(filtered_tokens, dim=0), torch.cat(filtered_activations, dim=0)\n",
    "\n",
    "# Extract token sequences where the feature is strongly activated\n",
    "filtered_tokens, filtered_activations = get_acts(feature_id)\n",
    "\n",
    "# Print the shapes of the extracted activations and token sequences\n",
    "print(\"hidden_acts.shape\", filtered_activations.shape, filtered_tokens.shape)"
   ]
  },
  {
   "cell_type": "code",
   "execution_count": 24,
   "metadata": {
    "colab": {
     "base_uri": "https://localhost:8080/",
     "height": 520
    },
    "id": "MnPSJNVDuV__",
    "outputId": "cbaf5957-4ff4-4793-cfd4-ff15b9919d8f"
   },
   "outputs": [
    {
     "data": {
      "text/html": [
       "<style type=\"text/css\">\n",
       "#T_223e8_row0_col3 {\n",
       "  background-color: #b40426;\n",
       "  color: #f1f1f1;\n",
       "}\n",
       "#T_223e8_row1_col3 {\n",
       "  background-color: #d75445;\n",
       "  color: #f1f1f1;\n",
       "}\n",
       "#T_223e8_row2_col3, #T_223e8_row3_col3 {\n",
       "  background-color: #dd5f4b;\n",
       "  color: #f1f1f1;\n",
       "}\n",
       "#T_223e8_row4_col3 {\n",
       "  background-color: #d1dae9;\n",
       "  color: #000000;\n",
       "}\n",
       "#T_223e8_row5_col3 {\n",
       "  background-color: #cfdaea;\n",
       "  color: #000000;\n",
       "}\n",
       "#T_223e8_row6_col3 {\n",
       "  background-color: #4f69d9;\n",
       "  color: #f1f1f1;\n",
       "}\n",
       "#T_223e8_row7_col3 {\n",
       "  background-color: #4c66d6;\n",
       "  color: #f1f1f1;\n",
       "}\n",
       "#T_223e8_row8_col3, #T_223e8_row9_col3, #T_223e8_row10_col3 {\n",
       "  background-color: #4a63d3;\n",
       "  color: #f1f1f1;\n",
       "}\n",
       "#T_223e8_row11_col3 {\n",
       "  background-color: #4257c9;\n",
       "  color: #f1f1f1;\n",
       "}\n",
       "#T_223e8_row12_col3 {\n",
       "  background-color: #4055c8;\n",
       "  color: #f1f1f1;\n",
       "}\n",
       "#T_223e8_row13_col3, #T_223e8_row14_col3 {\n",
       "  background-color: #3b4cc0;\n",
       "  color: #f1f1f1;\n",
       "}\n",
       "</style>\n",
       "<table id=\"T_223e8\" class=\"dataframe\">\n",
       "  <thead>\n",
       "    <tr>\n",
       "      <th class=\"blank level0\" >&nbsp;</th>\n",
       "      <th id=\"T_223e8_level0_col0\" class=\"col_heading level0 col0\" >str_tokens</th>\n",
       "      <th id=\"T_223e8_level0_col1\" class=\"col_heading level0 col1\" >context</th>\n",
       "      <th id=\"T_223e8_level0_col2\" class=\"col_heading level0 col2\" >label</th>\n",
       "      <th id=\"T_223e8_level0_col3\" class=\"col_heading level0 col3\" >feature</th>\n",
       "    </tr>\n",
       "  </thead>\n",
       "  <tbody>\n",
       "    <tr>\n",
       "      <th id=\"T_223e8_level0_row0\" class=\"row_heading level0 row0\" >1951</th>\n",
       "      <td id=\"T_223e8_row0_col0\" class=\"data row0 col0\" >·Er</td>\n",
       "      <td id=\"T_223e8_row0_col1\" class=\"data row0 col1\" >00-meter·relay·along·with·Karen·Harris·and$·Er$ion·Traylor.↵\n",
       "\"We·have·been</td>\n",
       "      <td id=\"T_223e8_row0_col2\" class=\"data row0 col2\" >15/31</td>\n",
       "      <td id=\"T_223e8_row0_col3\" class=\"data row0 col3\" >6.652761</td>\n",
       "    </tr>\n",
       "    <tr>\n",
       "      <th id=\"T_223e8_level0_row1\" class=\"row_heading level0 row1\" >5361</th>\n",
       "      <td id=\"T_223e8_row1_col0\" class=\"data row1 col0\" >·Er</td>\n",
       "      <td id=\"T_223e8_row1_col1\" class=\"data row1 col1\" >danov,·Chris·Woodstra,·and·Stephen·Thomas$·Er$lewine.↵\n",
       "\"A·definite·must·for·any</td>\n",
       "      <td id=\"T_223e8_row1_col2\" class=\"data row1 col2\" >41/113</td>\n",
       "      <td id=\"T_223e8_row1_col3\" class=\"data row1 col3\" >6.023319</td>\n",
       "    </tr>\n",
       "    <tr>\n",
       "      <th id=\"T_223e8_level0_row2\" class=\"row_heading level0 row2\" >5525</th>\n",
       "      <td id=\"T_223e8_row2_col0\" class=\"data row2 col0\" >·Er</td>\n",
       "      <td id=\"T_223e8_row2_col1\" class=\"data row2 col1\" >)↵\n",
       "↵\n",
       "··#·###########################################################↵\n",
       "··#$·Er$stellt·das·Haupt-Control↵\n",
       "··#·Z</td>\n",
       "      <td id=\"T_223e8_row2_col2\" class=\"data row2 col2\" >43/21</td>\n",
       "      <td id=\"T_223e8_row2_col3\" class=\"data row2 col3\" >5.904913</td>\n",
       "    </tr>\n",
       "    <tr>\n",
       "      <th id=\"T_223e8_level0_row3\" class=\"row_heading level0 row3\" >2965</th>\n",
       "      <td id=\"T_223e8_row3_col0\" class=\"data row3 col0\" >·Er</td>\n",
       "      <td id=\"T_223e8_row3_col1\" class=\"data row3 col1\" >)↵\n",
       "↵\n",
       "··#·###########################################################↵\n",
       "··#$·Er$stellt·das·Haupt-Control↵\n",
       "··#·Z</td>\n",
       "      <td id=\"T_223e8_row3_col2\" class=\"data row3 col2\" >23/21</td>\n",
       "      <td id=\"T_223e8_row3_col3\" class=\"data row3 col3\" >5.904913</td>\n",
       "    </tr>\n",
       "    <tr>\n",
       "      <th id=\"T_223e8_level0_row4\" class=\"row_heading level0 row4\" >7623</th>\n",
       "      <td id=\"T_223e8_row4_col0\" class=\"data row4 col0\" >Er</td>\n",
       "      <td id=\"T_223e8_row4_col1\" class=\"data row4 col1\" >·not·isinstance(name,·str):↵\n",
       "············raise·Value$Er$ror(\"Name·must·be·a·valid·string\")</td>\n",
       "      <td id=\"T_223e8_row4_col2\" class=\"data row4 col2\" >59/71</td>\n",
       "      <td id=\"T_223e8_row4_col3\" class=\"data row4 col3\" >3.314780</td>\n",
       "    </tr>\n",
       "    <tr>\n",
       "      <th id=\"T_223e8_level0_row5\" class=\"row_heading level0 row5\" >1870</th>\n",
       "      <td id=\"T_223e8_row5_col0\" class=\"data row5 col0\" >Er</td>\n",
       "      <td id=\"T_223e8_row5_col1\" class=\"data row5 col1\" >z6N/QAAAABJRU5$Er$kJggg==\")↵\n",
       "↵\n",
       "↵\n",
       "#·vi</td>\n",
       "      <td id=\"T_223e8_row5_col2\" class=\"data row5 col2\" >14/78</td>\n",
       "      <td id=\"T_223e8_row5_col3\" class=\"data row5 col3\" >3.299025</td>\n",
       "    </tr>\n",
       "    <tr>\n",
       "      <th id=\"T_223e8_level0_row6\" class=\"row_heading level0 row6\" >8864</th>\n",
       "      <td id=\"T_223e8_row6_col0\" class=\"data row6 col0\" >·Ger</td>\n",
       "      <td id=\"T_223e8_row6_col1\" class=\"data row6 col1\" >fordert·werden.·Die·Mischung·der$·Ger$äte·hält·für·jeden·Spielertyp</td>\n",
       "      <td id=\"T_223e8_row6_col2\" class=\"data row6 col2\" >69/32</td>\n",
       "      <td id=\"T_223e8_row6_col3\" class=\"data row6 col3\" >0.955786</td>\n",
       "    </tr>\n",
       "    <tr>\n",
       "      <th id=\"T_223e8_level0_row7\" class=\"row_heading level0 row7\" >2311</th>\n",
       "      <td id=\"T_223e8_row7_col0\" class=\"data row7 col0\" >·Ger</td>\n",
       "      <td id=\"T_223e8_row7_col1\" class=\"data row7 col1\" ><|BOS|>[c,·'growth·rate$·Ger$osa·[h-1]']↵\n",
       "····flux_</td>\n",
       "      <td id=\"T_223e8_row7_col2\" class=\"data row7 col2\" >18/7</td>\n",
       "      <td id=\"T_223e8_row7_col3\" class=\"data row7 col3\" >0.917217</td>\n",
       "    </tr>\n",
       "    <tr>\n",
       "      <th id=\"T_223e8_level0_row8\" class=\"row_heading level0 row8\" >8093</th>\n",
       "      <td id=\"T_223e8_row8_col0\" class=\"data row8 col0\" >·Ger</td>\n",
       "      <td id=\"T_223e8_row8_col1\" class=\"data row8 col1\" >]↵\n",
       "conditions.sort_values('growth·rate$·Ger$osa·[h-1]',·inplace=</td>\n",
       "      <td id=\"T_223e8_row8_col2\" class=\"data row8 col2\" >63/29</td>\n",
       "      <td id=\"T_223e8_row8_col3\" class=\"data row8 col3\" >0.864320</td>\n",
       "    </tr>\n",
       "    <tr>\n",
       "      <th id=\"T_223e8_level0_row9\" class=\"row_heading level0 row9\" >1749</th>\n",
       "      <td id=\"T_223e8_row9_col0\" class=\"data row9 col0\" >·Ger</td>\n",
       "      <td id=\"T_223e8_row9_col1\" class=\"data row9 col1\" >·it·playable·but·some·of·it·ridiculous...·Its$·Ger$ardo·Nuñez·so·its·all·incredible,·I</td>\n",
       "      <td id=\"T_223e8_row9_col2\" class=\"data row9 col2\" >13/85</td>\n",
       "      <td id=\"T_223e8_row9_col3\" class=\"data row9 col3\" >0.861928</td>\n",
       "    </tr>\n",
       "    <tr>\n",
       "      <th id=\"T_223e8_level0_row10\" class=\"row_heading level0 row10\" >6529</th>\n",
       "      <td id=\"T_223e8_row10_col0\" class=\"data row10 col0\" >·Kir</td>\n",
       "      <td id=\"T_223e8_row10_col1\" class=\"data row10 col1\" ><|BOS|>$·Kir$ienko·<pavel@uavcan.</td>\n",
       "      <td id=\"T_223e8_row10_col2\" class=\"data row10 col2\" >51/1</td>\n",
       "      <td id=\"T_223e8_row10_col3\" class=\"data row10 col3\" >0.852583</td>\n",
       "    </tr>\n",
       "    <tr>\n",
       "      <th id=\"T_223e8_level0_row11\" class=\"row_heading level0 row11\" >6147</th>\n",
       "      <td id=\"T_223e8_row11_col0\" class=\"data row11 col0\" >·Robin</td>\n",
       "      <td id=\"T_223e8_row11_col1\" class=\"data row11 col1\" ><|BOS|>·better,$·Robin$·Hood,·Robin·Hood·could·have·crafted·a·bow·from</td>\n",
       "      <td id=\"T_223e8_row11_col2\" class=\"data row11 col2\" >48/3</td>\n",
       "      <td id=\"T_223e8_row11_col3\" class=\"data row11 col3\" >0.703916</td>\n",
       "    </tr>\n",
       "    <tr>\n",
       "      <th id=\"T_223e8_level0_row12\" class=\"row_heading level0 row12\" >7741</th>\n",
       "      <td id=\"T_223e8_row12_col0\" class=\"data row12 col0\" >·Ker</td>\n",
       "      <td id=\"T_223e8_row12_col1\" class=\"data row12 col1\" >·Think·Paul·Strand,·Robert·Frank,·or·Jack$·Ker$ouac…All·were·inspired·through·travel·adventures·while</td>\n",
       "      <td id=\"T_223e8_row12_col2\" class=\"data row12 col2\" >60/61</td>\n",
       "      <td id=\"T_223e8_row12_col3\" class=\"data row12 col3\" >0.662799</td>\n",
       "    </tr>\n",
       "    <tr>\n",
       "      <th id=\"T_223e8_level0_row13\" class=\"row_heading level0 row13\" >3784</th>\n",
       "      <td id=\"T_223e8_row13_col0\" class=\"data row13 col0\" >·Ger</td>\n",
       "      <td id=\"T_223e8_row13_col1\" class=\"data row13 col1\" >%s'·%·i↵\n",
       "↵\n",
       "····#·Some·reactions·in$·Ger$osa·et·al.·2015·share·constraints</td>\n",
       "      <td id=\"T_223e8_row13_col2\" class=\"data row13 col2\" >29/72</td>\n",
       "      <td id=\"T_223e8_row13_col3\" class=\"data row13 col3\" >0.542701</td>\n",
       "    </tr>\n",
       "    <tr>\n",
       "      <th id=\"T_223e8_level0_row14\" class=\"row_heading level0 row14\" >2050</th>\n",
       "      <td id=\"T_223e8_row14_col0\" class=\"data row14 col0\" >Ir</td>\n",
       "      <td id=\"T_223e8_row14_col1\" class=\"data row14 col1\" ><|BOS|>.$Ir$pListLock·=·v_uint32()</td>\n",
       "      <td id=\"T_223e8_row14_col2\" class=\"data row14 col2\" >16/2</td>\n",
       "      <td id=\"T_223e8_row14_col3\" class=\"data row14 col3\" >0.541925</td>\n",
       "    </tr>\n",
       "  </tbody>\n",
       "</table>\n"
      ],
      "text/plain": [
       "<pandas.io.formats.style.Styler at 0x799db83c7350>"
      ]
     },
     "execution_count": 24,
     "metadata": {},
     "output_type": "execute_result"
    }
   ],
   "source": [
    "token_df = make_token_df(filtered_tokens)\n",
    "token_df[\"feature\"] = utils.to_numpy(filtered_activations.view(-1))\n",
    "token_df.sort_values(\"feature\", ascending=False).head(15).style.background_gradient(\"coolwarm\") # This function is refined by Chatgpt4o at 19:25pm 2/15/2025"
   ]
  },
  {
   "cell_type": "markdown",
   "metadata": {
    "id": "PVr5oZyOMrwP"
   },
   "source": [
    "* We can see the highest activations appear for tokens like \"·Er\" (common in German) and \"·Ger\" (short for Germany). This suggests that this feature might be encoding a linguistic pattern related to German words or names.\n",
    "* And we can also see this patern from context column. Tokens like \"Er\" and \"Ger\" appear in similar linguistic contexts with German structure. This suggests that even though this feature is low-frequency, it is still active in specific cases.\n",
    "* The activations for some tokens drop significantly but do not reach zero. This could mean that the feature is only relevant in specific cases, and it could also indicate some overlap with other features."
   ]
  },
  {
   "cell_type": "code",
   "execution_count": 25,
   "metadata": {
    "colab": {
     "base_uri": "https://localhost:8080/",
     "height": 612
    },
    "id": "TBtykQruy0Bu",
    "outputId": "c651187d-a2a1-4872-9f01-80b0eac615a3"
   },
   "outputs": [
    {
     "name": "stdout",
     "output_type": "stream",
     "text": [
      "Colab notebook detected. To show errors in colab notebook, set debug=True in launch()\n",
      "* Running on public URL: https://33e6d5d823c4ef53b4.gradio.live\n",
      "\n",
      "This share link expires in 72 hours. For free permanent hosting and GPU upgrades, run `gradio deploy` from the terminal in the working directory to deploy to Hugging Face Spaces (https://huggingface.co/spaces)\n"
     ]
    },
    {
     "data": {
      "text/html": [
       "<div><iframe src=\"https://33e6d5d823c4ef53b4.gradio.live\" width=\"100%\" height=\"500\" allow=\"autoplay; camera; microphone; clipboard-read; clipboard-write;\" frameborder=\"0\" allowfullscreen></iframe></div>"
      ],
      "text/plain": [
       "<IPython.core.display.HTML object>"
      ]
     },
     "metadata": {},
     "output_type": "display_data"
    }
   ],
   "source": [
    "starting_text = \"A different potential constitutional barrier was identified by Joseph Gerth, who argued in his column for the Louisville\" # @param {type:\"string\"}\n",
    "make_feature_vis_gradio(feature_id, starting_text)"
   ]
  },
  {
   "cell_type": "markdown",
   "metadata": {
    "id": "rGFOdgKJUIx6"
   },
   "source": [
    "## Key Findings:\n",
    "\n",
    "1. Experiment 1: sparse autoencoder successfully decomposes Transformer MLP activations into a sparse feature space, confirming the possibility for disentangling features.\n",
    "\n",
    "2. Experiment 1: most extracted features are rarely activated, supporting the idea that Transformer activations are sparsely distributed rather than fully polysemantic.\n",
    "\n",
    "3. Experiment 1: feature activation analysis shows that certain features respond selectively to specific tokens, indicating early signs of monosemanticity.\n",
    "\n",
    "4. Experiment 2: sparse decomposition holds for real Transformer activations, validating that monosemantic neurons exist beyond synthetic data.\n",
    "\n",
    "5. Experiment 2: High reconstruction score (91.12%) shows that a small number of extracted features can preserve most of the model’s predictive capacity.\n",
    "\n",
    "6. Experiment 2: Low-frequency features are highly specialized, activating in specific contexts rather than being entirely inactive.\n",
    "\n",
    "7. Experiment 2: Some extracted features correspond to specific linguistic patterns like German words, suggesting that Transformer neurons encode interpretable concepts."
   ]
  },
  {
   "cell_type": "markdown",
   "metadata": {
    "id": "P8-s0YIBUl-5"
   },
   "source": [
    "## Brief Writeup for the Notebook\n",
    "1. What I Learned About the Mechanism:\n",
    "- Transformer MLP activations can be effectively decomposed using a sparse autoencoder, confirming that these activations are not fully distributed.\n",
    "- The sparse autoencoder successfully extracts meaningful, independent features, reinforcing the idea that monosemantic neurons exist.\n",
    "- Certain neurons activate only in very specific contexts, suggesting that they encode highly specialized information.\n",
    "\n",
    "2. Challenges Encountered:\n",
    "- The issue betweem synthetic data and real data. Training the autoencoder on synthetic data showed promising results, but real Transformer activations introduced additional complexities, which may require a more complex pre-trained model.\n",
    "- There still exists feature overlap. Some extracted features showed partial overlap, meaning that the sparse decomposition is not perfect and still retains some degree of superposition.\n",
    "- Identifying whether low-frequency features are truly monosemantic or just noise required additional experiments.\n",
    "\n",
    "3. Potential Extensions and Improvements:\n",
    "- We need to train autoencoder on larger datasets. By this way, we could lead to better feature extraction and improved interpretability.\n",
    "- We need to further fine tune autoencoder for feature orthogonality. For example, adding additional constraints or regularization might improve feature separation and reduce overlap.\n",
    "- We also need to investigating higher-order monosemanticity. Instead of focusing on single-layer MLP activations, applying this approach to deeper Transformer layers might reveal more abstract monosemantic representations."
   ]
  }
 ],
 "metadata": {
  "accelerator": "GPU",
  "colab": {
   "authorship_tag": "ABX9TyPfcv7lNTtabN5TX8lPqbrg",
   "gpuType": "A100",
   "include_colab_link": true,
   "machine_shape": "hm",
   "provenance": []
  },
  "kernelspec": {
   "display_name": "Python 3",
   "name": "python3"
  },
  "language_info": {
   "name": "python"
  }
 },
 "nbformat": 4,
 "nbformat_minor": 0
}
