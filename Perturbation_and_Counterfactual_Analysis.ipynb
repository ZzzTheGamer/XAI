{
  "nbformat": 4,
  "nbformat_minor": 0,
  "metadata": {
    "colab": {
      "provenance": [],
      "authorship_tag": "ABX9TyP7EddYzfRFrD1M18si8H9Q",
      "include_colab_link": true
    },
    "kernelspec": {
      "name": "python3",
      "display_name": "Python 3"
    },
    "language_info": {
      "name": "python"
    }
  },
  "cells": [
    {
      "cell_type": "markdown",
      "metadata": {
        "id": "view-in-github",
        "colab_type": "text"
      },
      "source": [
        "<a href=\"https://colab.research.google.com/github/ZzzTheGamer/XAI/blob/Assignment10_XAI_in_LLMs/Perturbation_and_Counterfactual_Analysis.ipynb\" target=\"_parent\"><img src=\"https://colab.research.google.com/assets/colab-badge.svg\" alt=\"Open In Colab\"/></a>"
      ]
    },
    {
      "cell_type": "markdown",
      "source": [
        "# XAI in LLMs: Perturbation and Counterfactual Analysis\n",
        "* Referencces:\n",
        "* Hugging Face Transformers Library\n",
        "* Sentence Transformers (all-MiniLM-L6-v2)\n",
        "* XAI in NLP: https://arxiv.org/abs/2012.10807"
      ],
      "metadata": {
        "id": "qL3LYg-Mi4h_"
      }
    },
    {
      "cell_type": "markdown",
      "source": [
        "##  Setup and Imports"
      ],
      "metadata": {
        "id": "EaSdAK5bjG5i"
      }
    },
    {
      "cell_type": "code",
      "execution_count": 1,
      "metadata": {
        "colab": {
          "base_uri": "https://localhost:8080/"
        },
        "collapsed": true,
        "id": "gGEk8U7JcP3D",
        "outputId": "07eb9b38-b8c7-4f85-be33-cb9a3a14b944"
      },
      "outputs": [
        {
          "output_type": "stream",
          "name": "stdout",
          "text": [
            "Requirement already satisfied: transformers in /usr/local/lib/python3.11/dist-packages (4.49.0)\n",
            "Requirement already satisfied: sentence-transformers in /usr/local/lib/python3.11/dist-packages (3.4.1)\n",
            "Requirement already satisfied: filelock in /usr/local/lib/python3.11/dist-packages (from transformers) (3.18.0)\n",
            "Requirement already satisfied: huggingface-hub<1.0,>=0.26.0 in /usr/local/lib/python3.11/dist-packages (from transformers) (0.29.3)\n",
            "Requirement already satisfied: numpy>=1.17 in /usr/local/lib/python3.11/dist-packages (from transformers) (2.0.2)\n",
            "Requirement already satisfied: packaging>=20.0 in /usr/local/lib/python3.11/dist-packages (from transformers) (24.2)\n",
            "Requirement already satisfied: pyyaml>=5.1 in /usr/local/lib/python3.11/dist-packages (from transformers) (6.0.2)\n",
            "Requirement already satisfied: regex!=2019.12.17 in /usr/local/lib/python3.11/dist-packages (from transformers) (2024.11.6)\n",
            "Requirement already satisfied: requests in /usr/local/lib/python3.11/dist-packages (from transformers) (2.32.3)\n",
            "Requirement already satisfied: tokenizers<0.22,>=0.21 in /usr/local/lib/python3.11/dist-packages (from transformers) (0.21.1)\n",
            "Requirement already satisfied: safetensors>=0.4.1 in /usr/local/lib/python3.11/dist-packages (from transformers) (0.5.3)\n",
            "Requirement already satisfied: tqdm>=4.27 in /usr/local/lib/python3.11/dist-packages (from transformers) (4.67.1)\n",
            "Requirement already satisfied: torch>=1.11.0 in /usr/local/lib/python3.11/dist-packages (from sentence-transformers) (2.6.0+cu124)\n",
            "Requirement already satisfied: scikit-learn in /usr/local/lib/python3.11/dist-packages (from sentence-transformers) (1.6.1)\n",
            "Requirement already satisfied: scipy in /usr/local/lib/python3.11/dist-packages (from sentence-transformers) (1.14.1)\n",
            "Requirement already satisfied: Pillow in /usr/local/lib/python3.11/dist-packages (from sentence-transformers) (11.1.0)\n",
            "Requirement already satisfied: fsspec>=2023.5.0 in /usr/local/lib/python3.11/dist-packages (from huggingface-hub<1.0,>=0.26.0->transformers) (2025.3.0)\n",
            "Requirement already satisfied: typing-extensions>=3.7.4.3 in /usr/local/lib/python3.11/dist-packages (from huggingface-hub<1.0,>=0.26.0->transformers) (4.12.2)\n",
            "Requirement already satisfied: networkx in /usr/local/lib/python3.11/dist-packages (from torch>=1.11.0->sentence-transformers) (3.4.2)\n",
            "Requirement already satisfied: jinja2 in /usr/local/lib/python3.11/dist-packages (from torch>=1.11.0->sentence-transformers) (3.1.6)\n",
            "Requirement already satisfied: nvidia-cuda-nvrtc-cu12==12.4.127 in /usr/local/lib/python3.11/dist-packages (from torch>=1.11.0->sentence-transformers) (12.4.127)\n",
            "Requirement already satisfied: nvidia-cuda-runtime-cu12==12.4.127 in /usr/local/lib/python3.11/dist-packages (from torch>=1.11.0->sentence-transformers) (12.4.127)\n",
            "Requirement already satisfied: nvidia-cuda-cupti-cu12==12.4.127 in /usr/local/lib/python3.11/dist-packages (from torch>=1.11.0->sentence-transformers) (12.4.127)\n",
            "Requirement already satisfied: nvidia-cudnn-cu12==9.1.0.70 in /usr/local/lib/python3.11/dist-packages (from torch>=1.11.0->sentence-transformers) (9.1.0.70)\n",
            "Requirement already satisfied: nvidia-cublas-cu12==12.4.5.8 in /usr/local/lib/python3.11/dist-packages (from torch>=1.11.0->sentence-transformers) (12.4.5.8)\n",
            "Requirement already satisfied: nvidia-cufft-cu12==11.2.1.3 in /usr/local/lib/python3.11/dist-packages (from torch>=1.11.0->sentence-transformers) (11.2.1.3)\n",
            "Requirement already satisfied: nvidia-curand-cu12==10.3.5.147 in /usr/local/lib/python3.11/dist-packages (from torch>=1.11.0->sentence-transformers) (10.3.5.147)\n",
            "Requirement already satisfied: nvidia-cusolver-cu12==11.6.1.9 in /usr/local/lib/python3.11/dist-packages (from torch>=1.11.0->sentence-transformers) (11.6.1.9)\n",
            "Requirement already satisfied: nvidia-cusparse-cu12==12.3.1.170 in /usr/local/lib/python3.11/dist-packages (from torch>=1.11.0->sentence-transformers) (12.3.1.170)\n",
            "Requirement already satisfied: nvidia-cusparselt-cu12==0.6.2 in /usr/local/lib/python3.11/dist-packages (from torch>=1.11.0->sentence-transformers) (0.6.2)\n",
            "Requirement already satisfied: nvidia-nccl-cu12==2.21.5 in /usr/local/lib/python3.11/dist-packages (from torch>=1.11.0->sentence-transformers) (2.21.5)\n",
            "Requirement already satisfied: nvidia-nvtx-cu12==12.4.127 in /usr/local/lib/python3.11/dist-packages (from torch>=1.11.0->sentence-transformers) (12.4.127)\n",
            "Requirement already satisfied: nvidia-nvjitlink-cu12==12.4.127 in /usr/local/lib/python3.11/dist-packages (from torch>=1.11.0->sentence-transformers) (12.4.127)\n",
            "Requirement already satisfied: triton==3.2.0 in /usr/local/lib/python3.11/dist-packages (from torch>=1.11.0->sentence-transformers) (3.2.0)\n",
            "Requirement already satisfied: sympy==1.13.1 in /usr/local/lib/python3.11/dist-packages (from torch>=1.11.0->sentence-transformers) (1.13.1)\n",
            "Requirement already satisfied: mpmath<1.4,>=1.1.0 in /usr/local/lib/python3.11/dist-packages (from sympy==1.13.1->torch>=1.11.0->sentence-transformers) (1.3.0)\n",
            "Requirement already satisfied: charset-normalizer<4,>=2 in /usr/local/lib/python3.11/dist-packages (from requests->transformers) (3.4.1)\n",
            "Requirement already satisfied: idna<4,>=2.5 in /usr/local/lib/python3.11/dist-packages (from requests->transformers) (3.10)\n",
            "Requirement already satisfied: urllib3<3,>=1.21.1 in /usr/local/lib/python3.11/dist-packages (from requests->transformers) (2.3.0)\n",
            "Requirement already satisfied: certifi>=2017.4.17 in /usr/local/lib/python3.11/dist-packages (from requests->transformers) (2025.1.31)\n",
            "Requirement already satisfied: joblib>=1.2.0 in /usr/local/lib/python3.11/dist-packages (from scikit-learn->sentence-transformers) (1.4.2)\n",
            "Requirement already satisfied: threadpoolctl>=3.1.0 in /usr/local/lib/python3.11/dist-packages (from scikit-learn->sentence-transformers) (3.6.0)\n",
            "Requirement already satisfied: MarkupSafe>=2.0 in /usr/local/lib/python3.11/dist-packages (from jinja2->torch>=1.11.0->sentence-transformers) (3.0.2)\n"
          ]
        }
      ],
      "source": [
        "!pip install transformers sentence-transformers\n",
        "from transformers import GPT2LMHeadModel, GPT2Tokenizer, GenerationConfig\n",
        "from sentence_transformers import SentenceTransformer\n",
        "import torch\n",
        "import numpy as np\n",
        "import matplotlib.pyplot as plt"
      ]
    },
    {
      "cell_type": "markdown",
      "source": [
        "## Load Language and Similarity Models"
      ],
      "metadata": {
        "id": "TLTqlt49jMr8"
      }
    },
    {
      "cell_type": "code",
      "source": [
        "tokenizer = GPT2Tokenizer.from_pretrained('gpt2')\n",
        "model = GPT2LMHeadModel.from_pretrained('gpt2')\n",
        "similarity_model = SentenceTransformer('all-MiniLM-L6-v2')"
      ],
      "metadata": {
        "colab": {
          "base_uri": "https://localhost:8080/"
        },
        "id": "ZWIxwTQ1dbdi",
        "outputId": "bf3ef176-67ce-494e-a259-4d82703b840a"
      },
      "execution_count": 2,
      "outputs": [
        {
          "output_type": "stream",
          "name": "stderr",
          "text": [
            "/usr/local/lib/python3.11/dist-packages/huggingface_hub/utils/_auth.py:94: UserWarning: \n",
            "The secret `HF_TOKEN` does not exist in your Colab secrets.\n",
            "To authenticate with the Hugging Face Hub, create a token in your settings tab (https://huggingface.co/settings/tokens), set it as secret in your Google Colab and restart your session.\n",
            "You will be able to reuse this secret in all of your notebooks.\n",
            "Please note that authentication is recommended but still optional to access public models or datasets.\n",
            "  warnings.warn(\n"
          ]
        }
      ]
    },
    {
      "cell_type": "markdown",
      "source": [
        "## Define Response Generation Function"
      ],
      "metadata": {
        "id": "KJH7CvxijRpo"
      }
    },
    {
      "cell_type": "code",
      "source": [
        "def generate_response(prompt):\n",
        "    # Tokenize the input prompt\n",
        "    inputs = tokenizer(prompt, return_tensors='pt')\n",
        "    # Generate text\n",
        "    outputs = model.generate(\n",
        "        **inputs,\n",
        "        generation_config=GenerationConfig(\n",
        "            max_new_tokens=50,      # Limit the length of the generated text\n",
        "            do_sample=False,       # Disable sampling\n",
        "            temperature=0.0,       # No randomness in generation\n",
        "            top_k=1           # Only consider the top token for generation\n",
        "        )\n",
        "    )\n",
        "    # Decode the generated token ids into a human-readable string\n",
        "    return tokenizer.decode(outputs[0], skip_special_tokens=True)"
      ],
      "metadata": {
        "id": "RGq_njnWdfBZ"
      },
      "execution_count": 3,
      "outputs": []
    },
    {
      "cell_type": "markdown",
      "source": [
        "## Base Prompt Definition"
      ],
      "metadata": {
        "id": "3tw0kUcEkI_J"
      }
    },
    {
      "cell_type": "code",
      "source": [
        "base_prompt = \"The knight fought the dragon with a sword. The knight won because\""
      ],
      "metadata": {
        "id": "nOG3DPzFkKjK"
      },
      "execution_count": 4,
      "outputs": []
    },
    {
      "cell_type": "markdown",
      "source": [
        "## Define Perturbations and Counterfactual Prompts"
      ],
      "metadata": {
        "id": "9H4DRB2fkO2q"
      }
    },
    {
      "cell_type": "code",
      "source": [
        "perturbations = {\n",
        "    'symbols': [\n",
        "        \"The wizard fought the dragon with a spell. The wizard won because\",\n",
        "        \"The knight fought the demon with a sword. The knight won because\"\n",
        "    ],\n",
        "    'patterns': [\n",
        "        \"With a sword, the dragon was fought by the knight. The knight won because\",\n",
        "        \"The dragon was fought by the knight, who used a sword. The knight won because\"\n",
        "    ],\n",
        "    'text': [\n",
        "        \"In a futuristic city, a robot battled a drone using lasers. The robot won because\",\n",
        "        \"A chef competed against a rival in a cooking contest. The chef won because\"\n",
        "    ]\n",
        "}"
      ],
      "metadata": {
        "id": "r6A-sLCYdgh6"
      },
      "execution_count": 5,
      "outputs": []
    },
    {
      "cell_type": "code",
      "source": [
        "counterfactuals = [\n",
        "    \"The knight fought the dragon with a sword. The knight lost because\",\n",
        "    \"The knight fought the dragon with a sword. The knight barely survived because\"\n",
        "]"
      ],
      "metadata": {
        "id": "h_TzRqk-eTYd"
      },
      "execution_count": 6,
      "outputs": []
    },
    {
      "cell_type": "markdown",
      "source": [
        "## Generate Responses and Compute Similarity Scores"
      ],
      "metadata": {
        "id": "soxf86EkkYd7"
      }
    },
    {
      "cell_type": "code",
      "source": [
        "base_response = generate_response(base_prompt)\n",
        "base_embedding = similarity_model.encode([base_response])"
      ],
      "metadata": {
        "colab": {
          "base_uri": "https://localhost:8080/"
        },
        "id": "UcPGTG1ueVr4",
        "outputId": "14ad8746-3670-496c-8754-2b3c991a68b2"
      },
      "execution_count": 7,
      "outputs": [
        {
          "output_type": "stream",
          "name": "stderr",
          "text": [
            "/usr/local/lib/python3.11/dist-packages/transformers/generation/configuration_utils.py:629: UserWarning: `do_sample` is set to `False`. However, `temperature` is set to `0.0` -- this flag is only used in sample-based generation modes. You should set `do_sample=True` or unset `temperature`. This was detected when initializing the generation config instance, which means the corresponding file may hold incorrect parameterization and should be fixed.\n",
            "  warnings.warn(\n",
            "/usr/local/lib/python3.11/dist-packages/transformers/generation/configuration_utils.py:651: UserWarning: `do_sample` is set to `False`. However, `top_k` is set to `1` -- this flag is only used in sample-based generation modes. You should set `do_sample=True` or unset `top_k`. This was detected when initializing the generation config instance, which means the corresponding file may hold incorrect parameterization and should be fixed.\n",
            "  warnings.warn(\n",
            "/usr/local/lib/python3.11/dist-packages/transformers/generation/configuration_utils.py:629: UserWarning: `do_sample` is set to `False`. However, `temperature` is set to `0.0` -- this flag is only used in sample-based generation modes. You should set `do_sample=True` or unset `temperature`.\n",
            "  warnings.warn(\n",
            "/usr/local/lib/python3.11/dist-packages/transformers/generation/configuration_utils.py:651: UserWarning: `do_sample` is set to `False`. However, `top_k` is set to `1` -- this flag is only used in sample-based generation modes. You should set `do_sample=True` or unset `top_k`.\n",
            "  warnings.warn(\n",
            "Setting `pad_token_id` to `eos_token_id`:50256 for open-end generation.\n"
          ]
        }
      ]
    },
    {
      "cell_type": "code",
      "source": [
        "# Store similarity scores for each perturbation type\n",
        "results = {}\n",
        "\n",
        "# Compute similarities for each perturbed prompt\n",
        "for key, prompts in perturbations.items():\n",
        "    similarities = []\n",
        "    for prompt in prompts:\n",
        "        response = generate_response(prompt)\n",
        "        embedding = similarity_model.encode([response])\n",
        "        similarity = np.dot(base_embedding, embedding.T).item()\n",
        "        similarities.append(similarity)\n",
        "    results[key] = np.mean(similarities)\n",
        "\n",
        "# Compute similarities for counterfactual prompts\n",
        "cf_similarities = []\n",
        "for prompt in counterfactuals:\n",
        "    response = generate_response(prompt)\n",
        "    embedding = similarity_model.encode([response])\n",
        "    similarity = np.dot(base_embedding, embedding.T).item()\n",
        "    cf_similarities.append(similarity)\n",
        "\n",
        "results['counterfactual'] = np.mean(cf_similarities)"
      ],
      "metadata": {
        "colab": {
          "base_uri": "https://localhost:8080/"
        },
        "id": "ZBmA9sl5eajd",
        "outputId": "b4f52fa2-b27c-4797-ba2a-ee858f8495b6"
      },
      "execution_count": 8,
      "outputs": [
        {
          "output_type": "stream",
          "name": "stderr",
          "text": [
            "Setting `pad_token_id` to `eos_token_id`:50256 for open-end generation.\n",
            "Setting `pad_token_id` to `eos_token_id`:50256 for open-end generation.\n",
            "Setting `pad_token_id` to `eos_token_id`:50256 for open-end generation.\n",
            "Setting `pad_token_id` to `eos_token_id`:50256 for open-end generation.\n",
            "Setting `pad_token_id` to `eos_token_id`:50256 for open-end generation.\n",
            "Setting `pad_token_id` to `eos_token_id`:50256 for open-end generation.\n",
            "Setting `pad_token_id` to `eos_token_id`:50256 for open-end generation.\n",
            "Setting `pad_token_id` to `eos_token_id`:50256 for open-end generation.\n"
          ]
        }
      ]
    },
    {
      "cell_type": "markdown",
      "source": [
        "## Visualization of Perturbation Impact on Output Similarity"
      ],
      "metadata": {
        "id": "ii-Igf9wkqlj"
      }
    },
    {
      "cell_type": "code",
      "source": [
        "plt.figure(figsize=(8, 6))\n",
        "plt.bar(results.keys(), results.values())\n",
        "plt.title('Impact of Perturbations on Output Similarity')\n",
        "plt.ylabel('Cosine Similarity')\n",
        "plt.xlabel('Perturbation Type')\n",
        "plt.show()"
      ],
      "metadata": {
        "colab": {
          "base_uri": "https://localhost:8080/",
          "height": 564
        },
        "id": "DpRy1ow-ee2L",
        "outputId": "ea721577-6e05-427b-f5c6-11f1642a7473"
      },
      "execution_count": 9,
      "outputs": [
        {
          "output_type": "display_data",
          "data": {
            "text/plain": [
              "<Figure size 800x600 with 1 Axes>"
            ],
            "image/png": "[encoded data removed]"
          },
          "metadata": {}
        }
      ]
    },
    {
      "cell_type": "markdown",
      "source": [
        "## Print Results Summary"
      ],
      "metadata": {
        "id": "gOTJTdHCkvT9"
      }
    },
    {
      "cell_type": "code",
      "source": [
        "print(\"Results Summary:\")\n",
        "for key, value in results.items():\n",
        "    print(f\"{key}: {value:.2f}\")"
      ],
      "metadata": {
        "colab": {
          "base_uri": "https://localhost:8080/"
        },
        "id": "2aECDEquehUW",
        "outputId": "61b2b11e-1e18-41ce-90d4-797c4d5ea08e"
      },
      "execution_count": 10,
      "outputs": [
        {
          "output_type": "stream",
          "name": "stdout",
          "text": [
            "Results Summary:\n",
            "symbols: 0.68\n",
            "patterns: 0.90\n",
            "text: 0.29\n",
            "counterfactual: 0.90\n"
          ]
        }
      ]
    },
    {
      "cell_type": "markdown",
      "source": [
        "## View Prompts and Generated Responses"
      ],
      "metadata": {
        "id": "VUsWI1Ndk0YF"
      }
    },
    {
      "cell_type": "code",
      "source": [
        "# View base response\n",
        "print(\"Base Prompt and Response\")\n",
        "print(\"Prompt:\", base_prompt)\n",
        "print(\"Response:\", base_response)\n",
        "print(\"\\n-----------------------------\\n\")\n",
        "\n",
        "# View responses for each perturbation type\n",
        "for key, prompts in perturbations.items():\n",
        "    print(f\"Perturbation Type: {key}\")\n",
        "    for prompt in prompts:\n",
        "        response = generate_response(prompt)\n",
        "        print(\"Prompt:\", prompt)\n",
        "        print(\"Response:\", response)\n",
        "        print(\"-----------------------------\")\n",
        "    print(\"\\n\")\n",
        "\n",
        "# View counterfactual responses\n",
        "print(\"Counterfactual Prompts and Responses\")\n",
        "for prompt in counterfactuals:\n",
        "    response = generate_response(prompt)\n",
        "    print(\"Prompt:\", prompt)\n",
        "    print(\"Response:\", response)\n",
        "    print(\"-----------------------------\")"
      ],
      "metadata": {
        "colab": {
          "base_uri": "https://localhost:8080/"
        },
        "id": "eJFRURH-k1Ng",
        "outputId": "7cf4888a-1bbf-40e3-d452-b5ca9d2bcb44"
      },
      "execution_count": 11,
      "outputs": [
        {
          "output_type": "stream",
          "name": "stderr",
          "text": [
            "Setting `pad_token_id` to `eos_token_id`:50256 for open-end generation.\n"
          ]
        },
        {
          "output_type": "stream",
          "name": "stdout",
          "text": [
            "Base Prompt and Response\n",
            "Prompt: The knight fought the dragon with a sword. The knight won because\n",
            "Response: The knight fought the dragon with a sword. The knight won because he was the one who had the most power.\n",
            "\n",
            "\"I'm not going to let you go. I'm going to kill you.\"\n",
            "\n",
            "\"I'm not going to let you go. I'm going to kill you.\"\n",
            "\n",
            "\n",
            "\n",
            "-----------------------------\n",
            "\n",
            "Perturbation Type: symbols\n"
          ]
        },
        {
          "output_type": "stream",
          "name": "stderr",
          "text": [
            "Setting `pad_token_id` to `eos_token_id`:50256 for open-end generation.\n"
          ]
        },
        {
          "output_type": "stream",
          "name": "stdout",
          "text": [
            "Prompt: The wizard fought the dragon with a spell. The wizard won because\n",
            "Response: The wizard fought the dragon with a spell. The wizard won because he was a wizard.\n",
            "\n",
            "The wizard fought the dragon with a spell. The wizard won because he was a wizard.\n",
            "\n",
            "The wizard fought the dragon with a spell. The wizard won because he was a wizard.\n",
            "\n",
            "The wizard fought\n",
            "-----------------------------\n"
          ]
        },
        {
          "output_type": "stream",
          "name": "stderr",
          "text": [
            "Setting `pad_token_id` to `eos_token_id`:50256 for open-end generation.\n"
          ]
        },
        {
          "output_type": "stream",
          "name": "stdout",
          "text": [
            "Prompt: The knight fought the demon with a sword. The knight won because\n",
            "Response: The knight fought the demon with a sword. The knight won because he was the one who had the most power.\n",
            "\n",
            "\"I'm not going to let you go. I'm going to kill you.\"\n",
            "\n",
            "\"I'm not going to let you go. I'm going to kill you.\"\n",
            "\n",
            "\n",
            "-----------------------------\n",
            "\n",
            "\n",
            "Perturbation Type: patterns\n"
          ]
        },
        {
          "output_type": "stream",
          "name": "stderr",
          "text": [
            "Setting `pad_token_id` to `eos_token_id`:50256 for open-end generation.\n"
          ]
        },
        {
          "output_type": "stream",
          "name": "stdout",
          "text": [
            "Prompt: With a sword, the dragon was fought by the knight. The knight won because\n",
            "Response: With a sword, the dragon was fought by the knight. The knight won because he was the one who had the most experience with the sword.\n",
            "\n",
            "\"I'm going to take you to the castle.\"\n",
            "\n",
            "\"I'm going to take you to the castle.\"\n",
            "\n",
            "\"I'm going to take you to the\n",
            "-----------------------------\n"
          ]
        },
        {
          "output_type": "stream",
          "name": "stderr",
          "text": [
            "Setting `pad_token_id` to `eos_token_id`:50256 for open-end generation.\n"
          ]
        },
        {
          "output_type": "stream",
          "name": "stdout",
          "text": [
            "Prompt: The dragon was fought by the knight, who used a sword. The knight won because\n",
            "Response: The dragon was fought by the knight, who used a sword. The knight won because he was able to use his sword to cut down the dragon.\n",
            "\n",
            "\"I'm sorry, but I'm not going to let you go.\"\n",
            "\n",
            "\"I'm sorry, but I'm not going to let you go.\"\n",
            "\n",
            "\"\n",
            "-----------------------------\n",
            "\n",
            "\n",
            "Perturbation Type: text\n"
          ]
        },
        {
          "output_type": "stream",
          "name": "stderr",
          "text": [
            "Setting `pad_token_id` to `eos_token_id`:50256 for open-end generation.\n"
          ]
        },
        {
          "output_type": "stream",
          "name": "stdout",
          "text": [
            "Prompt: In a futuristic city, a robot battled a drone using lasers. The robot won because\n",
            "Response: In a futuristic city, a robot battled a drone using lasers. The robot won because it was able to use its own energy to power its own weapons.\n",
            "\n",
            "The robot was able to use its own energy to power its own weapons. The robot was able to use its own energy to power its own weapons. The robot was able\n",
            "-----------------------------\n"
          ]
        },
        {
          "output_type": "stream",
          "name": "stderr",
          "text": [
            "Setting `pad_token_id` to `eos_token_id`:50256 for open-end generation.\n"
          ]
        },
        {
          "output_type": "stream",
          "name": "stdout",
          "text": [
            "Prompt: A chef competed against a rival in a cooking contest. The chef won because\n",
            "Response: A chef competed against a rival in a cooking contest. The chef won because he was able to cook with a high level of skill.\n",
            "\n",
            "The chef's skill was that of a chef.\n",
            "\n",
            "The chef's skill was that of a chef.\n",
            "\n",
            "The chef's skill was that of a chef.\n",
            "\n",
            "\n",
            "-----------------------------\n",
            "\n",
            "\n",
            "Counterfactual Prompts and Responses\n"
          ]
        },
        {
          "output_type": "stream",
          "name": "stderr",
          "text": [
            "Setting `pad_token_id` to `eos_token_id`:50256 for open-end generation.\n"
          ]
        },
        {
          "output_type": "stream",
          "name": "stdout",
          "text": [
            "Prompt: The knight fought the dragon with a sword. The knight lost because\n",
            "Response: The knight fought the dragon with a sword. The knight lost because of the dragon's power.\n",
            "\n",
            "\"I'm sorry, but I'm not going to let you go.\"\n",
            "\n",
            "\"I'm sorry, but I'm not going to let you go.\"\n",
            "\n",
            "\"I'm sorry, but I'm\n",
            "-----------------------------\n",
            "Prompt: The knight fought the dragon with a sword. The knight barely survived because\n",
            "Response: The knight fought the dragon with a sword. The knight barely survived because of the dragon's magic.\n",
            "\n",
            "\"I'm sorry, but I'm not going to let you go.\"\n",
            "\n",
            "\"I'm sorry, but I'm not going to let you go.\"\n",
            "\n",
            "\"I'm sorry, but I'm\n",
            "-----------------------------\n"
          ]
        }
      ]
    },
    {
      "cell_type": "markdown",
      "source": [
        "## Results Analysis Summary"
      ],
      "metadata": {
        "id": "OW6LopkRm9_8"
      }
    },
    {
      "cell_type": "markdown",
      "source": [
        "* Text Perturbation (Cosine Similarity = 0.30)\n",
        "：This category shows the lowest similarity score, indicating that changing the entire context has the greatest impact on the generated output. For example, replacing a medieval scenario like \"the knight fought the dragon\" with a futuristic battle between a robot and a drone or a cooking contest involving a chef leads to a complete transformation in scene, characters, and narrative. As a result, the semantic similarity between the base response and the perturbed outputs is significantly reduced.\n",
        "\n",
        "* Symbols Perturbation (Cosine Similarity = 0.68)\n",
        ": Altering key symbols, such as replacing \"knight\" with \"wizard\" or \"dragon\" with \"demon,\" produces a moderate impact on the output. While the specific roles are changed, the core narrative of a battle and victory remains intact. Therefore, although there are noticeable differences, the outputs retain a relatively high degree of similarity to the base response.\n",
        "\n",
        "* Patterns Perturbation (Cosine Similarity = 0.9)\n",
        ": This category focuses on structural modifications, such as shifting from active to passive voice. The main content, who fights whom with what and who wins, remains unchanged. As a result, the generated outputs are semantically very close to the original, leading to a high similarity score. This suggests that syntactic variations have minimal influence on the model’s semantic generation.\n",
        "\n",
        "* Counterfactual Perturbation (Cosine Similarity = 0.9)\n",
        ": Counterfactual prompts introduce minimal changes aimed at altering the outcome, for example, changing \"the knight won\" to \"the knight lost\" or \"barely survived.\" Despite these changes in the conclusion, the rest of the prompt, including the setting, characters, and actions, stays nearly identical. The generated outputs reflect this maintaining a high level of similarity with the base response. The key difference is typically confined to a small portion of the text, resulting in the highest similarity score."
      ],
      "metadata": {
        "id": "rElxrJdjnAPI"
      }
    },
    {
      "cell_type": "markdown",
      "source": [
        "# Potential Improvements"
      ],
      "metadata": {
        "id": "APunL1thpHe8"
      }
    },
    {
      "cell_type": "markdown",
      "source": [
        "1. Model Selection: Consider experimenting with more advanced models (e.g.GPT-3 or open-source LLaMA/OPT models). Larger models can provide more varied outputs, which may result in more nuanced similarity scores.\n",
        "\n",
        "2. Diversity of Perturbations: Introduce automated or algorithmic perturbation generation to ensure more comprehensive coverage. For example, experiment with fine-grained changes, such as modifying adjectives, adverbs, or negations.\n",
        "\n",
        "3. Similarity Metrics: Exploring other evaluation metrics (BLEU, ROUGE, etc.) may provide additional perspectives to evaluate performance.\n",
        "\n",
        "4. Various Explainability Techniques: Incorporating saliency scores or attention analysis could further interpret model behavior."
      ],
      "metadata": {
        "id": "b-tNGP1OpMVN"
      }
    }
  ]
}